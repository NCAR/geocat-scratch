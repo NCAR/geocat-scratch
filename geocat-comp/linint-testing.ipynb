{
 "cells": [
  {
   "cell_type": "code",
   "execution_count": 1,
   "id": "8b186485-b19b-4704-97cd-a37cf51fede9",
   "metadata": {},
   "outputs": [],
   "source": [
    "import xarray as xr\n",
    "import geocat.comp as gc\n",
    "import numpy as np"
   ]
  },
  {
   "cell_type": "code",
   "execution_count": 2,
   "id": "1812b2e7-490a-4bda-bc1c-c6003bd59143",
   "metadata": {},
   "outputs": [],
   "source": [
    "isccp_climo_filename = \"ISCCP-Basic.HGG.GLOBAL.10KM.climo.198307-201706.nc\"\n",
    "brianpath = \"/glade/work/brianpm/observations/isccp/climo/\"\n",
    "nds = xr.open_dataset(brianpath + isccp_climo_filename)\n",
    "x = nds['CLDTOT_ISCCP']"
   ]
  },
  {
   "cell_type": "code",
   "execution_count": 3,
   "id": "323646b2-7a8b-4e16-963e-ab50fd03dd03",
   "metadata": {},
   "outputs": [],
   "source": [
    "olon = xr.DataArray(np.linspace(0, 358, 180), dims=['lon'])\n",
    "olon.name = 'lon'\n",
    "olon.attrs['units'] = 'degrees_east'\n",
    "olat = xr.DataArray(np.linspace(-88, 88, 89), dims=['lat'])\n",
    "olat.name = 'lat'\n",
    "olat.attrs['units'] = 'degrees_north'"
   ]
  },
  {
   "cell_type": "code",
   "execution_count": null,
   "id": "b61849db-623e-4c71-97d9-602bf4b37ae5",
   "metadata": {},
   "outputs": [],
   "source": [
    "new = gc.linint2(x, olon, olat, xi=x.lon, yi=x.lat, icycx=1)"
   ]
  },
  {
   "cell_type": "code",
   "execution_count": null,
   "id": "715fde8f-3a23-4668-a906-8de107f793e6",
   "metadata": {},
   "outputs": [],
   "source": []
  }
 ],
 "metadata": {
  "kernelspec": {
   "display_name": "Python [conda env:miniconda3-geocat-testing]",
   "language": "python",
   "name": "conda-env-miniconda3-geocat-testing-py"
  },
  "language_info": {
   "codemirror_mode": {
    "name": "ipython",
    "version": 3
   },
   "file_extension": ".py",
   "mimetype": "text/x-python",
   "name": "python",
   "nbconvert_exporter": "python",
   "pygments_lexer": "ipython3",
   "version": "3.10.4"
  }
 },
 "nbformat": 4,
 "nbformat_minor": 5
}
