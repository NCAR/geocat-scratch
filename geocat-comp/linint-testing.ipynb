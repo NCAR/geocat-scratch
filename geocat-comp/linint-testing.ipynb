{
 "cells": [
  {
   "cell_type": "code",
   "execution_count": 6,
   "id": "d472438a-a081-4936-8677-4037dcbdebf5",
   "metadata": {},
   "outputs": [
    {
     "name": "stdout",
     "output_type": "stream",
     "text": [
      "\n",
      "Please wait a moment while I gather a list of all available modules...\n",
      "\n"
     ]
    },
    {
     "name": "stderr",
     "output_type": "stream",
     "text": [
      "/glade/u/apps/opt/conda/envs/npl/lib/python3.7/site-packages/IPython/kernel/__init__.py:13: ShimWarning: The `IPython.kernel` package has been deprecated since IPython 4.0.You should import from ipykernel or jupyter_client instead.\n",
      "  \"You should import from ipykernel or jupyter_client instead.\", ShimWarning)\n",
      "WARNING: AstropyDeprecationWarning: The private astropy._erfa module has been made into its own package, pyerfa, which is a dependency of astropy and can be imported directly using \"import erfa\" [astropy._erfa]\n",
      "/glade/u/apps/opt/conda/envs/npl/lib/python3.7/site-packages/dask_jobqueue/core.py:20: FutureWarning: tmpfile is deprecated and will be removed in a future release. Please use dask.utils.tmpfile instead.\n",
      "  from distributed.utils import tmpfile\n"
     ]
    },
    {
     "name": "stdout",
     "output_type": "stream",
     "text": [
      "\n",
      "## You are using the Python ARM Radar Toolkit (Py-ART), an open source\n",
      "## library for working with weather radar data. Py-ART is partly\n",
      "## supported by the U.S. Department of Energy as part of the Atmospheric\n",
      "## Radiation Measurement (ARM) Climate Research Facility, an Office of\n",
      "## Science user facility.\n",
      "##\n",
      "## If you use this software to prepare a publication, please cite:\n",
      "##\n",
      "##     JJ Helmus and SM Collis, JORS 2016, doi: 10.5334/jors.119\n",
      "\n"
     ]
    },
    {
     "name": "stderr",
     "output_type": "stream",
     "text": [
      "/glade/u/apps/opt/conda/envs/npl/lib/python3.7/site-packages/skimage/viewer/qt.py:5: MatplotlibDeprecationWarning: \n",
      "The QT_RC_MAJOR_VERSION attribute was deprecated in Matplotlib 3.5 and will be removed two minor releases later.\n",
      "  from matplotlib.backends.qt_compat import QtGui, QtCore, QtWidgets, QT_RC_MAJOR_VERSION as _qt_version\n"
     ]
    },
    {
     "name": "stdout",
     "output_type": "stream",
     "text": [
      "ESMF                brotli              jsonschema          re\n",
      "IPython             bs4                 jupyter             readline\n",
      "Ngl                 builtins            jupyter_client      reprlib\n",
      "OpenSSL             bz2                 jupyter_core        requests\n",
      "PIL                 cProfile            jupyter_server      resource\n",
      "PyQt5               cached_property     jupyter_server_proxy rlcompleter\n",
      "__future__          calendar            jupyterlab          rmagic\n",
      "_abc                cartopy             jupyterlab_pygments rtree\n",
      "_argon2_cffi_bindings cdsapi              jupyterlab_server   runpy\n",
      "_ast                certifi             jupyterlab_widgets  s3transfer\n",
      "_asyncio            cf_units            jwt                 sched\n",
      "_bisect             cf_xarray           keyword             scipy\n",
      "_black_version      cffi                kiwisolver          seaborn\n",
      "_blake2             cftime              lazy_object_proxy   secrets\n",
      "_bootlocale         cgi                 lib2to3             select\n",
      "_bz2                cgitb               libfuturize         selectors\n",
      "_cffi_backend       charset_normalizer  libpasteurize       send2trash\n",
      "_codecs             chunk               linecache           setuptools\n",
      "_codecs_cn          click               llvmlite            shapefile\n",
      "_codecs_hk          click_plugins       locale              shapely\n",
      "_codecs_iso2022     cligj               locket              shelve\n",
      "_codecs_jp          cloudpickle         logging             shlex\n",
      "_codecs_kr          cmaps               lzma                shutil\n",
      "_codecs_tw          cmath               macpath             signal\n",
      "_collections        cmd                 mailbox             simpervisor\n",
      "_collections_abc    cmocean             mailcap             sipconfig\n",
      "_compat_pickle      code                markdown            sipdistutils\n",
      "_compression        codecs              markupsafe          site\n",
      "_contextvars        codeop              marshal             six\n",
      "_crypt              collections         math                skimage\n",
      "_csv                colorama            matplotlib          sklearn\n",
      "_ctypes             colorcet            matplotlib_inline   smtpd\n",
      "_ctypes_test        colorspacious       mccabe              smtplib\n",
      "_curses             colorsys            metpy               sndhdr\n",
      "_curses_panel       compileall          mimetypes           sniffio\n",
      "_datetime           concurrent          mistune             socket\n",
      "_decimal            configparser        mmap                socketserver\n",
      "_distutils_hack     contextlib          modulefinder        socks\n",
      "_dummy_thread       contextvars         mpi4py              sockshandler\n",
      "_elementtree        copy                msgpack             sortedcontainers\n",
      "_functools          copyreg             multidict           soupsieve\n",
      "_hashlib            coverage            multipledispatch    sparse\n",
      "_heapq              cpuinfo             multiprocessing     spharm\n",
      "_imp                crypt               munch               spwd\n",
      "_io                 cryptography        munkres             sqlite3\n",
      "_json               csv                 mypy_extensions     sre_compile\n",
      "_locale             ctypes              nbclassic           sre_constants\n",
      "_lsprof             curses              nbclient            sre_parse\n",
      "_lzma               cycler              nbconvert           ssl\n",
      "_markupbase         cythonmagic         nbformat            stat\n",
      "_md5                cytoolz             ncar_jobqueue       statistics\n",
      "_multibytecodec     dask                nco                 statsmodels\n",
      "_multiprocessing    dask_jobqueue       nest_asyncio        storemagic\n",
      "_opcode             dask_labextension   netCDF4             string\n",
      "_operator           dataclasses         netrc               stringprep\n",
      "_osx_support        datashader          networkx            struct\n",
      "_pickle             datashape           ngl                 subprocess\n",
      "_posixsubprocess    datetime            nis                 sunau\n",
      "_py_abc             dateutil            nntplib             symbol\n",
      "_pydecimal          dbm                 notebook            sympyprinting\n",
      "_pyio               debugpy             notebook_shim       symtable\n",
      "_pyrsistent_version decimal             ntpath              sys\n",
      "_pytest             decorator           nturl2path          sysconfig\n",
      "_queue              dedalus             numba               syslog\n",
      "_random             defusedxml          numbergen           tables\n",
      "_sha1               difflib             numbers             tabnanny\n",
      "_sha256             dill                numcodecs           tarfile\n",
      "_sha3               dis                 numexpr             tblib\n",
      "_sha512             distributed         numpy               telnetlib\n",
      "_signal             distutils           ocgis               tempfile\n",
      "_sitebuiltins       docopt              opcode              tenacity\n",
      "_socket             docrep              operator            terminado\n",
      "_spherepack         doctest             optparse            termios\n",
      "_sqlite3            dummy_threading     os                  test\n",
      "_sre                email               osgeo               testpath\n",
      "_ssl                encodings           osgeo_utils         tests\n",
      "_stat               ensurepip           ossaudiodev         textwrap\n",
      "_string             entrypoints         packaging           textwrap3\n",
      "_strptime           enum                pandas              this\n",
      "_struct             eofs                pandocfilters       threading\n",
      "_symtable           erfa                panel               threadpoolctl\n",
      "_sysconfigdata_aarch64_conda_cos7_linux_gnu errno               papermill           tifffile\n",
      "_sysconfigdata_aarch64_conda_linux_gnu fasteners           param               time\n",
      "_sysconfigdata_i686_conda_cos6_linux_gnu faulthandler        parser              timeit\n",
      "_sysconfigdata_i686_conda_linux_gnu fcntl               parso               tkinter\n",
      "_sysconfigdata_m_linux_x86_64-linux-gnu filecmp             partd               tlz\n",
      "_sysconfigdata_powerpc64le_conda_cos7_linux_gnu fileinput           past                token\n",
      "_sysconfigdata_powerpc64le_conda_linux_gnu fiona               pathlib             tokenize\n",
      "_sysconfigdata_x86_64_apple_darwin13_4_0 flit_core           pathspec            toml\n",
      "_sysconfigdata_x86_64_conda_cos6_linux_gnu fnmatch             patsy               tomli\n",
      "_sysconfigdata_x86_64_conda_linux_gnu fontTools           pdb                 toolz\n",
      "_testbuffer         formatter           pexpect             tornado\n",
      "_testcapi           fractions           pickle              tqdm\n",
      "_testimportmultiple frozenlist          pickleshare         trace\n",
      "_testmultiphase     fsspec              pickletools         traceback\n",
      "_thread             ftplib              pint                tracemalloc\n",
      "_threading_local    functools           pip                 traitlets\n",
      "_tkinter            future              pipes               tty\n",
      "_tracemalloc        gc                  pkg_resources       turtle\n",
      "_warnings           genericpath         pkgutil             turtledemo\n",
      "_weakref            geopandas           platform            typed_ast\n",
      "_weakrefset         geoviews            platformdirs        types\n",
      "_xxtestfuzz         getopt              plistlib            typing\n",
      "_yaml               getpass             pluggy              typing_extensions\n",
      "abc                 gettext             pooch               unicodedata\n",
      "aifc                glob                pop_tools           unicodedata2\n",
      "aiohttp             globus_cli          poplib              unittest\n",
      "aiosignal           globus_sdk          posix               urllib\n",
      "ansiwrap            grp                 posixpath           urllib3\n",
      "antigravity         gzip                pprint              uu\n",
      "antlr4              h5py                profile             uuid\n",
      "anyio               hashlib             prometheus_client   venv\n",
      "appdirs             heapdict            prompt_toolkit      warnings\n",
      "argon2              heapq               pstats              wave\n",
      "argparse            hmac                psutil              wcwidth\n",
      "array               holoviews           pty                 weakref\n",
      "asciitree           html                ptyprocess          webbrowser\n",
      "ast                 http                pvectorc            webencodings\n",
      "astroid             hvplot              pwd                 webob\n",
      "astropy             idlelib             py                  websocket\n",
      "async_timeout       idna                py_compile          wget\n",
      "asynchat            imagecodecs         pyart               wheel\n",
      "asyncio             imageio             pyclbr              widgetsnbextension\n",
      "asyncore            imaplib             pycparser           wrapt\n",
      "asynctest           imghdr              pyct                wrf\n",
      "atexit              imp                 pydoc               wsgiref\n",
      "attr                importlib           pydoc_data          xarray\n",
      "attrs               importlib_metadata  pyexpat             xdrlib\n",
      "audioop             importlib_resources pygments            xesmf\n",
      "autoreload          iniconfig           pygraphviz          xml\n",
      "babel               inspect             pygrib              xmlrpc\n",
      "backcall            io                  pyhdf               xrft\n",
      "backports           ipaddress           pylab               xxhash\n",
      "base64              ipykernel           pylint              xxlimited\n",
      "bdb                 ipykernel_launcher  pyparsing           xxsubtype\n",
      "binascii            ipython_genutils    pyproj              yaml\n",
      "binhex              ipywidgets          pyrsistent          yarl\n",
      "bisect              iris                pytest              zarr\n",
      "black               isort               pytest_benchmark    zict\n",
      "blackd              itertools           pytest_cov          zipapp\n",
      "bleach              jedi                pytz                zipfile\n",
      "blib2to3            jinja2              pyviz_comms         zipimport\n",
      "bokeh               jmespath            pywt                zipp\n",
      "boto3               joblib              queue               zlib\n",
      "botocore            json                quopri              zmq\n",
      "bottleneck          json5               random              \n",
      "\n",
      "Enter any module name to get more help.  Or, type \"modules spam\" to search\n",
      "for modules whose name or summary contain the string \"spam\".\n",
      "\n"
     ]
    },
    {
     "name": "stderr",
     "output_type": "stream",
     "text": [
      "/glade/u/apps/opt/conda/envs/npl/lib/python3.7/pkgutil.py:107: VisibleDeprecationWarning: zmq.eventloop.minitornado is deprecated in pyzmq 14.0 and will be removed.\n",
      "    Install tornado itself to use zmq with the tornado IOLoop.\n",
      "    \n",
      "  yield from walk_packages(path, info.name+'.', onerror)\n"
     ]
    }
   ],
   "source": [
    "help(\"modules\")"
   ]
  },
  {
   "cell_type": "code",
   "execution_count": 1,
   "id": "8b186485-b19b-4704-97cd-a37cf51fede9",
   "metadata": {},
   "outputs": [],
   "source": [
    "import geocat.comp as gc"
   ]
  },
  {
   "cell_type": "code",
   "execution_count": 6,
   "id": "0dd0b7ad-3f5c-47aa-8bce-9aa5bda1fb67",
   "metadata": {},
   "outputs": [
    {
     "data": {
      "text/plain": [
       "<module 'geocat.comp' from '/glade/u/apps/opt/conda/envs/npl/lib/python3.7/site-packages/geocat/comp/__init__.py'>"
      ]
     },
     "execution_count": 6,
     "metadata": {},
     "output_type": "execute_result"
    }
   ],
   "source": [
    "gc"
   ]
  },
  {
   "cell_type": "code",
   "execution_count": null,
   "id": "1812b2e7-490a-4bda-bc1c-c6003bd59143",
   "metadata": {},
   "outputs": [],
   "source": []
  }
 ],
 "metadata": {
  "kernelspec": {
   "display_name": "NPL (conda)",
   "language": "python",
   "name": "npl-conda"
  },
  "language_info": {
   "codemirror_mode": {
    "name": "ipython",
    "version": 3
   },
   "file_extension": ".py",
   "mimetype": "text/x-python",
   "name": "python",
   "nbconvert_exporter": "python",
   "pygments_lexer": "ipython3",
   "version": "3.7.12"
  }
 },
 "nbformat": 4,
 "nbformat_minor": 5
}
