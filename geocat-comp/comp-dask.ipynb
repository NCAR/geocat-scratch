{
 "cells": [
  {
   "cell_type": "markdown",
   "id": "dfd9db06-0901-4f2a-b89a-4547d5f10c0f",
   "metadata": {},
   "source": [
    "# Using Dask with GeoCAT-comp"
   ]
  },
  {
   "cell_type": "code",
   "execution_count": null,
   "id": "c56095ff-0166-464e-803b-fe86d2118a0c",
   "metadata": {},
   "outputs": [],
   "source": []
  }
 ],
 "metadata": {
  "kernelspec": {
   "display_name": "Python 3 (ipykernel)",
   "language": "python",
   "name": "python3"
  },
  "language_info": {
   "codemirror_mode": {
    "name": "ipython",
    "version": 3
   },
   "file_extension": ".py",
   "mimetype": "text/x-python",
   "name": "python",
   "nbconvert_exporter": "python",
   "pygments_lexer": "ipython3",
   "version": "3.10.4"
  }
 },
 "nbformat": 4,
 "nbformat_minor": 5
}
