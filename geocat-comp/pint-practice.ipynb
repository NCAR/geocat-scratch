{
 "cells": [
  {
   "cell_type": "markdown",
   "source": [
    "# Using the `pint.UnitRegistry.wraps` decorator to make functions unit-aware\n",
    "Information about the decorator can be found in the [pint documentation](https://pint.readthedocs.io/en/stable/advanced/wrapping.html)"
   ],
   "metadata": {
    "collapsed": false,
    "pycharm": {
     "name": "#%% md\n"
    }
   }
  },
  {
   "cell_type": "code",
   "execution_count": 1,
   "outputs": [],
   "source": [
    "import pint\n",
    "from pint import UnitRegistry\n",
    "ureg = UnitRegistry()"
   ],
   "metadata": {
    "collapsed": false,
    "pycharm": {
     "name": "#%%\n"
    }
   }
  },
  {
   "cell_type": "markdown",
   "source": [
    "### Non-unit-aware function"
   ],
   "metadata": {
    "collapsed": false,
    "pycharm": {
     "name": "#%% md\n"
    }
   }
  },
  {
   "cell_type": "code",
   "execution_count": 2,
   "outputs": [],
   "source": [
    "def add(a, b):\n",
    "    # Add lengths a and b together. They must be the same units\n",
    "    return a + b"
   ],
   "metadata": {
    "collapsed": false,
    "pycharm": {
     "name": "#%%\n"
    }
   }
  },
  {
   "cell_type": "code",
   "execution_count": 3,
   "outputs": [
    {
     "data": {
      "text/plain": "3"
     },
     "execution_count": 3,
     "metadata": {},
     "output_type": "execute_result"
    }
   ],
   "source": [
    "add(1,2)"
   ],
   "metadata": {
    "collapsed": false,
    "pycharm": {
     "name": "#%%\n"
    }
   }
  },
  {
   "cell_type": "markdown",
   "source": [
    "### Using the `wraps` decorator to make `add()` unit aware\n",
    "`wrap` takes 3 arguments:\n",
    "- ret: the return units (`None` will skip converting the result)\n",
    "- args: the input units for each argument as an iterable (`None` will skip converting inputs)\n",
    "- srict: if `True` all convertible arguments must be a Quantity (`True` by default)\n",
    "\n",
    "Note that arugments to not turn into pint.Quantities. I'm not sure where/when the argument conversion is done."
   ],
   "metadata": {
    "collapsed": false,
    "pycharm": {
     "name": "#%% md\n"
    }
   }
  },
  {
   "cell_type": "code",
   "execution_count": 4,
   "outputs": [],
   "source": [
    "@ureg.wraps(ret=ureg.meter, args=(ureg.meter, ureg.meter), strict=False)\n",
    "def add(a, b):\n",
    "    # Function to add two lengths together. `a` and `b` are assumed to be in meters unless stated otherwise. The return value is in meters.\n",
    "    print(a, b)\n",
    "    return a + b"
   ],
   "metadata": {
    "collapsed": false,
    "pycharm": {
     "name": "#%%\n"
    }
   }
  },
  {
   "cell_type": "code",
   "execution_count": 5,
   "outputs": [
    {
     "name": "stdout",
     "output_type": "stream",
     "text": [
      "1 2\n"
     ]
    },
    {
     "data": {
      "text/plain": "3 <Unit('meter')>",
      "text/html": "3 meter",
      "text/latex": "$3\\ \\mathrm{meter}$"
     },
     "execution_count": 5,
     "metadata": {},
     "output_type": "execute_result"
    }
   ],
   "source": [
    "# Plain number inputs\n",
    "add(1,2)"
   ],
   "metadata": {
    "collapsed": false,
    "pycharm": {
     "name": "#%%\n"
    }
   }
  },
  {
   "cell_type": "code",
   "execution_count": 6,
   "outputs": [
    {
     "name": "stdout",
     "output_type": "stream",
     "text": [
      "1 2\n"
     ]
    },
    {
     "data": {
      "text/plain": "3 <Unit('meter')>",
      "text/html": "3 meter",
      "text/latex": "$3\\ \\mathrm{meter}$"
     },
     "execution_count": 6,
     "metadata": {},
     "output_type": "execute_result"
    }
   ],
   "source": [
    "# Quantity inputs using same UnitRegistry as the wraps decorator\n",
    "a = ureg.Quantity(1, 'meter')\n",
    "b = ureg.Quantity(2, 'meter')\n",
    "add(a, b)"
   ],
   "metadata": {
    "collapsed": false,
    "pycharm": {
     "name": "#%%\n"
    }
   }
  },
  {
   "cell_type": "markdown",
   "source": [
    "### Quantity inputs using a different UnitRegistry than the wraps decorator\n",
    "This doesn't throw an error, but it does do something weird and unexpected. I'm not sure what's happening here, nor why the result has two sets of meter units. This is what we will run into if a user passes their own quantity objects into `geocat-comp` functions. It may be best to have them provide data in SI units and then we use `pint` under the hood to do any conversions we need."
   ],
   "metadata": {
    "collapsed": false,
    "pycharm": {
     "name": "#%% md\n"
    }
   }
  },
  {
   "cell_type": "code",
   "execution_count": 7,
   "outputs": [
    {
     "name": "stdout",
     "output_type": "stream",
     "text": [
      "1 meter 2 meter\n"
     ]
    },
    {
     "data": {
      "text/plain": "3 <Unit('meter')> <Unit('meter')>",
      "text/html": "3 meter meter",
      "text/latex": "$3 meter\\ \\mathrm{meter}$"
     },
     "execution_count": 7,
     "metadata": {},
     "output_type": "execute_result"
    }
   ],
   "source": [
    "# Quantity inputs using a different UnitRegistry than the wraps decorator\n",
    "ureg_2 = UnitRegistry()  # Define a different unit registry\n",
    "a = ureg_2.Quantity(1, 'meter')\n",
    "b = ureg_2.Quantity(2, 'meter')\n",
    "add(a, b)"
   ],
   "metadata": {
    "collapsed": false,
    "pycharm": {
     "name": "#%%\n"
    }
   }
  },
  {
   "cell_type": "markdown",
   "source": [
    "### Quantity inpus where `a` and `b` are from different UnitRegistry objects\n",
    "This causes problems, which is expected as it is mentioned in the [pint documentation](https://pint.readthedocs.io/en/stable/getting/pint-in-your-projects.html). However, the error is different from the given example of using two different registries. Why? I'm not sure."
   ],
   "metadata": {
    "collapsed": false,
    "pycharm": {
     "name": "#%% md\n"
    }
   }
  },
  {
   "cell_type": "code",
   "execution_count": 8,
   "outputs": [
    {
     "name": "stdout",
     "output_type": "stream",
     "text": [
      "1 2 meter\n"
     ]
    },
    {
     "ename": "DimensionalityError",
     "evalue": "Cannot convert from 'meter' to 'dimensionless'",
     "output_type": "error",
     "traceback": [
      "\u001B[0;31m---------------------------------------------------------------------------\u001B[0m",
      "\u001B[0;31mDimensionalityError\u001B[0m                       Traceback (most recent call last)",
      "Cell \u001B[0;32mIn[8], line 3\u001B[0m\n\u001B[1;32m      1\u001B[0m a \u001B[38;5;241m=\u001B[39m ureg\u001B[38;5;241m.\u001B[39mQuantity(\u001B[38;5;241m1\u001B[39m, \u001B[38;5;124m'\u001B[39m\u001B[38;5;124mmeter\u001B[39m\u001B[38;5;124m'\u001B[39m)\n\u001B[1;32m      2\u001B[0m b \u001B[38;5;241m=\u001B[39m ureg_2\u001B[38;5;241m.\u001B[39mQuantity(\u001B[38;5;241m2\u001B[39m, \u001B[38;5;124m'\u001B[39m\u001B[38;5;124mmeter\u001B[39m\u001B[38;5;124m'\u001B[39m)\n\u001B[0;32m----> 3\u001B[0m \u001B[43madd\u001B[49m\u001B[43m(\u001B[49m\u001B[43ma\u001B[49m\u001B[43m,\u001B[49m\u001B[43m \u001B[49m\u001B[43mb\u001B[49m\u001B[43m)\u001B[49m\n",
      "File \u001B[0;32m~/miniconda3/pint/lib/python3.10/site-packages/pint/registry_helpers.py:283\u001B[0m, in \u001B[0;36mwraps.<locals>.decorator.<locals>.wrapper\u001B[0;34m(*values, **kw)\u001B[0m\n\u001B[1;32m    279\u001B[0m \u001B[38;5;66;03m# In principle, the values are used as is\u001B[39;00m\n\u001B[1;32m    280\u001B[0m \u001B[38;5;66;03m# When then extract the magnitudes when needed.\u001B[39;00m\n\u001B[1;32m    281\u001B[0m new_values, values_by_name \u001B[38;5;241m=\u001B[39m converter(ureg, values, strict)\n\u001B[0;32m--> 283\u001B[0m result \u001B[38;5;241m=\u001B[39m \u001B[43mfunc\u001B[49m\u001B[43m(\u001B[49m\u001B[38;5;241;43m*\u001B[39;49m\u001B[43mnew_values\u001B[49m\u001B[43m,\u001B[49m\u001B[43m \u001B[49m\u001B[38;5;241;43m*\u001B[39;49m\u001B[38;5;241;43m*\u001B[39;49m\u001B[43mkw\u001B[49m\u001B[43m)\u001B[49m\n\u001B[1;32m    285\u001B[0m \u001B[38;5;28;01mif\u001B[39;00m is_ret_container:\n\u001B[1;32m    286\u001B[0m     out_units \u001B[38;5;241m=\u001B[39m (\n\u001B[1;32m    287\u001B[0m         _replace_units(r, values_by_name) \u001B[38;5;28;01mif\u001B[39;00m is_ref \u001B[38;5;28;01melse\u001B[39;00m r\n\u001B[1;32m    288\u001B[0m         \u001B[38;5;28;01mfor\u001B[39;00m (r, is_ref) \u001B[38;5;129;01min\u001B[39;00m ret\n\u001B[1;32m    289\u001B[0m     )\n",
      "Cell \u001B[0;32mIn[4], line 5\u001B[0m, in \u001B[0;36madd\u001B[0;34m(a, b)\u001B[0m\n\u001B[1;32m      1\u001B[0m \u001B[38;5;129m@ureg\u001B[39m\u001B[38;5;241m.\u001B[39mwraps(ret\u001B[38;5;241m=\u001B[39mureg\u001B[38;5;241m.\u001B[39mmeter, args\u001B[38;5;241m=\u001B[39m(ureg\u001B[38;5;241m.\u001B[39mmeter, ureg\u001B[38;5;241m.\u001B[39mmeter), strict\u001B[38;5;241m=\u001B[39m\u001B[38;5;28;01mFalse\u001B[39;00m)\n\u001B[1;32m      2\u001B[0m \u001B[38;5;28;01mdef\u001B[39;00m \u001B[38;5;21madd\u001B[39m(a, b):\n\u001B[1;32m      3\u001B[0m     \u001B[38;5;66;03m# Function to add two lengths together. `a` and `b` are assumed to be in meters unless stated otherwise. The return value is in meters.\u001B[39;00m\n\u001B[1;32m      4\u001B[0m     \u001B[38;5;28mprint\u001B[39m(a, b)\n\u001B[0;32m----> 5\u001B[0m     \u001B[38;5;28;01mreturn\u001B[39;00m \u001B[43ma\u001B[49m\u001B[43m \u001B[49m\u001B[38;5;241;43m+\u001B[39;49m\u001B[43m \u001B[49m\u001B[43mb\u001B[49m\n",
      "File \u001B[0;32m~/miniconda3/pint/lib/python3.10/site-packages/pint/facets/plain/quantity.py:960\u001B[0m, in \u001B[0;36mPlainQuantity.__add__\u001B[0;34m(self, other)\u001B[0m\n\u001B[1;32m    958\u001B[0m     \u001B[38;5;28;01mreturn\u001B[39;00m \u001B[38;5;28mself\u001B[39m\u001B[38;5;241m.\u001B[39mto_timedelta() \u001B[38;5;241m+\u001B[39m other\n\u001B[1;32m    959\u001B[0m \u001B[38;5;28;01melse\u001B[39;00m:\n\u001B[0;32m--> 960\u001B[0m     \u001B[38;5;28;01mreturn\u001B[39;00m \u001B[38;5;28;43mself\u001B[39;49m\u001B[38;5;241;43m.\u001B[39;49m\u001B[43m_add_sub\u001B[49m\u001B[43m(\u001B[49m\u001B[43mother\u001B[49m\u001B[43m,\u001B[49m\u001B[43m \u001B[49m\u001B[43moperator\u001B[49m\u001B[38;5;241;43m.\u001B[39;49m\u001B[43madd\u001B[49m\u001B[43m)\u001B[49m\n",
      "File \u001B[0;32m~/miniconda3/pint/lib/python3.10/site-packages/pint/facets/plain/quantity.py:102\u001B[0m, in \u001B[0;36mcheck_implemented.<locals>.wrapped\u001B[0;34m(self, *args, **kwargs)\u001B[0m\n\u001B[1;32m    100\u001B[0m \u001B[38;5;28;01melif\u001B[39;00m \u001B[38;5;28misinstance\u001B[39m(other, \u001B[38;5;28mlist\u001B[39m) \u001B[38;5;129;01mand\u001B[39;00m other \u001B[38;5;129;01mand\u001B[39;00m \u001B[38;5;28misinstance\u001B[39m(other[\u001B[38;5;241m0\u001B[39m], \u001B[38;5;28mtype\u001B[39m(\u001B[38;5;28mself\u001B[39m)):\n\u001B[1;32m    101\u001B[0m     \u001B[38;5;28;01mreturn\u001B[39;00m \u001B[38;5;28mNotImplemented\u001B[39m\n\u001B[0;32m--> 102\u001B[0m \u001B[38;5;28;01mreturn\u001B[39;00m \u001B[43mf\u001B[49m\u001B[43m(\u001B[49m\u001B[38;5;28;43mself\u001B[39;49m\u001B[43m,\u001B[49m\u001B[43m \u001B[49m\u001B[38;5;241;43m*\u001B[39;49m\u001B[43margs\u001B[49m\u001B[43m,\u001B[49m\u001B[43m \u001B[49m\u001B[38;5;241;43m*\u001B[39;49m\u001B[38;5;241;43m*\u001B[39;49m\u001B[43mkwargs\u001B[49m\u001B[43m)\u001B[49m\n",
      "File \u001B[0;32m~/miniconda3/pint/lib/python3.10/site-packages/pint/facets/plain/quantity.py:858\u001B[0m, in \u001B[0;36mPlainQuantity._add_sub\u001B[0;34m(self, other, op)\u001B[0m\n\u001B[1;32m    853\u001B[0m         magnitude \u001B[38;5;241m=\u001B[39m op(\n\u001B[1;32m    854\u001B[0m             \u001B[38;5;28mself\u001B[39m\u001B[38;5;241m.\u001B[39mto(units)\u001B[38;5;241m.\u001B[39m_magnitude,\n\u001B[1;32m    855\u001B[0m             _to_magnitude(other, \u001B[38;5;28mself\u001B[39m\u001B[38;5;241m.\u001B[39mforce_ndarray, \u001B[38;5;28mself\u001B[39m\u001B[38;5;241m.\u001B[39mforce_ndarray_like),\n\u001B[1;32m    856\u001B[0m         )\n\u001B[1;32m    857\u001B[0m     \u001B[38;5;28;01melse\u001B[39;00m:\n\u001B[0;32m--> 858\u001B[0m         \u001B[38;5;28;01mraise\u001B[39;00m DimensionalityError(\u001B[38;5;28mself\u001B[39m\u001B[38;5;241m.\u001B[39m_units, \u001B[38;5;124m\"\u001B[39m\u001B[38;5;124mdimensionless\u001B[39m\u001B[38;5;124m\"\u001B[39m)\n\u001B[1;32m    859\u001B[0m     \u001B[38;5;28;01mreturn\u001B[39;00m \u001B[38;5;28mself\u001B[39m\u001B[38;5;241m.\u001B[39m\u001B[38;5;18m__class__\u001B[39m(magnitude, units)\n\u001B[1;32m    861\u001B[0m \u001B[38;5;28;01mif\u001B[39;00m \u001B[38;5;129;01mnot\u001B[39;00m \u001B[38;5;28mself\u001B[39m\u001B[38;5;241m.\u001B[39mdimensionality \u001B[38;5;241m==\u001B[39m other\u001B[38;5;241m.\u001B[39mdimensionality:\n",
      "\u001B[0;31mDimensionalityError\u001B[0m: Cannot convert from 'meter' to 'dimensionless'"
     ]
    }
   ],
   "source": [
    "a = ureg.Quantity(1, 'meter')\n",
    "b = ureg_2.Quantity(2, 'meter')\n",
    "add(a, b)"
   ],
   "metadata": {
    "collapsed": false,
    "pycharm": {
     "name": "#%%\n"
    }
   }
  },
  {
   "cell_type": "code",
   "execution_count": null,
   "outputs": [],
   "source": [],
   "metadata": {
    "collapsed": false,
    "pycharm": {
     "name": "#%%\n"
    }
   }
  }
 ],
 "metadata": {
  "kernelspec": {
   "display_name": "Python 3",
   "language": "python",
   "name": "python3"
  },
  "language_info": {
   "codemirror_mode": {
    "name": "ipython",
    "version": 2
   },
   "file_extension": ".py",
   "mimetype": "text/x-python",
   "name": "python",
   "nbconvert_exporter": "python",
   "pygments_lexer": "ipython2",
   "version": "2.7.6"
  }
 },
 "nbformat": 4,
 "nbformat_minor": 0
}