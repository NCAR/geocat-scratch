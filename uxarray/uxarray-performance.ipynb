{
 "cells": [
  {
   "cell_type": "markdown",
   "id": "3a5bc3f9-3f36-44fb-95bc-b424ad01e027",
   "metadata": {},
   "source": [
    "# UXARRAY Performance Testing"
   ]
  },
  {
   "cell_type": "markdown",
   "id": "47515fea-d9cd-49dd-aeb2-759ac44b1698",
   "metadata": {},
   "source": [
    "## Large File IO"
   ]
  },
  {
   "cell_type": "code",
   "execution_count": 3,
   "id": "903310ea-df65-4f5d-adc6-40083c6efa00",
   "metadata": {},
   "outputs": [],
   "source": [
    "import uxarray as ux"
   ]
  },
  {
   "cell_type": "code",
   "execution_count": null,
   "id": "5cb8b2b8-bdc5-44fe-af1e-19691804ccd4",
   "metadata": {},
   "outputs": [],
   "source": []
  }
 ],
 "metadata": {
  "kernelspec": {
   "display_name": "Python 3 (ipykernel)",
   "language": "python",
   "name": "python3"
  },
  "language_info": {
   "codemirror_mode": {
    "name": "ipython",
    "version": 3
   },
   "file_extension": ".py",
   "mimetype": "text/x-python",
   "name": "python",
   "nbconvert_exporter": "python",
   "pygments_lexer": "ipython3",
   "version": "3.10.4"
  }
 },
 "nbformat": 4,
 "nbformat_minor": 5
}
