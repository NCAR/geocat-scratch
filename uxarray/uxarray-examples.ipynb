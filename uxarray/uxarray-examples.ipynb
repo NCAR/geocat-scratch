{
 "cells": [
  {
   "cell_type": "markdown",
   "metadata": {},
   "source": []
  },
  {
   "cell_type": "markdown",
   "metadata": {},
   "source": [
    "# Using Uxarray\n",
    "\n",
    "Internal testing for uxarray"
   ]
  },
  {
   "cell_type": "code",
   "execution_count": 1,
   "metadata": {},
   "outputs": [],
   "source": [
    "import uxarray as ux"
   ]
  },
  {
   "cell_type": "code",
   "execution_count": 2,
   "metadata": {},
   "outputs": [],
   "source": [
    "import numpy as np"
   ]
  },
  {
   "cell_type": "code",
   "execution_count": null,
   "metadata": {},
   "outputs": [],
   "source": [
    "# initialize with vertices\n",
    "\n",
    "points = np.array([[0, 0], [1, 0], [1, 1], [0, 1]])"
   ]
  }
 ],
 "metadata": {
  "interpreter": {
   "hash": "0d177b337c0cc132c49009a90ab675d83e037feba0a73016123c0d8a059901e4"
  },
  "kernelspec": {
   "display_name": "Python 3.10.0 ('uxarray_build')",
   "language": "python",
   "name": "python3"
  },
  "language_info": {
   "codemirror_mode": {
    "name": "ipython",
    "version": 3
   },
   "file_extension": ".py",
   "mimetype": "text/x-python",
   "name": "python",
   "nbconvert_exporter": "python",
   "pygments_lexer": "ipython3",
   "version": "3.10.2"
  },
  "orig_nbformat": 4
 },
 "nbformat": 4,
 "nbformat_minor": 2
}
