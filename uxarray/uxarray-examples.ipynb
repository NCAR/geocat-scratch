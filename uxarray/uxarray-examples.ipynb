{
 "cells": [
  {
   "cell_type": "markdown",
   "metadata": {},
   "source": []
  },
  {
   "cell_type": "markdown",
   "metadata": {},
   "source": [
    "# Using Uxarray\n",
    "\n",
    "Internal testing for uxarray"
   ]
  },
  {
   "cell_type": "markdown",
   "metadata": {},
   "source": [
    "## Imports"
   ]
  },
  {
   "cell_type": "code",
   "execution_count": 1,
   "metadata": {},
   "outputs": [],
   "source": [
    "import uxarray as ux"
   ]
  },
  {
   "cell_type": "code",
   "execution_count": 2,
   "metadata": {},
   "outputs": [],
   "source": [
    "import numpy as np"
   ]
  },
  {
   "cell_type": "markdown",
   "metadata": {},
   "source": [
    "## Reading and Writing with different file types\n",
    "\n",
    "### Initialize with vertices"
   ]
  },
  {
   "cell_type": "code",
   "execution_count": 3,
   "metadata": {},
   "outputs": [
    {
     "data": {
      "text/plain": [
       "<uxarray.grid.Grid at 0x164303730>"
      ]
     },
     "execution_count": 3,
     "metadata": {},
     "output_type": "execute_result"
    }
   ],
   "source": [
    "# initialize with vertices\n",
    "\n",
    "# define a single face with four vertices\n",
    "points = np.array([[0, 0], [1, 0], [1, 1], [0, 1]])\n",
    "\n",
    "# Initialize a uxarray object with points\n",
    "ux_vert = ux.Grid(points)\n",
    "\n",
    "# look at initialized object\n",
    "ux_vert"
   ]
  },
  {
   "cell_type": "code",
   "execution_count": 4,
   "metadata": {},
   "outputs": [
    {
     "ename": "ValueError",
     "evalue": "different number of dimensions on data and dims: 0 vs 1",
     "output_type": "error",
     "traceback": [
      "\u001b[0;31m---------------------------------------------------------------------------\u001b[0m",
      "\u001b[0;31mValueError\u001b[0m                                Traceback (most recent call last)",
      "\u001b[1;32m/Users/anissaz/Desktop/GeoCAT/geocat-internal-testing/uxarray/uxarray-examples.ipynb Cell 8'\u001b[0m in \u001b[0;36m<cell line: 5>\u001b[0;34m()\u001b[0m\n\u001b[1;32m      <a href='vscode-notebook-cell:/Users/anissaz/Desktop/GeoCAT/geocat-internal-testing/uxarray/uxarray-examples.ipynb#ch0000016?line=0'>1</a>\u001b[0m \u001b[39m# initialize with a single point \u001b[39;00m\n\u001b[1;32m      <a href='vscode-notebook-cell:/Users/anissaz/Desktop/GeoCAT/geocat-internal-testing/uxarray/uxarray-examples.ipynb#ch0000016?line=1'>2</a>\u001b[0m \u001b[39m# should this raise an error or warning?\u001b[39;00m\n\u001b[1;32m      <a href='vscode-notebook-cell:/Users/anissaz/Desktop/GeoCAT/geocat-internal-testing/uxarray/uxarray-examples.ipynb#ch0000016?line=3'>4</a>\u001b[0m point \u001b[39m=\u001b[39m np\u001b[39m.\u001b[39marray([\u001b[39m0\u001b[39m, \u001b[39m0\u001b[39m])\n\u001b[0;32m----> <a href='vscode-notebook-cell:/Users/anissaz/Desktop/GeoCAT/geocat-internal-testing/uxarray/uxarray-examples.ipynb#ch0000016?line=4'>5</a>\u001b[0m ux_point \u001b[39m=\u001b[39m ux\u001b[39m.\u001b[39;49mGrid(point)\n\u001b[1;32m      <a href='vscode-notebook-cell:/Users/anissaz/Desktop/GeoCAT/geocat-internal-testing/uxarray/uxarray-examples.ipynb#ch0000016?line=5'>6</a>\u001b[0m ux_point\n",
      "File \u001b[0;32m~/opt/anaconda3/envs/geocat-testing/lib/python3.10/site-packages/uxarray/grid.py:81\u001b[0m, in \u001b[0;36mGrid.__init__\u001b[0;34m(self, *args, **kwargs)\u001b[0m\n\u001b[1;32m     <a href='file:///~/opt/anaconda3/envs/geocat-testing/lib/python3.10/site-packages/uxarray/grid.py?line=78'>79</a>\u001b[0m \u001b[39mif\u001b[39;00m \u001b[39misinstance\u001b[39m(data_arg, (\u001b[39mlist\u001b[39m, \u001b[39mtuple\u001b[39m, np\u001b[39m.\u001b[39mndarray)):\n\u001b[1;32m     <a href='file:///~/opt/anaconda3/envs/geocat-testing/lib/python3.10/site-packages/uxarray/grid.py?line=79'>80</a>\u001b[0m     \u001b[39mself\u001b[39m\u001b[39m.\u001b[39mvertices \u001b[39m=\u001b[39m data_arg\n\u001b[0;32m---> <a href='file:///~/opt/anaconda3/envs/geocat-testing/lib/python3.10/site-packages/uxarray/grid.py?line=80'>81</a>\u001b[0m     \u001b[39mself\u001b[39;49m\u001b[39m.\u001b[39;49m__from_vert__()\n\u001b[1;32m     <a href='file:///~/opt/anaconda3/envs/geocat-testing/lib/python3.10/site-packages/uxarray/grid.py?line=82'>83</a>\u001b[0m \u001b[39m# check if initializing from string\u001b[39;00m\n\u001b[1;32m     <a href='file:///~/opt/anaconda3/envs/geocat-testing/lib/python3.10/site-packages/uxarray/grid.py?line=83'>84</a>\u001b[0m \u001b[39m# TODO: re-add gridspec initialization when implemented\u001b[39;00m\n\u001b[1;32m     <a href='file:///~/opt/anaconda3/envs/geocat-testing/lib/python3.10/site-packages/uxarray/grid.py?line=84'>85</a>\u001b[0m \u001b[39melif\u001b[39;00m \u001b[39misinstance\u001b[39m(data_arg, \u001b[39mstr\u001b[39m):\n\u001b[1;32m     <a href='file:///~/opt/anaconda3/envs/geocat-testing/lib/python3.10/site-packages/uxarray/grid.py?line=85'>86</a>\u001b[0m     \u001b[39m# check if file exists\u001b[39;00m\n",
      "File \u001b[0;32m~/opt/anaconda3/envs/geocat-testing/lib/python3.10/site-packages/uxarray/grid.py:122\u001b[0m, in \u001b[0;36mGrid.__from_vert__\u001b[0;34m(self)\u001b[0m\n\u001b[1;32m    <a href='file:///~/opt/anaconda3/envs/geocat-testing/lib/python3.10/site-packages/uxarray/grid.py?line=118'>119</a>\u001b[0m conn \u001b[39m=\u001b[39m \u001b[39mlist\u001b[39m(\u001b[39mrange\u001b[39m(\u001b[39m0\u001b[39m, num_nodes))\n\u001b[1;32m    <a href='file:///~/opt/anaconda3/envs/geocat-testing/lib/python3.10/site-packages/uxarray/grid.py?line=119'>120</a>\u001b[0m conn \u001b[39m=\u001b[39m [conn]\n\u001b[0;32m--> <a href='file:///~/opt/anaconda3/envs/geocat-testing/lib/python3.10/site-packages/uxarray/grid.py?line=121'>122</a>\u001b[0m \u001b[39mself\u001b[39m\u001b[39m.\u001b[39mds[\u001b[39m\"\u001b[39m\u001b[39mMesh2_node_x\u001b[39m\u001b[39m\"\u001b[39m] \u001b[39m=\u001b[39m xr\u001b[39m.\u001b[39;49mDataArray(data\u001b[39m=\u001b[39;49mxr\u001b[39m.\u001b[39;49mDataArray(x_coord),\n\u001b[1;32m    <a href='file:///~/opt/anaconda3/envs/geocat-testing/lib/python3.10/site-packages/uxarray/grid.py?line=122'>123</a>\u001b[0m                                        dims\u001b[39m=\u001b[39;49m[\u001b[39m\"\u001b[39;49m\u001b[39mnMesh2_node\u001b[39;49m\u001b[39m\"\u001b[39;49m])\n\u001b[1;32m    <a href='file:///~/opt/anaconda3/envs/geocat-testing/lib/python3.10/site-packages/uxarray/grid.py?line=123'>124</a>\u001b[0m \u001b[39mself\u001b[39m\u001b[39m.\u001b[39mds[\u001b[39m\"\u001b[39m\u001b[39mMesh2_node_y\u001b[39m\u001b[39m\"\u001b[39m] \u001b[39m=\u001b[39m xr\u001b[39m.\u001b[39mDataArray(data\u001b[39m=\u001b[39mxr\u001b[39m.\u001b[39mDataArray(y_coord),\n\u001b[1;32m    <a href='file:///~/opt/anaconda3/envs/geocat-testing/lib/python3.10/site-packages/uxarray/grid.py?line=124'>125</a>\u001b[0m                                        dims\u001b[39m=\u001b[39m[\u001b[39m\"\u001b[39m\u001b[39mnMesh2_node\u001b[39m\u001b[39m\"\u001b[39m])\n\u001b[1;32m    <a href='file:///~/opt/anaconda3/envs/geocat-testing/lib/python3.10/site-packages/uxarray/grid.py?line=125'>126</a>\u001b[0m \u001b[39mself\u001b[39m\u001b[39m.\u001b[39mds[\u001b[39m\"\u001b[39m\u001b[39mMesh2_face_nodes\u001b[39m\u001b[39m\"\u001b[39m] \u001b[39m=\u001b[39m xr\u001b[39m.\u001b[39mDataArray(\n\u001b[1;32m    <a href='file:///~/opt/anaconda3/envs/geocat-testing/lib/python3.10/site-packages/uxarray/grid.py?line=126'>127</a>\u001b[0m     data\u001b[39m=\u001b[39mxr\u001b[39m.\u001b[39mDataArray(conn),\n\u001b[1;32m    <a href='file:///~/opt/anaconda3/envs/geocat-testing/lib/python3.10/site-packages/uxarray/grid.py?line=127'>128</a>\u001b[0m     dims\u001b[39m=\u001b[39m[\u001b[39m\"\u001b[39m\u001b[39mnMesh2_face\u001b[39m\u001b[39m\"\u001b[39m, \u001b[39m\"\u001b[39m\u001b[39mnMaxMesh2_face_nodes\u001b[39m\u001b[39m\"\u001b[39m],\n\u001b[0;32m   (...)\u001b[0m\n\u001b[1;32m    <a href='file:///~/opt/anaconda3/envs/geocat-testing/lib/python3.10/site-packages/uxarray/grid.py?line=131'>132</a>\u001b[0m         \u001b[39m\"\u001b[39m\u001b[39mstart_index\u001b[39m\u001b[39m\"\u001b[39m: \u001b[39m0\u001b[39m\n\u001b[1;32m    <a href='file:///~/opt/anaconda3/envs/geocat-testing/lib/python3.10/site-packages/uxarray/grid.py?line=132'>133</a>\u001b[0m     })\n",
      "File \u001b[0;32m~/opt/anaconda3/envs/geocat-testing/lib/python3.10/site-packages/xarray/core/dataarray.py:402\u001b[0m, in \u001b[0;36mDataArray.__init__\u001b[0;34m(self, data, coords, dims, name, attrs, indexes, fastpath)\u001b[0m\n\u001b[1;32m    <a href='file:///~/opt/anaconda3/envs/geocat-testing/lib/python3.10/site-packages/xarray/core/dataarray.py?line=399'>400</a>\u001b[0m data \u001b[39m=\u001b[39m _check_data_shape(data, coords, dims)\n\u001b[1;32m    <a href='file:///~/opt/anaconda3/envs/geocat-testing/lib/python3.10/site-packages/xarray/core/dataarray.py?line=400'>401</a>\u001b[0m data \u001b[39m=\u001b[39m as_compatible_data(data)\n\u001b[0;32m--> <a href='file:///~/opt/anaconda3/envs/geocat-testing/lib/python3.10/site-packages/xarray/core/dataarray.py?line=401'>402</a>\u001b[0m coords, dims \u001b[39m=\u001b[39m _infer_coords_and_dims(data\u001b[39m.\u001b[39;49mshape, coords, dims)\n\u001b[1;32m    <a href='file:///~/opt/anaconda3/envs/geocat-testing/lib/python3.10/site-packages/xarray/core/dataarray.py?line=402'>403</a>\u001b[0m variable \u001b[39m=\u001b[39m Variable(dims, data, attrs, fastpath\u001b[39m=\u001b[39m\u001b[39mTrue\u001b[39;00m)\n\u001b[1;32m    <a href='file:///~/opt/anaconda3/envs/geocat-testing/lib/python3.10/site-packages/xarray/core/dataarray.py?line=403'>404</a>\u001b[0m indexes \u001b[39m=\u001b[39m \u001b[39mdict\u001b[39m(\n\u001b[1;32m    <a href='file:///~/opt/anaconda3/envs/geocat-testing/lib/python3.10/site-packages/xarray/core/dataarray.py?line=404'>405</a>\u001b[0m     _extract_indexes_from_coords(coords)\n\u001b[1;32m    <a href='file:///~/opt/anaconda3/envs/geocat-testing/lib/python3.10/site-packages/xarray/core/dataarray.py?line=405'>406</a>\u001b[0m )  \u001b[39m# needed for to_dataset\u001b[39;00m\n",
      "File \u001b[0;32m~/opt/anaconda3/envs/geocat-testing/lib/python3.10/site-packages/xarray/core/dataarray.py:121\u001b[0m, in \u001b[0;36m_infer_coords_and_dims\u001b[0;34m(shape, coords, dims)\u001b[0m\n\u001b[1;32m    <a href='file:///~/opt/anaconda3/envs/geocat-testing/lib/python3.10/site-packages/xarray/core/dataarray.py?line=118'>119</a>\u001b[0m     dims \u001b[39m=\u001b[39m \u001b[39mtuple\u001b[39m(dims)\n\u001b[1;32m    <a href='file:///~/opt/anaconda3/envs/geocat-testing/lib/python3.10/site-packages/xarray/core/dataarray.py?line=119'>120</a>\u001b[0m \u001b[39melif\u001b[39;00m \u001b[39mlen\u001b[39m(dims) \u001b[39m!=\u001b[39m \u001b[39mlen\u001b[39m(shape):\n\u001b[0;32m--> <a href='file:///~/opt/anaconda3/envs/geocat-testing/lib/python3.10/site-packages/xarray/core/dataarray.py?line=120'>121</a>\u001b[0m     \u001b[39mraise\u001b[39;00m \u001b[39mValueError\u001b[39;00m(\n\u001b[1;32m    <a href='file:///~/opt/anaconda3/envs/geocat-testing/lib/python3.10/site-packages/xarray/core/dataarray.py?line=121'>122</a>\u001b[0m         \u001b[39m\"\u001b[39m\u001b[39mdifferent number of dimensions on data \u001b[39m\u001b[39m\"\u001b[39m\n\u001b[1;32m    <a href='file:///~/opt/anaconda3/envs/geocat-testing/lib/python3.10/site-packages/xarray/core/dataarray.py?line=122'>123</a>\u001b[0m         \u001b[39mf\u001b[39m\u001b[39m\"\u001b[39m\u001b[39mand dims: \u001b[39m\u001b[39m{\u001b[39;00m\u001b[39mlen\u001b[39m(shape)\u001b[39m}\u001b[39;00m\u001b[39m vs \u001b[39m\u001b[39m{\u001b[39;00m\u001b[39mlen\u001b[39m(dims)\u001b[39m}\u001b[39;00m\u001b[39m\"\u001b[39m\n\u001b[1;32m    <a href='file:///~/opt/anaconda3/envs/geocat-testing/lib/python3.10/site-packages/xarray/core/dataarray.py?line=123'>124</a>\u001b[0m     )\n\u001b[1;32m    <a href='file:///~/opt/anaconda3/envs/geocat-testing/lib/python3.10/site-packages/xarray/core/dataarray.py?line=124'>125</a>\u001b[0m \u001b[39melse\u001b[39;00m:\n\u001b[1;32m    <a href='file:///~/opt/anaconda3/envs/geocat-testing/lib/python3.10/site-packages/xarray/core/dataarray.py?line=125'>126</a>\u001b[0m     \u001b[39mfor\u001b[39;00m d \u001b[39min\u001b[39;00m dims:\n",
      "\u001b[0;31mValueError\u001b[0m: different number of dimensions on data and dims: 0 vs 1"
     ]
    }
   ],
   "source": [
    "# initialize with a single point \n",
    "# should this raise an error or warning?\n",
    "\n",
    "point = np.array([0, 0])\n",
    "ux_point = ux.Grid(point)\n",
    "ux_point"
   ]
  },
  {
   "cell_type": "code",
   "execution_count": 5,
   "metadata": {},
   "outputs": [
    {
     "data": {
      "text/plain": [
       "<uxarray.grid.Grid at 0x114285f60>"
      ]
     },
     "execution_count": 5,
     "metadata": {},
     "output_type": "execute_result"
    }
   ],
   "source": [
    "# initialize with two points\n",
    "# should this raise an error or warning?\n",
    "\n",
    "line = np.array([[0, 0], [1, 1]])\n",
    "ux_line = ux.Grid(line)\n",
    "ux_line"
   ]
  },
  {
   "cell_type": "markdown",
   "metadata": {},
   "source": [
    "### Ugrid"
   ]
  },
  {
   "cell_type": "code",
   "execution_count": 6,
   "metadata": {},
   "outputs": [
    {
     "name": "stdout",
     "output_type": "stream",
     "text": [
      "Writing ugrid file:  ugrid_vert.ug\n"
     ]
    }
   ],
   "source": [
    "# read/write from vertices created above\n",
    "ux_vert.write(\"ugrid_vert.ug\")\n",
    "read_ug = ux.Grid(\"ugrid_vert.ug\")"
   ]
  },
  {
   "cell_type": "code",
   "execution_count": 8,
   "metadata": {},
   "outputs": [
    {
     "name": "stdout",
     "output_type": "stream",
     "text": [
      "Writing ugrid file:  ugout.ug\n"
     ]
    }
   ],
   "source": [
    "# read/write from predefined file\n",
    "read_ug_file = ux.Grid(\"./data/outCSne30.ug\")\n",
    "read_ug_file.write(\"ugout.ug\")\n"
   ]
  },
  {
   "cell_type": "markdown",
   "metadata": {},
   "source": [
    "### Exodus"
   ]
  },
  {
   "cell_type": "code",
   "execution_count": 7,
   "metadata": {},
   "outputs": [
    {
     "name": "stdout",
     "output_type": "stream",
     "text": [
      "Writing exodus file:  ugrid_vert.exo\n",
      "Wrote:  ugrid_vert.exo\n"
     ]
    }
   ],
   "source": [
    "# write out exodus file\n",
    "ux_vert.write(\"ugrid_vert.exo\")"
   ]
  },
  {
   "cell_type": "code",
   "execution_count": 9,
   "metadata": {},
   "outputs": [
    {
     "name": "stdout",
     "output_type": "stream",
     "text": [
      "Reading exodus file:  ugrid_vert.exo\n"
     ]
    },
    {
     "ename": "IndexError",
     "evalue": "index 2 is out of bounds for axis 0 with size 2",
     "output_type": "error",
     "traceback": [
      "\u001b[0;31m---------------------------------------------------------------------------\u001b[0m",
      "\u001b[0;31mIndexError\u001b[0m                                Traceback (most recent call last)",
      "\u001b[1;32m/Users/anissaz/Desktop/GeoCAT/geocat-internal-testing/uxarray/uxarray-examples.ipynb Cell 15'\u001b[0m in \u001b[0;36m<cell line: 2>\u001b[0;34m()\u001b[0m\n\u001b[1;32m      <a href='vscode-notebook-cell:/Users/anissaz/Desktop/GeoCAT/geocat-internal-testing/uxarray/uxarray-examples.ipynb#ch0000013?line=0'>1</a>\u001b[0m \u001b[39m# read in exodus file\u001b[39;00m\n\u001b[0;32m----> <a href='vscode-notebook-cell:/Users/anissaz/Desktop/GeoCAT/geocat-internal-testing/uxarray/uxarray-examples.ipynb#ch0000013?line=1'>2</a>\u001b[0m read_exo \u001b[39m=\u001b[39m ux\u001b[39m.\u001b[39;49mGrid(\u001b[39m\"\u001b[39;49m\u001b[39mugrid_vert.exo\u001b[39;49m\u001b[39m\"\u001b[39;49m)\n",
      "File \u001b[0;32m~/opt/anaconda3/envs/geocat-testing/lib/python3.10/site-packages/uxarray/grid.py:92\u001b[0m, in \u001b[0;36mGrid.__init__\u001b[0;34m(self, *args, **kwargs)\u001b[0m\n\u001b[1;32m     <a href='file:///~/opt/anaconda3/envs/geocat-testing/lib/python3.10/site-packages/uxarray/grid.py?line=89'>90</a>\u001b[0m     \u001b[39mself\u001b[39m\u001b[39m.\u001b[39mfilepath \u001b[39m=\u001b[39m data_arg\n\u001b[1;32m     <a href='file:///~/opt/anaconda3/envs/geocat-testing/lib/python3.10/site-packages/uxarray/grid.py?line=90'>91</a>\u001b[0m     \u001b[39m# call the appropriate reader\u001b[39;00m\n\u001b[0;32m---> <a href='file:///~/opt/anaconda3/envs/geocat-testing/lib/python3.10/site-packages/uxarray/grid.py?line=91'>92</a>\u001b[0m     \u001b[39mself\u001b[39;49m\u001b[39m.\u001b[39;49m__from_file__()\n\u001b[1;32m     <a href='file:///~/opt/anaconda3/envs/geocat-testing/lib/python3.10/site-packages/uxarray/grid.py?line=93'>94</a>\u001b[0m \u001b[39m# check if invalid initialization\u001b[39;00m\n\u001b[1;32m     <a href='file:///~/opt/anaconda3/envs/geocat-testing/lib/python3.10/site-packages/uxarray/grid.py?line=94'>95</a>\u001b[0m \u001b[39melse\u001b[39;00m:\n\u001b[1;32m     <a href='file:///~/opt/anaconda3/envs/geocat-testing/lib/python3.10/site-packages/uxarray/grid.py?line=95'>96</a>\u001b[0m     \u001b[39mraise\u001b[39;00m \u001b[39mRuntimeError\u001b[39;00m(data_arg \u001b[39m+\u001b[39m \u001b[39m\"\u001b[39m\u001b[39m is not a valid input type\u001b[39m\u001b[39m\"\u001b[39m)\n",
      "File \u001b[0;32m~/opt/anaconda3/envs/geocat-testing/lib/python3.10/site-packages/uxarray/grid.py:149\u001b[0m, in \u001b[0;36mGrid.__from_file__\u001b[0;34m(self)\u001b[0m\n\u001b[1;32m    <a href='file:///~/opt/anaconda3/envs/geocat-testing/lib/python3.10/site-packages/uxarray/grid.py?line=146'>147</a>\u001b[0m \u001b[39m# call reader as per mesh_filetype\u001b[39;00m\n\u001b[1;32m    <a href='file:///~/opt/anaconda3/envs/geocat-testing/lib/python3.10/site-packages/uxarray/grid.py?line=147'>148</a>\u001b[0m \u001b[39mif\u001b[39;00m \u001b[39mself\u001b[39m\u001b[39m.\u001b[39mmesh_filetype \u001b[39m==\u001b[39m \u001b[39m\"\u001b[39m\u001b[39mexo\u001b[39m\u001b[39m\"\u001b[39m:\n\u001b[0;32m--> <a href='file:///~/opt/anaconda3/envs/geocat-testing/lib/python3.10/site-packages/uxarray/grid.py?line=148'>149</a>\u001b[0m     \u001b[39mself\u001b[39m\u001b[39m.\u001b[39mds \u001b[39m=\u001b[39m _read_exodus(\u001b[39mself\u001b[39;49m\u001b[39m.\u001b[39;49mfilepath)\n\u001b[1;32m    <a href='file:///~/opt/anaconda3/envs/geocat-testing/lib/python3.10/site-packages/uxarray/grid.py?line=149'>150</a>\u001b[0m \u001b[39melif\u001b[39;00m \u001b[39mself\u001b[39m\u001b[39m.\u001b[39mmesh_filetype \u001b[39m==\u001b[39m \u001b[39m\"\u001b[39m\u001b[39mscrip\u001b[39m\u001b[39m\"\u001b[39m:\n\u001b[1;32m    <a href='file:///~/opt/anaconda3/envs/geocat-testing/lib/python3.10/site-packages/uxarray/grid.py?line=150'>151</a>\u001b[0m     \u001b[39mself\u001b[39m\u001b[39m.\u001b[39mds \u001b[39m=\u001b[39m _read_scrip(\u001b[39mself\u001b[39m\u001b[39m.\u001b[39mfilepath)\n",
      "File \u001b[0;32m~/opt/anaconda3/envs/geocat-testing/lib/python3.10/site-packages/uxarray/_exodus.py:72\u001b[0m, in \u001b[0;36m_read_exodus\u001b[0;34m(filepath)\u001b[0m\n\u001b[1;32m     <a href='file:///~/opt/anaconda3/envs/geocat-testing/lib/python3.10/site-packages/uxarray/_exodus.py?line=55'>56</a>\u001b[0m     ds[\u001b[39m\"\u001b[39m\u001b[39mMesh2_node_x\u001b[39m\u001b[39m\"\u001b[39m] \u001b[39m=\u001b[39m xr\u001b[39m.\u001b[39mDataArray(\n\u001b[1;32m     <a href='file:///~/opt/anaconda3/envs/geocat-testing/lib/python3.10/site-packages/uxarray/_exodus.py?line=56'>57</a>\u001b[0m         data\u001b[39m=\u001b[39mext_ds\u001b[39m.\u001b[39mcoord[\u001b[39m0\u001b[39m],\n\u001b[1;32m     <a href='file:///~/opt/anaconda3/envs/geocat-testing/lib/python3.10/site-packages/uxarray/_exodus.py?line=57'>58</a>\u001b[0m         dims\u001b[39m=\u001b[39m[\u001b[39m\"\u001b[39m\u001b[39mnMesh2_node\u001b[39m\u001b[39m\"\u001b[39m],\n\u001b[0;32m   (...)\u001b[0m\n\u001b[1;32m     <a href='file:///~/opt/anaconda3/envs/geocat-testing/lib/python3.10/site-packages/uxarray/_exodus.py?line=61'>62</a>\u001b[0m             \u001b[39m\"\u001b[39m\u001b[39munits\u001b[39m\u001b[39m\"\u001b[39m: \u001b[39m\"\u001b[39m\u001b[39mdegress_east\u001b[39m\u001b[39m\"\u001b[39m,\n\u001b[1;32m     <a href='file:///~/opt/anaconda3/envs/geocat-testing/lib/python3.10/site-packages/uxarray/_exodus.py?line=62'>63</a>\u001b[0m         })\n\u001b[1;32m     <a href='file:///~/opt/anaconda3/envs/geocat-testing/lib/python3.10/site-packages/uxarray/_exodus.py?line=63'>64</a>\u001b[0m     ds[\u001b[39m\"\u001b[39m\u001b[39mMesh2_node_y\u001b[39m\u001b[39m\"\u001b[39m] \u001b[39m=\u001b[39m xr\u001b[39m.\u001b[39mDataArray(\n\u001b[1;32m     <a href='file:///~/opt/anaconda3/envs/geocat-testing/lib/python3.10/site-packages/uxarray/_exodus.py?line=64'>65</a>\u001b[0m         data\u001b[39m=\u001b[39mext_ds\u001b[39m.\u001b[39mcoord[\u001b[39m1\u001b[39m],\n\u001b[1;32m     <a href='file:///~/opt/anaconda3/envs/geocat-testing/lib/python3.10/site-packages/uxarray/_exodus.py?line=65'>66</a>\u001b[0m         dims\u001b[39m=\u001b[39m[\u001b[39m\"\u001b[39m\u001b[39mnMesh2_node\u001b[39m\u001b[39m\"\u001b[39m],\n\u001b[0;32m   (...)\u001b[0m\n\u001b[1;32m     <a href='file:///~/opt/anaconda3/envs/geocat-testing/lib/python3.10/site-packages/uxarray/_exodus.py?line=69'>70</a>\u001b[0m             \u001b[39m\"\u001b[39m\u001b[39munits\u001b[39m\u001b[39m\"\u001b[39m: \u001b[39m\"\u001b[39m\u001b[39mdegrees_north\u001b[39m\u001b[39m\"\u001b[39m,\n\u001b[1;32m     <a href='file:///~/opt/anaconda3/envs/geocat-testing/lib/python3.10/site-packages/uxarray/_exodus.py?line=70'>71</a>\u001b[0m         })\n\u001b[0;32m---> <a href='file:///~/opt/anaconda3/envs/geocat-testing/lib/python3.10/site-packages/uxarray/_exodus.py?line=71'>72</a>\u001b[0m     ds[\u001b[39m\"\u001b[39m\u001b[39mMesh2_node_z\u001b[39m\u001b[39m\"\u001b[39m] \u001b[39m=\u001b[39m xr\u001b[39m.\u001b[39mDataArray(data\u001b[39m=\u001b[39mext_ds\u001b[39m.\u001b[39;49mcoord[\u001b[39m2\u001b[39;49m],\n\u001b[1;32m     <a href='file:///~/opt/anaconda3/envs/geocat-testing/lib/python3.10/site-packages/uxarray/_exodus.py?line=72'>73</a>\u001b[0m                                       dims\u001b[39m=\u001b[39m[\u001b[39m\"\u001b[39m\u001b[39mnMesh2_node\u001b[39m\u001b[39m\"\u001b[39m],\n\u001b[1;32m     <a href='file:///~/opt/anaconda3/envs/geocat-testing/lib/python3.10/site-packages/uxarray/_exodus.py?line=73'>74</a>\u001b[0m                                       attrs\u001b[39m=\u001b[39m{\n\u001b[1;32m     <a href='file:///~/opt/anaconda3/envs/geocat-testing/lib/python3.10/site-packages/uxarray/_exodus.py?line=74'>75</a>\u001b[0m                                           \u001b[39m\"\u001b[39m\u001b[39mstandard_name\u001b[39m\u001b[39m\"\u001b[39m: \u001b[39m\"\u001b[39m\u001b[39mspherical\u001b[39m\u001b[39m\"\u001b[39m,\n\u001b[1;32m     <a href='file:///~/opt/anaconda3/envs/geocat-testing/lib/python3.10/site-packages/uxarray/_exodus.py?line=75'>76</a>\u001b[0m                                           \u001b[39m\"\u001b[39m\u001b[39mlong_name\u001b[39m\u001b[39m\"\u001b[39m: \u001b[39m\"\u001b[39m\u001b[39melevation\u001b[39m\u001b[39m\"\u001b[39m,\n\u001b[1;32m     <a href='file:///~/opt/anaconda3/envs/geocat-testing/lib/python3.10/site-packages/uxarray/_exodus.py?line=76'>77</a>\u001b[0m                                           \u001b[39m\"\u001b[39m\u001b[39munits\u001b[39m\u001b[39m\"\u001b[39m: \u001b[39m\"\u001b[39m\u001b[39mdegree\u001b[39m\u001b[39m\"\u001b[39m,\n\u001b[1;32m     <a href='file:///~/opt/anaconda3/envs/geocat-testing/lib/python3.10/site-packages/uxarray/_exodus.py?line=77'>78</a>\u001b[0m                                       })\n\u001b[1;32m     <a href='file:///~/opt/anaconda3/envs/geocat-testing/lib/python3.10/site-packages/uxarray/_exodus.py?line=78'>79</a>\u001b[0m \u001b[39melif\u001b[39;00m key \u001b[39m==\u001b[39m \u001b[39m\"\u001b[39m\u001b[39mcoordx\u001b[39m\u001b[39m\"\u001b[39m:\n\u001b[1;32m     <a href='file:///~/opt/anaconda3/envs/geocat-testing/lib/python3.10/site-packages/uxarray/_exodus.py?line=79'>80</a>\u001b[0m     ds[\u001b[39m\"\u001b[39m\u001b[39mMesh2_node_x\u001b[39m\u001b[39m\"\u001b[39m] \u001b[39m=\u001b[39m xr\u001b[39m.\u001b[39mDataArray(\n\u001b[1;32m     <a href='file:///~/opt/anaconda3/envs/geocat-testing/lib/python3.10/site-packages/uxarray/_exodus.py?line=80'>81</a>\u001b[0m         data\u001b[39m=\u001b[39mext_ds\u001b[39m.\u001b[39mcoordx,\n\u001b[1;32m     <a href='file:///~/opt/anaconda3/envs/geocat-testing/lib/python3.10/site-packages/uxarray/_exodus.py?line=81'>82</a>\u001b[0m         dims\u001b[39m=\u001b[39m[\u001b[39m\"\u001b[39m\u001b[39mnMesh2_node\u001b[39m\u001b[39m\"\u001b[39m],\n\u001b[0;32m   (...)\u001b[0m\n\u001b[1;32m     <a href='file:///~/opt/anaconda3/envs/geocat-testing/lib/python3.10/site-packages/uxarray/_exodus.py?line=85'>86</a>\u001b[0m             \u001b[39m\"\u001b[39m\u001b[39munits\u001b[39m\u001b[39m\"\u001b[39m: \u001b[39m\"\u001b[39m\u001b[39mdegress_east\u001b[39m\u001b[39m\"\u001b[39m,\n\u001b[1;32m     <a href='file:///~/opt/anaconda3/envs/geocat-testing/lib/python3.10/site-packages/uxarray/_exodus.py?line=86'>87</a>\u001b[0m         })\n",
      "File \u001b[0;32m~/opt/anaconda3/envs/geocat-testing/lib/python3.10/site-packages/xarray/core/dataarray.py:741\u001b[0m, in \u001b[0;36mDataArray.__getitem__\u001b[0;34m(self, key)\u001b[0m\n\u001b[1;32m    <a href='file:///~/opt/anaconda3/envs/geocat-testing/lib/python3.10/site-packages/xarray/core/dataarray.py?line=737'>738</a>\u001b[0m     \u001b[39mreturn\u001b[39;00m \u001b[39mself\u001b[39m\u001b[39m.\u001b[39m_getitem_coord(key)\n\u001b[1;32m    <a href='file:///~/opt/anaconda3/envs/geocat-testing/lib/python3.10/site-packages/xarray/core/dataarray.py?line=738'>739</a>\u001b[0m \u001b[39melse\u001b[39;00m:\n\u001b[1;32m    <a href='file:///~/opt/anaconda3/envs/geocat-testing/lib/python3.10/site-packages/xarray/core/dataarray.py?line=739'>740</a>\u001b[0m     \u001b[39m# xarray-style array indexing\u001b[39;00m\n\u001b[0;32m--> <a href='file:///~/opt/anaconda3/envs/geocat-testing/lib/python3.10/site-packages/xarray/core/dataarray.py?line=740'>741</a>\u001b[0m     \u001b[39mreturn\u001b[39;00m \u001b[39mself\u001b[39;49m\u001b[39m.\u001b[39;49misel(indexers\u001b[39m=\u001b[39;49m\u001b[39mself\u001b[39;49m\u001b[39m.\u001b[39;49m_item_key_to_dict(key))\n",
      "File \u001b[0;32m~/opt/anaconda3/envs/geocat-testing/lib/python3.10/site-packages/xarray/core/dataarray.py:1205\u001b[0m, in \u001b[0;36mDataArray.isel\u001b[0;34m(self, indexers, drop, missing_dims, **indexers_kwargs)\u001b[0m\n\u001b[1;32m   <a href='file:///~/opt/anaconda3/envs/geocat-testing/lib/python3.10/site-packages/xarray/core/dataarray.py?line=1199'>1200</a>\u001b[0m     \u001b[39mreturn\u001b[39;00m \u001b[39mself\u001b[39m\u001b[39m.\u001b[39m_from_temp_dataset(ds)\n\u001b[1;32m   <a href='file:///~/opt/anaconda3/envs/geocat-testing/lib/python3.10/site-packages/xarray/core/dataarray.py?line=1201'>1202</a>\u001b[0m \u001b[39m# Much faster algorithm for when all indexers are ints, slices, one-dimensional\u001b[39;00m\n\u001b[1;32m   <a href='file:///~/opt/anaconda3/envs/geocat-testing/lib/python3.10/site-packages/xarray/core/dataarray.py?line=1202'>1203</a>\u001b[0m \u001b[39m# lists, or zero or one-dimensional np.ndarray's\u001b[39;00m\n\u001b[0;32m-> <a href='file:///~/opt/anaconda3/envs/geocat-testing/lib/python3.10/site-packages/xarray/core/dataarray.py?line=1204'>1205</a>\u001b[0m variable \u001b[39m=\u001b[39m \u001b[39mself\u001b[39;49m\u001b[39m.\u001b[39;49m_variable\u001b[39m.\u001b[39;49misel(indexers, missing_dims\u001b[39m=\u001b[39;49mmissing_dims)\n\u001b[1;32m   <a href='file:///~/opt/anaconda3/envs/geocat-testing/lib/python3.10/site-packages/xarray/core/dataarray.py?line=1206'>1207</a>\u001b[0m coords \u001b[39m=\u001b[39m {}\n\u001b[1;32m   <a href='file:///~/opt/anaconda3/envs/geocat-testing/lib/python3.10/site-packages/xarray/core/dataarray.py?line=1207'>1208</a>\u001b[0m \u001b[39mfor\u001b[39;00m coord_name, coord_value \u001b[39min\u001b[39;00m \u001b[39mself\u001b[39m\u001b[39m.\u001b[39m_coords\u001b[39m.\u001b[39mitems():\n",
      "File \u001b[0;32m~/opt/anaconda3/envs/geocat-testing/lib/python3.10/site-packages/xarray/core/variable.py:1186\u001b[0m, in \u001b[0;36mVariable.isel\u001b[0;34m(self, indexers, missing_dims, **indexers_kwargs)\u001b[0m\n\u001b[1;32m   <a href='file:///~/opt/anaconda3/envs/geocat-testing/lib/python3.10/site-packages/xarray/core/variable.py?line=1182'>1183</a>\u001b[0m indexers \u001b[39m=\u001b[39m drop_dims_from_indexers(indexers, \u001b[39mself\u001b[39m\u001b[39m.\u001b[39mdims, missing_dims)\n\u001b[1;32m   <a href='file:///~/opt/anaconda3/envs/geocat-testing/lib/python3.10/site-packages/xarray/core/variable.py?line=1184'>1185</a>\u001b[0m key \u001b[39m=\u001b[39m \u001b[39mtuple\u001b[39m(indexers\u001b[39m.\u001b[39mget(dim, \u001b[39mslice\u001b[39m(\u001b[39mNone\u001b[39;00m)) \u001b[39mfor\u001b[39;00m dim \u001b[39min\u001b[39;00m \u001b[39mself\u001b[39m\u001b[39m.\u001b[39mdims)\n\u001b[0;32m-> <a href='file:///~/opt/anaconda3/envs/geocat-testing/lib/python3.10/site-packages/xarray/core/variable.py?line=1185'>1186</a>\u001b[0m \u001b[39mreturn\u001b[39;00m \u001b[39mself\u001b[39;49m[key]\n",
      "File \u001b[0;32m~/opt/anaconda3/envs/geocat-testing/lib/python3.10/site-packages/xarray/core/variable.py:779\u001b[0m, in \u001b[0;36mVariable.__getitem__\u001b[0;34m(self, key)\u001b[0m\n\u001b[1;32m    <a href='file:///~/opt/anaconda3/envs/geocat-testing/lib/python3.10/site-packages/xarray/core/variable.py?line=765'>766</a>\u001b[0m \u001b[39m\"\"\"Return a new Variable object whose contents are consistent with\u001b[39;00m\n\u001b[1;32m    <a href='file:///~/opt/anaconda3/envs/geocat-testing/lib/python3.10/site-packages/xarray/core/variable.py?line=766'>767</a>\u001b[0m \u001b[39mgetting the provided key from the underlying data.\u001b[39;00m\n\u001b[1;32m    <a href='file:///~/opt/anaconda3/envs/geocat-testing/lib/python3.10/site-packages/xarray/core/variable.py?line=767'>768</a>\u001b[0m \n\u001b[0;32m   (...)\u001b[0m\n\u001b[1;32m    <a href='file:///~/opt/anaconda3/envs/geocat-testing/lib/python3.10/site-packages/xarray/core/variable.py?line=775'>776</a>\u001b[0m \u001b[39marray `x.values` directly.\u001b[39;00m\n\u001b[1;32m    <a href='file:///~/opt/anaconda3/envs/geocat-testing/lib/python3.10/site-packages/xarray/core/variable.py?line=776'>777</a>\u001b[0m \u001b[39m\"\"\"\u001b[39;00m\n\u001b[1;32m    <a href='file:///~/opt/anaconda3/envs/geocat-testing/lib/python3.10/site-packages/xarray/core/variable.py?line=777'>778</a>\u001b[0m dims, indexer, new_order \u001b[39m=\u001b[39m \u001b[39mself\u001b[39m\u001b[39m.\u001b[39m_broadcast_indexes(key)\n\u001b[0;32m--> <a href='file:///~/opt/anaconda3/envs/geocat-testing/lib/python3.10/site-packages/xarray/core/variable.py?line=778'>779</a>\u001b[0m data \u001b[39m=\u001b[39m as_indexable(\u001b[39mself\u001b[39;49m\u001b[39m.\u001b[39;49m_data)[indexer]\n\u001b[1;32m    <a href='file:///~/opt/anaconda3/envs/geocat-testing/lib/python3.10/site-packages/xarray/core/variable.py?line=779'>780</a>\u001b[0m \u001b[39mif\u001b[39;00m new_order:\n\u001b[1;32m    <a href='file:///~/opt/anaconda3/envs/geocat-testing/lib/python3.10/site-packages/xarray/core/variable.py?line=780'>781</a>\u001b[0m     data \u001b[39m=\u001b[39m np\u001b[39m.\u001b[39mmoveaxis(data, \u001b[39mrange\u001b[39m(\u001b[39mlen\u001b[39m(new_order)), new_order)\n",
      "File \u001b[0;32m~/opt/anaconda3/envs/geocat-testing/lib/python3.10/site-packages/xarray/core/indexing.py:556\u001b[0m, in \u001b[0;36mMemoryCachedArray.__getitem__\u001b[0;34m(self, key)\u001b[0m\n\u001b[1;32m    <a href='file:///~/opt/anaconda3/envs/geocat-testing/lib/python3.10/site-packages/xarray/core/indexing.py?line=554'>555</a>\u001b[0m \u001b[39mdef\u001b[39;00m \u001b[39m__getitem__\u001b[39m(\u001b[39mself\u001b[39m, key):\n\u001b[0;32m--> <a href='file:///~/opt/anaconda3/envs/geocat-testing/lib/python3.10/site-packages/xarray/core/indexing.py?line=555'>556</a>\u001b[0m     \u001b[39mreturn\u001b[39;00m \u001b[39mtype\u001b[39m(\u001b[39mself\u001b[39m)(_wrap_numpy_scalars(\u001b[39mself\u001b[39;49m\u001b[39m.\u001b[39;49marray[key]))\n",
      "File \u001b[0;32m~/opt/anaconda3/envs/geocat-testing/lib/python3.10/site-packages/xarray/core/indexing.py:525\u001b[0m, in \u001b[0;36mCopyOnWriteArray.__getitem__\u001b[0;34m(self, key)\u001b[0m\n\u001b[1;32m    <a href='file:///~/opt/anaconda3/envs/geocat-testing/lib/python3.10/site-packages/xarray/core/indexing.py?line=523'>524</a>\u001b[0m \u001b[39mdef\u001b[39;00m \u001b[39m__getitem__\u001b[39m(\u001b[39mself\u001b[39m, key):\n\u001b[0;32m--> <a href='file:///~/opt/anaconda3/envs/geocat-testing/lib/python3.10/site-packages/xarray/core/indexing.py?line=524'>525</a>\u001b[0m     \u001b[39mreturn\u001b[39;00m \u001b[39mtype\u001b[39m(\u001b[39mself\u001b[39m)(_wrap_numpy_scalars(\u001b[39mself\u001b[39;49m\u001b[39m.\u001b[39;49marray[key]))\n",
      "File \u001b[0;32m~/opt/anaconda3/envs/geocat-testing/lib/python3.10/site-packages/xarray/core/indexing.py:432\u001b[0m, in \u001b[0;36mLazilyIndexedArray.__getitem__\u001b[0;34m(self, indexer)\u001b[0m\n\u001b[1;32m    <a href='file:///~/opt/anaconda3/envs/geocat-testing/lib/python3.10/site-packages/xarray/core/indexing.py?line=429'>430</a>\u001b[0m     array \u001b[39m=\u001b[39m LazilyVectorizedIndexedArray(\u001b[39mself\u001b[39m\u001b[39m.\u001b[39marray, \u001b[39mself\u001b[39m\u001b[39m.\u001b[39mkey)\n\u001b[1;32m    <a href='file:///~/opt/anaconda3/envs/geocat-testing/lib/python3.10/site-packages/xarray/core/indexing.py?line=430'>431</a>\u001b[0m     \u001b[39mreturn\u001b[39;00m array[indexer]\n\u001b[0;32m--> <a href='file:///~/opt/anaconda3/envs/geocat-testing/lib/python3.10/site-packages/xarray/core/indexing.py?line=431'>432</a>\u001b[0m \u001b[39mreturn\u001b[39;00m \u001b[39mtype\u001b[39m(\u001b[39mself\u001b[39m)(\u001b[39mself\u001b[39m\u001b[39m.\u001b[39marray, \u001b[39mself\u001b[39;49m\u001b[39m.\u001b[39;49m_updated_key(indexer))\n",
      "File \u001b[0;32m~/opt/anaconda3/envs/geocat-testing/lib/python3.10/site-packages/xarray/core/indexing.py:404\u001b[0m, in \u001b[0;36mLazilyIndexedArray._updated_key\u001b[0;34m(self, new_key)\u001b[0m\n\u001b[1;32m    <a href='file:///~/opt/anaconda3/envs/geocat-testing/lib/python3.10/site-packages/xarray/core/indexing.py?line=401'>402</a>\u001b[0m         full_key\u001b[39m.\u001b[39mappend(k)\n\u001b[1;32m    <a href='file:///~/opt/anaconda3/envs/geocat-testing/lib/python3.10/site-packages/xarray/core/indexing.py?line=402'>403</a>\u001b[0m     \u001b[39melse\u001b[39;00m:\n\u001b[0;32m--> <a href='file:///~/opt/anaconda3/envs/geocat-testing/lib/python3.10/site-packages/xarray/core/indexing.py?line=403'>404</a>\u001b[0m         full_key\u001b[39m.\u001b[39mappend(_index_indexer_1d(k, \u001b[39mnext\u001b[39;49m(iter_new_key), size))\n\u001b[1;32m    <a href='file:///~/opt/anaconda3/envs/geocat-testing/lib/python3.10/site-packages/xarray/core/indexing.py?line=404'>405</a>\u001b[0m full_key \u001b[39m=\u001b[39m \u001b[39mtuple\u001b[39m(full_key)\n\u001b[1;32m    <a href='file:///~/opt/anaconda3/envs/geocat-testing/lib/python3.10/site-packages/xarray/core/indexing.py?line=406'>407</a>\u001b[0m \u001b[39mif\u001b[39;00m \u001b[39mall\u001b[39m(\u001b[39misinstance\u001b[39m(k, integer_types \u001b[39m+\u001b[39m (\u001b[39mslice\u001b[39m,)) \u001b[39mfor\u001b[39;00m k \u001b[39min\u001b[39;00m full_key):\n",
      "File \u001b[0;32m~/opt/anaconda3/envs/geocat-testing/lib/python3.10/site-packages/xarray/core/indexing.py:177\u001b[0m, in \u001b[0;36m_index_indexer_1d\u001b[0;34m(old_indexer, applied_indexer, size)\u001b[0m\n\u001b[1;32m    <a href='file:///~/opt/anaconda3/envs/geocat-testing/lib/python3.10/site-packages/xarray/core/indexing.py?line=174'>175</a>\u001b[0m         indexer \u001b[39m=\u001b[39m slice_slice(old_indexer, applied_indexer, size)\n\u001b[1;32m    <a href='file:///~/opt/anaconda3/envs/geocat-testing/lib/python3.10/site-packages/xarray/core/indexing.py?line=175'>176</a>\u001b[0m     \u001b[39melse\u001b[39;00m:\n\u001b[0;32m--> <a href='file:///~/opt/anaconda3/envs/geocat-testing/lib/python3.10/site-packages/xarray/core/indexing.py?line=176'>177</a>\u001b[0m         indexer \u001b[39m=\u001b[39m _expand_slice(old_indexer, size)[applied_indexer]\n\u001b[1;32m    <a href='file:///~/opt/anaconda3/envs/geocat-testing/lib/python3.10/site-packages/xarray/core/indexing.py?line=177'>178</a>\u001b[0m \u001b[39melse\u001b[39;00m:\n\u001b[1;32m    <a href='file:///~/opt/anaconda3/envs/geocat-testing/lib/python3.10/site-packages/xarray/core/indexing.py?line=178'>179</a>\u001b[0m     indexer \u001b[39m=\u001b[39m old_indexer[applied_indexer]\n",
      "\u001b[0;31mIndexError\u001b[0m: index 2 is out of bounds for axis 0 with size 2"
     ]
    }
   ],
   "source": [
    "# read in exodus file\n",
    "read_exo = ux.Grid(\"ugrid_vert.exo\")"
   ]
  }
 ],
 "metadata": {
  "interpreter": {
   "hash": "0d177b337c0cc132c49009a90ab675d83e037feba0a73016123c0d8a059901e4"
  },
  "kernelspec": {
   "display_name": "Python 3.10.0 ('uxarray_build')",
   "language": "python",
   "name": "python3"
  },
  "language_info": {
   "codemirror_mode": {
    "name": "ipython",
    "version": 3
   },
   "file_extension": ".py",
   "mimetype": "text/x-python",
   "name": "python",
   "nbconvert_exporter": "python",
   "pygments_lexer": "ipython3",
   "version": "3.10.4"
  },
  "orig_nbformat": 4
 },
 "nbformat": 4,
 "nbformat_minor": 2
}
