{
 "cells": [
  {
   "cell_type": "markdown",
   "metadata": {},
   "source": [
    "# Testing all the things for the first Uxarray release\n",
    "This uses a release published to my own conda channel."
   ]
  },
  {
   "cell_type": "code",
   "execution_count": 1,
   "metadata": {},
   "outputs": [],
   "source": [
    "import uxarray as ux\n",
    "import xarray as xr\n",
    "import numpy as np"
   ]
  },
  {
   "cell_type": "code",
   "execution_count": 2,
   "metadata": {
    "vscode": {
     "languageId": "shellscript"
    }
   },
   "outputs": [
    {
     "name": "stdout",
     "output_type": "stream",
     "text": [
      "# packages in environment at /Users/anissaz/opt/anaconda3/envs/uxarray-release-testing:\n",
      "#\n",
      "# Name                    Version                   Build  Channel\n",
      "anyio                     3.6.1           py310h2ec42d9_0    conda-forge\n",
      "appdirs                   1.4.4              pyh9f0ad1d_0    conda-forge\n",
      "appnope                   0.1.3              pyhd8ed1ab_0    conda-forge\n",
      "argon2-cffi               21.3.0             pyhd8ed1ab_0    conda-forge\n",
      "argon2-cffi-bindings      21.2.0          py310h1961e1f_2    conda-forge\n",
      "asciitree                 0.3.3                      py_2    conda-forge\n",
      "asttokens                 2.0.5              pyhd8ed1ab_0    conda-forge\n",
      "attrs                     21.4.0             pyhd8ed1ab_0    conda-forge\n",
      "babel                     2.10.1             pyhd8ed1ab_0    conda-forge\n",
      "backcall                  0.2.0              pyh9f0ad1d_0    conda-forge\n",
      "backports                 1.0                        py_2    conda-forge\n",
      "backports.functools_lru_cache 1.6.4              pyhd8ed1ab_0    conda-forge\n",
      "beautifulsoup4            4.11.1             pyha770c72_0    conda-forge\n",
      "bleach                    5.0.0              pyhd8ed1ab_0    conda-forge\n",
      "bokeh                     2.4.3           py310h2ec42d9_0    conda-forge\n",
      "brotli                    1.0.9                h5eb16cf_7    conda-forge\n",
      "brotli-bin                1.0.9                h5eb16cf_7    conda-forge\n",
      "brotlipy                  0.7.0           py310h1961e1f_1004    conda-forge\n",
      "bzip2                     1.0.8                h0d85af4_4    conda-forge\n",
      "c-ares                    1.18.1               h0d85af4_0    conda-forge\n",
      "ca-certificates           2022.5.18.1          h033912b_0    conda-forge\n",
      "cached-property           1.5.2                hd8ed1ab_1    conda-forge\n",
      "cached_property           1.5.2              pyha770c72_1    conda-forge\n",
      "cartopy                   0.20.2          py310he18ef84_4    conda-forge\n",
      "certifi                   2022.5.18.1     py310hecd8cb5_0  \n",
      "cf_xarray                 0.7.2              pyhd8ed1ab_0    conda-forge\n",
      "cffi                      1.15.0          py310hcc37b68_0    conda-forge\n",
      "cftime                    1.6.0           py310h7f5fb2b_1    conda-forge\n",
      "charset-normalizer        2.0.12             pyhd8ed1ab_0    conda-forge\n",
      "click                     8.1.3           py310h2ec42d9_0    conda-forge\n",
      "cloudpickle               2.1.0              pyhd8ed1ab_0    conda-forge\n",
      "cryptography              37.0.1          py310hf6deb26_0  \n",
      "curl                      7.83.1               h23f1065_0    conda-forge\n",
      "cycler                    0.11.0             pyhd8ed1ab_0    conda-forge\n",
      "cytoolz                   0.11.2          py310h1961e1f_2    conda-forge\n",
      "dask                      2022.5.2           pyhd8ed1ab_0    conda-forge\n",
      "dask-core                 2022.5.2           pyhd8ed1ab_0    conda-forge\n",
      "dask-jobqueue             0.7.3              pyhd8ed1ab_0    conda-forge\n",
      "debugpy                   1.6.0           py310h9d931ec_0    conda-forge\n",
      "decorator                 5.1.1              pyhd8ed1ab_0    conda-forge\n",
      "defusedxml                0.7.1              pyhd8ed1ab_0    conda-forge\n",
      "distributed               2022.5.2           pyhd8ed1ab_0    conda-forge\n",
      "entrypoints               0.4                pyhd8ed1ab_0    conda-forge\n",
      "eofs                      1.4.0                      py_0    conda-forge\n",
      "executing                 0.8.3              pyhd8ed1ab_0    conda-forge\n",
      "fasteners                 0.17.3             pyhd8ed1ab_0    conda-forge\n",
      "fastprogress              1.0.2              pyhd8ed1ab_0    conda-forge\n",
      "flit-core                 3.7.1              pyhd8ed1ab_0    conda-forge\n",
      "fonttools                 4.33.3          py310h6c45266_0    conda-forge\n",
      "freetype                  2.10.4               h4cff582_1    conda-forge\n",
      "fsspec                    2022.5.0           pyhd8ed1ab_0    conda-forge\n",
      "geocat-comp               2022.04.0          pyha770c72_0    conda-forge\n",
      "geocat-f2py               2022.04.0       py310h89d7329_0    conda-forge\n",
      "geos                      3.10.2               he49afe7_0    conda-forge\n",
      "giflib                    5.2.1                hbcb3906_2    conda-forge\n",
      "h5netcdf                  1.0.0              pyhd8ed1ab_0    conda-forge\n",
      "h5py                      3.6.0           nompi_py310h47026f8_100    conda-forge\n",
      "hdf4                      4.2.15               hefd3b78_3    conda-forge\n",
      "hdf5                      1.12.1          nompi_h0aa1fa2_104    conda-forge\n",
      "heapdict                  1.0.1                      py_0    conda-forge\n",
      "idna                      3.3                pyhd8ed1ab_0    conda-forge\n",
      "importlib-metadata        4.11.4          py310h2ec42d9_0    conda-forge\n",
      "importlib_metadata        4.11.4               hd8ed1ab_0    conda-forge\n",
      "importlib_resources       5.7.1              pyhd8ed1ab_1    conda-forge\n",
      "intake                    0.6.5              pyhd8ed1ab_0    conda-forge\n",
      "intake-esm                2021.8.17          pyhd8ed1ab_0    conda-forge\n",
      "ipykernel                 6.13.0          py310ha188af9_0    conda-forge\n",
      "ipython                   8.4.0           py310h2ec42d9_0    conda-forge\n",
      "ipython_genutils          0.2.0                      py_1    conda-forge\n",
      "ipywidgets                7.7.0              pyhd8ed1ab_0    conda-forge\n",
      "jedi                      0.18.1          py310h2ec42d9_1    conda-forge\n",
      "jinja2                    3.1.2              pyhd8ed1ab_0    conda-forge\n",
      "jpeg                      9e                   h5eb16cf_1    conda-forge\n",
      "json5                     0.9.5              pyh9f0ad1d_0    conda-forge\n",
      "jsonschema                4.5.1              pyhd8ed1ab_0    conda-forge\n",
      "jupyter_client            7.3.1              pyhd8ed1ab_0    conda-forge\n",
      "jupyter_core              4.10.0          py310h2ec42d9_0    conda-forge\n",
      "jupyter_server            1.17.0             pyhd8ed1ab_0    conda-forge\n",
      "jupyterlab                3.4.2              pyhd8ed1ab_0    conda-forge\n",
      "jupyterlab_pygments       0.2.2              pyhd8ed1ab_0    conda-forge\n",
      "jupyterlab_server         2.14.0             pyhd8ed1ab_0    conda-forge\n",
      "jupyterlab_widgets        1.1.0              pyhd8ed1ab_0    conda-forge\n",
      "kiwisolver                1.4.2           py310h6be76da_1    conda-forge\n",
      "krb5                      1.19.3               hb98e516_0    conda-forge\n",
      "lcms2                     2.12                 h577c468_0    conda-forge\n",
      "lerc                      3.0                  he49afe7_0    conda-forge\n",
      "libblas                   3.9.0           14_osx64_openblas    conda-forge\n",
      "libbrotlicommon           1.0.9                h5eb16cf_7    conda-forge\n",
      "libbrotlidec              1.0.9                h5eb16cf_7    conda-forge\n",
      "libbrotlienc              1.0.9                h5eb16cf_7    conda-forge\n",
      "libcblas                  3.9.0           14_osx64_openblas    conda-forge\n",
      "libcurl                   7.83.1               h23f1065_0    conda-forge\n",
      "libcxx                    14.0.4               hc203e6f_0    conda-forge\n",
      "libdeflate                1.10                 h0d85af4_0    conda-forge\n",
      "libedit                   3.1.20191231         h0678c8f_2    conda-forge\n",
      "libev                     4.33                 haf1e3a3_1    conda-forge\n",
      "libffi                    3.4.2                h0d85af4_5    conda-forge\n",
      "libgfortran               5.0.0           9_3_0_h6c81a4c_23    conda-forge\n",
      "libgfortran5              9.3.0               h6c81a4c_23    conda-forge\n",
      "liblapack                 3.9.0           14_osx64_openblas    conda-forge\n",
      "libnetcdf                 4.8.1           nompi_h6609ca0_102    conda-forge\n",
      "libnghttp2                1.47.0               hca56917_0    conda-forge\n",
      "libopenblas               0.3.20          openmp_hb3cd9ec_0    conda-forge\n",
      "libpng                    1.6.37               h7cec526_2    conda-forge\n",
      "libsodium                 1.0.18               hbcb3906_1    conda-forge\n",
      "libssh2                   1.10.0               hd3787cc_2    conda-forge\n",
      "libtiff                   4.4.0                hfca7e8f_0    conda-forge\n",
      "libwebp                   1.2.2                h28dabe5_0    conda-forge\n",
      "libwebp-base              1.2.2                h0d85af4_1    conda-forge\n",
      "libxcb                    1.13              h0d85af4_1004    conda-forge\n",
      "libzip                    1.8.0                h7e5727d_1    conda-forge\n",
      "libzlib                   1.2.12               h6c3fc93_0    conda-forge\n",
      "line_profiler             3.4.0           py310h6be76da_1    conda-forge\n",
      "llvm-openmp               14.0.4               ha654fa7_0    conda-forge\n",
      "locket                    1.0.0              pyhd8ed1ab_0    conda-forge\n",
      "lz4                       4.0.0           py310h2e8d50f_2    conda-forge\n",
      "lz4-c                     1.9.3                he49afe7_1    conda-forge\n",
      "markupsafe                2.1.1           py310h1961e1f_1    conda-forge\n",
      "matplotlib                3.5.2           py310h2ec42d9_0    conda-forge\n",
      "matplotlib-base           3.5.2           py310h4510841_0    conda-forge\n",
      "matplotlib-inline         0.1.3              pyhd8ed1ab_0    conda-forge\n",
      "memory_profiler           0.60.0             pyhd8ed1ab_0    conda-forge\n",
      "metpy                     1.3.0              pyhd8ed1ab_0    conda-forge\n",
      "mistune                   0.8.4           py310he24745e_1005    conda-forge\n",
      "msgpack-python            1.0.3           py310h6be76da_1    conda-forge\n",
      "munkres                   1.1.4              pyh9f0ad1d_0    conda-forge\n",
      "nbclassic                 0.3.7              pyhd8ed1ab_0    conda-forge\n",
      "nbclient                  0.6.4              pyhd8ed1ab_1    conda-forge\n",
      "nbconvert                 6.5.0              pyhd8ed1ab_0    conda-forge\n",
      "nbconvert-core            6.5.0              pyhd8ed1ab_0    conda-forge\n",
      "nbconvert-pandoc          6.5.0              pyhd8ed1ab_0    conda-forge\n",
      "nbformat                  5.4.0              pyhd8ed1ab_0    conda-forge\n",
      "ncar-jobqueue             2021.4.14          pyh44b312d_0    conda-forge\n",
      "ncurses                   6.3                  h96cf925_1    conda-forge\n",
      "nest-asyncio              1.5.5              pyhd8ed1ab_0    conda-forge\n",
      "netcdf4                   1.5.8           nompi_py310h1579a17_101    conda-forge\n",
      "notebook                  6.4.11             pyha770c72_0    conda-forge\n",
      "notebook-shim             0.1.0              pyhd8ed1ab_0    conda-forge\n",
      "numcodecs                 0.9.1           py310hd4537e4_3    conda-forge\n",
      "numpy                     1.22.4          py310hed37afb_0    conda-forge\n",
      "openjpeg                  2.4.0                h6e7aa92_1    conda-forge\n",
      "openssl                   3.0.3                hfe4f2af_0    conda-forge\n",
      "packaging                 21.3               pyhd8ed1ab_0    conda-forge\n",
      "pandas                    1.4.2           py310h3099161_2    conda-forge\n",
      "pandoc                    2.18                 h694c41f_0    conda-forge\n",
      "pandocfilters             1.5.0              pyhd8ed1ab_0    conda-forge\n",
      "parso                     0.8.3              pyhd8ed1ab_0    conda-forge\n",
      "partd                     1.2.0              pyhd8ed1ab_0    conda-forge\n",
      "pexpect                   4.8.0              pyh9f0ad1d_2    conda-forge\n",
      "pickleshare               0.7.5                   py_1003    conda-forge\n",
      "pillow                    9.1.1           py310hb3240ae_1    conda-forge\n",
      "pint                      0.19.2             pyhd8ed1ab_0    conda-forge\n",
      "pip                       22.1.2             pyhd8ed1ab_0    conda-forge\n",
      "pooch                     1.6.0              pyhd8ed1ab_0    conda-forge\n",
      "proj                      9.0.0                h2364a93_1    conda-forge\n",
      "prometheus_client         0.14.1             pyhd8ed1ab_0    conda-forge\n",
      "prompt-toolkit            3.0.29             pyha770c72_0    conda-forge\n",
      "psutil                    5.9.1           py310h6c45266_0    conda-forge\n",
      "pthread-stubs             0.4               hc929b4f_1001    conda-forge\n",
      "ptyprocess                0.7.0              pyhd3deb0d_0    conda-forge\n",
      "pure_eval                 0.2.2              pyhd8ed1ab_0    conda-forge\n",
      "pycparser                 2.21               pyhd8ed1ab_0    conda-forge\n",
      "pygments                  2.12.0             pyhd8ed1ab_0    conda-forge\n",
      "pyopenssl                 22.0.0             pyhd8ed1ab_0    conda-forge\n",
      "pyparsing                 3.0.9              pyhd8ed1ab_0    conda-forge\n",
      "pyproj                    3.3.1           py310h6c09501_0    conda-forge\n",
      "pyrsistent                0.18.1          py310h1961e1f_1    conda-forge\n",
      "pyshp                     2.3.0              pyhd8ed1ab_0    conda-forge\n",
      "pysocks                   1.7.1           py310h2ec42d9_5    conda-forge\n",
      "python                    3.10.4          h1cc4136_0_cpython    conda-forge\n",
      "python-dateutil           2.8.2              pyhd8ed1ab_0    conda-forge\n",
      "python-fastjsonschema     2.15.3             pyhd8ed1ab_0    conda-forge\n",
      "python_abi                3.10                    2_cp310    conda-forge\n",
      "pytz                      2022.1             pyhd8ed1ab_0    conda-forge\n",
      "pyyaml                    6.0             py310h1961e1f_4    conda-forge\n",
      "pyzmq                     23.0.0          py310h85fb675_0    conda-forge\n",
      "readline                  8.1                  h05e3726_0    conda-forge\n",
      "requests                  2.27.1             pyhd8ed1ab_0    conda-forge\n",
      "scipy                     1.8.1           py310h1f9c157_0    conda-forge\n",
      "send2trash                1.8.0              pyhd8ed1ab_0    conda-forge\n",
      "setuptools                62.3.2          py310h2ec42d9_0    conda-forge\n",
      "shapely                   1.8.2           py310h6d09efd_1    conda-forge\n",
      "six                       1.16.0             pyh6c4a22f_0    conda-forge\n",
      "sniffio                   1.2.0           py310h2ec42d9_3    conda-forge\n",
      "sortedcontainers          2.4.0              pyhd8ed1ab_0    conda-forge\n",
      "soupsieve                 2.3.1              pyhd8ed1ab_0    conda-forge\n",
      "sqlite                    3.38.5               hd9f0692_0    conda-forge\n",
      "stack_data                0.2.0              pyhd8ed1ab_0    conda-forge\n",
      "tblib                     1.7.0              pyhd8ed1ab_0    conda-forge\n",
      "terminado                 0.15.0          py310h2ec42d9_0    conda-forge\n",
      "tinycss2                  1.1.1              pyhd8ed1ab_0    conda-forge\n",
      "tk                        8.6.12               h5dbffcc_0    conda-forge\n",
      "toolz                     0.11.2             pyhd8ed1ab_0    conda-forge\n",
      "tornado                   6.1             py310h1961e1f_3    conda-forge\n",
      "traitlets                 5.2.2.post1        pyhd8ed1ab_0    conda-forge\n",
      "typing_extensions         4.2.0              pyha770c72_1    conda-forge\n",
      "tzdata                    2022a                h191b570_0    conda-forge\n",
      "unicodedata2              14.0.0          py310h1961e1f_1    conda-forge\n",
      "urllib3                   1.26.9             pyhd8ed1ab_0    conda-forge\n",
      "uxarray                   06.07.2022.b               py_0    anissa111\n",
      "wcwidth                   0.2.5              pyh9f0ad1d_2    conda-forge\n",
      "webencodings              0.5.1                      py_1    conda-forge\n",
      "websocket-client          1.3.2              pyhd8ed1ab_0    conda-forge\n",
      "wheel                     0.37.1             pyhd8ed1ab_0    conda-forge\n",
      "widgetsnbextension        3.6.0           py310h2ec42d9_0    conda-forge\n",
      "xarray                    2022.3.0           pyhd8ed1ab_0    conda-forge\n",
      "xorg-libxau               1.0.9                h35c211d_0    conda-forge\n",
      "xorg-libxdmcp             1.1.3                h35c211d_0    conda-forge\n",
      "xz                        5.2.5                haf1e3a3_1    conda-forge\n",
      "yaml                      0.2.5                h0d85af4_2    conda-forge\n",
      "zarr                      2.11.3             pyhd8ed1ab_0    conda-forge\n",
      "zeromq                    4.3.4                he49afe7_1    conda-forge\n",
      "zict                      2.2.0              pyhd8ed1ab_0    conda-forge\n",
      "zipp                      3.8.0              pyhd8ed1ab_0    conda-forge\n",
      "zlib                      1.2.12               h6c3fc93_0    conda-forge\n",
      "zstd                      1.5.2                ha9df2e0_1    conda-forge\n",
      "\n",
      "Note: you may need to restart the kernel to use updated packages.\n"
     ]
    }
   ],
   "source": [
    "conda list"
   ]
  },
  {
   "cell_type": "markdown",
   "metadata": {},
   "source": [
    "## Issue [#27](https://github.com/UXARRAY/uxarray/issues/27): Unable to open UGRID file"
   ]
  },
  {
   "cell_type": "code",
   "execution_count": 3,
   "metadata": {},
   "outputs": [],
   "source": [
    "# Read in the file attached to the issue\n",
    "uds = ux.Grid('./data/grid.nc')"
   ]
  },
  {
   "cell_type": "markdown",
   "metadata": {},
   "source": [
    "Resolved."
   ]
  },
  {
   "cell_type": "markdown",
   "metadata": {},
   "source": [
    "## Issue [#28](https://github.com/UXARRAY/uxarray/issues/28): Should UGRID Should UGRID coordinate variables appear as xarray.coords?"
   ]
  },
  {
   "cell_type": "code",
   "execution_count": 9,
   "metadata": {},
   "outputs": [
    {
     "name": "stdout",
     "output_type": "stream",
     "text": [
      "Loading initial grid from file:  ./data//ov_RLL10deg_CSne4.ug\n",
      "<xarray.Dataset>\n",
      "Dimensions:           (nMesh2_face: 856, nMaxMesh2_face_nodes: 5,\n",
      "                       nMesh2_node: 683)\n",
      "Coordinates:\n",
      "    Mesh2_node_x      (nMesh2_node) float64 ...\n",
      "    Mesh2_node_y      (nMesh2_node) float64 ...\n",
      "Dimensions without coordinates: nMesh2_face, nMaxMesh2_face_nodes, nMesh2_node\n",
      "Data variables:\n",
      "    Mesh2             int32 ...\n",
      "    Mesh2_face_nodes  (nMesh2_face, nMaxMesh2_face_nodes) int32 ...\n"
     ]
    }
   ],
   "source": [
    "uds3 = ux.open_dataset('./data//ov_RLL10deg_CSne4.ug')\n",
    "print(uds3.ds)"
   ]
  },
  {
   "cell_type": "markdown",
   "metadata": {},
   "source": [
    "Should we specify a `__print__` method that automatically prints `Grid.ds`?"
   ]
  },
  {
   "cell_type": "markdown",
   "metadata": {},
   "source": [
    "## Issue [#35](https://github.com/UXARRAY/uxarray/issues/35): Minimal Create From Vertex"
   ]
  },
  {
   "cell_type": "code",
   "execution_count": 10,
   "metadata": {},
   "outputs": [],
   "source": [
    "# initialize with one point\n",
    "point = np.array([[0, 0]])\n",
    "ux_line = ux.Grid(point)"
   ]
  },
  {
   "cell_type": "code",
   "execution_count": 11,
   "metadata": {},
   "outputs": [],
   "source": [
    "# initialize with two points\n",
    "line = np.array([[0, 0], [1, 1]])\n",
    "ux_line = ux.Grid(line)"
   ]
  },
  {
   "cell_type": "markdown",
   "metadata": {},
   "source": [
    "The first one no longer returns an error, even though arguable maybe both should, not an actual bug, though."
   ]
  },
  {
   "cell_type": "markdown",
   "metadata": {},
   "source": []
  }
 ],
 "metadata": {
  "interpreter": {
   "hash": "6a7ad318444666a04aed44e3b27cca762e72011c463a3f022ca89527dd31506f"
  },
  "kernelspec": {
   "display_name": "Python 3.10.4 ('uxarray-release-testing')",
   "language": "python",
   "name": "python3"
  },
  "language_info": {
   "codemirror_mode": {
    "name": "ipython",
    "version": 3
   },
   "file_extension": ".py",
   "mimetype": "text/x-python",
   "name": "python",
   "nbconvert_exporter": "python",
   "pygments_lexer": "ipython3",
   "version": "3.10.4"
  },
  "orig_nbformat": 4
 },
 "nbformat": 4,
 "nbformat_minor": 2
}
