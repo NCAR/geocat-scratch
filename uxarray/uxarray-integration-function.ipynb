{
 "cells": [
  {
   "cell_type": "markdown",
   "id": "6d1f7b61-daca-415f-9fe1-ca4b01490065",
   "metadata": {},
   "source": [
    "# Integration Function Testing"
   ]
  },
  {
   "cell_type": "code",
   "execution_count": 1,
   "id": "fb51b2ec-69fe-4990-808c-9c9ab4c885ce",
   "metadata": {},
   "outputs": [],
   "source": [
    "# import uxarray for I/O purposes\n",
    "import uxarray as ux\n",
    "import numpy as np"
   ]
  },
  {
   "cell_type": "code",
   "execution_count": 2,
   "id": "2a8e45e1-b0e5-4a89-8633-22c21185b50c",
   "metadata": {},
   "outputs": [
    {
     "name": "stdout",
     "output_type": "stream",
     "text": [
      "Loading initial grid from file:  ./data/outCSne30.ug\n"
     ]
    }
   ],
   "source": [
    "# Import data for integration\n",
    "uds = ux.open_dataset(\"./data/outCSne30.ug\", \"./data/outCSne30_vortex.nc\", \"./data/outCSne30_var2.ug\")"
   ]
  },
  {
   "cell_type": "code",
   "execution_count": 3,
   "id": "75e9c0eb-d4c7-4c0a-bc72-ba0bfcafb0b7",
   "metadata": {},
   "outputs": [
    {
     "data": {
      "text/plain": [
       "<uxarray.grid.Grid at 0x2ad6ee7f6590>"
      ]
     },
     "execution_count": 3,
     "metadata": {},
     "output_type": "execute_result"
    }
   ],
   "source": [
    "uds"
   ]
  },
  {
   "cell_type": "markdown",
   "id": "66488b5e-687a-4e8e-8d84-1d4a6d0a6d11",
   "metadata": {},
   "source": [
    "## Using Original Integrate Function"
   ]
  },
  {
   "cell_type": "code",
   "execution_count": 9,
   "id": "1f0e880d-54ee-4c3d-badd-83eaad2e0ce3",
   "metadata": {
    "tags": []
   },
   "outputs": [
    {
     "name": "stdout",
     "output_type": "stream",
     "text": [
      " "
     ]
    },
    {
     "data": {
      "text/plain": [
       "         47088059 function calls (45441054 primitive calls) in 40.620 seconds\n",
       "\n",
       "   Ordered by: internal time\n",
       "   List reduced from 393 to 15 due to restriction <15>\n",
       "\n",
       "   ncalls  tottime  percall  cumtime  percall filename:lineno(function)\n",
       "   388800    9.030    0.000   28.104    0.000 helpers.py:169(calculate_spherical_triangle_jacobian)\n",
       "   388800    5.684    0.000   17.330    0.000 numeric.py:1479(cross)\n",
       "  1166400    3.167    0.000    9.377    0.000 numeric.py:1404(moveaxis)\n",
       "  2332800    3.052    0.000    4.798    0.000 numeric.py:1341(normalize_axis_tuple)\n",
       "    26901    1.736    0.000    1.736    0.000 {method 'acquire' of '_thread.lock' objects}\n",
       "  2376000    1.270    0.000    1.270    0.000 {built-in method numpy.array}\n",
       "1620000/421200    1.033    0.000   17.979    0.000 {built-in method numpy.core._multiarray_umath.implement_array_function}\n",
       "     5400    0.732    0.000   29.696    0.005 helpers.py:123(calculate_face_area)\n",
       "  2332800    0.718    0.000    1.090    0.000 numeric.py:1391(<listcomp>)\n",
       "    97202    0.706    0.000    1.326    0.000 dataset.py:1389(_construct_dataarray)\n",
       "7921773/7910973    0.681    0.000    0.695    0.000 {built-in method builtins.len}\n",
       "  1166400    0.674    0.000   10.840    0.000 <__array_function__ internals>:177(moveaxis)\n",
       "  3499200    0.576    0.000    0.576    0.000 {built-in method numpy.core._multiarray_umath.normalize_axis_index}\n",
       "  1166400    0.456    0.000    0.456    0.000 {method 'transpose' of 'numpy.ndarray' objects}\n",
       "     5400    0.450    0.000    0.450    0.000 {method 'put' of '_queue.SimpleQueue' objects}"
      ]
     },
     "metadata": {},
     "output_type": "display_data"
    }
   ],
   "source": [
    "%prun -l 15 uds.integrate_0(\"psi\")"
   ]
  },
  {
   "cell_type": "markdown",
   "id": "b5030da1-28f9-4313-84a5-8b832a018da8",
   "metadata": {},
   "source": [
    "## First pass at top level for loop"
   ]
  },
  {
   "cell_type": "code",
   "execution_count": 11,
   "id": "002592c5-ce01-4ce2-996b-1da6e355b5f4",
   "metadata": {
    "tags": []
   },
   "outputs": [
    {
     "name": "stdout",
     "output_type": "stream",
     "text": [
      " "
     ]
    },
    {
     "data": {
      "text/plain": [
       "         47023343 function calls (45376335 primitive calls) in 41.344 seconds\n",
       "\n",
       "   Ordered by: internal time\n",
       "   List reduced from 394 to 15 due to restriction <15>\n",
       "\n",
       "   ncalls  tottime  percall  cumtime  percall filename:lineno(function)\n",
       "   388800    9.095    0.000   28.385    0.000 helpers.py:169(calculate_spherical_triangle_jacobian)\n",
       "   388800    5.686    0.000   17.528    0.000 numeric.py:1479(cross)\n",
       "  1166400    3.216    0.000    9.528    0.000 numeric.py:1404(moveaxis)\n",
       "  2332800    3.121    0.000    4.868    0.000 numeric.py:1341(normalize_axis_tuple)\n",
       "    26865    1.803    0.000    1.803    0.000 {method 'acquire' of '_thread.lock' objects}\n",
       "  2376000    1.275    0.000    1.275    0.000 {built-in method numpy.array}\n",
       "1620000/421200    1.060    0.000   18.185    0.000 {built-in method numpy.core._multiarray_umath.implement_array_function}\n",
       "     5400    0.758    0.000   30.013    0.006 helpers.py:123(calculate_face_area)\n",
       "  2332800    0.723    0.000    1.090    0.000 numeric.py:1391(<listcomp>)\n",
       "    97205    0.716    0.000    1.343    0.000 dataset.py:1389(_construct_dataarray)\n",
       "  1166400    0.690    0.000   11.026    0.000 <__array_function__ internals>:177(moveaxis)\n",
       "7921761/7910961    0.685    0.000    0.699    0.000 {built-in method builtins.len}\n",
       "     5400    0.619    0.000    0.619    0.000 {method 'put' of '_queue.SimpleQueue' objects}\n",
       "  3499200    0.574    0.000    0.574    0.000 {built-in method numpy.core._multiarray_umath.normalize_axis_index}\n",
       "  1166400    0.472    0.000    0.472    0.000 {method 'transpose' of 'numpy.ndarray' objects}"
      ]
     },
     "metadata": {},
     "output_type": "display_data"
    }
   ],
   "source": [
    "%prun -l 15 uds.integrate_1(\"psi\")"
   ]
  },
  {
   "cell_type": "code",
   "execution_count": null,
   "id": "575af69e-d67e-47b5-bb04-ce3872e403b1",
   "metadata": {},
   "outputs": [],
   "source": []
  }
 ],
 "metadata": {
  "kernelspec": {
   "display_name": "Python [conda env:miniconda3-uxarray-pip]",
   "language": "python",
   "name": "conda-env-miniconda3-uxarray-pip-py"
  },
  "language_info": {
   "codemirror_mode": {
    "name": "ipython",
    "version": 3
   },
   "file_extension": ".py",
   "mimetype": "text/x-python",
   "name": "python",
   "nbconvert_exporter": "python",
   "pygments_lexer": "ipython3",
   "version": "3.10.5"
  }
 },
 "nbformat": 4,
 "nbformat_minor": 5
}
