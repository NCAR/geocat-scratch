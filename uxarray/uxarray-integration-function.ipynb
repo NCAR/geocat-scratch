{
 "cells": [
  {
   "cell_type": "markdown",
   "id": "6d1f7b61-daca-415f-9fe1-ca4b01490065",
   "metadata": {},
   "source": [
    "# Integration Function Testing"
   ]
  },
  {
   "cell_type": "code",
   "execution_count": null,
   "id": "fb51b2ec-69fe-4990-808c-9c9ab4c885ce",
   "metadata": {},
   "outputs": [],
   "source": []
  }
 ],
 "metadata": {
  "kernelspec": {
   "display_name": "Python 3 (ipykernel)",
   "language": "python",
   "name": "python3"
  },
  "language_info": {
   "codemirror_mode": {
    "name": "ipython",
    "version": 3
   },
   "file_extension": ".py",
   "mimetype": "text/x-python",
   "name": "python",
   "nbconvert_exporter": "python",
   "pygments_lexer": "ipython3",
   "version": "3.10.4"
  }
 },
 "nbformat": 4,
 "nbformat_minor": 5
}
