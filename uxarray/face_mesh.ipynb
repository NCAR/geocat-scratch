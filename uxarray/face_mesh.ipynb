{
 "cells": [
  {
   "cell_type": "markdown",
   "id": "6b100992-10a2-4e1f-9e4c-a8dee96f4443",
   "metadata": {},
   "source": [
    "# Unique Faces Comparison Methods\n",
    "\n",
    "This compares two different methods for finding unique latitude, longitude pairs and assigning them identifiers"
   ]
  },
  {
   "cell_type": "code",
   "execution_count": 1,
   "id": "576a2034-20c9-4e3e-a998-724322debf4a",
   "metadata": {},
   "outputs": [],
   "source": [
    "import xarray as xr\n",
    "import numpy as np"
   ]
  },
  {
   "cell_type": "code",
   "execution_count": 2,
   "id": "d5006fda-ec6d-4416-858f-4a1eecde321d",
   "metadata": {},
   "outputs": [],
   "source": [
    "def nodes_anissa(corner_lat, corner_lon):\n",
    "\n",
    "    # Calculate unique\n",
    "    unique = list(set([(y, x) for x, y in zip(corner_lat, corner_lon)]))\n",
    "    unique.sort()\n",
    "    unique_lon = [x[1] for x in unique]\n",
    "    unique_lat = [x[0] for x in unique]\n",
    "\n",
    "    nodes = np.reshape([unique.index((y, x)) for x, y in zip(corner_lat, corner_lon)], corner_lon_xr.shape)\n",
    "    # nodes = np.reshape([unique.index((y, x)) for x, y in zip(corner_lat, corner_lon)], (3, 4))\n",
    "    \n",
    "    return nodes"
   ]
  },
  {
   "cell_type": "code",
   "execution_count": 3,
   "id": "46183964-c02c-4d16-b283-7322ce7fd657",
   "metadata": {},
   "outputs": [],
   "source": [
    "def nodes_orhan(corner_lat, corner_lon):\n",
    "\n",
    "    corner_lon_lat = np.vstack((corner_lon, corner_lat)).T\n",
    "\n",
    "    _, unq_ind, unq_inv = np.unique(corner_lon_lat, return_index=True, return_inverse=True, axis=0)\n",
    "\n",
    "    # Now, calculate unique lon and lat values to account for 'Mesh2_node_x' and 'Mesh2_node_y'\n",
    "    unq_lon_lat = corner_lon_lat[unq_ind,:]\n",
    "    unq_lon = unq_lon_lat[:,0]   # out_ds['Mesh2_node_x']\n",
    "    unq_lat = unq_lon_lat[:,1]   # out_ds['Mesh2_node_y']\n",
    "\n",
    "    num_faces = int(len(unq_inv)/4)\n",
    "    nodes = np.reshape(unq_inv, (num_faces,4))  # out_ds['Mesh2_face_nodes']\n",
    "    \n",
    "    return nodes\n",
    "    "
   ]
  },
  {
   "cell_type": "code",
   "execution_count": 4,
   "id": "e9861ca8-2711-416a-93c7-d892f475f7a9",
   "metadata": {},
   "outputs": [],
   "source": [
    "# Get data\n",
    "ne8 = './data/outCSne8.nc'\n",
    "ds_ne8 = xr.open_dataset(ne8, decode_times=False, engine='netcdf4')  # grid_corner_lat/lon\n",
    "\n",
    "# Pull out what we need\n",
    "# Create Mesh2_node_x/y variables from grid_corner_lat/lon\n",
    "# Turn latitude scrip array into 1D instead of 2D\n",
    "corner_lat_xr = ds_ne8['grid_corner_lat']\n",
    "corner_lat = corner_lat_xr.values.ravel()\n",
    "\n",
    "# Repeat above steps with longitude data instead\n",
    "corner_lon_xr = ds_ne8['grid_corner_lon']\n",
    "corner_lon = corner_lon_xr.values.ravel()\n",
    "\n",
    "# corner_lon = xr.DataArray([[2, 4, 6, 4], [2, 8, 6, 4], [0, 4, 6, 8]]).values.ravel()\n",
    "# corner_lat = xr.DataArray([[0, 1, 2, 0], [0, 3, 4, 2], [0, 1, 2, 3]]).values.ravel()"
   ]
  },
  {
   "cell_type": "code",
   "execution_count": 5,
   "id": "13b0c420-9c1d-450a-9a5a-3398bb82782d",
   "metadata": {},
   "outputs": [],
   "source": [
    "# Load line and memory profilers\n",
    "%load_ext line_profiler\n",
    "%load_ext memory_profiler"
   ]
  },
  {
   "cell_type": "code",
   "execution_count": 6,
   "id": "4f3d0764-7c94-4ee0-9e61-6dda6c5aea10",
   "metadata": {},
   "outputs": [
    {
     "name": "stdout",
     "output_type": "stream",
     "text": [
      "9.17 ms ± 245 µs per loop (mean ± std. dev. of 20 runs, 100 loops each)\n",
      "667 µs ± 24.2 µs per loop (mean ± std. dev. of 20 runs, 100 loops each)\n"
     ]
    }
   ],
   "source": [
    "# Time comparison\n",
    "%timeit -n 100 -r 20 nodes_anissa(corner_lat, corner_lon)\n",
    "%timeit -n 100 -r 20 nodes_orhan(corner_lat, corner_lon)"
   ]
  },
  {
   "cell_type": "code",
   "execution_count": 7,
   "id": "8b451ad4-e23d-4c6d-a971-38b28b85f04c",
   "metadata": {},
   "outputs": [
    {
     "name": "stdout",
     "output_type": "stream",
     "text": [
      " "
     ]
    },
    {
     "data": {
      "text/plain": [
       "         1560 function calls (1559 primitive calls) in 0.010 seconds\n",
       "\n",
       "   Ordered by: internal time\n",
       "\n",
       "   ncalls  tottime  percall  cumtime  percall filename:lineno(function)\n",
       "     1536    0.009    0.000    0.009    0.000 {method 'index' of 'list' objects}\n",
       "        1    0.001    0.001    0.009    0.009 1139872182.py:9(<listcomp>)\n",
       "        1    0.000    0.000    0.010    0.010 1139872182.py:1(nodes_anissa)\n",
       "        1    0.000    0.000    0.000    0.000 1139872182.py:4(<listcomp>)\n",
       "        1    0.000    0.000    0.000    0.000 {method 'sort' of 'list' objects}\n",
       "        1    0.000    0.000    0.000    0.000 {built-in method numpy.asarray}\n",
       "        1    0.000    0.000    0.000    0.000 1139872182.py:7(<listcomp>)\n",
       "        1    0.000    0.000    0.010    0.010 {built-in method builtins.exec}\n",
       "        1    0.000    0.000    0.000    0.000 1139872182.py:6(<listcomp>)\n",
       "        1    0.000    0.000    0.010    0.010 <string>:1(<module>)\n",
       "        1    0.000    0.000    0.000    0.000 fromnumeric.py:38(_wrapit)\n",
       "        1    0.000    0.000    0.000    0.000 <__array_function__ internals>:177(reshape)\n",
       "        1    0.000    0.000    0.000    0.000 fromnumeric.py:51(_wrapfunc)\n",
       "        1    0.000    0.000    0.000    0.000 {method 'reshape' of 'numpy.ndarray' objects}\n",
       "      2/1    0.000    0.000    0.000    0.000 utils.py:585(shape)\n",
       "        1    0.000    0.000    0.000    0.000 dataarray.py:596(shape)\n",
       "        1    0.000    0.000    0.000    0.000 {built-in method numpy.core._multiarray_umath.implement_array_function}\n",
       "        1    0.000    0.000    0.000    0.000 variable.py:317(shape)\n",
       "        1    0.000    0.000    0.000    0.000 fromnumeric.py:198(reshape)\n",
       "        2    0.000    0.000    0.000    0.000 {built-in method builtins.getattr}\n",
       "        1    0.000    0.000    0.000    0.000 dataarray.py:587(variable)\n",
       "        1    0.000    0.000    0.000    0.000 {method 'disable' of '_lsprof.Profiler' objects}\n",
       "        1    0.000    0.000    0.000    0.000 fromnumeric.py:193(_reshape_dispatcher)"
      ]
     },
     "metadata": {},
     "output_type": "display_data"
    }
   ],
   "source": [
    "%prun nodes_anissa(corner_lat, corner_lon)"
   ]
  },
  {
   "cell_type": "code",
   "execution_count": 8,
   "id": "b021898f-7032-435c-93a2-668498bbfabe",
   "metadata": {},
   "outputs": [
    {
     "name": "stdout",
     "output_type": "stream",
     "text": [
      " "
     ]
    },
    {
     "data": {
      "text/plain": [
       "         116 function calls (110 primitive calls) in 0.002 seconds\n",
       "\n",
       "   Ordered by: internal time\n",
       "\n",
       "   ncalls  tottime  percall  cumtime  percall filename:lineno(function)\n",
       "        1    0.001    0.001    0.001    0.001 arraysetops.py:320(_unique1d)\n",
       "        1    0.001    0.001    0.001    0.001 {method 'argsort' of 'numpy.ndarray' objects}\n",
       "        1    0.000    0.000    0.000    0.000 {built-in method numpy.ascontiguousarray}\n",
       "        1    0.000    0.000    0.002    0.002 1798482514.py:1(nodes_orhan)\n",
       "      9/3    0.000    0.000    0.002    0.001 {built-in method numpy.core._multiarray_umath.implement_array_function}\n",
       "        1    0.000    0.000    0.002    0.002 arraysetops.py:138(unique)\n",
       "        1    0.000    0.000    0.000    0.000 {method 'cumsum' of 'numpy.ndarray' objects}\n",
       "        1    0.000    0.000    0.002    0.002 {built-in method builtins.exec}\n",
       "        1    0.000    0.000    0.000    0.000 {method 'reduce' of 'numpy.ufunc' objects}\n",
       "        2    0.000    0.000    0.000    0.000 numeric.py:1404(moveaxis)\n",
       "        1    0.000    0.000    0.000    0.000 <__array_function__ internals>:177(prod)\n",
       "        4    0.000    0.000    0.000    0.000 numeric.py:1341(normalize_axis_tuple)\n",
       "        1    0.000    0.000    0.000    0.000 {method 'flatten' of 'numpy.ndarray' objects}\n",
       "        1    0.000    0.000    0.000    0.000 arraysetops.py:307(reshape_uniq)\n",
       "        1    0.000    0.000    0.000    0.000 <__array_function__ internals>:177(cumsum)\n",
       "        1    0.000    0.000    0.000    0.000 shape_base.py:81(atleast_2d)\n",
       "        2    0.000    0.000    0.000    0.000 {method 'view' of 'numpy.ndarray' objects}\n",
       "        1    0.000    0.000    0.000    0.000 fromnumeric.py:69(_wrapreduction)\n",
       "        2    0.000    0.000    0.000    0.000 {built-in method numpy.empty}\n",
       "        2    0.000    0.000    0.000    0.000 fromnumeric.py:51(_wrapfunc)\n",
       "        2    0.000    0.000    0.000    0.000 _internal.py:468(_view_is_safe)\n",
       "        3    0.000    0.000    0.000    0.000 {method 'reshape' of 'numpy.ndarray' objects}\n",
       "        1    0.000    0.000    0.002    0.002 <string>:1(<module>)\n",
       "        1    0.000    0.000    0.000    0.000 arraysetops.py:286(<listcomp>)\n",
       "        4    0.000    0.000    0.000    0.000 numeric.py:1391(<listcomp>)\n",
       "        1    0.000    0.000    0.000    0.000 shape_base.py:222(vstack)\n",
       "        2    0.000    0.000    0.000    0.000 {method 'format' of 'str' objects}\n",
       "        2    0.000    0.000    0.000    0.000 {built-in method builtins.sorted}\n",
       "        3    0.000    0.000    0.000    0.000 {built-in method builtins.getattr}\n",
       "        1    0.000    0.000    0.000    0.000 <__array_function__ internals>:177(vstack)\n",
       "       16    0.000    0.000    0.000    0.000 {built-in method builtins.len}\n",
       "        1    0.000    0.000    0.000    0.000 fromnumeric.py:2970(prod)\n",
       "        2    0.000    0.000    0.000    0.000 <__array_function__ internals>:177(moveaxis)\n",
       "        1    0.000    0.000    0.000    0.000 fromnumeric.py:2495(cumsum)\n",
       "        2    0.000    0.000    0.000    0.000 {method 'transpose' of 'numpy.ndarray' objects}\n",
       "        4    0.000    0.000    0.000    0.000 {built-in method numpy.core._multiarray_umath.normalize_axis_index}\n",
       "        1    0.000    0.000    0.000    0.000 shape_base.py:207(_arrays_for_stack_dispatcher)\n",
       "        1    0.000    0.000    0.002    0.002 <__array_function__ internals>:177(unique)\n",
       "        1    0.000    0.000    0.000    0.000 <__array_function__ internals>:177(reshape)\n",
       "        1    0.000    0.000    0.000    0.000 fromnumeric.py:198(reshape)\n",
       "        1    0.000    0.000    0.000    0.000 <__array_function__ internals>:177(concatenate)\n",
       "        2    0.000    0.000    0.000    0.000 numeric.py:1466(<listcomp>)\n",
       "        1    0.000    0.000    0.000    0.000 arraysetops.py:125(_unpack_tuple)\n",
       "        4    0.000    0.000    0.000    0.000 {built-in method numpy.asanyarray}\n",
       "        1    0.000    0.000    0.000    0.000 fromnumeric.py:70(<dictcomp>)\n",
       "        1    0.000    0.000    0.000    0.000 shape_base.py:218(_vhstack_dispatcher)\n",
       "        1    0.000    0.000    0.000    0.000 <__array_function__ internals>:177(atleast_2d)\n",
       "        4    0.000    0.000    0.000    0.000 {built-in method _operator.index}\n",
       "        1    0.000    0.000    0.000    0.000 fromnumeric.py:2491(_cumsum_dispatcher)\n",
       "        2    0.000    0.000    0.000    0.000 numeric.py:1400(_moveaxis_dispatcher)\n",
       "        1    0.000    0.000    0.000    0.000 multiarray.py:148(concatenate)\n",
       "        1    0.000    0.000    0.000    0.000 {built-in method builtins.hasattr}\n",
       "        2    0.000    0.000    0.000    0.000 {method 'insert' of 'list' objects}\n",
       "        1    0.000    0.000    0.000    0.000 fromnumeric.py:193(_reshape_dispatcher)\n",
       "        1    0.000    0.000    0.000    0.000 {method 'disable' of '_lsprof.Profiler' objects}\n",
       "        2    0.000    0.000    0.000    0.000 {method 'append' of 'list' objects}\n",
       "        1    0.000    0.000    0.000    0.000 arraysetops.py:133(_unique_dispatcher)\n",
       "        1    0.000    0.000    0.000    0.000 fromnumeric.py:2965(_prod_dispatcher)\n",
       "        1    0.000    0.000    0.000    0.000 shape_base.py:77(_atleast_2d_dispatcher)\n",
       "        1    0.000    0.000    0.000    0.000 {method 'items' of 'dict' objects}\n",
       "        1    0.000    0.000    0.000    0.000 {built-in method builtins.isinstance}"
      ]
     },
     "metadata": {},
     "output_type": "display_data"
    }
   ],
   "source": [
    "%prun nodes_orhan(corner_lat, corner_lon)"
   ]
  },
  {
   "cell_type": "code",
   "execution_count": null,
   "id": "c8e83e80-aeea-4560-8913-176ea482d1ed",
   "metadata": {},
   "outputs": [],
   "source": []
  }
 ],
 "metadata": {
  "kernelspec": {
   "display_name": "Python 3 (ipykernel)",
   "language": "python",
   "name": "python3"
  },
  "language_info": {
   "codemirror_mode": {
    "name": "ipython",
    "version": 3
   },
   "file_extension": ".py",
   "mimetype": "text/x-python",
   "name": "python",
   "nbconvert_exporter": "python",
   "pygments_lexer": "ipython3",
   "version": "3.10.4"
  }
 },
 "nbformat": 4,
 "nbformat_minor": 5
}
