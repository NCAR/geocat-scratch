{
 "cells": [
  {
   "cell_type": "code",
   "execution_count": 1,
   "id": "576a2034-20c9-4e3e-a998-724322debf4a",
   "metadata": {},
   "outputs": [],
   "source": [
    "import xarray as xr\n",
    "import numpy as np"
   ]
  },
  {
   "cell_type": "code",
   "execution_count": 105,
   "id": "d5006fda-ec6d-4416-858f-4a1eecde321d",
   "metadata": {},
   "outputs": [],
   "source": [
    "lat = xr.DataArray([[0,1,2,0],[0,3,4,2],[0,1,2,3]])\n",
    "long = xr.DataArray([[2,4,6,4],[2,8,6,4], [0,4,6,8]]).values.ravel()\n",
    "\n",
    "shape = lat.shape\n",
    "\n",
    "lat = lat.values.ravel()"
   ]
  },
  {
   "cell_type": "code",
   "execution_count": 120,
   "id": "46183964-c02c-4d16-b283-7322ce7fd657",
   "metadata": {},
   "outputs": [
    {
     "data": {
      "text/plain": [
       "[(0, 0), (2, 0), (4, 0), (4, 1), (4, 2), (6, 2), (6, 4), (8, 3)]"
      ]
     },
     "execution_count": 120,
     "metadata": {},
     "output_type": "execute_result"
    }
   ],
   "source": [
    "unique = list(set([(y,x) for x,y in zip(lat, long)]))\n",
    "unique.sort()\n",
    "unique"
   ]
  },
  {
   "cell_type": "code",
   "execution_count": 109,
   "id": "530afc15-f1f7-4987-aeb6-4246f15f9449",
   "metadata": {},
   "outputs": [
    {
     "data": {
      "text/plain": [
       "array([[0, 0, 0, 0],\n",
       "       [0, 0, 0, 0],\n",
       "       [0, 0, 0, 0]])"
      ]
     },
     "execution_count": 109,
     "metadata": {},
     "output_type": "execute_result"
    }
   ],
   "source": [
    "node = np.zeros(shape, dtype=int)\n",
    "node"
   ]
  },
  {
   "cell_type": "code",
   "execution_count": 113,
   "id": "307a97f5-0b53-4a7c-9b4b-a18082f29265",
   "metadata": {},
   "outputs": [],
   "source": [
    "node.reshape((-1,))[:] = [unique.index((y,x)) for x,y in zip(lat,long)]"
   ]
  },
  {
   "cell_type": "code",
   "execution_count": 114,
   "id": "b16ce005-8786-462e-9c6b-29647fb56fa3",
   "metadata": {},
   "outputs": [
    {
     "data": {
      "text/plain": [
       "array([[3, 7, 0, 1],\n",
       "       [3, 6, 4, 5],\n",
       "       [2, 7, 0, 6]])"
      ]
     },
     "execution_count": 114,
     "metadata": {},
     "output_type": "execute_result"
    }
   ],
   "source": [
    "node"
   ]
  }
 ],
 "metadata": {
  "kernelspec": {
   "display_name": "Python 3 (ipykernel)",
   "language": "python",
   "name": "python3"
  },
  "language_info": {
   "codemirror_mode": {
    "name": "ipython",
    "version": 3
   },
   "file_extension": ".py",
   "mimetype": "text/x-python",
   "name": "python",
   "nbconvert_exporter": "python",
   "pygments_lexer": "ipython3",
   "version": "3.9.7"
  }
 },
 "nbformat": 4,
 "nbformat_minor": 5
}
