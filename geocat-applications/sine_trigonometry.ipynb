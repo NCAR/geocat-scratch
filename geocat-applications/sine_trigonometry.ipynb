{
 "cells": [
  {
   "cell_type": "markdown",
   "id": "e630c395-5419-4786-84fe-94bc0f0abbdc",
   "metadata": {},
   "source": [
    "# Sine Trigonometry"
   ]
  },
  {
   "cell_type": "markdown",
   "id": "76d06808-871e-424f-b5d6-7679bf4a92a4",
   "metadata": {},
   "source": [
    "---"
   ]
  },
  {
   "cell_type": "markdown",
   "id": "b369aa9f-bc82-4d84-9390-c8fed479b9c6",
   "metadata": {},
   "source": [
    "## Overview\n",
    "\n",
    "sine is both a built-in function in Python (that requires no additional packages) as well as part of the common Python package Numpy\n",
    "\n",
    "- Built-in Math Function\n",
    "- Numpy Sine Function"
   ]
  },
  {
   "cell_type": "markdown",
   "id": "fd87eed0-c2ea-4b7c-97c4-1f8f0bc22c6a",
   "metadata": {},
   "source": [
    "## [Built-In Math Function](https://docs.python.org/3/library/math.html#math.sin)\n",
    "\n",
    "When working with sine in Python, the input value is in radians\n",
    "\n",
    "Input: single input values (float, decimals, integars)\n",
    "Returns: the sine of intput in radians"
   ]
  },
  {
   "cell_type": "code",
   "execution_count": 5,
   "id": "6966eb6b-1861-4084-bcf9-9fe91c75aa3e",
   "metadata": {},
   "outputs": [
    {
     "name": "stdout",
     "output_type": "stream",
     "text": [
      "0.9320390859672263\n"
     ]
    }
   ],
   "source": [
    "import math\n",
    "value = 1.2 # radians\n",
    "math_sin_value = math.sin(value)\n",
    "print(math_sin_value)"
   ]
  },
  {
   "cell_type": "markdown",
   "id": "42cd2476-00a3-4f29-a8be-ab19af9f5c69",
   "metadata": {},
   "source": [
    "## [Numpy Sine Value](https://numpy.org/doc/stable/reference/generated/numpy.sin.html)\n",
    "\n",
    "When working with sine in Numpy, the input value is in radians. One advantage of working with numpy is working with more than a single input. Numpy accepts input values of floats, decimals, and arrays.\n",
    "\n",
    "Numpy input: array_list values (floats, integars, arrays, lists, etc..)\n",
    "\n",
    "Returns: the sine of each element of the input in radians"
   ]
  },
  {
   "cell_type": "code",
   "execution_count": 18,
   "id": "e6352b3b-57c1-456c-806f-39fc132d2a1d",
   "metadata": {},
   "outputs": [
    {
     "name": "stdout",
     "output_type": "stream",
     "text": [
      "0.9320390859672263\n"
     ]
    }
   ],
   "source": [
    "# Input: Single Value\n",
    "import numpy as np\n",
    "value = 1.2 # radians\n",
    "np_sin_value = np.sin(value)\n",
    "print(np_sin_value)"
   ]
  },
  {
   "cell_type": "code",
   "execution_count": 19,
   "id": "c4e73813-067c-425d-8a31-35d894d9e199",
   "metadata": {},
   "outputs": [
    {
     "name": "stdout",
     "output_type": "stream",
     "text": [
      "[0.84147098 0.90929743 0.14112001]\n"
     ]
    }
   ],
   "source": [
    "# Input: List\n",
    "import numpy as np\n",
    "values = [1, 2, 3]\n",
    "np_sin_list_values = np.sin(values)\n",
    "print(np_sin_list_values)"
   ]
  },
  {
   "cell_type": "code",
   "execution_count": 20,
   "id": "5008e1ac-4988-41e5-bef3-4d60fce22ef8",
   "metadata": {},
   "outputs": [
    {
     "name": "stdout",
     "output_type": "stream",
     "text": [
      "[0.84147098 0.90929743 0.14112001]\n"
     ]
    }
   ],
   "source": [
    "# Input: Array\n",
    "import numpy as np\n",
    "values = np.array([1, 2, 3])\n",
    "np_sin_array_values = np.sin(values)\n",
    "print(np_sin_array_values)"
   ]
  },
  {
   "cell_type": "markdown",
   "id": "ea71d621-707b-402a-83b7-b72b87cdc869",
   "metadata": {},
   "source": [
    "## Further Reading\n",
    "\n",
    "- [Built-in sine math function](https://docs.python.org/3/library/math.html#math.sin)\n",
    "- [Numpy sine function](https://numpy.org/doc/stable/reference/generated/numpy.sin.html)\n",
    "- [NCL sine function](https://www.ncl.ucar.edu/Document/Functions/Built-in/sin.shtml)"
   ]
  },
  {
   "cell_type": "markdown",
   "id": "0725f24c-2edd-4f96-aa85-d871a5457748",
   "metadata": {},
   "source": [
    "## [NCL sin function](https://www.ncl.ucar.edu/Document/Functions/Built-in/sin.shtml)\n",
    "\n",
    "```\n",
    "function sin (\n",
    "\tvalue  : numeric   \n",
    ")\n",
    "\n",
    "Return value [dimsizes(value)] as float or double\n",
    "```\n",
    "### Input Values\n",
    "Input value of  one or more values of any dimension, in radians\n",
    "\n",
    "### Return Value\n",
    "Returns an array dimensioned the same as the input value. The return type is double if the input is double, and float otherwise\n",
    "\n",
    "### NCL Example:\n",
    "```\n",
    "sin_f = sin(0.5)\n",
    "print(sin_f)\n",
    "```\n",
    "Returned value is 0.4794255"
   ]
  }
 ],
 "metadata": {
  "kernelspec": {
   "display_name": "Python 3 (ipykernel)",
   "language": "python",
   "name": "python3"
  },
  "language_info": {
   "codemirror_mode": {
    "name": "ipython",
    "version": 3
   },
   "file_extension": ".py",
   "mimetype": "text/x-python",
   "name": "python",
   "nbconvert_exporter": "python",
   "pygments_lexer": "ipython3",
   "version": "3.12.2"
  }
 },
 "nbformat": 4,
 "nbformat_minor": 5
}
