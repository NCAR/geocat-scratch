{
 "cells": [
  {
   "cell_type": "markdown",
   "id": "31e64670-14b0-403d-a9fd-01cd09f08f93",
   "metadata": {},
   "source": [
    "# Wavelets in NCL"
   ]
  },
  {
   "cell_type": "markdown",
   "id": "8fbbdb7a-036d-4785-99bc-824c3df814f7",
   "metadata": {},
   "source": [
    "---"
   ]
  },
  {
   "cell_type": "markdown",
   "id": "7a2a6f60-2ce2-43cd-ab92-56ac466b3c0f",
   "metadata": {},
   "source": [
    "## Overview\n",
    "\n",
    "Computes the wavelet of time-series data\n",
    "\n",
    "- NCL Power Spectrum"
   ]
  },
  {
   "cell_type": "markdown",
   "id": "f828bfb9-2310-4e84-9b3d-6faff5e6d384",
   "metadata": {},
   "source": [
    "## [NCL Wavelet](https://www.ncl.ucar.edu/Document/Functions/Built-in/wavelet.shtml)\n",
    "\n",
    "```\n",
    "function wavelet (\n",
    "\ty        [*] : numeric,  \n",
    "\tmother   [1] : integer,  \n",
    "\tdt       [1] : numeric,  \n",
    "\tparam    [1] : numeric,  \n",
    "\ts0       [1] : numeric,  \n",
    "\tdj       [1] : numeric,  \n",
    "\tjtot     [1] : integer,  \n",
    "\tnpad     [1] : integer,  \n",
    "\tnoise    [1] : integer,  \n",
    "\tisigtest [1] : integer,  \n",
    "\tsiglvl   [1] : numeric,  \n",
    "\tnadof    [*] : numeric   \n",
    ")\n",
    "\n",
    "\n",
    "Return value [2][jtot][dimsizes(y)] :  float or double\n",
    "```\n",
    "### Input Values\n",
    "- y: input data as a one-dimesional array (length N)\n",
    "- mother: integer to specify mother wavelet, defaults to 0 (0 = \"Morlet\", 1 = \"Paul\", 2 = \"DOG\")\n",
    "- dt: sampling time (time between y-values)\n",
    "- param: mother wavelet parameter (Morlet wavenumber = 6, Paul m order = 4, DOG m-th derivative = 2)\n",
    "- s0: smallest scale\n",
    "- dj: space between scales\n",
    "- jtot: largest scale\n",
    "- npad: pad with extra zeroes to prevent wavelet cutoff that can impact coi\n",
    "- noise: test vs. red noise for significance testing\n",
    "- isigtest: 0 = chi-square test, 1=time-average test\n",
    "- siglvl: significance level\n",
    "- nadof: ignored by NCL\n",
    "\n",
    "### Return Value\n",
    "Returns an array of wavelet coefficients where: Real (0, 0, 0), Imaginary (1, 0, 0) "
   ]
  },
  {
   "cell_type": "markdown",
   "id": "11bb8b91-604f-45bb-bbc6-eb37c6b7a5b4",
   "metadata": {},
   "source": [
    "## Running NCL\n",
    "\n",
    "Start by creating an NCL enviroiment\n",
    "\n",
    "Create [new conda environment](https://www.ncl.ucar.edu/Download/conda.shtml)Create [new conda environment](https://www.ncl.ucar.edu/Download/conda.shtml)\n",
    "\n",
    "```\n",
    "conda create -n ncl_stable -c conda-forge ncl\n",
    "```\n",
    "\n",
    "Activate new environment\n",
    "\n",
    "```\n",
    "source activate ncl_stable\n",
    "```\n",
    "\n",
    "Run power spectrum within ncl directory\n",
    "\n",
    "```\n",
    "ncl wavelet_POWER.ncl\n",
    "```"
   ]
  },
  {
   "cell_type": "markdown",
   "id": "0d17264c-ee13-4957-95b4-86ea998113fb",
   "metadata": {},
   "source": [
    "wavelet_POWER.ncl:"
   ]
  },
  {
   "cell_type": "raw",
   "id": "a553dd39-d2f6-4d3f-b398-1e9ba52658a7",
   "metadata": {},
   "source": [
    "load \"$NCARG_ROOT/lib/ncarg/nclscripts/csm/gsn_code.ncl\" \n",
    "load \"$NCARG_ROOT/lib/ncarg/nclscripts/csm/gsn_csm.ncl\" \n",
    "\n",
    "begin\n",
    ";  f      = addfile (\"sst_nino3.nc\", \"r\")\n",
    ";  x      = f->SST\n",
    ";  N      = dimsizes(x)   ; number of elements [here 504]\n",
    "\n",
    "  x = asciiread(\"sst_nino3.dat\",-1,\"float\")\n",
    "  x!0 = \"time\"\n",
    "  N = dimsizes(x)\n",
    "\n",
    "  timeo = fspan(1871.25,1996.,N)\n",
    "  x&time = timeo\n",
    "  ;print (x)\n",
    "\n",
    "  mother = 0             ; Morlet wavelet\n",
    "  param  = 6.0           ; common for Morlet\n",
    "  dt     = 0.25          \n",
    "  s0     = 0.25\n",
    "  dj     = 0.25          ; 4 sub-octaves per octave\n",
    "  jtot   = 44            ; =subScale*11\n",
    "  npad   = N             ; pad with extra zeros, most commonly, npad = N [i.e. no padding]\n",
    "  nadof  = new( 2,float) ; ignored\n",
    "\n",
    "  noise  = 1             ; test vs red noise\n",
    "  siglvl = 0.05\n",
    "  isigtest= 0           \n",
    "\n",
    "  w      = wavelet (x,mother,dt,param,s0,dj,jtot,npad, \\\n",
    "                     noise,isigtest,siglvl,nadof)\n",
    "\n",
    "  print (w@power)\n",
    "                         ; create coordinate arrays for plot\n",
    "  power            = onedtond( w@power, (/jtot,N/) )\n",
    "  power!0          = \"period\"                        ; Y axis\n",
    "  power&period     = w@period\n",
    "  power!1          = \"time\"                          ; X axis\n",
    "  power&time       = x&time\n",
    "  power@long_name  = \"Power Spectrum\"\n",
    "  power@units      = \"C^2\"\n",
    "\n",
    "                         ; compute significance ( >= 1 is significant)\n",
    "  SIG  = power           ; transfer metadata\n",
    "  SIG  = power/conform (power,w@signif,0)\n",
    "\n",
    "  wks = gsn_open_wks(\"png\",\"ncl_power_output\")\n",
    "                         ; PLOT (only up to periods of 64)\n",
    "                         ; power\n",
    "  res                     = True\n",
    "  res@cnFillOn            = True\n",
    "  res@trYReverse          = True\n",
    "  plot = gsn_csm_contour(wks,power({0:64},:),res)  \n",
    "\n",
    "                         ; significance\n",
    "  RES = True\n",
    "  RES@cnLevelSelectionMode = \"ManualLevels\"     ; set manual contour levels\n",
    "  RES@cnMinLevelValF       = 1.0                ; set min contour level\n",
    "  RES@cnMaxLevelValF       = 4.0                ; set max contour level\n",
    "  RES@cnLevelSpacingF      = 3.0                ; set contour spacing\n",
    "  RES@trYReverse           = True\n",
    "  pSIG = gsn_contour(wks,SIG({0:64},:),RES) \n",
    "\n",
    "end"
   ]
  },
  {
   "cell_type": "markdown",
   "id": "31ebb19d-2ee5-4625-aa8d-9ce0388a6bc6",
   "metadata": {},
   "source": [
    "![ncl_output_1](ncl_power_output.000001.png)"
   ]
  },
  {
   "cell_type": "markdown",
   "id": "ff642f91-2dc6-4896-b089-b7746d698801",
   "metadata": {},
   "source": [
    "![ncl_output_2](ncl_power_output.000002.png)"
   ]
  }
 ],
 "metadata": {
  "kernelspec": {
   "display_name": "Python 3 (ipykernel)",
   "language": "python",
   "name": "python3"
  },
  "language_info": {
   "codemirror_mode": {
    "name": "ipython",
    "version": 3
   },
   "file_extension": ".py",
   "mimetype": "text/x-python",
   "name": "python",
   "nbconvert_exporter": "python",
   "pygments_lexer": "ipython3",
   "version": "3.11.8"
  }
 },
 "nbformat": 4,
 "nbformat_minor": 5
}
