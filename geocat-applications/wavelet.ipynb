{
 "cells": [
  {
   "cell_type": "markdown",
   "id": "31e64670-14b0-403d-a9fd-01cd09f08f93",
   "metadata": {},
   "source": [
    "# Wavelets in Python"
   ]
  },
  {
   "cell_type": "markdown",
   "id": "2800a5fb-ad08-4b56-88f3-266001cd66fc",
   "metadata": {},
   "source": [
    "## PyWavelets\n",
    "\n",
    "Wavelet analysis is accomplished in Python via external packages. NCL works with three wavelets: Morlet, DOG, and Paul. These three wavelets are continuious wavelets (CWT). "
   ]
  },
  {
   "cell_type": "markdown",
   "id": "f5841a56-2ab3-48a0-ab0a-f2770620addb",
   "metadata": {},
   "source": [
    "### PyWavelets: Morlet Wavelet\n",
    "\n",
    "The Morlet mother wavelet is a complex wavelet, with both a real and imaginary component. NCL wavelets are based on \"A Practical Guide to Wavelet Analysis\" (Torrence and Compo). owever, PyWavelets functions are derived from \"Computational Signal Processing with Wavelets\" (Teolis) (which is the same to how [Matlab is defined](https://www.mathworks.com/help/wavelet/ref/cmorwavf.html)). The differences will be noted below. In PyWavelets this is known as \"cmor\" (complex morlet)."
   ]
  },
  {
   "cell_type": "code",
   "execution_count": 6,
   "id": "721e4f9a-7dd2-44b7-b5bd-e8e0b806367c",
   "metadata": {},
   "outputs": [],
   "source": [
    "import math\n",
    "import numpy as np\n",
    "\n",
    "import pywt # PyWavelets"
   ]
  },
  {
   "cell_type": "code",
   "execution_count": 4,
   "id": "cfd4b6a6-b6fa-4c5f-9649-1e050f0f88ca",
   "metadata": {},
   "outputs": [],
   "source": [
    "# Define the Complex Morlet\n",
    "# cmorB-C\n",
    "# https://pywavelets.readthedocs.io/en/latest/ref/cwt.html#complex-morlet-wavelets\n",
    "# B = bandwidth\n",
    "# C = center frequency\n",
    "\n",
    "bandwidth = 2 \n",
    "center_freq = 6/(2*math.pi)\n",
    "\n",
    "[psi, x] = pywt.ContinuousWavelet(f\"cmor{bandwidth}-{center_freq}\").wavefun(10)"
   ]
  },
  {
   "cell_type": "code",
   "execution_count": null,
   "id": "9a170a39-66c2-408b-9868-c7f1aa076591",
   "metadata": {},
   "outputs": [],
   "source": [
    "# Download nino3 data\n",
    "nino_url = 'https://paos.colorado.edu/research/wavelets/wave_idl/nino3sst.txt'\n",
    "sst_data = np.genfromtxt(nino_url, skip_header=19)"
   ]
  },
  {
   "cell_type": "code",
   "execution_count": 7,
   "id": "345fd780-f5e0-4502-95b4-756ce3eafc2c",
   "metadata": {},
   "outputs": [
    {
     "ename": "NameError",
     "evalue": "name 'sst_data' is not defined",
     "output_type": "error",
     "traceback": [
      "\u001b[0;31m---------------------------------------------------------------------------\u001b[0m",
      "\u001b[0;31mNameError\u001b[0m                                 Traceback (most recent call last)",
      "Cell \u001b[0;32mIn[7], line 7\u001b[0m\n\u001b[1;32m      5\u001b[0m jtot \u001b[38;5;241m=\u001b[39m \u001b[38;5;241m44\u001b[39m \u001b[38;5;66;03m# largest scale\u001b[39;00m\n\u001b[1;32m      6\u001b[0m scales \u001b[38;5;241m=\u001b[39m np\u001b[38;5;241m.\u001b[39marange(\u001b[38;5;241m1\u001b[39m, jtot\u001b[38;5;241m+\u001b[39m\u001b[38;5;241m1\u001b[39m)\n\u001b[0;32m----> 7\u001b[0m wavelet_coeffs, freqs \u001b[38;5;241m=\u001b[39m pywt\u001b[38;5;241m.\u001b[39mcwt(data\u001b[38;5;241m=\u001b[39msst_data,\n\u001b[1;32m      8\u001b[0m                                  scales\u001b[38;5;241m=\u001b[39mscales,\n\u001b[1;32m      9\u001b[0m                                  wavelet\u001b[38;5;241m=\u001b[39mcomplex_morlet,\n\u001b[1;32m     10\u001b[0m                                  sampling_period\u001b[38;5;241m=\u001b[39mdt)\n",
      "\u001b[0;31mNameError\u001b[0m: name 'sst_data' is not defined"
     ]
    }
   ],
   "source": [
    "# PyWavelet Input Values\n",
    "dt = 0.25 # sampling period (time between each y-value)\n",
    "s0 = 0.25 # smallest scale\n",
    "dj = 0.25 # spacing between each discrete scales\n",
    "jtot = 44 # largest scale\n",
    "scales = np.arange(1, jtot+1)\n",
    "wavelet_coeffs, freqs = pywt.cwt(data=sst_data,\n",
    "                                 scales=scales,\n",
    "                                 wavelet=complex_morlet,\n",
    "                                 sampling_period=dt)"
   ]
  },
  {
   "cell_type": "markdown",
   "id": "11bb8b91-604f-45bb-bbc6-eb37c6b7a5b4",
   "metadata": {},
   "source": [
    "# Wavelets in NCL\n",
    "\n",
    "Start by creating an NCL enviroiment\n",
    "\n",
    "Create [new conda environment](https://www.ncl.ucar.edu/Download/conda.shtml)Create [new conda environment](https://www.ncl.ucar.edu/Download/conda.shtml)\n",
    "\n",
    "```\n",
    "conda create -n ncl_stable -c conda-forge ncl\n",
    "```\n",
    "\n",
    "Activate new environment\n",
    "\n",
    "```\n",
    "source activate ncl_stable\n",
    "```\n",
    "\n",
    "Run power spectrum within ncl directory\n",
    "\n",
    "```\n",
    "ncl wavelet_POWER.ncl\n",
    "```"
   ]
  },
  {
   "cell_type": "markdown",
   "id": "0d17264c-ee13-4957-95b4-86ea998113fb",
   "metadata": {},
   "source": [
    "wavelet_POWER.ncl:"
   ]
  },
  {
   "cell_type": "raw",
   "id": "a553dd39-d2f6-4d3f-b398-1e9ba52658a7",
   "metadata": {},
   "source": [
    "load \"$NCARG_ROOT/lib/ncarg/nclscripts/csm/gsn_code.ncl\" \n",
    "load \"$NCARG_ROOT/lib/ncarg/nclscripts/csm/gsn_csm.ncl\" \n",
    "\n",
    "begin\n",
    ";  f      = addfile (\"sst_nino3.nc\", \"r\")\n",
    ";  x      = f->SST\n",
    ";  N      = dimsizes(x)   ; number of elements [here 504]\n",
    "\n",
    "  x = asciiread(\"sst_nino3.dat\",-1,\"float\")\n",
    "  x!0 = \"time\"\n",
    "  N = dimsizes(x)\n",
    "\n",
    "  timeo = fspan(1871.25,1996.,N)\n",
    "  x&time = timeo\n",
    "  ;print (x)\n",
    "\n",
    "  mother = 0             ; Morlet wavelet\n",
    "  param  = 6.0           ; common for Morlet\n",
    "  dt     = 0.25          \n",
    "  s0     = 0.25\n",
    "  dj     = 0.25          ; 4 sub-octaves per octave\n",
    "  jtot   = 44            ; =subScale*11\n",
    "  npad   = N             ; pad with extra zeros, most commonly, npad = N [i.e. no padding]\n",
    "  nadof  = new( 2,float) ; ignored\n",
    "\n",
    "  noise  = 1             ; test vs red noise\n",
    "  siglvl = 0.05\n",
    "  isigtest= 0           \n",
    "\n",
    "  w      = wavelet (x,mother,dt,param,s0,dj,jtot,npad, \\\n",
    "                     noise,isigtest,siglvl,nadof)\n",
    "\n",
    "  print (w@power)\n",
    "                         ; create coordinate arrays for plot\n",
    "  power            = onedtond( w@power, (/jtot,N/) )\n",
    "  power!0          = \"period\"                        ; Y axis\n",
    "  power&period     = w@period\n",
    "  power!1          = \"time\"                          ; X axis\n",
    "  power&time       = x&time\n",
    "  power@long_name  = \"Power Spectrum\"\n",
    "  power@units      = \"C^2\"\n",
    "\n",
    "                         ; compute significance ( >= 1 is significant)\n",
    "  SIG  = power           ; transfer metadata\n",
    "  SIG  = power/conform (power,w@signif,0)\n",
    "\n",
    "  wks = gsn_open_wks(\"png\",\"ncl_power_output\")\n",
    "                         ; PLOT (only up to periods of 64)\n",
    "                         ; power\n",
    "  res                     = True\n",
    "  res@cnFillOn            = True\n",
    "  res@trYReverse          = True\n",
    "  plot = gsn_csm_contour(wks,power({0:64},:),res)  \n",
    "\n",
    "                         ; significance\n",
    "  RES = True\n",
    "  RES@cnLevelSelectionMode = \"ManualLevels\"     ; set manual contour levels\n",
    "  RES@cnMinLevelValF       = 1.0                ; set min contour level\n",
    "  RES@cnMaxLevelValF       = 4.0                ; set max contour level\n",
    "  RES@cnLevelSpacingF      = 3.0                ; set contour spacing\n",
    "  RES@trYReverse           = True\n",
    "  pSIG = gsn_contour(wks,SIG({0:64},:),RES) \n",
    "\n",
    "end"
   ]
  }
 ],
 "metadata": {
  "kernelspec": {
   "display_name": "Python 3 (ipykernel)",
   "language": "python",
   "name": "python3"
  },
  "language_info": {
   "codemirror_mode": {
    "name": "ipython",
    "version": 3
   },
   "file_extension": ".py",
   "mimetype": "text/x-python",
   "name": "python",
   "nbconvert_exporter": "python",
   "pygments_lexer": "ipython3",
   "version": "3.11.8"
  }
 },
 "nbformat": 4,
 "nbformat_minor": 5
}
