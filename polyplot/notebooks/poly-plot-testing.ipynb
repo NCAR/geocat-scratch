{
 "cells": [
  {
   "cell_type": "code",
   "execution_count": 1,
   "id": "329c233e-a2a7-4e9f-90b0-befb14d73038",
   "metadata": {},
   "outputs": [],
   "source": [
    "import numpy as np\n",
    "import xarray as xr\n",
    "import cartopy.crs as ccrs\n",
    "import cmocean\n",
    "import spatialpandas.dask \n",
    "import dask as da\n",
    "import dask.dataframe as dd\n",
    "import matplotlib.pyplot as plt\n",
    "import pandas as pd\n",
    "\n",
    "import uxarray as ux\n",
    "\n",
    "import holoviews as hv\n",
    "from holoviews import opts\n",
    "from holoviews.operation.datashader import rasterize\n",
    "import datashader as ds\n",
    "import datashader.transfer_functions as tf\n",
    "import geoviews.feature as gf\n",
    "\n",
    "import spatialpandas as sp\n",
    "\n",
    "import multiprocessing\n",
    "\n",
    "from multiprocessing import Pool\n"
   ]
  },
  {
   "cell_type": "code",
   "execution_count": 74,
   "id": "1805aaf3-fa81-4525-a482-514b130c0b9f",
   "metadata": {},
   "outputs": [
    {
     "name": "stdout",
     "output_type": "stream",
     "text": [
      "Collecting pgpd\n",
      "  Downloading pgpd-2.1.2-py3-none-any.whl (21 kB)\n",
      "Requirement already satisfied: pygeos>=0.10 in /glade/u/home/philipc/.conda/envs/viz/lib/python3.10/site-packages (from pgpd) (0.12.0)\n",
      "Requirement already satisfied: pandas>=1.1 in /glade/u/home/philipc/.conda/envs/viz/lib/python3.10/site-packages (from pgpd) (1.4.2)\n",
      "Requirement already satisfied: python-dateutil>=2.8.1 in /glade/u/home/philipc/.conda/envs/viz/lib/python3.10/site-packages (from pandas>=1.1->pgpd) (2.8.2)\n",
      "Requirement already satisfied: pytz>=2020.1 in /glade/u/home/philipc/.conda/envs/viz/lib/python3.10/site-packages (from pandas>=1.1->pgpd) (2021.3)\n",
      "Requirement already satisfied: numpy>=1.21.0 in /glade/u/home/philipc/.conda/envs/viz/lib/python3.10/site-packages (from pandas>=1.1->pgpd) (1.21.6)\n",
      "Requirement already satisfied: six>=1.5 in /glade/u/home/philipc/.conda/envs/viz/lib/python3.10/site-packages (from python-dateutil>=2.8.1->pandas>=1.1->pgpd) (1.16.0)\n",
      "Installing collected packages: pgpd\n",
      "Successfully installed pgpd-2.1.2\n",
      "Note: you may need to restart the kernel to use updated packages.\n"
     ]
    }
   ],
   "source": [
    "#pip install pgpd"
   ]
  },
  {
   "cell_type": "code",
   "execution_count": 2,
   "id": "8aacb336-945a-472d-9f8f-fc16b8d996f5",
   "metadata": {},
   "outputs": [],
   "source": [
    "import sys\n",
    "%load_ext autoreload\n",
    "%autoreload 2\n",
    "\n",
    "sys.path.insert(1, '/glade/u/home/philipc/geocat-internal-testing/polyplot/')\n",
    "\n",
    "from polyplot import poly_plot as pp"
   ]
  },
  {
   "cell_type": "markdown",
   "id": "5f298f38-c369-4a19-8b77-ab78bff82578",
   "metadata": {},
   "source": [
    "# Data"
   ]
  },
  {
   "cell_type": "code",
   "execution_count": 3,
   "id": "18ab2587-786d-40f8-8ab7-f0c8e2667eb0",
   "metadata": {},
   "outputs": [
    {
     "name": "stdout",
     "output_type": "stream",
     "text": [
      "Loading initial grid from file:  /glade/p/cisl/vast/vapor/data/Source/UGRID/NOAA-geoflow/large/grid.nc\n"
     ]
    }
   ],
   "source": [
    "ds_base_path = \"/glade/p/cisl/vast/vapor/data/Source/UGRID/NOAA-geoflow/large/\"\n",
    "ds_grid = ux.open_dataset(ds_base_path + \"grid.nc\")\n",
    "ds_v1 = xr.open_dataset(ds_base_path + \"v1.000000.nc\")"
   ]
  },
  {
   "cell_type": "code",
   "execution_count": 4,
   "id": "f6449bf2-97a0-49e2-a413-f7b8b0d20bb4",
   "metadata": {},
   "outputs": [
    {
     "data": {
      "text/html": [
       "<div><svg style=\"position: absolute; width: 0; height: 0; overflow: hidden\">\n",
       "<defs>\n",
       "<symbol id=\"icon-database\" viewBox=\"0 0 32 32\">\n",
       "<path d=\"M16 0c-8.837 0-16 2.239-16 5v4c0 2.761 7.163 5 16 5s16-2.239 16-5v-4c0-2.761-7.163-5-16-5z\"></path>\n",
       "<path d=\"M16 17c-8.837 0-16-2.239-16-5v6c0 2.761 7.163 5 16 5s16-2.239 16-5v-6c0 2.761-7.163 5-16 5z\"></path>\n",
       "<path d=\"M16 26c-8.837 0-16-2.239-16-5v6c0 2.761 7.163 5 16 5s16-2.239 16-5v-6c0 2.761-7.163 5-16 5z\"></path>\n",
       "</symbol>\n",
       "<symbol id=\"icon-file-text2\" viewBox=\"0 0 32 32\">\n",
       "<path d=\"M28.681 7.159c-0.694-0.947-1.662-2.053-2.724-3.116s-2.169-2.030-3.116-2.724c-1.612-1.182-2.393-1.319-2.841-1.319h-15.5c-1.378 0-2.5 1.121-2.5 2.5v27c0 1.378 1.122 2.5 2.5 2.5h23c1.378 0 2.5-1.122 2.5-2.5v-19.5c0-0.448-0.137-1.23-1.319-2.841zM24.543 5.457c0.959 0.959 1.712 1.825 2.268 2.543h-4.811v-4.811c0.718 0.556 1.584 1.309 2.543 2.268zM28 29.5c0 0.271-0.229 0.5-0.5 0.5h-23c-0.271 0-0.5-0.229-0.5-0.5v-27c0-0.271 0.229-0.5 0.5-0.5 0 0 15.499-0 15.5 0v7c0 0.552 0.448 1 1 1h7v19.5z\"></path>\n",
       "<path d=\"M23 26h-14c-0.552 0-1-0.448-1-1s0.448-1 1-1h14c0.552 0 1 0.448 1 1s-0.448 1-1 1z\"></path>\n",
       "<path d=\"M23 22h-14c-0.552 0-1-0.448-1-1s0.448-1 1-1h14c0.552 0 1 0.448 1 1s-0.448 1-1 1z\"></path>\n",
       "<path d=\"M23 18h-14c-0.552 0-1-0.448-1-1s0.448-1 1-1h14c0.552 0 1 0.448 1 1s-0.448 1-1 1z\"></path>\n",
       "</symbol>\n",
       "</defs>\n",
       "</svg>\n",
       "<style>/* CSS stylesheet for displaying xarray objects in jupyterlab.\n",
       " *\n",
       " */\n",
       "\n",
       ":root {\n",
       "  --xr-font-color0: var(--jp-content-font-color0, rgba(0, 0, 0, 1));\n",
       "  --xr-font-color2: var(--jp-content-font-color2, rgba(0, 0, 0, 0.54));\n",
       "  --xr-font-color3: var(--jp-content-font-color3, rgba(0, 0, 0, 0.38));\n",
       "  --xr-border-color: var(--jp-border-color2, #e0e0e0);\n",
       "  --xr-disabled-color: var(--jp-layout-color3, #bdbdbd);\n",
       "  --xr-background-color: var(--jp-layout-color0, white);\n",
       "  --xr-background-color-row-even: var(--jp-layout-color1, white);\n",
       "  --xr-background-color-row-odd: var(--jp-layout-color2, #eeeeee);\n",
       "}\n",
       "\n",
       "html[theme=dark],\n",
       "body.vscode-dark {\n",
       "  --xr-font-color0: rgba(255, 255, 255, 1);\n",
       "  --xr-font-color2: rgba(255, 255, 255, 0.54);\n",
       "  --xr-font-color3: rgba(255, 255, 255, 0.38);\n",
       "  --xr-border-color: #1F1F1F;\n",
       "  --xr-disabled-color: #515151;\n",
       "  --xr-background-color: #111111;\n",
       "  --xr-background-color-row-even: #111111;\n",
       "  --xr-background-color-row-odd: #313131;\n",
       "}\n",
       "\n",
       ".xr-wrap {\n",
       "  display: block;\n",
       "  min-width: 300px;\n",
       "  max-width: 700px;\n",
       "}\n",
       "\n",
       ".xr-text-repr-fallback {\n",
       "  /* fallback to plain text repr when CSS is not injected (untrusted notebook) */\n",
       "  display: none;\n",
       "}\n",
       "\n",
       ".xr-header {\n",
       "  padding-top: 6px;\n",
       "  padding-bottom: 6px;\n",
       "  margin-bottom: 4px;\n",
       "  border-bottom: solid 1px var(--xr-border-color);\n",
       "}\n",
       "\n",
       ".xr-header > div,\n",
       ".xr-header > ul {\n",
       "  display: inline;\n",
       "  margin-top: 0;\n",
       "  margin-bottom: 0;\n",
       "}\n",
       "\n",
       ".xr-obj-type,\n",
       ".xr-array-name {\n",
       "  margin-left: 2px;\n",
       "  margin-right: 10px;\n",
       "}\n",
       "\n",
       ".xr-obj-type {\n",
       "  color: var(--xr-font-color2);\n",
       "}\n",
       "\n",
       ".xr-sections {\n",
       "  padding-left: 0 !important;\n",
       "  display: grid;\n",
       "  grid-template-columns: 150px auto auto 1fr 20px 20px;\n",
       "}\n",
       "\n",
       ".xr-section-item {\n",
       "  display: contents;\n",
       "}\n",
       "\n",
       ".xr-section-item input {\n",
       "  display: none;\n",
       "}\n",
       "\n",
       ".xr-section-item input + label {\n",
       "  color: var(--xr-disabled-color);\n",
       "}\n",
       "\n",
       ".xr-section-item input:enabled + label {\n",
       "  cursor: pointer;\n",
       "  color: var(--xr-font-color2);\n",
       "}\n",
       "\n",
       ".xr-section-item input:enabled + label:hover {\n",
       "  color: var(--xr-font-color0);\n",
       "}\n",
       "\n",
       ".xr-section-summary {\n",
       "  grid-column: 1;\n",
       "  color: var(--xr-font-color2);\n",
       "  font-weight: 500;\n",
       "}\n",
       "\n",
       ".xr-section-summary > span {\n",
       "  display: inline-block;\n",
       "  padding-left: 0.5em;\n",
       "}\n",
       "\n",
       ".xr-section-summary-in:disabled + label {\n",
       "  color: var(--xr-font-color2);\n",
       "}\n",
       "\n",
       ".xr-section-summary-in + label:before {\n",
       "  display: inline-block;\n",
       "  content: '►';\n",
       "  font-size: 11px;\n",
       "  width: 15px;\n",
       "  text-align: center;\n",
       "}\n",
       "\n",
       ".xr-section-summary-in:disabled + label:before {\n",
       "  color: var(--xr-disabled-color);\n",
       "}\n",
       "\n",
       ".xr-section-summary-in:checked + label:before {\n",
       "  content: '▼';\n",
       "}\n",
       "\n",
       ".xr-section-summary-in:checked + label > span {\n",
       "  display: none;\n",
       "}\n",
       "\n",
       ".xr-section-summary,\n",
       ".xr-section-inline-details {\n",
       "  padding-top: 4px;\n",
       "  padding-bottom: 4px;\n",
       "}\n",
       "\n",
       ".xr-section-inline-details {\n",
       "  grid-column: 2 / -1;\n",
       "}\n",
       "\n",
       ".xr-section-details {\n",
       "  display: none;\n",
       "  grid-column: 1 / -1;\n",
       "  margin-bottom: 5px;\n",
       "}\n",
       "\n",
       ".xr-section-summary-in:checked ~ .xr-section-details {\n",
       "  display: contents;\n",
       "}\n",
       "\n",
       ".xr-array-wrap {\n",
       "  grid-column: 1 / -1;\n",
       "  display: grid;\n",
       "  grid-template-columns: 20px auto;\n",
       "}\n",
       "\n",
       ".xr-array-wrap > label {\n",
       "  grid-column: 1;\n",
       "  vertical-align: top;\n",
       "}\n",
       "\n",
       ".xr-preview {\n",
       "  color: var(--xr-font-color3);\n",
       "}\n",
       "\n",
       ".xr-array-preview,\n",
       ".xr-array-data {\n",
       "  padding: 0 5px !important;\n",
       "  grid-column: 2;\n",
       "}\n",
       "\n",
       ".xr-array-data,\n",
       ".xr-array-in:checked ~ .xr-array-preview {\n",
       "  display: none;\n",
       "}\n",
       "\n",
       ".xr-array-in:checked ~ .xr-array-data,\n",
       ".xr-array-preview {\n",
       "  display: inline-block;\n",
       "}\n",
       "\n",
       ".xr-dim-list {\n",
       "  display: inline-block !important;\n",
       "  list-style: none;\n",
       "  padding: 0 !important;\n",
       "  margin: 0;\n",
       "}\n",
       "\n",
       ".xr-dim-list li {\n",
       "  display: inline-block;\n",
       "  padding: 0;\n",
       "  margin: 0;\n",
       "}\n",
       "\n",
       ".xr-dim-list:before {\n",
       "  content: '(';\n",
       "}\n",
       "\n",
       ".xr-dim-list:after {\n",
       "  content: ')';\n",
       "}\n",
       "\n",
       ".xr-dim-list li:not(:last-child):after {\n",
       "  content: ',';\n",
       "  padding-right: 5px;\n",
       "}\n",
       "\n",
       ".xr-has-index {\n",
       "  font-weight: bold;\n",
       "}\n",
       "\n",
       ".xr-var-list,\n",
       ".xr-var-item {\n",
       "  display: contents;\n",
       "}\n",
       "\n",
       ".xr-var-item > div,\n",
       ".xr-var-item label,\n",
       ".xr-var-item > .xr-var-name span {\n",
       "  background-color: var(--xr-background-color-row-even);\n",
       "  margin-bottom: 0;\n",
       "}\n",
       "\n",
       ".xr-var-item > .xr-var-name:hover span {\n",
       "  padding-right: 5px;\n",
       "}\n",
       "\n",
       ".xr-var-list > li:nth-child(odd) > div,\n",
       ".xr-var-list > li:nth-child(odd) > label,\n",
       ".xr-var-list > li:nth-child(odd) > .xr-var-name span {\n",
       "  background-color: var(--xr-background-color-row-odd);\n",
       "}\n",
       "\n",
       ".xr-var-name {\n",
       "  grid-column: 1;\n",
       "}\n",
       "\n",
       ".xr-var-dims {\n",
       "  grid-column: 2;\n",
       "}\n",
       "\n",
       ".xr-var-dtype {\n",
       "  grid-column: 3;\n",
       "  text-align: right;\n",
       "  color: var(--xr-font-color2);\n",
       "}\n",
       "\n",
       ".xr-var-preview {\n",
       "  grid-column: 4;\n",
       "}\n",
       "\n",
       ".xr-var-name,\n",
       ".xr-var-dims,\n",
       ".xr-var-dtype,\n",
       ".xr-preview,\n",
       ".xr-attrs dt {\n",
       "  white-space: nowrap;\n",
       "  overflow: hidden;\n",
       "  text-overflow: ellipsis;\n",
       "  padding-right: 10px;\n",
       "}\n",
       "\n",
       ".xr-var-name:hover,\n",
       ".xr-var-dims:hover,\n",
       ".xr-var-dtype:hover,\n",
       ".xr-attrs dt:hover {\n",
       "  overflow: visible;\n",
       "  width: auto;\n",
       "  z-index: 1;\n",
       "}\n",
       "\n",
       ".xr-var-attrs,\n",
       ".xr-var-data {\n",
       "  display: none;\n",
       "  background-color: var(--xr-background-color) !important;\n",
       "  padding-bottom: 5px !important;\n",
       "}\n",
       "\n",
       ".xr-var-attrs-in:checked ~ .xr-var-attrs,\n",
       ".xr-var-data-in:checked ~ .xr-var-data {\n",
       "  display: block;\n",
       "}\n",
       "\n",
       ".xr-var-data > table {\n",
       "  float: right;\n",
       "}\n",
       "\n",
       ".xr-var-name span,\n",
       ".xr-var-data,\n",
       ".xr-attrs {\n",
       "  padding-left: 25px !important;\n",
       "}\n",
       "\n",
       ".xr-attrs,\n",
       ".xr-var-attrs,\n",
       ".xr-var-data {\n",
       "  grid-column: 1 / -1;\n",
       "}\n",
       "\n",
       "dl.xr-attrs {\n",
       "  padding: 0;\n",
       "  margin: 0;\n",
       "  display: grid;\n",
       "  grid-template-columns: 125px auto;\n",
       "}\n",
       "\n",
       ".xr-attrs dt,\n",
       ".xr-attrs dd {\n",
       "  padding: 0;\n",
       "  margin: 0;\n",
       "  float: left;\n",
       "  padding-right: 10px;\n",
       "  width: auto;\n",
       "}\n",
       "\n",
       ".xr-attrs dt {\n",
       "  font-weight: normal;\n",
       "  grid-column: 1;\n",
       "}\n",
       "\n",
       ".xr-attrs dt:hover span {\n",
       "  display: inline-block;\n",
       "  background: var(--xr-background-color);\n",
       "  padding-right: 10px;\n",
       "}\n",
       "\n",
       ".xr-attrs dd {\n",
       "  grid-column: 2;\n",
       "  white-space: pre-wrap;\n",
       "  word-break: break-all;\n",
       "}\n",
       "\n",
       ".xr-icon-database,\n",
       ".xr-icon-file-text2 {\n",
       "  display: inline-block;\n",
       "  vertical-align: middle;\n",
       "  width: 1em;\n",
       "  height: 1.5em !important;\n",
       "  stroke-width: 0;\n",
       "  stroke: currentColor;\n",
       "  fill: currentColor;\n",
       "}\n",
       "</style><pre class='xr-text-repr-fallback'>&lt;xarray.Dataset&gt;\n",
       "Dimensions:          (nMeshFaces: 3932160, nFaceNodes: 4, nMeshNodes: 6144000, meshLayers: 20)\n",
       "Coordinates:\n",
       "    mesh_node_x      (nMeshNodes) float64 ...\n",
       "    mesh_node_y      (nMeshNodes) float64 ...\n",
       "Dimensions without coordinates: nMeshFaces, nFaceNodes, nMeshNodes, meshLayers\n",
       "Data variables:\n",
       "    mesh             int32 -2147483647\n",
       "    mesh_face_nodes  (nMeshFaces, nFaceNodes) uint32 ...\n",
       "    mesh_depth       (meshLayers, nMeshNodes) float64 ...</pre><div class='xr-wrap' hidden><div class='xr-header'><div class='xr-obj-type'>xarray.Dataset</div></div><ul class='xr-sections'><li class='xr-section-item'><input id='section-eb137943-a2fb-4ea8-9fda-f4c568b85907' class='xr-section-summary-in' type='checkbox' disabled ><label for='section-eb137943-a2fb-4ea8-9fda-f4c568b85907' class='xr-section-summary'  title='Expand/collapse section'>Dimensions:</label><div class='xr-section-inline-details'><ul class='xr-dim-list'><li><span>nMeshFaces</span>: 3932160</li><li><span>nFaceNodes</span>: 4</li><li><span>nMeshNodes</span>: 6144000</li><li><span>meshLayers</span>: 20</li></ul></div><div class='xr-section-details'></div></li><li class='xr-section-item'><input id='section-3b019618-edca-4f17-a36a-514f13c48b41' class='xr-section-summary-in' type='checkbox'  checked><label for='section-3b019618-edca-4f17-a36a-514f13c48b41' class='xr-section-summary' >Coordinates: <span>(2)</span></label><div class='xr-section-inline-details'></div><div class='xr-section-details'><ul class='xr-var-list'><li class='xr-var-item'><div class='xr-var-name'><span>mesh_node_x</span></div><div class='xr-var-dims'>(nMeshNodes)</div><div class='xr-var-dtype'>float64</div><div class='xr-var-preview xr-preview'>...</div><input id='attrs-b35b4504-d37e-484b-8b06-04f9f1b113c0' class='xr-var-attrs-in' type='checkbox' ><label for='attrs-b35b4504-d37e-484b-8b06-04f9f1b113c0' title='Show/Hide attributes'><svg class='icon xr-icon-file-text2'><use xlink:href='#icon-file-text2'></use></svg></label><input id='data-c43015cf-9380-4453-a7cd-9764d521220a' class='xr-var-data-in' type='checkbox'><label for='data-c43015cf-9380-4453-a7cd-9764d521220a' title='Show/Hide data repr'><svg class='icon xr-icon-database'><use xlink:href='#icon-database'></use></svg></label><div class='xr-var-attrs'><dl class='xr-attrs'><dt><span>standard_name :</span></dt><dd>longitude</dd><dt><span>long_name :</span></dt><dd>Longitude of 2D mesh nodes.</dd><dt><span>units :</span></dt><dd>degrees_east</dd></dl></div><div class='xr-var-data'><pre>[6144000 values with dtype=float64]</pre></div></li><li class='xr-var-item'><div class='xr-var-name'><span>mesh_node_y</span></div><div class='xr-var-dims'>(nMeshNodes)</div><div class='xr-var-dtype'>float64</div><div class='xr-var-preview xr-preview'>...</div><input id='attrs-779735ea-3c6b-4573-a451-3ec54ec60408' class='xr-var-attrs-in' type='checkbox' ><label for='attrs-779735ea-3c6b-4573-a451-3ec54ec60408' title='Show/Hide attributes'><svg class='icon xr-icon-file-text2'><use xlink:href='#icon-file-text2'></use></svg></label><input id='data-75470dbc-c98f-44fb-86ae-69c934646c11' class='xr-var-data-in' type='checkbox'><label for='data-75470dbc-c98f-44fb-86ae-69c934646c11' title='Show/Hide data repr'><svg class='icon xr-icon-database'><use xlink:href='#icon-database'></use></svg></label><div class='xr-var-attrs'><dl class='xr-attrs'><dt><span>standard_name :</span></dt><dd>latitude</dd><dt><span>long_name :</span></dt><dd>Latitude of 2D mesh nodes.</dd><dt><span>units :</span></dt><dd>degrees_north</dd></dl></div><div class='xr-var-data'><pre>[6144000 values with dtype=float64]</pre></div></li></ul></div></li><li class='xr-section-item'><input id='section-ff63f9ad-e6e3-4865-b679-29d1dda1b291' class='xr-section-summary-in' type='checkbox'  checked><label for='section-ff63f9ad-e6e3-4865-b679-29d1dda1b291' class='xr-section-summary' >Data variables: <span>(3)</span></label><div class='xr-section-inline-details'></div><div class='xr-section-details'><ul class='xr-var-list'><li class='xr-var-item'><div class='xr-var-name'><span>mesh</span></div><div class='xr-var-dims'>()</div><div class='xr-var-dtype'>int32</div><div class='xr-var-preview xr-preview'>...</div><input id='attrs-f293ed26-58b3-46cb-ad9c-6a043042703c' class='xr-var-attrs-in' type='checkbox' ><label for='attrs-f293ed26-58b3-46cb-ad9c-6a043042703c' title='Show/Hide attributes'><svg class='icon xr-icon-file-text2'><use xlink:href='#icon-file-text2'></use></svg></label><input id='data-2307ee73-af97-438a-a5f3-c55b9b68b6a8' class='xr-var-data-in' type='checkbox'><label for='data-2307ee73-af97-438a-a5f3-c55b9b68b6a8' title='Show/Hide data repr'><svg class='icon xr-icon-database'><use xlink:href='#icon-database'></use></svg></label><div class='xr-var-attrs'><dl class='xr-attrs'><dt><span>cf_role :</span></dt><dd>mesh_topology</dd><dt><span>long_name :</span></dt><dd>Topology data of 2D unstructured mesh.</dd><dt><span>topology_dimension :</span></dt><dd>2</dd><dt><span>node_coordinates :</span></dt><dd>mesh_node_x mesh_node_y</dd><dt><span>face_node_connectivity :</span></dt><dd>mesh_face_nodes</dd><dt><span>face_dimension :</span></dt><dd>nMeshFaces</dd></dl></div><div class='xr-var-data'><pre>array(-2147483647, dtype=int32)</pre></div></li><li class='xr-var-item'><div class='xr-var-name'><span>mesh_face_nodes</span></div><div class='xr-var-dims'>(nMeshFaces, nFaceNodes)</div><div class='xr-var-dtype'>uint32</div><div class='xr-var-preview xr-preview'>...</div><input id='attrs-7e12eb27-b4fd-4800-9b85-8d208dc2b07f' class='xr-var-attrs-in' type='checkbox' ><label for='attrs-7e12eb27-b4fd-4800-9b85-8d208dc2b07f' title='Show/Hide attributes'><svg class='icon xr-icon-file-text2'><use xlink:href='#icon-file-text2'></use></svg></label><input id='data-93ada0d7-fcd4-45b6-aa6b-59966ed857b9' class='xr-var-data-in' type='checkbox'><label for='data-93ada0d7-fcd4-45b6-aa6b-59966ed857b9' title='Show/Hide data repr'><svg class='icon xr-icon-database'><use xlink:href='#icon-database'></use></svg></label><div class='xr-var-attrs'><dl class='xr-attrs'><dt><span>cf_role :</span></dt><dd>face_node_connectivity</dd><dt><span>long_name :</span></dt><dd>Maps every face to its corner nodes.</dd><dt><span>_FillValue :</span></dt><dd>4294967295</dd><dt><span>start_index :</span></dt><dd>0</dd></dl></div><div class='xr-var-data'><pre>[15728640 values with dtype=uint32]</pre></div></li><li class='xr-var-item'><div class='xr-var-name'><span>mesh_depth</span></div><div class='xr-var-dims'>(meshLayers, nMeshNodes)</div><div class='xr-var-dtype'>float64</div><div class='xr-var-preview xr-preview'>...</div><input id='attrs-fd7b0e55-9c29-417a-a4be-f78b4e305437' class='xr-var-attrs-in' type='checkbox' ><label for='attrs-fd7b0e55-9c29-417a-a4be-f78b4e305437' title='Show/Hide attributes'><svg class='icon xr-icon-file-text2'><use xlink:href='#icon-file-text2'></use></svg></label><input id='data-60699b6c-8c47-4b3d-b38c-2b3c3d930f09' class='xr-var-data-in' type='checkbox'><label for='data-60699b6c-8c47-4b3d-b38c-2b3c3d930f09' title='Show/Hide data repr'><svg class='icon xr-icon-database'><use xlink:href='#icon-database'></use></svg></label><div class='xr-var-attrs'><dl class='xr-attrs'><dt><span>units :</span></dt><dd>meters</dd><dt><span>positive :</span></dt><dd>up</dd><dt><span>standard_name :</span></dt><dd>elevation</dd><dt><span>mesh :</span></dt><dd>mesh</dd><dt><span>location :</span></dt><dd>node</dd></dl></div><div class='xr-var-data'><pre>[122880000 values with dtype=float64]</pre></div></li></ul></div></li><li class='xr-section-item'><input id='section-c397f3f0-704e-4c52-857f-6a3ca5a691a2' class='xr-section-summary-in' type='checkbox' disabled ><label for='section-c397f3f0-704e-4c52-857f-6a3ca5a691a2' class='xr-section-summary'  title='Expand/collapse section'>Attributes: <span>(0)</span></label><div class='xr-section-inline-details'></div><div class='xr-section-details'><dl class='xr-attrs'></dl></div></li></ul></div></div>"
      ],
      "text/plain": [
       "<xarray.Dataset>\n",
       "Dimensions:          (nMeshFaces: 3932160, nFaceNodes: 4, nMeshNodes: 6144000, meshLayers: 20)\n",
       "Coordinates:\n",
       "    mesh_node_x      (nMeshNodes) float64 ...\n",
       "    mesh_node_y      (nMeshNodes) float64 ...\n",
       "Dimensions without coordinates: nMeshFaces, nFaceNodes, nMeshNodes, meshLayers\n",
       "Data variables:\n",
       "    mesh             int32 ...\n",
       "    mesh_face_nodes  (nMeshFaces, nFaceNodes) uint32 ...\n",
       "    mesh_depth       (meshLayers, nMeshNodes) float64 ..."
      ]
     },
     "execution_count": 4,
     "metadata": {},
     "output_type": "execute_result"
    }
   ],
   "source": [
    "ds_grid.ds"
   ]
  },
  {
   "cell_type": "code",
   "execution_count": 5,
   "id": "493af850-6f6b-4c0c-a9a9-c662142b223a",
   "metadata": {},
   "outputs": [],
   "source": [
    "x = ds_grid.ds['mesh_node_x'].values\n",
    "y = ds_grid.ds['mesh_node_y'].values\n",
    "face_nodes = ds_grid.ds['mesh_face_nodes'].values.astype(int)"
   ]
  },
  {
   "cell_type": "code",
   "execution_count": 6,
   "id": "9740a49a-e2da-4851-9de9-a7c91a307ba8",
   "metadata": {},
   "outputs": [],
   "source": [
    "var_dict = ds_grid.ds_var_names\n",
    "ugrid_dict = dict((k, v) for k,v in var_dict.items())"
   ]
  },
  {
   "cell_type": "code",
   "execution_count": 7,
   "id": "e532f0cb-297c-4bd3-80cc-fd8def519c8f",
   "metadata": {},
   "outputs": [],
   "source": [
    "# Specify Time and Elevation Slice\n",
    "t, level = 0, 0\n",
    "\n",
    "# Data Variable to Plot\n",
    "v1 = ds_v1['v1'][t][level].values"
   ]
  },
  {
   "cell_type": "markdown",
   "id": "a357713d-da7c-4306-9136-94c23453035a",
   "metadata": {},
   "source": [
    "# PolygonArray Bottleneck"
   ]
  },
  {
   "cell_type": "code",
   "execution_count": 15,
   "id": "c838c8ee-1f95-4300-a710-e502acba5d46",
   "metadata": {},
   "outputs": [],
   "source": [
    "def test_to_list(n):\n",
    "    poly_array = np.ones((n, 1, 8))\n",
    "    a = poly_array.tolist()"
   ]
  },
  {
   "cell_type": "code",
   "execution_count": 16,
   "id": "96fa38b5-4414-4667-bd79-89d596d6dcbf",
   "metadata": {},
   "outputs": [],
   "source": [
    "def test_polygon_array(n):\n",
    "    poly_array = np.ones((n, 1, 8))\n",
    "    polygons = sp.geometry.PolygonArray(poly_array.tolist())"
   ]
  },
  {
   "cell_type": "code",
   "execution_count": 29,
   "id": "38359537-ed23-40db-b479-dda6106783f6",
   "metadata": {},
   "outputs": [
    {
     "data": {
      "text/plain": [
       "[1000, 10000, 100000, 1000000, 10000000]"
      ]
     },
     "execution_count": 29,
     "metadata": {},
     "output_type": "execute_result"
    }
   ],
   "source": [
    "n_list = [10**n for n in range(3, 8)]\n",
    "n_list"
   ]
  },
  {
   "cell_type": "code",
   "execution_count": 30,
   "id": "4aa4f7fb-f6cb-406f-989c-78a50c03d432",
   "metadata": {},
   "outputs": [
    {
     "name": "stdout",
     "output_type": "stream",
     "text": [
      "Test: tolist()\n",
      "\n",
      "\n",
      "Number of Polygons: 1000\n",
      "264 µs ± 72.4 µs per loop (mean ± std. dev. of 3 runs, 5 loops each)\n",
      "\n",
      "\n",
      "Number of Polygons: 10000\n",
      "2.18 ms ± 101 µs per loop (mean ± std. dev. of 3 runs, 5 loops each)\n",
      "\n",
      "\n",
      "Number of Polygons: 100000\n",
      "37.4 ms ± 457 µs per loop (mean ± std. dev. of 3 runs, 5 loops each)\n",
      "\n",
      "\n",
      "Number of Polygons: 1000000\n",
      "446 ms ± 515 µs per loop (mean ± std. dev. of 3 runs, 5 loops each)\n",
      "\n",
      "\n",
      "Number of Polygons: 10000000\n",
      "4.55 s ± 30.6 ms per loop (mean ± std. dev. of 3 runs, 5 loops each)\n"
     ]
    }
   ],
   "source": [
    "print(\"Test: tolist()\")\n",
    "for n in n_list:\n",
    "    print(\"\\n\")\n",
    "    print(\"Number of Polygons: {}\".format(n))\n",
    "    %timeit -r 3 -n 5 test_to_list(n) "
   ]
  },
  {
   "cell_type": "code",
   "execution_count": 31,
   "id": "c66fdd4c-61e0-4805-953f-f5a368821ed9",
   "metadata": {},
   "outputs": [
    {
     "name": "stdout",
     "output_type": "stream",
     "text": [
      "Test: PolygonArray\n",
      "\n",
      "\n",
      "Number of Polygons: 1000\n",
      "1.81 ms ± 115 µs per loop (mean ± std. dev. of 3 runs, 5 loops each)\n",
      "\n",
      "\n",
      "Number of Polygons: 10000\n",
      "15.9 ms ± 204 µs per loop (mean ± std. dev. of 3 runs, 5 loops each)\n",
      "\n",
      "\n",
      "Number of Polygons: 100000\n",
      "181 ms ± 2.06 ms per loop (mean ± std. dev. of 3 runs, 5 loops each)\n",
      "\n",
      "\n",
      "Number of Polygons: 1000000\n",
      "1.95 s ± 8.81 ms per loop (mean ± std. dev. of 3 runs, 5 loops each)\n",
      "\n",
      "\n",
      "Number of Polygons: 10000000\n",
      "19.7 s ± 86.9 ms per loop (mean ± std. dev. of 3 runs, 5 loops each)\n"
     ]
    }
   ],
   "source": [
    "print(\"Test: PolygonArray\")\n",
    "for n in n_list:\n",
    "    print(\"\\n\")\n",
    "    print(\"Number of Polygons: {}\".format(n))\n",
    "    %timeit -r 3 -n 5 test_polygon_array(n) "
   ]
  },
  {
   "cell_type": "markdown",
   "id": "67ca0109-7035-4560-b687-3856b7ebebc2",
   "metadata": {},
   "source": [
    "# PyGeos"
   ]
  },
  {
   "cell_type": "code",
   "execution_count": 49,
   "id": "30f23493-eef3-4a25-817f-e5fdb3270e5a",
   "metadata": {},
   "outputs": [],
   "source": [
    "import pygeos as pg\n",
    "import pyarrow as pa"
   ]
  },
  {
   "cell_type": "code",
   "execution_count": 50,
   "id": "68f77d13-5641-4fee-89af-89bf08bf62df",
   "metadata": {},
   "outputs": [
    {
     "name": "stdout",
     "output_type": "stream",
     "text": [
      "(3932160, 4) (3932160, 4) 3932160\n"
     ]
    }
   ],
   "source": [
    "index = face_nodes.astype(int)\n",
    "x_coords = x[index]\n",
    "y_coords = y[index]\n",
    "n = len(y_coords)\n",
    "print(x_coords.shape, y_coords.shape, n)"
   ]
  },
  {
   "cell_type": "code",
   "execution_count": 51,
   "id": "4aebc68e-c129-4ec6-8791-ad98654b38a1",
   "metadata": {},
   "outputs": [],
   "source": [
    "# want [n x 4 x 2] dimensions\n",
    "polygons = np.zeros((n, 4, 2))\n",
    "polygons[:, :, 0] = x_coords\n",
    "polygons[:, :, 1] = y_coords"
   ]
  },
  {
   "cell_type": "code",
   "execution_count": 71,
   "id": "c69c9e4b-c2ad-4869-b0c6-f1b089c7f3ef",
   "metadata": {},
   "outputs": [
    {
     "name": "stdout",
     "output_type": "stream",
     "text": [
      "CPU times: user 2.45 s, sys: 771 ms, total: 3.22 s\n",
      "Wall time: 3.23 s\n"
     ]
    }
   ],
   "source": [
    "%%time\n",
    "geo = pg.polygons(polygons)\n"
   ]
  },
  {
   "cell_type": "code",
   "execution_count": 70,
   "id": "c1d2ce7c-e23f-453e-affb-a33336f4df72",
   "metadata": {},
   "outputs": [
    {
     "data": {
      "text/plain": [
       "<pygeos.Geometry MULTIPOLYGON (((0 89.192, 4.991 89.238, 5.128 89.301, 0 89....>"
      ]
     },
     "execution_count": 70,
     "metadata": {},
     "output_type": "execute_result"
    }
   ],
   "source": [
    "geo"
   ]
  },
  {
   "cell_type": "code",
   "execution_count": 73,
   "id": "bc0ddc8a-e32e-41e4-914b-4eb752ca3105",
   "metadata": {},
   "outputs": [
    {
     "ename": "ArrowInvalid",
     "evalue": "Could not convert <pygeos.Geometry POLYGON ((0 89.192, 4.991 89.238, 5.128 89.301, 0 89.262, 0...> with type pygeos.lib.Geometry: did not recognize Python value type when inferring an Arrow data type",
     "output_type": "error",
     "traceback": [
      "\u001b[0;31m---------------------------------------------------------------------------\u001b[0m",
      "\u001b[0;31mArrowInvalid\u001b[0m                              Traceback (most recent call last)",
      "Input \u001b[0;32mIn [73]\u001b[0m, in \u001b[0;36m<cell line: 1>\u001b[0;34m()\u001b[0m\n\u001b[0;32m----> 1\u001b[0m out \u001b[38;5;241m=\u001b[39m \u001b[43mspatialpandas\u001b[49m\u001b[38;5;241;43m.\u001b[39;49m\u001b[43mgeometry\u001b[49m\u001b[38;5;241;43m.\u001b[39;49m\u001b[43mMultiPolygonArray\u001b[49m\u001b[43m(\u001b[49m\u001b[43mgeo\u001b[49m\u001b[43m)\u001b[49m\n\u001b[1;32m      2\u001b[0m df \u001b[38;5;241m=\u001b[39m sp\u001b[38;5;241m.\u001b[39mGeoDataFrame({\u001b[38;5;124m'\u001b[39m\u001b[38;5;124mgeometry\u001b[39m\u001b[38;5;124m'\u001b[39m: out})\n",
      "File \u001b[0;32m~/.conda/envs/viz/lib/python3.10/site-packages/spatialpandas/geometry/baselist.py:213\u001b[0m, in \u001b[0;36mGeometryListArray.__init__\u001b[0;34m(self, array, dtype)\u001b[0m\n\u001b[1;32m    212\u001b[0m \u001b[38;5;28;01mdef\u001b[39;00m \u001b[38;5;21m__init__\u001b[39m(\u001b[38;5;28mself\u001b[39m, array, dtype\u001b[38;5;241m=\u001b[39m\u001b[38;5;28;01mNone\u001b[39;00m):\n\u001b[0;32m--> 213\u001b[0m     \u001b[38;5;28;43msuper\u001b[39;49m\u001b[43m(\u001b[49m\u001b[43m)\u001b[49m\u001b[38;5;241;43m.\u001b[39;49m\u001b[38;5;21;43m__init__\u001b[39;49m\u001b[43m(\u001b[49m\u001b[43marray\u001b[49m\u001b[43m,\u001b[49m\u001b[43m \u001b[49m\u001b[43mdtype\u001b[49m\u001b[43m)\u001b[49m\n\u001b[1;32m    215\u001b[0m     \u001b[38;5;66;03m# Set listarray property for _ListArrayBufferMixin\u001b[39;00m\n\u001b[1;32m    216\u001b[0m     \u001b[38;5;28mself\u001b[39m\u001b[38;5;241m.\u001b[39mlistarray \u001b[38;5;241m=\u001b[39m \u001b[38;5;28mself\u001b[39m\u001b[38;5;241m.\u001b[39mdata\n",
      "File \u001b[0;32m~/.conda/envs/viz/lib/python3.10/site-packages/spatialpandas/geometry/base.py:242\u001b[0m, in \u001b[0;36mGeometryArray.__init__\u001b[0;34m(self, array, dtype, copy)\u001b[0m\n\u001b[1;32m    240\u001b[0m \u001b[38;5;28;01mif\u001b[39;00m is_array_like(array) \u001b[38;5;129;01mor\u001b[39;00m \u001b[38;5;28misinstance\u001b[39m(array, \u001b[38;5;28mlist\u001b[39m):\n\u001b[1;32m    241\u001b[0m     array \u001b[38;5;241m=\u001b[39m [_unwrap_geometry(el, \u001b[38;5;28mself\u001b[39m\u001b[38;5;241m.\u001b[39m_element_type) \u001b[38;5;28;01mfor\u001b[39;00m el \u001b[38;5;129;01min\u001b[39;00m array]\n\u001b[0;32m--> 242\u001b[0m     array \u001b[38;5;241m=\u001b[39m \u001b[43mpa\u001b[49m\u001b[38;5;241;43m.\u001b[39;49m\u001b[43marray\u001b[49m\u001b[43m(\u001b[49m\u001b[43marray\u001b[49m\u001b[43m,\u001b[49m\u001b[43m \u001b[49m\u001b[38;5;28;43mtype\u001b[39;49m\u001b[38;5;241;43m=\u001b[39;49m\u001b[43marrow_dtype\u001b[49m\u001b[43m)\u001b[49m\n\u001b[1;32m    243\u001b[0m \u001b[38;5;28;01melif\u001b[39;00m \u001b[38;5;28misinstance\u001b[39m(array, pa\u001b[38;5;241m.\u001b[39mArray):\n\u001b[1;32m    244\u001b[0m     \u001b[38;5;66;03m# Nothing to do\u001b[39;00m\n\u001b[1;32m    245\u001b[0m     \u001b[38;5;28;01mpass\u001b[39;00m\n",
      "File \u001b[0;32m~/.conda/envs/viz/lib/python3.10/site-packages/pyarrow/array.pxi:316\u001b[0m, in \u001b[0;36mpyarrow.lib.array\u001b[0;34m()\u001b[0m\n",
      "File \u001b[0;32m~/.conda/envs/viz/lib/python3.10/site-packages/pyarrow/array.pxi:39\u001b[0m, in \u001b[0;36mpyarrow.lib._sequence_to_array\u001b[0;34m()\u001b[0m\n",
      "File \u001b[0;32m~/.conda/envs/viz/lib/python3.10/site-packages/pyarrow/error.pxi:144\u001b[0m, in \u001b[0;36mpyarrow.lib.pyarrow_internal_check_status\u001b[0;34m()\u001b[0m\n",
      "File \u001b[0;32m~/.conda/envs/viz/lib/python3.10/site-packages/pyarrow/error.pxi:100\u001b[0m, in \u001b[0;36mpyarrow.lib.check_status\u001b[0;34m()\u001b[0m\n",
      "\u001b[0;31mArrowInvalid\u001b[0m: Could not convert <pygeos.Geometry POLYGON ((0 89.192, 4.991 89.238, 5.128 89.301, 0 89.262, 0...> with type pygeos.lib.Geometry: did not recognize Python value type when inferring an Arrow data type"
     ]
    }
   ],
   "source": [
    "out = spatialpandas.geometry.MultiPolygonArray(geo)\n",
    "df = sp.GeoDataFrame({'geometry': out})"
   ]
  },
  {
   "cell_type": "code",
   "execution_count": 48,
   "id": "a68e1f16-183c-4ad8-95b3-24f3d0faadab",
   "metadata": {},
   "outputs": [
    {
     "name": "stdout",
     "output_type": "stream",
     "text": [
      "CPU times: user 4.23 s, sys: 144 ms, total: 4.38 s\n",
      "Wall time: 4.38 s\n"
     ]
    }
   ],
   "source": [
    "%%time\n",
    "arr_flat, part_indices = pg.get_parts(geo, return_index=True)\n",
    "offsets1 = np.insert(np.bincount(part_indices).cumsum(), 0, 0)\n",
    "arr_flat2, ring_indices = pg.geometry.get_rings(arr_flat, return_index=True)\n",
    "offsets2 = np.insert(np.bincount(ring_indices).cumsum(), 0, 0)\n",
    "coords, indices = pg.get_coordinates(arr_flat2, return_index=True)\n",
    "offsets3 = np.insert(np.bincount(indices).cumsum(), 0, 0)\n",
    "\n",
    "coords_flat = coords.ravel()\n",
    "offsets3 *= 2\n",
    "\n",
    "# create a pyarrow array from this\n",
    "_parr3 = pa.ListArray.from_arrays(pa.array(offsets3), pa.array(coords_flat))\n",
    "_parr2 = pa.ListArray.from_arrays(pa.array(offsets2), _parr3)\n",
    "parr = pa.ListArray.from_arrays(pa.array(offsets1), _parr2)\n",
    "\n",
    "out = spatialpandas.geometry.MultiPolygonArray(parr)"
   ]
  },
  {
   "cell_type": "code",
   "execution_count": 46,
   "id": "28c81732-4361-49ad-897a-a0eff7fde62e",
   "metadata": {},
   "outputs": [],
   "source": [
    "df = sp.GeoDataFrame({'geometry': out})"
   ]
  },
  {
   "cell_type": "code",
   "execution_count": 47,
   "id": "b5dddd58-27d7-45d2-b2cb-6d4980874a66",
   "metadata": {},
   "outputs": [
    {
     "data": {
      "text/html": [
       "<div>\n",
       "<style scoped>\n",
       "    .dataframe tbody tr th:only-of-type {\n",
       "        vertical-align: middle;\n",
       "    }\n",
       "\n",
       "    .dataframe tbody tr th {\n",
       "        vertical-align: top;\n",
       "    }\n",
       "\n",
       "    .dataframe thead th {\n",
       "        text-align: right;\n",
       "    }\n",
       "</style>\n",
       "<table border=\"1\" class=\"dataframe\">\n",
       "  <thead>\n",
       "    <tr style=\"text-align: right;\">\n",
       "      <th></th>\n",
       "      <th>geometry</th>\n",
       "    </tr>\n",
       "  </thead>\n",
       "  <tbody>\n",
       "    <tr>\n",
       "      <th>0</th>\n",
       "      <td>MultiPolygon([[[0.0, 89.19234422049671, 4.9905...</td>\n",
       "    </tr>\n",
       "    <tr>\n",
       "      <th>1</th>\n",
       "      <td>MultiPolygon([[[4.990573301226268, 89.23763239...</td>\n",
       "    </tr>\n",
       "    <tr>\n",
       "      <th>2</th>\n",
       "      <td>MultiPolygon([[[16.03568682344074, 89.30480405...</td>\n",
       "    </tr>\n",
       "    <tr>\n",
       "      <th>3</th>\n",
       "      <td>MultiPolygon([[[28.84955151877949, 89.34145656...</td>\n",
       "    </tr>\n",
       "    <tr>\n",
       "      <th>4</th>\n",
       "      <td>MultiPolygon([[[0.0, 89.26207414750719, 5.1276...</td>\n",
       "    </tr>\n",
       "    <tr>\n",
       "      <th>...</th>\n",
       "      <td>...</td>\n",
       "    </tr>\n",
       "    <tr>\n",
       "      <th>3932155</th>\n",
       "      <td>MultiPolygon([[[36.59656383981396, -26.9269271...</td>\n",
       "    </tr>\n",
       "    <tr>\n",
       "      <th>3932156</th>\n",
       "      <td>MultiPolygon([[[36.40526181302508, -26.7285724...</td>\n",
       "    </tr>\n",
       "    <tr>\n",
       "      <th>3932157</th>\n",
       "      <td>MultiPolygon([[[36.471060549948376, -26.751452...</td>\n",
       "    </tr>\n",
       "    <tr>\n",
       "      <th>3932158</th>\n",
       "      <td>MultiPolygon([[[36.595865107639355, -26.794741...</td>\n",
       "    </tr>\n",
       "    <tr>\n",
       "      <th>3932159</th>\n",
       "      <td>MultiPolygon([[[36.72076510152079, -26.8379203...</td>\n",
       "    </tr>\n",
       "  </tbody>\n",
       "</table>\n",
       "<p>3932160 rows × 1 columns</p>\n",
       "</div>"
      ],
      "text/plain": [
       "                                                  geometry\n",
       "0        MultiPolygon([[[0.0, 89.19234422049671, 4.9905...\n",
       "1        MultiPolygon([[[4.990573301226268, 89.23763239...\n",
       "2        MultiPolygon([[[16.03568682344074, 89.30480405...\n",
       "3        MultiPolygon([[[28.84955151877949, 89.34145656...\n",
       "4        MultiPolygon([[[0.0, 89.26207414750719, 5.1276...\n",
       "...                                                    ...\n",
       "3932155  MultiPolygon([[[36.59656383981396, -26.9269271...\n",
       "3932156  MultiPolygon([[[36.40526181302508, -26.7285724...\n",
       "3932157  MultiPolygon([[[36.471060549948376, -26.751452...\n",
       "3932158  MultiPolygon([[[36.595865107639355, -26.794741...\n",
       "3932159  MultiPolygon([[[36.72076510152079, -26.8379203...\n",
       "\n",
       "[3932160 rows x 1 columns]"
      ]
     },
     "execution_count": 47,
     "metadata": {},
     "output_type": "execute_result"
    }
   ],
   "source": [
    "df"
   ]
  },
  {
   "cell_type": "code",
   "execution_count": 37,
   "id": "f2127d3b-ebc9-4ee1-b88e-e1d44944cf8b",
   "metadata": {},
   "outputs": [
    {
     "ename": "ArrowInvalid",
     "evalue": "Could not convert <pygeos.Geometry POLYGON ((0 89.192, 4.991 89.238, 5.128 89.301, 0 89.262, 0...> with type pygeos.lib.Geometry: did not recognize Python value type when inferring an Arrow data type",
     "output_type": "error",
     "traceback": [
      "\u001b[0;31m---------------------------------------------------------------------------\u001b[0m",
      "\u001b[0;31mArrowInvalid\u001b[0m                              Traceback (most recent call last)",
      "Input \u001b[0;32mIn [37]\u001b[0m, in \u001b[0;36m<cell line: 1>\u001b[0;34m()\u001b[0m\n\u001b[0;32m----> 1\u001b[0m out \u001b[38;5;241m=\u001b[39m \u001b[43msp\u001b[49m\u001b[38;5;241;43m.\u001b[39;49m\u001b[43mgeometry\u001b[49m\u001b[38;5;241;43m.\u001b[39;49m\u001b[43mMultiPolygonArray\u001b[49m\u001b[43m(\u001b[49m\u001b[43marr_flat\u001b[49m\u001b[43m)\u001b[49m\n",
      "File \u001b[0;32m~/.conda/envs/viz/lib/python3.10/site-packages/spatialpandas/geometry/baselist.py:213\u001b[0m, in \u001b[0;36mGeometryListArray.__init__\u001b[0;34m(self, array, dtype)\u001b[0m\n\u001b[1;32m    212\u001b[0m \u001b[38;5;28;01mdef\u001b[39;00m \u001b[38;5;21m__init__\u001b[39m(\u001b[38;5;28mself\u001b[39m, array, dtype\u001b[38;5;241m=\u001b[39m\u001b[38;5;28;01mNone\u001b[39;00m):\n\u001b[0;32m--> 213\u001b[0m     \u001b[38;5;28;43msuper\u001b[39;49m\u001b[43m(\u001b[49m\u001b[43m)\u001b[49m\u001b[38;5;241;43m.\u001b[39;49m\u001b[38;5;21;43m__init__\u001b[39;49m\u001b[43m(\u001b[49m\u001b[43marray\u001b[49m\u001b[43m,\u001b[49m\u001b[43m \u001b[49m\u001b[43mdtype\u001b[49m\u001b[43m)\u001b[49m\n\u001b[1;32m    215\u001b[0m     \u001b[38;5;66;03m# Set listarray property for _ListArrayBufferMixin\u001b[39;00m\n\u001b[1;32m    216\u001b[0m     \u001b[38;5;28mself\u001b[39m\u001b[38;5;241m.\u001b[39mlistarray \u001b[38;5;241m=\u001b[39m \u001b[38;5;28mself\u001b[39m\u001b[38;5;241m.\u001b[39mdata\n",
      "File \u001b[0;32m~/.conda/envs/viz/lib/python3.10/site-packages/spatialpandas/geometry/base.py:242\u001b[0m, in \u001b[0;36mGeometryArray.__init__\u001b[0;34m(self, array, dtype, copy)\u001b[0m\n\u001b[1;32m    240\u001b[0m \u001b[38;5;28;01mif\u001b[39;00m is_array_like(array) \u001b[38;5;129;01mor\u001b[39;00m \u001b[38;5;28misinstance\u001b[39m(array, \u001b[38;5;28mlist\u001b[39m):\n\u001b[1;32m    241\u001b[0m     array \u001b[38;5;241m=\u001b[39m [_unwrap_geometry(el, \u001b[38;5;28mself\u001b[39m\u001b[38;5;241m.\u001b[39m_element_type) \u001b[38;5;28;01mfor\u001b[39;00m el \u001b[38;5;129;01min\u001b[39;00m array]\n\u001b[0;32m--> 242\u001b[0m     array \u001b[38;5;241m=\u001b[39m \u001b[43mpa\u001b[49m\u001b[38;5;241;43m.\u001b[39;49m\u001b[43marray\u001b[49m\u001b[43m(\u001b[49m\u001b[43marray\u001b[49m\u001b[43m,\u001b[49m\u001b[43m \u001b[49m\u001b[38;5;28;43mtype\u001b[39;49m\u001b[38;5;241;43m=\u001b[39;49m\u001b[43marrow_dtype\u001b[49m\u001b[43m)\u001b[49m\n\u001b[1;32m    243\u001b[0m \u001b[38;5;28;01melif\u001b[39;00m \u001b[38;5;28misinstance\u001b[39m(array, pa\u001b[38;5;241m.\u001b[39mArray):\n\u001b[1;32m    244\u001b[0m     \u001b[38;5;66;03m# Nothing to do\u001b[39;00m\n\u001b[1;32m    245\u001b[0m     \u001b[38;5;28;01mpass\u001b[39;00m\n",
      "File \u001b[0;32m~/.conda/envs/viz/lib/python3.10/site-packages/pyarrow/array.pxi:316\u001b[0m, in \u001b[0;36mpyarrow.lib.array\u001b[0;34m()\u001b[0m\n",
      "File \u001b[0;32m~/.conda/envs/viz/lib/python3.10/site-packages/pyarrow/array.pxi:39\u001b[0m, in \u001b[0;36mpyarrow.lib._sequence_to_array\u001b[0;34m()\u001b[0m\n",
      "File \u001b[0;32m~/.conda/envs/viz/lib/python3.10/site-packages/pyarrow/error.pxi:144\u001b[0m, in \u001b[0;36mpyarrow.lib.pyarrow_internal_check_status\u001b[0;34m()\u001b[0m\n",
      "File \u001b[0;32m~/.conda/envs/viz/lib/python3.10/site-packages/pyarrow/error.pxi:100\u001b[0m, in \u001b[0;36mpyarrow.lib.check_status\u001b[0;34m()\u001b[0m\n",
      "\u001b[0;31mArrowInvalid\u001b[0m: Could not convert <pygeos.Geometry POLYGON ((0 89.192, 4.991 89.238, 5.128 89.301, 0 89.262, 0...> with type pygeos.lib.Geometry: did not recognize Python value type when inferring an Arrow data type"
     ]
    }
   ],
   "source": [
    "out = sp.geometry.MultiPolygonArray(pa.ListArray(arr_flat))"
   ]
  },
  {
   "cell_type": "markdown",
   "id": "93778a65-7c15-458c-8cea-c3bf15ec4a01",
   "metadata": {},
   "source": [
    "# PyGeos and PGPD"
   ]
  },
  {
   "cell_type": "code",
   "execution_count": 115,
   "id": "66546fd4-152a-4c87-87b2-652510d0f660",
   "metadata": {},
   "outputs": [],
   "source": [
    "import pandas as pd\n",
    "import pygeos as pg\n",
    "import pgpd"
   ]
  },
  {
   "cell_type": "code",
   "execution_count": 102,
   "id": "85a384b3-e5a2-4a84-8754-4461cc5e3236",
   "metadata": {},
   "outputs": [
    {
     "name": "stdout",
     "output_type": "stream",
     "text": [
      "3932160 3932160\n"
     ]
    }
   ],
   "source": [
    "index = face_nodes.astype(int)\n",
    "x_coords = x[index]\n",
    "y_coords = y[index]\n",
    "data = np.mean(data[index], axis=1)\n",
    "n = len(y_coords)\n",
    "\n",
    "print(n, len(data))"
   ]
  },
  {
   "cell_type": "code",
   "execution_count": 78,
   "id": "dc0f9b29-d80a-4bd0-b9a5-c8d85185f957",
   "metadata": {},
   "outputs": [],
   "source": [
    "# want [n x 4 x 2] dimensions\n",
    "polygons = np.zeros((n, 4, 2))\n",
    "polygons[:, :, 0] = x_coords\n",
    "polygons[:, :, 1] = y_coords"
   ]
  },
  {
   "cell_type": "code",
   "execution_count": 106,
   "id": "db811759-ba54-47ba-b8cc-39e57f494ab8",
   "metadata": {},
   "outputs": [],
   "source": [
    "geo = pg.polygons(polygons)"
   ]
  },
  {
   "cell_type": "code",
   "execution_count": 119,
   "id": "ba459c5e-ed70-4710-a086-2fb1a5969aee",
   "metadata": {},
   "outputs": [],
   "source": [
    "df = pd.DataFrame({\"poly\": geo, \"faces\" : data})\n",
    "df = df.astype({'poly':'geos'})\n"
   ]
  },
  {
   "cell_type": "code",
   "execution_count": 121,
   "id": "8fb91118-d6d4-49a4-8cd3-6fee0abb10c5",
   "metadata": {},
   "outputs": [
    {
     "data": {
      "text/plain": [
       "geopandas.geodataframe.GeoDataFrame"
      ]
     },
     "execution_count": 121,
     "metadata": {},
     "output_type": "execute_result"
    }
   ],
   "source": [
    "type(df.geos.to_geopandas(geometry='poly'))"
   ]
  },
  {
   "cell_type": "code",
   "execution_count": null,
   "id": "ccc51959-ee38-440e-83b7-978ebe79c7e6",
   "metadata": {},
   "outputs": [],
   "source": []
  }
 ],
 "metadata": {
  "kernelspec": {
   "display_name": "Python [conda env:.conda-viz]",
   "language": "python",
   "name": "conda-env-.conda-viz-py"
  },
  "language_info": {
   "codemirror_mode": {
    "name": "ipython",
    "version": 3
   },
   "file_extension": ".py",
   "mimetype": "text/x-python",
   "name": "python",
   "nbconvert_exporter": "python",
   "pygments_lexer": "ipython3",
   "version": "3.10.4"
  }
 },
 "nbformat": 4,
 "nbformat_minor": 5
}
