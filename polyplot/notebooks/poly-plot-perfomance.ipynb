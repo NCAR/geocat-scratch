{
 "cells": [
  {
   "cell_type": "code",
   "execution_count": 3,
   "id": "45e989ca-8aea-4646-95af-96fb857c6a0e",
   "metadata": {},
   "outputs": [],
   "source": [
    "import numpy as np\n",
    "import xarray as xr\n",
    "import cartopy.crs as ccrs\n",
    "import cmocean\n",
    "import spatialpandas.dask \n",
    "import dask as da\n",
    "import dask.dataframe as dd\n",
    "import matplotlib.pyplot as plt\n",
    "import pandas as pd\n",
    "\n",
    "import uxarray as ux\n",
    "\n",
    "import holoviews as hv\n",
    "from holoviews import opts\n",
    "from holoviews.operation.datashader import rasterize\n",
    "import datashader as ds\n",
    "import datashader.transfer_functions as tf\n",
    "import geoviews.feature as gf\n",
    "\n",
    "import spatialpandas as sp\n",
    "\n",
    "from matplotlib.tri import Triangulation as mpl_delaunay  "
   ]
  },
  {
   "cell_type": "code",
   "execution_count": 4,
   "id": "6c2f5cce-69a0-4ccc-aeaf-3e07ec1d5705",
   "metadata": {},
   "outputs": [
    {
     "name": "stdout",
     "output_type": "stream",
     "text": [
      "The autoreload extension is already loaded. To reload it, use:\n",
      "  %reload_ext autoreload\n"
     ]
    }
   ],
   "source": [
    "import sys\n",
    "%load_ext autoreload\n",
    "%autoreload 2\n",
    "\n",
    "sys.path.insert(1, '/glade/u/home/philipc/geocat-internal-testing/polyplot/')\n",
    "\n",
    "from polyplot import poly_plot as pp"
   ]
  },
  {
   "cell_type": "markdown",
   "id": "7307f9af-b23f-44a8-9768-4bd83bebfb7d",
   "metadata": {},
   "source": [
    "# Data (Small)"
   ]
  },
  {
   "cell_type": "code",
   "execution_count": 82,
   "id": "98513026-1752-4270-95cb-ee38525e40e0",
   "metadata": {},
   "outputs": [
    {
     "name": "stdout",
     "output_type": "stream",
     "text": [
      "Loading initial grid from file:  /glade/p/cisl/vast/vapor/data/Source/UGRID/NOAA-geoflow/small/grid.nc\n"
     ]
    }
   ],
   "source": [
    "# GeoFlow Small (6,000 nodes)\n",
    "ds_base_path = \"/glade/p/cisl/vast/vapor/data/Source/UGRID/NOAA-geoflow/small/\"\n",
    "\n",
    "# UXarray\n",
    "ds_grid = ux.open_dataset(ds_base_path + \"grid.nc\",\n",
    "                          ds_base_path + \"v1.000000.nc\",\n",
    "                          ds_base_path + \"v2.000000.nc\",\n",
    "                          ds_base_path + \"v3.000000.nc\")\n"
   ]
  },
  {
   "cell_type": "code",
   "execution_count": 83,
   "id": "a93ba345-7fcc-4cba-b22d-48c10f11e270",
   "metadata": {},
   "outputs": [],
   "source": [
    "# Specify Time and Elevation Slice\n",
    "t, level = 0, 0\n",
    "\n",
    "# Coordinates & Face Data\n",
    "lon_cell = ds_grid.ds['mesh_node_x'].values\n",
    "lat_cell = ds_grid.ds['mesh_node_y'].values\n",
    "face_nodes = ds_grid.ds['mesh_face_nodes'].values\n",
    "\n",
    "# Data Variable to Plot\n",
    "v1 = ds_grid.ds['v1'][t][level].values\n"
   ]
  },
  {
   "cell_type": "code",
   "execution_count": 84,
   "id": "1de20761-44d0-4197-bdd9-1baaf8ece97e",
   "metadata": {},
   "outputs": [
    {
     "data": {
      "text/plain": [
       "6000"
      ]
     },
     "execution_count": 84,
     "metadata": {},
     "output_type": "execute_result"
    }
   ],
   "source": [
    "len(lon_cell)"
   ]
  },
  {
   "cell_type": "markdown",
   "id": "e13804c6-7fc6-4d57-8548-e711b4c133c5",
   "metadata": {
    "jp-MarkdownHeadingCollapsed": true,
    "tags": []
   },
   "source": [
    "## Test with different mem."
   ]
  },
  {
   "cell_type": "markdown",
   "id": "0946b8f3-ebd7-4d44-8acc-f1e7353483f9",
   "metadata": {},
   "source": [
    "# Testing (Small)"
   ]
  },
  {
   "cell_type": "code",
   "execution_count": 25,
   "id": "7d7f1039-a858-45c4-9fb4-20275854c1f2",
   "metadata": {},
   "outputs": [],
   "source": [
    "def poly_plot_workflow():\n",
    "    geoflow = pp(ds=ds_grid)\n",
    "    geoflow.construct_mesh()\n",
    "    df = geoflow.data_mesh(name=\"v1\", dims={\"time\" : 0, \"meshLayers\" : 0}, method=\"Mean\")"
   ]
  },
  {
   "cell_type": "code",
   "execution_count": 26,
   "id": "676cba1f-257c-4c52-b93c-a6666b26fb94",
   "metadata": {},
   "outputs": [
    {
     "name": "stdout",
     "output_type": "stream",
     "text": [
      "18 ms ± 80.3 µs per loop (mean ± std. dev. of 10 runs, 10 loops each)\n"
     ]
    }
   ],
   "source": [
    "%timeit -r 10 -n 10 mpl_delaunay(lon_cell, lat_cell)"
   ]
  },
  {
   "cell_type": "code",
   "execution_count": 27,
   "id": "1b128e4d-fcdc-4248-8d2a-97806b7c1edb",
   "metadata": {},
   "outputs": [
    {
     "name": "stdout",
     "output_type": "stream",
     "text": [
      "14.6 ms ± 123 µs per loop (mean ± std. dev. of 10 runs, 100 loops each)\n"
     ]
    }
   ],
   "source": [
    "%timeit -r 10 -n 100 poly_plot_workflow()"
   ]
  },
  {
   "cell_type": "markdown",
   "id": "997adbd3-7c88-43c8-83a7-5b07a1d01a86",
   "metadata": {},
   "source": [
    "# Data (Large)"
   ]
  },
  {
   "cell_type": "code",
   "execution_count": 85,
   "id": "31e5b668-acb8-4a6e-b878-9af028f738cc",
   "metadata": {},
   "outputs": [
    {
     "name": "stdout",
     "output_type": "stream",
     "text": [
      "Loading initial grid from file:  /glade/p/cisl/vast/vapor/data/Source/UGRID/NOAA-geoflow/large/grid.nc\n"
     ]
    }
   ],
   "source": [
    "# GeoFlow Large (6 mil)\n",
    "ds_base_path = \"/glade/p/cisl/vast/vapor/data/Source/UGRID/NOAA-geoflow/large/\"\n",
    "\n",
    "# UXarray\n",
    "ds_grid = ux.open_dataset(ds_base_path + \"grid.nc\",\n",
    "                          ds_base_path + \"v1.000000.nc\",\n",
    "                          ds_base_path + \"v2.000000.nc\",\n",
    "                          ds_base_path + \"v3.000000.nc\")\n"
   ]
  },
  {
   "cell_type": "code",
   "execution_count": 86,
   "id": "f3b14833-18cf-4cba-a002-cd18e81a1a71",
   "metadata": {},
   "outputs": [],
   "source": [
    "# Specify Time and Elevation Slice\n",
    "t, level = 0, 0\n",
    "\n",
    "# Coordinates & Face Data\n",
    "lon_cell = ds_grid.ds['mesh_node_x'].values\n",
    "lat_cell = ds_grid.ds['mesh_node_y'].values\n",
    "face_nodes = ds_grid.ds['mesh_face_nodes'].values\n",
    "\n",
    "# Data Variable to Plot\n",
    "v1 = ds_grid.ds['v1'][t][level].values\n"
   ]
  },
  {
   "cell_type": "code",
   "execution_count": 87,
   "id": "2ee29a24-f8fa-4026-8a18-2e5e55171163",
   "metadata": {},
   "outputs": [
    {
     "data": {
      "text/plain": [
       "6144000"
      ]
     },
     "execution_count": 87,
     "metadata": {},
     "output_type": "execute_result"
    }
   ],
   "source": [
    "len(lon_cell)"
   ]
  },
  {
   "cell_type": "markdown",
   "id": "98e5aefc-a9b4-4403-a5bd-09dbd906e8af",
   "metadata": {},
   "source": [
    "# Testing (Large)"
   ]
  },
  {
   "cell_type": "code",
   "execution_count": 32,
   "id": "570f1954-ea2b-4836-bfb8-937a173ef3b9",
   "metadata": {},
   "outputs": [],
   "source": [
    "def poly_plot_workflow():\n",
    "    geoflow = pp(ds=ds_grid)\n",
    "    geoflow.construct_mesh()\n",
    "    df = geoflow.data_mesh(name=\"v1\", dims={\"time\" : 0, \"meshLayers\" : 0}, method=\"Mean\")"
   ]
  },
  {
   "cell_type": "code",
   "execution_count": 36,
   "id": "1e463b1b-fd50-47ac-84f0-b44392d4cfa6",
   "metadata": {},
   "outputs": [
    {
     "name": "stdout",
     "output_type": "stream",
     "text": [
      "36.8 s ± 1.78 ms per loop (mean ± std. dev. of 2 runs, 3 loops each)\n"
     ]
    }
   ],
   "source": [
    "%timeit -r 2 -n 3 mpl_delaunay(lon_cell, lat_cell)"
   ]
  },
  {
   "cell_type": "code",
   "execution_count": 37,
   "id": "f08d3d0f-f433-43f8-be32-7861437dcfd5",
   "metadata": {},
   "outputs": [
    {
     "name": "stdout",
     "output_type": "stream",
     "text": [
      "10.6 s ± 41.3 ms per loop (mean ± std. dev. of 2 runs, 3 loops each)\n"
     ]
    }
   ],
   "source": [
    "%timeit -r 2 -n 3 poly_plot_workflow()"
   ]
  },
  {
   "cell_type": "markdown",
   "id": "8c6725b1-1695-4d30-8600-7c1f410a54b8",
   "metadata": {},
   "source": [
    "# Data (Large x2)"
   ]
  },
  {
   "cell_type": "code",
   "execution_count": 105,
   "id": "5fe840b8-46e9-418e-bcb9-f8b9ba32ea7b",
   "metadata": {},
   "outputs": [
    {
     "name": "stdout",
     "output_type": "stream",
     "text": [
      "Loading initial grid from file:  /glade/p/cisl/vast/vapor/data/Source/UGRID/NOAA-geoflow/large/grid.nc\n"
     ]
    }
   ],
   "source": [
    "# GeoFlow Small (6,000 nodes)\n",
    "ds_base_path = \"/glade/p/cisl/vast/vapor/data/Source/UGRID/NOAA-geoflow/large/\"\n",
    "\n",
    "# UXarray\n",
    "ds_grid = ux.open_dataset(ds_base_path + \"grid.nc\",\n",
    "                          ds_base_path + \"v1.000000.nc\",\n",
    "                          ds_base_path + \"v2.000000.nc\",\n",
    "                          ds_base_path + \"v3.000000.nc\")\n"
   ]
  },
  {
   "cell_type": "code",
   "execution_count": 106,
   "id": "fb6d21d9-1f4d-450b-9890-c893fc75d1de",
   "metadata": {},
   "outputs": [],
   "source": [
    "# Specify Time and Elevation Slice\n",
    "t, level = 0, 0\n",
    "\n",
    "# Coordinates & Face Data\n",
    "lon_cell = ds_grid.ds['mesh_node_x'].values\n",
    "lat_cell = ds_grid.ds['mesh_node_y'].values\n",
    "face_nodes = ds_grid.ds['mesh_face_nodes'].values\n",
    "\n",
    "# Data Variable to Plot\n",
    "v1 = ds_grid.ds['v1'][t][level].values\n"
   ]
  },
  {
   "cell_type": "code",
   "execution_count": 107,
   "id": "60c101c6-21aa-4aff-bacb-0adf446d17c3",
   "metadata": {},
   "outputs": [],
   "source": [
    "ds_grid.ds['mesh_node_x'] = np.concatenate((lon_cell, lon_cell))\n",
    "ds_grid.ds['mesh_node_y'] = np.concatenate((lat_cell, lat_cell))\n",
    "ds_grid.ds['mesh_face_nodes']  = ([\"nMeshFaces\",\"nFaceNodes\"], np.concatenate((face_nodes, face_nodes)))\n",
    "ds_grid.ds['v_large'] = np.concatenate((v1, v1))\n"
   ]
  },
  {
   "cell_type": "code",
   "execution_count": 108,
   "id": "25f480b2-8516-43be-83ff-83694085e756",
   "metadata": {},
   "outputs": [],
   "source": [
    "# Coordinates & Face Data\n",
    "lon_cell = ds_grid.ds['mesh_node_x'].values\n",
    "lat_cell = ds_grid.ds['mesh_node_y'].values\n",
    "face_nodes = ds_grid.ds['mesh_face_nodes'].values"
   ]
  },
  {
   "cell_type": "markdown",
   "id": "897abf31-de45-4372-8618-a803ec8a697e",
   "metadata": {},
   "source": [
    "# Testing (Large x2)"
   ]
  },
  {
   "cell_type": "code",
   "execution_count": 109,
   "id": "765c09cb-0737-4a89-a7d3-e85a8f943b9d",
   "metadata": {},
   "outputs": [],
   "source": [
    "def poly_plot_workflow():\n",
    "    geoflow = pp(ds=ds_grid)\n",
    "    geoflow.construct_mesh()\n",
    "    df = geoflow.data_mesh(name=\"v1\", dims={\"time\" : 0, \"meshLayers\" : 0}, method=\"Mean\")\n",
    "    df = geoflow.data_mesh(name=\"v1\", dims={\"time\" : 0, \"meshLayers\" : 0}, method=\"Mean\")"
   ]
  },
  {
   "cell_type": "code",
   "execution_count": 79,
   "id": "c626b8ee-d653-4f5a-9e4e-1770e6f159f1",
   "metadata": {},
   "outputs": [
    {
     "name": "stdout",
     "output_type": "stream",
     "text": [
      "54 s ± 27.9 ms per loop (mean ± std. dev. of 2 runs, 3 loops each)\n"
     ]
    }
   ],
   "source": [
    "%timeit -r 2 -n 3 mpl_delaunay(lon_cell, lat_cell)"
   ]
  },
  {
   "cell_type": "code",
   "execution_count": 110,
   "id": "1d4bba39-a85c-4c45-bc01-d013bb4788bc",
   "metadata": {},
   "outputs": [
    {
     "name": "stdout",
     "output_type": "stream",
     "text": [
      "25.2 s ± 8.34 ms per loop (mean ± std. dev. of 2 runs, 3 loops each)\n"
     ]
    }
   ],
   "source": [
    "%timeit -r 2 -n 3 poly_plot_workflow()"
   ]
  },
  {
   "cell_type": "markdown",
   "id": "a8f47fde-cb5e-44a7-8da2-77537ce3b1aa",
   "metadata": {},
   "source": [
    "# Plots"
   ]
  },
  {
   "cell_type": "code",
   "execution_count": 111,
   "id": "e0ceff83-cd8c-4891-88d6-debeee72b1ac",
   "metadata": {},
   "outputs": [],
   "source": [
    "n = [6000, 6144000, 2*6144000]\n",
    "dl = [0.018, 36.8, 54]\n",
    "poly = [0.014, 10.6, 25.2]"
   ]
  },
  {
   "cell_type": "code",
   "execution_count": 112,
   "id": "2fe9e9ad-2aee-4a71-8706-26e489321c83",
   "metadata": {},
   "outputs": [
    {
     "data": {
      "text/plain": [
       "<matplotlib.legend.Legend at 0x2b6795f89a50>"
      ]
     },
     "execution_count": 112,
     "metadata": {},
     "output_type": "execute_result"
    },
    {
     "data": {
      "image/png": "[encoded data removed]",
      "text/plain": [
       "<Figure size 720x360 with 1 Axes>"
      ]
     },
     "metadata": {
      "needs_background": "light"
     },
     "output_type": "display_data"
    }
   ],
   "source": [
    "plt.figure(figsize=(10,5))\n",
    "plt.plot(n, dl, 'o--', label=\"Delaunay\")\n",
    "plt.plot(n, poly, 'o--', label=\"PolyPlot\")\n",
    "plt.xlabel(\"Edge Nodes\")\n",
    "plt.ylabel(\"Execution Time (seconds)\")\n",
    "plt.title(\"PolyPlot vs Delaunay Performance\")\n",
    "plt.legend()"
   ]
  },
  {
   "cell_type": "code",
   "execution_count": null,
   "id": "dae00cce-5eee-4a32-bc06-ddb058a7d878",
   "metadata": {},
   "outputs": [],
   "source": []
  }
 ],
 "metadata": {
  "kernelspec": {
   "display_name": "Python [conda env:.conda-viz]",
   "language": "python",
   "name": "conda-env-.conda-viz-py"
  },
  "language_info": {
   "codemirror_mode": {
    "name": "ipython",
    "version": 3
   },
   "file_extension": ".py",
   "mimetype": "text/x-python",
   "name": "python",
   "nbconvert_exporter": "python",
   "pygments_lexer": "ipython3",
   "version": "3.10.4"
  }
 },
 "nbformat": 4,
 "nbformat_minor": 5
}
