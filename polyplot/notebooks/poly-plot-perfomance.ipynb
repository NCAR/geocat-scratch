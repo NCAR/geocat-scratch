{
 "cells": [
  {
   "cell_type": "code",
   "execution_count": 1,
   "id": "45e989ca-8aea-4646-95af-96fb857c6a0e",
   "metadata": {},
   "outputs": [],
   "source": [
    "import numpy as np\n",
    "import xarray as xr\n",
    "import cartopy.crs as ccrs\n",
    "import cmocean\n",
    "import spatialpandas.dask \n",
    "import dask as da\n",
    "import dask.distributed as dd\n",
    "import dask.dataframe as dd\n",
    "import timeit\n",
    "\n",
    "from matplotlib.tri import Triangulation as mpl_delaunay  "
   ]
  },
  {
   "cell_type": "code",
   "execution_count": 2,
   "id": "6c2f5cce-69a0-4ccc-aeaf-3e07ec1d5705",
   "metadata": {},
   "outputs": [],
   "source": [
    "%load_ext autoreload\n",
    "%autoreload 2\n",
    "\n",
    "from polyplot import poly_plot as pp"
   ]
  },
  {
   "cell_type": "markdown",
   "id": "7307f9af-b23f-44a8-9768-4bd83bebfb7d",
   "metadata": {},
   "source": [
    "# Data (Small)"
   ]
  },
  {
   "cell_type": "code",
   "execution_count": 3,
   "id": "2c99a708-d27c-4eff-b37e-6294caa54abc",
   "metadata": {},
   "outputs": [],
   "source": [
    "# GeoFlow Small (6,000 nodes)\n",
    "ds_base_path = \"/glade/p/cisl/vast/vapor/data/Source/UGRID/NOAA-geoflow/small/\"\n",
    "ds_grid = xr.open_dataset(ds_base_path + \"grid.nc\")\n",
    "ds_v1 = xr.open_dataset(ds_base_path + \"v1.000000.nc\")\n",
    "ds_v2 = xr.open_dataset(ds_base_path + \"v2.000000.nc\")\n",
    "ds_v3 = xr.open_dataset(ds_base_path + \"v3.000000.nc\")"
   ]
  },
  {
   "cell_type": "code",
   "execution_count": 4,
   "id": "a93ba345-7fcc-4cba-b22d-48c10f11e270",
   "metadata": {},
   "outputs": [],
   "source": [
    "# Specify Time and Elevation Slice\n",
    "t, level = 0, 0\n",
    "\n",
    "# Coordinates & Face Data\n",
    "lon_cell = ds_grid['mesh_node_x'].values\n",
    "lat_cell = ds_grid['mesh_node_y'].values\n",
    "face_nodes = ds_grid['mesh_face_nodes'].values\n",
    "\n",
    "# Set up Projection (experimental)\n",
    "projection = ccrs.Robinson(central_longitude=0)\n",
    "x_pcs, y_pcs, _ = projection.transform_points(ccrs.PlateCarree(), lon_cell, lat_cell).T\n",
    "\n",
    "\n",
    "# Data Variable to Plot\n",
    "v1 = ds_v1['v1'][t][level].values\n",
    "v2 = ds_v2['v2'][t][level].values\n",
    "v3 = ds_v3['v3'][t][level].values"
   ]
  },
  {
   "cell_type": "markdown",
   "id": "e13804c6-7fc6-4d57-8548-e711b4c133c5",
   "metadata": {},
   "source": [
    "## Test with different mem."
   ]
  },
  {
   "cell_type": "markdown",
   "id": "0946b8f3-ebd7-4d44-8acc-f1e7353483f9",
   "metadata": {},
   "source": [
    "# Testing (Small)"
   ]
  },
  {
   "cell_type": "code",
   "execution_count": 8,
   "id": "7d7f1039-a858-45c4-9fb4-20275854c1f2",
   "metadata": {},
   "outputs": [],
   "source": [
    "def poly_plot_workflow():\n",
    "    geoflow = pp(lon_cell, lat_cell, face_nodes)\n",
    "    geoflow.set_data(v1)\n",
    "    geoflow.to_poly_mesh()\n",
    "    df = geoflow.fix_cells()"
   ]
  },
  {
   "cell_type": "code",
   "execution_count": 10,
   "id": "676cba1f-257c-4c52-b93c-a6666b26fb94",
   "metadata": {},
   "outputs": [
    {
     "name": "stdout",
     "output_type": "stream",
     "text": [
      "18.5 ms ± 407 µs per loop (mean ± std. dev. of 10 runs, 10 loops each)\n"
     ]
    }
   ],
   "source": [
    "%timeit -r 10 -n 10 mpl_delaunay(lon_cell, lat_cell)"
   ]
  },
  {
   "cell_type": "code",
   "execution_count": 12,
   "id": "1b128e4d-fcdc-4248-8d2a-97806b7c1edb",
   "metadata": {},
   "outputs": [
    {
     "name": "stdout",
     "output_type": "stream",
     "text": [
      "11.4 ms ± 163 µs per loop (mean ± std. dev. of 10 runs, 100 loops each)\n"
     ]
    }
   ],
   "source": [
    "%timeit -r 10 -n 100 poly_plot_workflow()"
   ]
  },
  {
   "cell_type": "markdown",
   "id": "997adbd3-7c88-43c8-83a7-5b07a1d01a86",
   "metadata": {},
   "source": [
    "# Data (Large)"
   ]
  },
  {
   "cell_type": "code",
   "execution_count": 13,
   "id": "31e5b668-acb8-4a6e-b878-9af028f738cc",
   "metadata": {},
   "outputs": [],
   "source": [
    "# GeoFlow Small (6,000 nodes)\n",
    "ds_base_path = \"/glade/p/cisl/vast/vapor/data/Source/UGRID/NOAA-geoflow/large/\"\n",
    "ds_grid = xr.open_dataset(ds_base_path + \"grid.nc\")\n",
    "ds_v1 = xr.open_dataset(ds_base_path + \"v1.000000.nc\")\n",
    "ds_v2 = xr.open_dataset(ds_base_path + \"v2.000000.nc\")\n",
    "ds_v3 = xr.open_dataset(ds_base_path + \"v3.000000.nc\")"
   ]
  },
  {
   "cell_type": "code",
   "execution_count": 14,
   "id": "f3b14833-18cf-4cba-a002-cd18e81a1a71",
   "metadata": {},
   "outputs": [],
   "source": [
    "# Specify Time and Elevation Slice\n",
    "t, level = 0, 0\n",
    "\n",
    "# Coordinates & Face Data\n",
    "lon_cell = ds_grid['mesh_node_x'].values\n",
    "lat_cell = ds_grid['mesh_node_y'].values\n",
    "face_nodes = ds_grid['mesh_face_nodes'].values\n",
    "\n",
    "# Set up Projection (experimental)\n",
    "projection = ccrs.Robinson(central_longitude=0)\n",
    "x_pcs, y_pcs, _ = projection.transform_points(ccrs.PlateCarree(), lon_cell, lat_cell).T\n",
    "\n",
    "\n",
    "# Data Variable to Plot\n",
    "v1 = ds_v1['v1'][t][level].values\n",
    "v2 = ds_v2['v2'][t][level].values\n",
    "v3 = ds_v3['v3'][t][level].values"
   ]
  },
  {
   "cell_type": "markdown",
   "id": "98e5aefc-a9b4-4403-a5bd-09dbd906e8af",
   "metadata": {},
   "source": [
    "# Testing (Large)"
   ]
  },
  {
   "cell_type": "code",
   "execution_count": 17,
   "id": "570f1954-ea2b-4836-bfb8-937a173ef3b9",
   "metadata": {},
   "outputs": [],
   "source": [
    "def poly_plot_workflow():\n",
    "    geoflow = pp(lon_cell, lat_cell, face_nodes)\n",
    "    geoflow.set_data(v1)\n",
    "    geoflow.to_poly_mesh()\n",
    "    df = geoflow.fix_cells()"
   ]
  },
  {
   "cell_type": "code",
   "execution_count": 19,
   "id": "1e463b1b-fd50-47ac-84f0-b44392d4cfa6",
   "metadata": {},
   "outputs": [
    {
     "name": "stdout",
     "output_type": "stream",
     "text": [
      "40.5 s ± 130 ms per loop (mean ± std. dev. of 2 runs, 5 loops each)\n"
     ]
    }
   ],
   "source": [
    "%timeit -r 2 -n 5 mpl_delaunay(lon_cell, lat_cell)"
   ]
  },
  {
   "cell_type": "code",
   "execution_count": 15,
   "id": "f08d3d0f-f433-43f8-be32-7861437dcfd5",
   "metadata": {},
   "outputs": [
    {
     "ename": "KeyboardInterrupt",
     "evalue": "",
     "output_type": "error",
     "traceback": [
      "\u001b[0;31m---------------------------------------------------------------------------\u001b[0m",
      "\u001b[0;31mKeyboardInterrupt\u001b[0m                         Traceback (most recent call last)",
      "File \u001b[0;32m<timed eval>:1\u001b[0m, in \u001b[0;36m<module>\u001b[0;34m\u001b[0m\n",
      "Input \u001b[0;32mIn [8]\u001b[0m, in \u001b[0;36mpoly_plot_workflow\u001b[0;34m()\u001b[0m\n\u001b[1;32m      2\u001b[0m geoflow \u001b[38;5;241m=\u001b[39m pp(lon_cell, lat_cell, face_nodes)\n\u001b[1;32m      3\u001b[0m geoflow\u001b[38;5;241m.\u001b[39mset_data(v1)\n\u001b[0;32m----> 4\u001b[0m \u001b[43mgeoflow\u001b[49m\u001b[38;5;241;43m.\u001b[39;49m\u001b[43mto_poly_mesh\u001b[49m\u001b[43m(\u001b[49m\u001b[43m)\u001b[49m\n\u001b[1;32m      5\u001b[0m df \u001b[38;5;241m=\u001b[39m geoflow\u001b[38;5;241m.\u001b[39mfix_cells()\n",
      "File \u001b[0;32m~/geocat-internal-testing/uxarray/polyplot.py:70\u001b[0m, in \u001b[0;36mpoly_plot.to_poly_mesh\u001b[0;34m(self)\u001b[0m\n\u001b[1;32m     68\u001b[0m \u001b[38;5;66;03m# Create Polygon and Face Dataframe\u001b[39;00m\n\u001b[1;32m     69\u001b[0m \u001b[38;5;28mself\u001b[39m\u001b[38;5;241m.\u001b[39mpoly_array \u001b[38;5;241m=\u001b[39m \u001b[38;5;28mself\u001b[39m\u001b[38;5;241m.\u001b[39mpoly_array\u001b[38;5;241m.\u001b[39mreshape((\u001b[38;5;28mself\u001b[39m\u001b[38;5;241m.\u001b[39mn_faces, \u001b[38;5;241m1\u001b[39m, \u001b[38;5;241m8\u001b[39m))\n\u001b[0;32m---> 70\u001b[0m polygons \u001b[38;5;241m=\u001b[39m sp\u001b[38;5;241m.\u001b[39mgeometry\u001b[38;5;241m.\u001b[39mPolygonArray(\u001b[38;5;28;43mself\u001b[39;49m\u001b[38;5;241;43m.\u001b[39;49m\u001b[43mpoly_array\u001b[49m\u001b[38;5;241;43m.\u001b[39;49m\u001b[43mtolist\u001b[49m\u001b[43m(\u001b[49m\u001b[43m)\u001b[49m)\n\u001b[1;32m     72\u001b[0m \u001b[38;5;28;01mif\u001b[39;00m \u001b[38;5;28mself\u001b[39m\u001b[38;5;241m.\u001b[39mface_array \u001b[38;5;129;01mis\u001b[39;00m \u001b[38;5;28;01mNone\u001b[39;00m:\n\u001b[1;32m     73\u001b[0m     \u001b[38;5;28mself\u001b[39m\u001b[38;5;241m.\u001b[39mdf \u001b[38;5;241m=\u001b[39m sp\u001b[38;5;241m.\u001b[39mGeoDataFrame({\u001b[38;5;124m'\u001b[39m\u001b[38;5;124mpolygons\u001b[39m\u001b[38;5;124m'\u001b[39m: polygons})\n",
      "\u001b[0;31mKeyboardInterrupt\u001b[0m: "
     ]
    }
   ],
   "source": [
    "%%time\n",
    "poly_plot_workflow()"
   ]
  },
  {
   "cell_type": "code",
   "execution_count": null,
   "id": "04e6801b-65c8-4d72-b11f-67c2190a4bf1",
   "metadata": {},
   "outputs": [],
   "source": []
  }
 ],
 "metadata": {
  "kernelspec": {
   "display_name": "Python [conda env:.conda-viz]",
   "language": "python",
   "name": "conda-env-.conda-viz-py"
  },
  "language_info": {
   "codemirror_mode": {
    "name": "ipython",
    "version": 3
   },
   "file_extension": ".py",
   "mimetype": "text/x-python",
   "name": "python",
   "nbconvert_exporter": "python",
   "pygments_lexer": "ipython3",
   "version": "3.10.4"
  }
 },
 "nbformat": 4,
 "nbformat_minor": 5
}
