{
 "cells": [
  {
   "attachments": {},
   "cell_type": "markdown",
   "metadata": {},
   "source": [
    "## Set up"
   ]
  },
  {
   "cell_type": "code",
   "execution_count": 1,
   "metadata": {
    "tags": []
   },
   "outputs": [],
   "source": [
    "import uxarray as ux\n",
    "import xarray as xr\n",
    "import numpy as np\n",
    "\n",
    "import traceback\n",
    "from pprint import pprint as pprint"
   ]
  },
  {
   "attachments": {},
   "cell_type": "markdown",
   "metadata": {},
   "source": [
    "This is the commit hash I'm using to install uxarray\n",
    "\n",
    "``` bash\n",
    "(base) anissaz@cisl-pinestone uxarray % git log --pretty=format:'%h' -n 1\n",
    "6152fb3\n",
    "```"
   ]
  },
  {
   "cell_type": "code",
   "execution_count": 2,
   "metadata": {},
   "outputs": [],
   "source": [
    "# show warnings\n",
    "import warnings\n",
    "warnings.filterwarnings('always')"
   ]
  },
  {
   "attachments": {},
   "cell_type": "markdown",
   "metadata": {},
   "source": [
    "## Set up source files"
   ]
  },
  {
   "cell_type": "code",
   "execution_count": 3,
   "metadata": {
    "tags": []
   },
   "outputs": [],
   "source": [
    "uxpath = \"/Users/anissaz/Desktop/Raijin/uxarray/test/\"\n",
    "gridfile = uxpath + \"meshfiles/ugrid/outCSne30/outCSne30.ug\"\n",
    "varfile = uxpath + \"meshfiles/ugrid/outCSne30/outCSne30_var2.nc\""
   ]
  },
  {
   "cell_type": "code",
   "execution_count": 4,
   "metadata": {
    "tags": []
   },
   "outputs": [
    {
     "name": "stderr",
     "output_type": "stream",
     "text": [
      "<frozen importlib._bootstrap>:241: RuntimeWarning: numpy.ndarray size changed, may indicate binary incompatibility. Expected 16 from C header, got 96 from PyObject\n"
     ]
    },
    {
     "data": {
      "text/html": [
       "<div><svg style=\"position: absolute; width: 0; height: 0; overflow: hidden\">\n",
       "<defs>\n",
       "<symbol id=\"icon-database\" viewBox=\"0 0 32 32\">\n",
       "<path d=\"M16 0c-8.837 0-16 2.239-16 5v4c0 2.761 7.163 5 16 5s16-2.239 16-5v-4c0-2.761-7.163-5-16-5z\"></path>\n",
       "<path d=\"M16 17c-8.837 0-16-2.239-16-5v6c0 2.761 7.163 5 16 5s16-2.239 16-5v-6c0 2.761-7.163 5-16 5z\"></path>\n",
       "<path d=\"M16 26c-8.837 0-16-2.239-16-5v6c0 2.761 7.163 5 16 5s16-2.239 16-5v-6c0 2.761-7.163 5-16 5z\"></path>\n",
       "</symbol>\n",
       "<symbol id=\"icon-file-text2\" viewBox=\"0 0 32 32\">\n",
       "<path d=\"M28.681 7.159c-0.694-0.947-1.662-2.053-2.724-3.116s-2.169-2.030-3.116-2.724c-1.612-1.182-2.393-1.319-2.841-1.319h-15.5c-1.378 0-2.5 1.121-2.5 2.5v27c0 1.378 1.122 2.5 2.5 2.5h23c1.378 0 2.5-1.122 2.5-2.5v-19.5c0-0.448-0.137-1.23-1.319-2.841zM24.543 5.457c0.959 0.959 1.712 1.825 2.268 2.543h-4.811v-4.811c0.718 0.556 1.584 1.309 2.543 2.268zM28 29.5c0 0.271-0.229 0.5-0.5 0.5h-23c-0.271 0-0.5-0.229-0.5-0.5v-27c0-0.271 0.229-0.5 0.5-0.5 0 0 15.499-0 15.5 0v7c0 0.552 0.448 1 1 1h7v19.5z\"></path>\n",
       "<path d=\"M23 26h-14c-0.552 0-1-0.448-1-1s0.448-1 1-1h14c0.552 0 1 0.448 1 1s-0.448 1-1 1z\"></path>\n",
       "<path d=\"M23 22h-14c-0.552 0-1-0.448-1-1s0.448-1 1-1h14c0.552 0 1 0.448 1 1s-0.448 1-1 1z\"></path>\n",
       "<path d=\"M23 18h-14c-0.552 0-1-0.448-1-1s0.448-1 1-1h14c0.552 0 1 0.448 1 1s-0.448 1-1 1z\"></path>\n",
       "</symbol>\n",
       "</defs>\n",
       "</svg>\n",
       "<style>/* CSS stylesheet for displaying xarray objects in jupyterlab.\n",
       " *\n",
       " */\n",
       "\n",
       ":root {\n",
       "  --xr-font-color0: var(--jp-content-font-color0, rgba(0, 0, 0, 1));\n",
       "  --xr-font-color2: var(--jp-content-font-color2, rgba(0, 0, 0, 0.54));\n",
       "  --xr-font-color3: var(--jp-content-font-color3, rgba(0, 0, 0, 0.38));\n",
       "  --xr-border-color: var(--jp-border-color2, #e0e0e0);\n",
       "  --xr-disabled-color: var(--jp-layout-color3, #bdbdbd);\n",
       "  --xr-background-color: var(--jp-layout-color0, white);\n",
       "  --xr-background-color-row-even: var(--jp-layout-color1, white);\n",
       "  --xr-background-color-row-odd: var(--jp-layout-color2, #eeeeee);\n",
       "}\n",
       "\n",
       "html[theme=dark],\n",
       "body[data-theme=dark],\n",
       "body.vscode-dark {\n",
       "  --xr-font-color0: rgba(255, 255, 255, 1);\n",
       "  --xr-font-color2: rgba(255, 255, 255, 0.54);\n",
       "  --xr-font-color3: rgba(255, 255, 255, 0.38);\n",
       "  --xr-border-color: #1F1F1F;\n",
       "  --xr-disabled-color: #515151;\n",
       "  --xr-background-color: #111111;\n",
       "  --xr-background-color-row-even: #111111;\n",
       "  --xr-background-color-row-odd: #313131;\n",
       "}\n",
       "\n",
       ".xr-wrap {\n",
       "  display: block !important;\n",
       "  min-width: 300px;\n",
       "  max-width: 700px;\n",
       "}\n",
       "\n",
       ".xr-text-repr-fallback {\n",
       "  /* fallback to plain text repr when CSS is not injected (untrusted notebook) */\n",
       "  display: none;\n",
       "}\n",
       "\n",
       ".xr-header {\n",
       "  padding-top: 6px;\n",
       "  padding-bottom: 6px;\n",
       "  margin-bottom: 4px;\n",
       "  border-bottom: solid 1px var(--xr-border-color);\n",
       "}\n",
       "\n",
       ".xr-header > div,\n",
       ".xr-header > ul {\n",
       "  display: inline;\n",
       "  margin-top: 0;\n",
       "  margin-bottom: 0;\n",
       "}\n",
       "\n",
       ".xr-obj-type,\n",
       ".xr-array-name {\n",
       "  margin-left: 2px;\n",
       "  margin-right: 10px;\n",
       "}\n",
       "\n",
       ".xr-obj-type {\n",
       "  color: var(--xr-font-color2);\n",
       "}\n",
       "\n",
       ".xr-sections {\n",
       "  padding-left: 0 !important;\n",
       "  display: grid;\n",
       "  grid-template-columns: 150px auto auto 1fr 20px 20px;\n",
       "}\n",
       "\n",
       ".xr-section-item {\n",
       "  display: contents;\n",
       "}\n",
       "\n",
       ".xr-section-item input {\n",
       "  display: none;\n",
       "}\n",
       "\n",
       ".xr-section-item input + label {\n",
       "  color: var(--xr-disabled-color);\n",
       "}\n",
       "\n",
       ".xr-section-item input:enabled + label {\n",
       "  cursor: pointer;\n",
       "  color: var(--xr-font-color2);\n",
       "}\n",
       "\n",
       ".xr-section-item input:enabled + label:hover {\n",
       "  color: var(--xr-font-color0);\n",
       "}\n",
       "\n",
       ".xr-section-summary {\n",
       "  grid-column: 1;\n",
       "  color: var(--xr-font-color2);\n",
       "  font-weight: 500;\n",
       "}\n",
       "\n",
       ".xr-section-summary > span {\n",
       "  display: inline-block;\n",
       "  padding-left: 0.5em;\n",
       "}\n",
       "\n",
       ".xr-section-summary-in:disabled + label {\n",
       "  color: var(--xr-font-color2);\n",
       "}\n",
       "\n",
       ".xr-section-summary-in + label:before {\n",
       "  display: inline-block;\n",
       "  content: '►';\n",
       "  font-size: 11px;\n",
       "  width: 15px;\n",
       "  text-align: center;\n",
       "}\n",
       "\n",
       ".xr-section-summary-in:disabled + label:before {\n",
       "  color: var(--xr-disabled-color);\n",
       "}\n",
       "\n",
       ".xr-section-summary-in:checked + label:before {\n",
       "  content: '▼';\n",
       "}\n",
       "\n",
       ".xr-section-summary-in:checked + label > span {\n",
       "  display: none;\n",
       "}\n",
       "\n",
       ".xr-section-summary,\n",
       ".xr-section-inline-details {\n",
       "  padding-top: 4px;\n",
       "  padding-bottom: 4px;\n",
       "}\n",
       "\n",
       ".xr-section-inline-details {\n",
       "  grid-column: 2 / -1;\n",
       "}\n",
       "\n",
       ".xr-section-details {\n",
       "  display: none;\n",
       "  grid-column: 1 / -1;\n",
       "  margin-bottom: 5px;\n",
       "}\n",
       "\n",
       ".xr-section-summary-in:checked ~ .xr-section-details {\n",
       "  display: contents;\n",
       "}\n",
       "\n",
       ".xr-array-wrap {\n",
       "  grid-column: 1 / -1;\n",
       "  display: grid;\n",
       "  grid-template-columns: 20px auto;\n",
       "}\n",
       "\n",
       ".xr-array-wrap > label {\n",
       "  grid-column: 1;\n",
       "  vertical-align: top;\n",
       "}\n",
       "\n",
       ".xr-preview {\n",
       "  color: var(--xr-font-color3);\n",
       "}\n",
       "\n",
       ".xr-array-preview,\n",
       ".xr-array-data {\n",
       "  padding: 0 5px !important;\n",
       "  grid-column: 2;\n",
       "}\n",
       "\n",
       ".xr-array-data,\n",
       ".xr-array-in:checked ~ .xr-array-preview {\n",
       "  display: none;\n",
       "}\n",
       "\n",
       ".xr-array-in:checked ~ .xr-array-data,\n",
       ".xr-array-preview {\n",
       "  display: inline-block;\n",
       "}\n",
       "\n",
       ".xr-dim-list {\n",
       "  display: inline-block !important;\n",
       "  list-style: none;\n",
       "  padding: 0 !important;\n",
       "  margin: 0;\n",
       "}\n",
       "\n",
       ".xr-dim-list li {\n",
       "  display: inline-block;\n",
       "  padding: 0;\n",
       "  margin: 0;\n",
       "}\n",
       "\n",
       ".xr-dim-list:before {\n",
       "  content: '(';\n",
       "}\n",
       "\n",
       ".xr-dim-list:after {\n",
       "  content: ')';\n",
       "}\n",
       "\n",
       ".xr-dim-list li:not(:last-child):after {\n",
       "  content: ',';\n",
       "  padding-right: 5px;\n",
       "}\n",
       "\n",
       ".xr-has-index {\n",
       "  font-weight: bold;\n",
       "}\n",
       "\n",
       ".xr-var-list,\n",
       ".xr-var-item {\n",
       "  display: contents;\n",
       "}\n",
       "\n",
       ".xr-var-item > div,\n",
       ".xr-var-item label,\n",
       ".xr-var-item > .xr-var-name span {\n",
       "  background-color: var(--xr-background-color-row-even);\n",
       "  margin-bottom: 0;\n",
       "}\n",
       "\n",
       ".xr-var-item > .xr-var-name:hover span {\n",
       "  padding-right: 5px;\n",
       "}\n",
       "\n",
       ".xr-var-list > li:nth-child(odd) > div,\n",
       ".xr-var-list > li:nth-child(odd) > label,\n",
       ".xr-var-list > li:nth-child(odd) > .xr-var-name span {\n",
       "  background-color: var(--xr-background-color-row-odd);\n",
       "}\n",
       "\n",
       ".xr-var-name {\n",
       "  grid-column: 1;\n",
       "}\n",
       "\n",
       ".xr-var-dims {\n",
       "  grid-column: 2;\n",
       "}\n",
       "\n",
       ".xr-var-dtype {\n",
       "  grid-column: 3;\n",
       "  text-align: right;\n",
       "  color: var(--xr-font-color2);\n",
       "}\n",
       "\n",
       ".xr-var-preview {\n",
       "  grid-column: 4;\n",
       "}\n",
       "\n",
       ".xr-index-preview {\n",
       "  grid-column: 2 / 5;\n",
       "  color: var(--xr-font-color2);\n",
       "}\n",
       "\n",
       ".xr-var-name,\n",
       ".xr-var-dims,\n",
       ".xr-var-dtype,\n",
       ".xr-preview,\n",
       ".xr-attrs dt {\n",
       "  white-space: nowrap;\n",
       "  overflow: hidden;\n",
       "  text-overflow: ellipsis;\n",
       "  padding-right: 10px;\n",
       "}\n",
       "\n",
       ".xr-var-name:hover,\n",
       ".xr-var-dims:hover,\n",
       ".xr-var-dtype:hover,\n",
       ".xr-attrs dt:hover {\n",
       "  overflow: visible;\n",
       "  width: auto;\n",
       "  z-index: 1;\n",
       "}\n",
       "\n",
       ".xr-var-attrs,\n",
       ".xr-var-data,\n",
       ".xr-index-data {\n",
       "  display: none;\n",
       "  background-color: var(--xr-background-color) !important;\n",
       "  padding-bottom: 5px !important;\n",
       "}\n",
       "\n",
       ".xr-var-attrs-in:checked ~ .xr-var-attrs,\n",
       ".xr-var-data-in:checked ~ .xr-var-data,\n",
       ".xr-index-data-in:checked ~ .xr-index-data {\n",
       "  display: block;\n",
       "}\n",
       "\n",
       ".xr-var-data > table {\n",
       "  float: right;\n",
       "}\n",
       "\n",
       ".xr-var-name span,\n",
       ".xr-var-data,\n",
       ".xr-index-name div,\n",
       ".xr-index-data,\n",
       ".xr-attrs {\n",
       "  padding-left: 25px !important;\n",
       "}\n",
       "\n",
       ".xr-attrs,\n",
       ".xr-var-attrs,\n",
       ".xr-var-data,\n",
       ".xr-index-data {\n",
       "  grid-column: 1 / -1;\n",
       "}\n",
       "\n",
       "dl.xr-attrs {\n",
       "  padding: 0;\n",
       "  margin: 0;\n",
       "  display: grid;\n",
       "  grid-template-columns: 125px auto;\n",
       "}\n",
       "\n",
       ".xr-attrs dt,\n",
       ".xr-attrs dd {\n",
       "  padding: 0;\n",
       "  margin: 0;\n",
       "  float: left;\n",
       "  padding-right: 10px;\n",
       "  width: auto;\n",
       "}\n",
       "\n",
       ".xr-attrs dt {\n",
       "  font-weight: normal;\n",
       "  grid-column: 1;\n",
       "}\n",
       "\n",
       ".xr-attrs dt:hover span {\n",
       "  display: inline-block;\n",
       "  background: var(--xr-background-color);\n",
       "  padding-right: 10px;\n",
       "}\n",
       "\n",
       ".xr-attrs dd {\n",
       "  grid-column: 2;\n",
       "  white-space: pre-wrap;\n",
       "  word-break: break-all;\n",
       "}\n",
       "\n",
       ".xr-icon-database,\n",
       ".xr-icon-file-text2,\n",
       ".xr-no-icon {\n",
       "  display: inline-block;\n",
       "  vertical-align: middle;\n",
       "  width: 1em;\n",
       "  height: 1.5em !important;\n",
       "  stroke-width: 0;\n",
       "  stroke: currentColor;\n",
       "  fill: currentColor;\n",
       "}\n",
       "</style><pre class='xr-text-repr-fallback'>&lt;xarray.Dataset&gt;\n",
       "Dimensions:  (ncol: 5400)\n",
       "Dimensions without coordinates: ncol\n",
       "Data variables:\n",
       "    var2     (ncol) float64 ...</pre><div class='xr-wrap' style='display:none'><div class='xr-header'><div class='xr-obj-type'>xarray.Dataset</div></div><ul class='xr-sections'><li class='xr-section-item'><input id='section-5f258f92-c532-4dfc-83d4-dc7062985c29' class='xr-section-summary-in' type='checkbox' disabled ><label for='section-5f258f92-c532-4dfc-83d4-dc7062985c29' class='xr-section-summary'  title='Expand/collapse section'>Dimensions:</label><div class='xr-section-inline-details'><ul class='xr-dim-list'><li><span>ncol</span>: 5400</li></ul></div><div class='xr-section-details'></div></li><li class='xr-section-item'><input id='section-e52816ef-42ca-4fde-a4b1-e829c8246991' class='xr-section-summary-in' type='checkbox' disabled ><label for='section-e52816ef-42ca-4fde-a4b1-e829c8246991' class='xr-section-summary'  title='Expand/collapse section'>Coordinates: <span>(0)</span></label><div class='xr-section-inline-details'></div><div class='xr-section-details'><ul class='xr-var-list'></ul></div></li><li class='xr-section-item'><input id='section-4c351c4f-7075-4f2a-ac2b-36940a46ac59' class='xr-section-summary-in' type='checkbox'  checked><label for='section-4c351c4f-7075-4f2a-ac2b-36940a46ac59' class='xr-section-summary' >Data variables: <span>(1)</span></label><div class='xr-section-inline-details'></div><div class='xr-section-details'><ul class='xr-var-list'><li class='xr-var-item'><div class='xr-var-name'><span>var2</span></div><div class='xr-var-dims'>(ncol)</div><div class='xr-var-dtype'>float64</div><div class='xr-var-preview xr-preview'>...</div><input id='attrs-90c57f2a-b6c7-49c3-b60c-0a2fce93bf6a' class='xr-var-attrs-in' type='checkbox' disabled><label for='attrs-90c57f2a-b6c7-49c3-b60c-0a2fce93bf6a' title='Show/Hide attributes'><svg class='icon xr-icon-file-text2'><use xlink:href='#icon-file-text2'></use></svg></label><input id='data-88aa68f9-d6b0-4c35-83eb-35c07056f163' class='xr-var-data-in' type='checkbox'><label for='data-88aa68f9-d6b0-4c35-83eb-35c07056f163' title='Show/Hide data repr'><svg class='icon xr-icon-database'><use xlink:href='#icon-database'></use></svg></label><div class='xr-var-attrs'><dl class='xr-attrs'></dl></div><div class='xr-var-data'><pre>[5400 values with dtype=float64]</pre></div></li></ul></div></li><li class='xr-section-item'><input id='section-f62443ef-4d4e-42e5-b088-243eef1de771' class='xr-section-summary-in' type='checkbox' disabled ><label for='section-f62443ef-4d4e-42e5-b088-243eef1de771' class='xr-section-summary'  title='Expand/collapse section'>Indexes: <span>(0)</span></label><div class='xr-section-inline-details'></div><div class='xr-section-details'><ul class='xr-var-list'></ul></div></li><li class='xr-section-item'><input id='section-579a8924-31bf-4b9b-a599-0990cca971b7' class='xr-section-summary-in' type='checkbox' disabled ><label for='section-579a8924-31bf-4b9b-a599-0990cca971b7' class='xr-section-summary'  title='Expand/collapse section'>Attributes: <span>(0)</span></label><div class='xr-section-inline-details'></div><div class='xr-section-details'><dl class='xr-attrs'></dl></div></li></ul></div></div>"
      ],
      "text/plain": [
       "<xarray.Dataset>\n",
       "Dimensions:  (ncol: 5400)\n",
       "Dimensions without coordinates: ncol\n",
       "Data variables:\n",
       "    var2     (ncol) float64 ..."
      ]
     },
     "execution_count": 4,
     "metadata": {},
     "output_type": "execute_result"
    }
   ],
   "source": [
    "# Load the grid and variable data with xarray\n",
    "ds_grid = xr.open_dataset(gridfile)\n",
    "ds_grid\n",
    "\n",
    "ds_var = xr.open_dataset(varfile)\n",
    "ds_var"
   ]
  },
  {
   "cell_type": "code",
   "execution_count": 5,
   "metadata": {
    "tags": []
   },
   "outputs": [
    {
     "data": {
      "text/html": [
       "<div><svg style=\"position: absolute; width: 0; height: 0; overflow: hidden\">\n",
       "<defs>\n",
       "<symbol id=\"icon-database\" viewBox=\"0 0 32 32\">\n",
       "<path d=\"M16 0c-8.837 0-16 2.239-16 5v4c0 2.761 7.163 5 16 5s16-2.239 16-5v-4c0-2.761-7.163-5-16-5z\"></path>\n",
       "<path d=\"M16 17c-8.837 0-16-2.239-16-5v6c0 2.761 7.163 5 16 5s16-2.239 16-5v-6c0 2.761-7.163 5-16 5z\"></path>\n",
       "<path d=\"M16 26c-8.837 0-16-2.239-16-5v6c0 2.761 7.163 5 16 5s16-2.239 16-5v-6c0 2.761-7.163 5-16 5z\"></path>\n",
       "</symbol>\n",
       "<symbol id=\"icon-file-text2\" viewBox=\"0 0 32 32\">\n",
       "<path d=\"M28.681 7.159c-0.694-0.947-1.662-2.053-2.724-3.116s-2.169-2.030-3.116-2.724c-1.612-1.182-2.393-1.319-2.841-1.319h-15.5c-1.378 0-2.5 1.121-2.5 2.5v27c0 1.378 1.122 2.5 2.5 2.5h23c1.378 0 2.5-1.122 2.5-2.5v-19.5c0-0.448-0.137-1.23-1.319-2.841zM24.543 5.457c0.959 0.959 1.712 1.825 2.268 2.543h-4.811v-4.811c0.718 0.556 1.584 1.309 2.543 2.268zM28 29.5c0 0.271-0.229 0.5-0.5 0.5h-23c-0.271 0-0.5-0.229-0.5-0.5v-27c0-0.271 0.229-0.5 0.5-0.5 0 0 15.499-0 15.5 0v7c0 0.552 0.448 1 1 1h7v19.5z\"></path>\n",
       "<path d=\"M23 26h-14c-0.552 0-1-0.448-1-1s0.448-1 1-1h14c0.552 0 1 0.448 1 1s-0.448 1-1 1z\"></path>\n",
       "<path d=\"M23 22h-14c-0.552 0-1-0.448-1-1s0.448-1 1-1h14c0.552 0 1 0.448 1 1s-0.448 1-1 1z\"></path>\n",
       "<path d=\"M23 18h-14c-0.552 0-1-0.448-1-1s0.448-1 1-1h14c0.552 0 1 0.448 1 1s-0.448 1-1 1z\"></path>\n",
       "</symbol>\n",
       "</defs>\n",
       "</svg>\n",
       "<style>/* CSS stylesheet for displaying xarray objects in jupyterlab.\n",
       " *\n",
       " */\n",
       "\n",
       ":root {\n",
       "  --xr-font-color0: var(--jp-content-font-color0, rgba(0, 0, 0, 1));\n",
       "  --xr-font-color2: var(--jp-content-font-color2, rgba(0, 0, 0, 0.54));\n",
       "  --xr-font-color3: var(--jp-content-font-color3, rgba(0, 0, 0, 0.38));\n",
       "  --xr-border-color: var(--jp-border-color2, #e0e0e0);\n",
       "  --xr-disabled-color: var(--jp-layout-color3, #bdbdbd);\n",
       "  --xr-background-color: var(--jp-layout-color0, white);\n",
       "  --xr-background-color-row-even: var(--jp-layout-color1, white);\n",
       "  --xr-background-color-row-odd: var(--jp-layout-color2, #eeeeee);\n",
       "}\n",
       "\n",
       "html[theme=dark],\n",
       "body[data-theme=dark],\n",
       "body.vscode-dark {\n",
       "  --xr-font-color0: rgba(255, 255, 255, 1);\n",
       "  --xr-font-color2: rgba(255, 255, 255, 0.54);\n",
       "  --xr-font-color3: rgba(255, 255, 255, 0.38);\n",
       "  --xr-border-color: #1F1F1F;\n",
       "  --xr-disabled-color: #515151;\n",
       "  --xr-background-color: #111111;\n",
       "  --xr-background-color-row-even: #111111;\n",
       "  --xr-background-color-row-odd: #313131;\n",
       "}\n",
       "\n",
       ".xr-wrap {\n",
       "  display: block !important;\n",
       "  min-width: 300px;\n",
       "  max-width: 700px;\n",
       "}\n",
       "\n",
       ".xr-text-repr-fallback {\n",
       "  /* fallback to plain text repr when CSS is not injected (untrusted notebook) */\n",
       "  display: none;\n",
       "}\n",
       "\n",
       ".xr-header {\n",
       "  padding-top: 6px;\n",
       "  padding-bottom: 6px;\n",
       "  margin-bottom: 4px;\n",
       "  border-bottom: solid 1px var(--xr-border-color);\n",
       "}\n",
       "\n",
       ".xr-header > div,\n",
       ".xr-header > ul {\n",
       "  display: inline;\n",
       "  margin-top: 0;\n",
       "  margin-bottom: 0;\n",
       "}\n",
       "\n",
       ".xr-obj-type,\n",
       ".xr-array-name {\n",
       "  margin-left: 2px;\n",
       "  margin-right: 10px;\n",
       "}\n",
       "\n",
       ".xr-obj-type {\n",
       "  color: var(--xr-font-color2);\n",
       "}\n",
       "\n",
       ".xr-sections {\n",
       "  padding-left: 0 !important;\n",
       "  display: grid;\n",
       "  grid-template-columns: 150px auto auto 1fr 20px 20px;\n",
       "}\n",
       "\n",
       ".xr-section-item {\n",
       "  display: contents;\n",
       "}\n",
       "\n",
       ".xr-section-item input {\n",
       "  display: none;\n",
       "}\n",
       "\n",
       ".xr-section-item input + label {\n",
       "  color: var(--xr-disabled-color);\n",
       "}\n",
       "\n",
       ".xr-section-item input:enabled + label {\n",
       "  cursor: pointer;\n",
       "  color: var(--xr-font-color2);\n",
       "}\n",
       "\n",
       ".xr-section-item input:enabled + label:hover {\n",
       "  color: var(--xr-font-color0);\n",
       "}\n",
       "\n",
       ".xr-section-summary {\n",
       "  grid-column: 1;\n",
       "  color: var(--xr-font-color2);\n",
       "  font-weight: 500;\n",
       "}\n",
       "\n",
       ".xr-section-summary > span {\n",
       "  display: inline-block;\n",
       "  padding-left: 0.5em;\n",
       "}\n",
       "\n",
       ".xr-section-summary-in:disabled + label {\n",
       "  color: var(--xr-font-color2);\n",
       "}\n",
       "\n",
       ".xr-section-summary-in + label:before {\n",
       "  display: inline-block;\n",
       "  content: '►';\n",
       "  font-size: 11px;\n",
       "  width: 15px;\n",
       "  text-align: center;\n",
       "}\n",
       "\n",
       ".xr-section-summary-in:disabled + label:before {\n",
       "  color: var(--xr-disabled-color);\n",
       "}\n",
       "\n",
       ".xr-section-summary-in:checked + label:before {\n",
       "  content: '▼';\n",
       "}\n",
       "\n",
       ".xr-section-summary-in:checked + label > span {\n",
       "  display: none;\n",
       "}\n",
       "\n",
       ".xr-section-summary,\n",
       ".xr-section-inline-details {\n",
       "  padding-top: 4px;\n",
       "  padding-bottom: 4px;\n",
       "}\n",
       "\n",
       ".xr-section-inline-details {\n",
       "  grid-column: 2 / -1;\n",
       "}\n",
       "\n",
       ".xr-section-details {\n",
       "  display: none;\n",
       "  grid-column: 1 / -1;\n",
       "  margin-bottom: 5px;\n",
       "}\n",
       "\n",
       ".xr-section-summary-in:checked ~ .xr-section-details {\n",
       "  display: contents;\n",
       "}\n",
       "\n",
       ".xr-array-wrap {\n",
       "  grid-column: 1 / -1;\n",
       "  display: grid;\n",
       "  grid-template-columns: 20px auto;\n",
       "}\n",
       "\n",
       ".xr-array-wrap > label {\n",
       "  grid-column: 1;\n",
       "  vertical-align: top;\n",
       "}\n",
       "\n",
       ".xr-preview {\n",
       "  color: var(--xr-font-color3);\n",
       "}\n",
       "\n",
       ".xr-array-preview,\n",
       ".xr-array-data {\n",
       "  padding: 0 5px !important;\n",
       "  grid-column: 2;\n",
       "}\n",
       "\n",
       ".xr-array-data,\n",
       ".xr-array-in:checked ~ .xr-array-preview {\n",
       "  display: none;\n",
       "}\n",
       "\n",
       ".xr-array-in:checked ~ .xr-array-data,\n",
       ".xr-array-preview {\n",
       "  display: inline-block;\n",
       "}\n",
       "\n",
       ".xr-dim-list {\n",
       "  display: inline-block !important;\n",
       "  list-style: none;\n",
       "  padding: 0 !important;\n",
       "  margin: 0;\n",
       "}\n",
       "\n",
       ".xr-dim-list li {\n",
       "  display: inline-block;\n",
       "  padding: 0;\n",
       "  margin: 0;\n",
       "}\n",
       "\n",
       ".xr-dim-list:before {\n",
       "  content: '(';\n",
       "}\n",
       "\n",
       ".xr-dim-list:after {\n",
       "  content: ')';\n",
       "}\n",
       "\n",
       ".xr-dim-list li:not(:last-child):after {\n",
       "  content: ',';\n",
       "  padding-right: 5px;\n",
       "}\n",
       "\n",
       ".xr-has-index {\n",
       "  font-weight: bold;\n",
       "}\n",
       "\n",
       ".xr-var-list,\n",
       ".xr-var-item {\n",
       "  display: contents;\n",
       "}\n",
       "\n",
       ".xr-var-item > div,\n",
       ".xr-var-item label,\n",
       ".xr-var-item > .xr-var-name span {\n",
       "  background-color: var(--xr-background-color-row-even);\n",
       "  margin-bottom: 0;\n",
       "}\n",
       "\n",
       ".xr-var-item > .xr-var-name:hover span {\n",
       "  padding-right: 5px;\n",
       "}\n",
       "\n",
       ".xr-var-list > li:nth-child(odd) > div,\n",
       ".xr-var-list > li:nth-child(odd) > label,\n",
       ".xr-var-list > li:nth-child(odd) > .xr-var-name span {\n",
       "  background-color: var(--xr-background-color-row-odd);\n",
       "}\n",
       "\n",
       ".xr-var-name {\n",
       "  grid-column: 1;\n",
       "}\n",
       "\n",
       ".xr-var-dims {\n",
       "  grid-column: 2;\n",
       "}\n",
       "\n",
       ".xr-var-dtype {\n",
       "  grid-column: 3;\n",
       "  text-align: right;\n",
       "  color: var(--xr-font-color2);\n",
       "}\n",
       "\n",
       ".xr-var-preview {\n",
       "  grid-column: 4;\n",
       "}\n",
       "\n",
       ".xr-index-preview {\n",
       "  grid-column: 2 / 5;\n",
       "  color: var(--xr-font-color2);\n",
       "}\n",
       "\n",
       ".xr-var-name,\n",
       ".xr-var-dims,\n",
       ".xr-var-dtype,\n",
       ".xr-preview,\n",
       ".xr-attrs dt {\n",
       "  white-space: nowrap;\n",
       "  overflow: hidden;\n",
       "  text-overflow: ellipsis;\n",
       "  padding-right: 10px;\n",
       "}\n",
       "\n",
       ".xr-var-name:hover,\n",
       ".xr-var-dims:hover,\n",
       ".xr-var-dtype:hover,\n",
       ".xr-attrs dt:hover {\n",
       "  overflow: visible;\n",
       "  width: auto;\n",
       "  z-index: 1;\n",
       "}\n",
       "\n",
       ".xr-var-attrs,\n",
       ".xr-var-data,\n",
       ".xr-index-data {\n",
       "  display: none;\n",
       "  background-color: var(--xr-background-color) !important;\n",
       "  padding-bottom: 5px !important;\n",
       "}\n",
       "\n",
       ".xr-var-attrs-in:checked ~ .xr-var-attrs,\n",
       ".xr-var-data-in:checked ~ .xr-var-data,\n",
       ".xr-index-data-in:checked ~ .xr-index-data {\n",
       "  display: block;\n",
       "}\n",
       "\n",
       ".xr-var-data > table {\n",
       "  float: right;\n",
       "}\n",
       "\n",
       ".xr-var-name span,\n",
       ".xr-var-data,\n",
       ".xr-index-name div,\n",
       ".xr-index-data,\n",
       ".xr-attrs {\n",
       "  padding-left: 25px !important;\n",
       "}\n",
       "\n",
       ".xr-attrs,\n",
       ".xr-var-attrs,\n",
       ".xr-var-data,\n",
       ".xr-index-data {\n",
       "  grid-column: 1 / -1;\n",
       "}\n",
       "\n",
       "dl.xr-attrs {\n",
       "  padding: 0;\n",
       "  margin: 0;\n",
       "  display: grid;\n",
       "  grid-template-columns: 125px auto;\n",
       "}\n",
       "\n",
       ".xr-attrs dt,\n",
       ".xr-attrs dd {\n",
       "  padding: 0;\n",
       "  margin: 0;\n",
       "  float: left;\n",
       "  padding-right: 10px;\n",
       "  width: auto;\n",
       "}\n",
       "\n",
       ".xr-attrs dt {\n",
       "  font-weight: normal;\n",
       "  grid-column: 1;\n",
       "}\n",
       "\n",
       ".xr-attrs dt:hover span {\n",
       "  display: inline-block;\n",
       "  background: var(--xr-background-color);\n",
       "  padding-right: 10px;\n",
       "}\n",
       "\n",
       ".xr-attrs dd {\n",
       "  grid-column: 2;\n",
       "  white-space: pre-wrap;\n",
       "  word-break: break-all;\n",
       "}\n",
       "\n",
       ".xr-icon-database,\n",
       ".xr-icon-file-text2,\n",
       ".xr-no-icon {\n",
       "  display: inline-block;\n",
       "  vertical-align: middle;\n",
       "  width: 1em;\n",
       "  height: 1.5em !important;\n",
       "  stroke-width: 0;\n",
       "  stroke: currentColor;\n",
       "  fill: currentColor;\n",
       "}\n",
       "</style><pre class='xr-text-repr-fallback'>&lt;xarray.UxDataset&gt;\n",
       "Dimensions:  (ncol: 5400)\n",
       "Dimensions without coordinates: ncol\n",
       "Data variables:\n",
       "    var2     (ncol) float64 1.351 1.331 1.31 1.289 ... 0.7121 0.6909 0.67 0.6495</pre><div class='xr-wrap' style='display:none'><div class='xr-header'><div class='xr-obj-type'>xarray.UxDataset</div></div><ul class='xr-sections'><li class='xr-section-item'><input id='section-2cd97143-84fe-4fac-9813-64af7cd99e6f' class='xr-section-summary-in' type='checkbox' disabled ><label for='section-2cd97143-84fe-4fac-9813-64af7cd99e6f' class='xr-section-summary'  title='Expand/collapse section'>Dimensions:</label><div class='xr-section-inline-details'><ul class='xr-dim-list'><li><span>ncol</span>: 5400</li></ul></div><div class='xr-section-details'></div></li><li class='xr-section-item'><input id='section-638ffd61-2b1d-42de-9820-3201e77573af' class='xr-section-summary-in' type='checkbox' disabled ><label for='section-638ffd61-2b1d-42de-9820-3201e77573af' class='xr-section-summary'  title='Expand/collapse section'>Coordinates: <span>(0)</span></label><div class='xr-section-inline-details'></div><div class='xr-section-details'><ul class='xr-var-list'></ul></div></li><li class='xr-section-item'><input id='section-92f43e26-712a-4b79-ab0c-b411e2c832d8' class='xr-section-summary-in' type='checkbox'  checked><label for='section-92f43e26-712a-4b79-ab0c-b411e2c832d8' class='xr-section-summary' >Data variables: <span>(1)</span></label><div class='xr-section-inline-details'></div><div class='xr-section-details'><ul class='xr-var-list'><li class='xr-var-item'><div class='xr-var-name'><span>var2</span></div><div class='xr-var-dims'>(ncol)</div><div class='xr-var-dtype'>float64</div><div class='xr-var-preview xr-preview'>1.351 1.331 1.31 ... 0.67 0.6495</div><input id='attrs-3a21cd49-2370-48f1-acfd-0d34395559e2' class='xr-var-attrs-in' type='checkbox' disabled><label for='attrs-3a21cd49-2370-48f1-acfd-0d34395559e2' title='Show/Hide attributes'><svg class='icon xr-icon-file-text2'><use xlink:href='#icon-file-text2'></use></svg></label><input id='data-ec8d86a3-c03a-4f91-a1d2-82e72b129809' class='xr-var-data-in' type='checkbox'><label for='data-ec8d86a3-c03a-4f91-a1d2-82e72b129809' title='Show/Hide data repr'><svg class='icon xr-icon-database'><use xlink:href='#icon-database'></use></svg></label><div class='xr-var-attrs'><dl class='xr-attrs'></dl></div><div class='xr-var-data'><pre>array([1.35131705, 1.33091472, 1.31013985, ..., 0.69088338, 0.66998883,\n",
       "       0.64946691])</pre></div></li></ul></div></li><li class='xr-section-item'><input id='section-ef141ff4-b9f5-4928-a86c-2524850c82f5' class='xr-section-summary-in' type='checkbox' disabled ><label for='section-ef141ff4-b9f5-4928-a86c-2524850c82f5' class='xr-section-summary'  title='Expand/collapse section'>Indexes: <span>(0)</span></label><div class='xr-section-inline-details'></div><div class='xr-section-details'><ul class='xr-var-list'></ul></div></li><li class='xr-section-item'><input id='section-def10a3a-68ae-497d-aaf1-223c37b07cbd' class='xr-section-summary-in' type='checkbox' disabled ><label for='section-def10a3a-68ae-497d-aaf1-223c37b07cbd' class='xr-section-summary'  title='Expand/collapse section'>Attributes: <span>(0)</span></label><div class='xr-section-inline-details'></div><div class='xr-section-details'><dl class='xr-attrs'></dl></div></li></ul></div></div>"
      ],
      "text/plain": [
       "<xarray.UxDataset>\n",
       "Dimensions:  (ncol: 5400)\n",
       "Dimensions without coordinates: ncol\n",
       "Data variables:\n",
       "    var2     (ncol) float64 1.351 1.331 1.31 1.289 ... 0.7121 0.6909 0.67 0.6495"
      ]
     },
     "execution_count": 5,
     "metadata": {},
     "output_type": "execute_result"
    }
   ],
   "source": [
    "# Load the grid and variable data with uxarray\n",
    "uxds = ux.open_dataset(gridfile, varfile)\n",
    "uxds"
   ]
  },
  {
   "cell_type": "code",
   "execution_count": 6,
   "metadata": {},
   "outputs": [
    {
     "data": {
      "text/plain": [
       "<uxarray.core.grid.Grid at 0x104ac42e0>"
      ]
     },
     "execution_count": 6,
     "metadata": {},
     "output_type": "execute_result"
    }
   ],
   "source": [
    "uxds.uxgrid"
   ]
  },
  {
   "cell_type": "code",
   "execution_count": 7,
   "metadata": {},
   "outputs": [
    {
     "name": "stdout",
     "output_type": "stream",
     "text": [
      "<class 'xarray.core.dataset.Dataset'>\n",
      "<class 'xarray.core.dataset.Dataset'>\n",
      "<class 'uxarray.core.dataset.UxDataset'>\n",
      "<class 'uxarray.core.grid.Grid'>\n"
     ]
    }
   ],
   "source": [
    "print(type(ds_grid))\n",
    "print(type(ds_var))\n",
    "print(type(uxds))\n",
    "print(type(uxds.uxgrid))"
   ]
  },
  {
   "cell_type": "markdown",
   "metadata": {},
   "source": [
    "## Set up a function that can print the output of functions called from the xarray object and the uxarray object"
   ]
  },
  {
   "cell_type": "code",
   "execution_count": 8,
   "metadata": {},
   "outputs": [],
   "source": [
    "def compare_outputs(parent_obj, child_obj, methods, *args, **kwargs):\n",
    "    '''Compare the outputs of the method_name method of parent_obj and child_obj'''\n",
    "\n",
    "    # make sure method_name can be treated as a list\n",
    "    if not isinstance(methods, list):\n",
    "        methods = [methods]\n",
    "\n",
    "    for m in methods:\n",
    "        # get methods\n",
    "        parent_method = getattr(parent_obj, m)\n",
    "        child_method = getattr(child_obj, m)\n",
    "\n",
    "        # run parent method, print output\n",
    "        print(\"Parent Class Method Output:\")\n",
    "        try:\n",
    "            # if callable, call it\n",
    "            if callable(parent_method):\n",
    "                print(parent_method(*args, **kwargs))\n",
    "            # otherwise, just print it\n",
    "            else:\n",
    "                print(parent_method)\n",
    "        except Exception as e:\n",
    "            print(traceback.print_exc())\n",
    "            continue\n",
    "\n",
    "        print(\"\\nChild Class Method Output:\")\n",
    "        # try child method, print stack trace if error\n",
    "        try:\n",
    "            # if callable, call it\n",
    "            if callable(child_method):\n",
    "                print(child_method(*args, **kwargs))\n",
    "            # otherwise, just print it\n",
    "            else:\n",
    "                print(child_method)\n",
    "        except Exception as e:\n",
    "            print(traceback.print_exc())\n",
    "            continue\n",
    "\n",
    "        print(\"\\n\")\n",
    "            "
   ]
  },
  {
   "attachments": {},
   "cell_type": "markdown",
   "metadata": {},
   "source": [
    "## Start trying inherited functions from the parent class.\n",
    "I'll be trying things against the xarray grid file, which I'll assign to `ds`."
   ]
  },
  {
   "cell_type": "code",
   "execution_count": 9,
   "metadata": {},
   "outputs": [],
   "source": [
    "ds = ds_grid"
   ]
  },
  {
   "attachments": {},
   "cell_type": "markdown",
   "metadata": {},
   "source": [
    "Here's all the methods and attributes of the uxds object:"
   ]
  },
  {
   "cell_type": "code",
   "execution_count": 10,
   "metadata": {},
   "outputs": [
    {
     "name": "stdout",
     "output_type": "stream",
     "text": [
      "['Mesh2', 'Mesh2_face_nodes', 'Mesh2_node_x', 'Mesh2_node_y', '__class__', '__delattr__', '__dict__', '__dir__', '__doc__', '__eq__', '__format__', '__from_ds__', '__from_vert__', '__ge__', '__getattribute__', '__gt__', '__hash__', '__init__', '__init_grid_var_attrs__', '__init_grid_var_names__', '__init_subclass__', '__le__', '__lt__', '__module__', '__ne__', '__new__', '__reduce__', '__reduce_ex__', '__repr__', '__setattr__', '__sizeof__', '__str__', '__subclasshook__', '__weakref__', '_ds', '_face_areas', '_populate_cartesian_xyz_coord', '_populate_lonlat_coord', 'calculate_total_face_area', 'compute_face_areas', 'concave', 'encode_as', 'face_areas', 'grid_var_names', 'gridspec', 'integrate', 'islatlon', 'mesh_type', 'nMaxMesh2_face_nodes', 'nMesh2_face', 'nMesh2_node', 'source_grid', 'use_dual', 'vertices']\n"
     ]
    }
   ],
   "source": [
    "print(dir(uxds.uxgrid))"
   ]
  },
  {
   "cell_type": "code",
   "execution_count": 11,
   "metadata": {},
   "outputs": [
    {
     "name": "stdout",
     "output_type": "stream",
     "text": [
      "['_HANDLED_TYPES', '__abs__', '__abstractmethods__', '__add__', '__and__', '__annotations__', '__array__', '__array_priority__', '__array_ufunc__', '__bool__', '__class__', '__class_getitem__', '__contains__', '__copy__', '__dask_graph__', '__dask_keys__', '__dask_layers__', '__dask_optimize__', '__dask_postcompute__', '__dask_postpersist__', '__dask_scheduler__', '__dask_tokenize__', '__deepcopy__', '__delattr__', '__delitem__', '__dir__', '__doc__', '__enter__', '__eq__', '__exit__', '__floordiv__', '__format__', '__ge__', '__getattr__', '__getattribute__', '__getitem__', '__gt__', '__hash__', '__iadd__', '__iand__', '__ifloordiv__', '__imod__', '__imul__', '__init__', '__init_subclass__', '__invert__', '__ior__', '__ipow__', '__isub__', '__iter__', '__itruediv__', '__ixor__', '__le__', '__len__', '__lt__', '__mod__', '__module__', '__mul__', '__ne__', '__neg__', '__new__', '__or__', '__orig_bases__', '__pos__', '__pow__', '__radd__', '__rand__', '__reduce__', '__reduce_ex__', '__repr__', '__reversed__', '__rfloordiv__', '__rmod__', '__rmul__', '__ror__', '__rpow__', '__rsub__', '__rtruediv__', '__rxor__', '__setattr__', '__setitem__', '__sizeof__', '__slots__', '__str__', '__sub__', '__subclasshook__', '__truediv__', '__weakref__', '__xor__', '_abc_impl', '_all_compat', '_assert_all_in_dataset', '_attr_sources', '_attrs', '_binary_op', '_cache', '_calc_assign_results', '_calculate_binary_op', '_close', '_construct_dataarray', '_construct_direct', '_coord_names', '_copy', '_copy_attrs_from', '_copy_listed', '_cum_extra_args_docstring', '_dask_postcompute', '_dask_postpersist', '_dims', '_encoding', '_get_indexers_coords_and_indexes', '_get_stack_index', '_indexes', '_inplace_binary_op', '_integrate_one', '_ipython_key_completions_', '_isel_fancy', '_item_sources', '_normalize_dim_order', '_overwrite_indexes', '_persist_inplace', '_reduce_extra_args_docstring', '_reduce_method', '_reindex', '_reindex_callback', '_rename', '_rename_all', '_rename_dims', '_rename_indexes', '_rename_vars', '_replace', '_replace_vars_and_dims', '_replace_with_new_dims', '_repr_html_', '_resample', '_set_numpy_data_from_dataframe', '_set_sparse_data_from_dataframe', '_setattr_dict', '_setitem_check', '_stack_once', '_to_dataframe', '_unary_op', '_unstack_full_reindex', '_unstack_once', '_uxgrid', '_validate_indexers', '_validate_interp_indexers', '_variables', 'all', 'any', 'apply', 'argmax', 'argmin', 'argsort', 'as_numpy', 'assign', 'assign_attrs', 'assign_coords', 'astype', 'attrs', 'bfill', 'broadcast_equals', 'broadcast_like', 'chunk', 'chunks', 'chunksizes', 'clip', 'close', 'coarsen', 'combine_first', 'compute', 'conj', 'conjugate', 'convert_calendar', 'coords', 'copy', 'count', 'cumprod', 'cumsum', 'cumulative_integrate', 'curvefit', 'custom_method', 'data_vars', 'diff', 'differentiate', 'dims', 'drop', 'drop_dims', 'drop_duplicates', 'drop_indexes', 'drop_isel', 'drop_sel', 'drop_vars', 'dropna', 'dtypes', 'dump_to_store', 'encoding', 'equals', 'expand_dims', 'ffill', 'fillna', 'filter_by_attrs', 'from_dataframe', 'from_dict', 'get', 'get_index', 'groupby', 'groupby_bins', 'head', 'identical', 'idxmax', 'idxmin', 'imag', 'indexes', 'info', 'integrate', 'interp', 'interp_calendar', 'interp_like', 'interpolate_na', 'isel', 'isin', 'isnull', 'items', 'keys', 'load', 'load_store', 'loc', 'map', 'map_blocks', 'max', 'mean', 'median', 'merge', 'min', 'nbytes', 'ncol', 'notnull', 'pad', 'persist', 'pipe', 'plot', 'polyfit', 'prod', 'quantile', 'query', 'rank', 'real', 'reduce', 'reindex', 'reindex_like', 'rename', 'rename_dims', 'rename_vars', 'reorder_levels', 'resample', 'reset_coords', 'reset_index', 'roll', 'rolling', 'rolling_exp', 'round', 'sel', 'set_close', 'set_coords', 'set_index', 'set_xindex', 'shift', 'sizes', 'sortby', 'source_datasets', 'squeeze', 'stack', 'std', 'sum', 'swap_dims', 'tail', 'thin', 'to_array', 'to_dask_dataframe', 'to_dataframe', 'to_dict', 'to_netcdf', 'to_pandas', 'to_stacked_array', 'to_zarr', 'transpose', 'unify_chunks', 'unstack', 'update', 'uxgrid', 'values', 'var', 'var2', 'variables', 'weighted', 'where', 'xindexes']\n"
     ]
    }
   ],
   "source": [
    "print(dir(uxds))"
   ]
  },
  {
   "cell_type": "code",
   "execution_count": 12,
   "metadata": {},
   "outputs": [
    {
     "name": "stdout",
     "output_type": "stream",
     "text": [
      "Parent Class Method Output:\n",
      "<xarray.Dataset>\n",
      "Dimensions:           (nMesh2_face: 5, nMaxMesh2_face_nodes: 4, nMesh2_node: 5)\n",
      "Dimensions without coordinates: nMesh2_face, nMaxMesh2_face_nodes, nMesh2_node\n",
      "Data variables:\n",
      "    Mesh2             int32 ...\n",
      "    Mesh2_face_nodes  (nMesh2_face, nMaxMesh2_face_nodes) float64 ...\n",
      "    Mesh2_node_x      (nMesh2_node) float64 ...\n",
      "    Mesh2_node_y      (nMesh2_node) float64 ...\n",
      "\n",
      "Child Class Method Output:\n",
      "None\n"
     ]
    },
    {
     "name": "stderr",
     "output_type": "stream",
     "text": [
      "Traceback (most recent call last):\n",
      "  File \"/var/folders/s9/t24bbhy92td3s9sd0d79t5255788jd/T/ipykernel_82201/3945707164.py\", line 31, in compare_outputs\n",
      "    print(child_method(*args, **kwargs))\n",
      "  File \"/Users/anissaz/miniconda3/envs/uxsandbox/lib/python3.10/site-packages/xarray/core/dataset.py\", line 2116, in __repr__\n",
      "    return formatting.dataset_repr(self)\n",
      "  File \"/Users/anissaz/miniconda3/envs/uxsandbox/lib/python3.10/reprlib.py\", line 21, in wrapper\n",
      "    result = user_function(self)\n",
      "  File \"/Users/anissaz/miniconda3/envs/uxsandbox/lib/python3.10/site-packages/xarray/core/formatting.py\", line 673, in dataset_repr\n",
      "    summary.append(data_vars_repr(ds.data_vars, col_width=col_width, max_rows=max_rows))\n",
      "  File \"/Users/anissaz/miniconda3/envs/uxsandbox/lib/python3.10/site-packages/xarray/core/formatting.py\", line 377, in _mapping_repr\n",
      "    summary += [\n",
      "  File \"/Users/anissaz/miniconda3/envs/uxsandbox/lib/python3.10/site-packages/xarray/core/formatting.py\", line 377, in <listcomp>\n",
      "    summary += [\n",
      "  File \"/Users/anissaz/miniconda3/envs/uxsandbox/lib/python3.10/_collections_abc.py\", line 911, in __iter__\n",
      "    yield (key, self._mapping[key])\n",
      "  File \"/Users/anissaz/miniconda3/envs/uxsandbox/lib/python3.10/site-packages/xarray/core/dataset.py\", line 384, in __getitem__\n",
      "    return cast(\"DataArray\", self._dataset[key])\n",
      "  File \"/Users/anissaz/Desktop/Raijin/uxarray/uxarray/core/dataset.py\", line 61, in __getitem__\n",
      "    xarr = super().__getitem__(key)\n",
      "  File \"/Users/anissaz/miniconda3/envs/uxsandbox/lib/python3.10/site-packages/xarray/core/dataset.py\", line 1438, in __getitem__\n",
      "    return self._construct_dataarray(key)\n",
      "  File \"/Users/anissaz/Desktop/Raijin/uxarray/uxarray/core/dataset.py\", line 54, in _construct_dataarray\n",
      "    return UxDataArray(xarr, uxgrid=self.uxgrid)\n",
      "  File \"/Users/anissaz/miniconda3/envs/uxsandbox/lib/python3.10/site-packages/xarray/core/common.py\", line 276, in __getattr__\n",
      "    raise AttributeError(\n",
      "AttributeError: 'UxDataset' object has no attribute 'uxgrid'\n"
     ]
    }
   ],
   "source": [
    "compare_outputs(ds, uxds, 'head')"
   ]
  },
  {
   "cell_type": "code",
   "execution_count": 13,
   "metadata": {},
   "outputs": [
    {
     "name": "stdout",
     "output_type": "stream",
     "text": [
      "Parent Class Method Output:\n",
      "ItemsView(<xarray.Dataset>\n",
      "Dimensions:           (nMesh2_face: 5400, nMaxMesh2_face_nodes: 4,\n",
      "                       nMesh2_node: 5402)\n",
      "Dimensions without coordinates: nMesh2_face, nMaxMesh2_face_nodes, nMesh2_node\n",
      "Data variables:\n",
      "    Mesh2             int32 ...\n",
      "    Mesh2_face_nodes  (nMesh2_face, nMaxMesh2_face_nodes) float64 ...\n",
      "    Mesh2_node_x      (nMesh2_node) float64 ...\n",
      "    Mesh2_node_y      (nMesh2_node) float64 ...)\n",
      "\n",
      "Child Class Method Output:\n",
      "ItemsView(<xarray.UxDataset>\n",
      "Dimensions:  (ncol: 5400)\n",
      "Dimensions without coordinates: ncol\n",
      "Data variables:\n",
      "    var2     (ncol) float64 1.351 1.331 1.31 1.289 ... 0.7121 0.6909 0.67 0.6495)\n",
      "\n",
      "\n"
     ]
    }
   ],
   "source": [
    "compare_outputs(ds, uxds, 'items')"
   ]
  },
  {
   "cell_type": "code",
   "execution_count": 14,
   "metadata": {},
   "outputs": [
    {
     "name": "stdout",
     "output_type": "stream",
     "text": [
      "Parent Class Method Output:\n",
      "<xarray.DataArray (variable: 4, nMesh2_face: 5400, nMaxMesh2_face_nodes: 4,\n",
      "                   nMesh2_node: 5402)>\n",
      "array([[[[-2.14748365e+09, -2.14748365e+09, -2.14748365e+09, ...,\n",
      "          -2.14748365e+09, -2.14748365e+09, -2.14748365e+09],\n",
      "         [-2.14748365e+09, -2.14748365e+09, -2.14748365e+09, ...,\n",
      "          -2.14748365e+09, -2.14748365e+09, -2.14748365e+09],\n",
      "         [-2.14748365e+09, -2.14748365e+09, -2.14748365e+09, ...,\n",
      "          -2.14748365e+09, -2.14748365e+09, -2.14748365e+09],\n",
      "         [-2.14748365e+09, -2.14748365e+09, -2.14748365e+09, ...,\n",
      "          -2.14748365e+09, -2.14748365e+09, -2.14748365e+09]],\n",
      "\n",
      "        [[-2.14748365e+09, -2.14748365e+09, -2.14748365e+09, ...,\n",
      "          -2.14748365e+09, -2.14748365e+09, -2.14748365e+09],\n",
      "         [-2.14748365e+09, -2.14748365e+09, -2.14748365e+09, ...,\n",
      "          -2.14748365e+09, -2.14748365e+09, -2.14748365e+09],\n",
      "         [-2.14748365e+09, -2.14748365e+09, -2.14748365e+09, ...,\n",
      "          -2.14748365e+09, -2.14748365e+09, -2.14748365e+09],\n",
      "         [-2.14748365e+09, -2.14748365e+09, -2.14748365e+09, ...,\n",
      "          -2.14748365e+09, -2.14748365e+09, -2.14748365e+09]],\n",
      "\n",
      "        [[-2.14748365e+09, -2.14748365e+09, -2.14748365e+09, ...,\n",
      "          -2.14748365e+09, -2.14748365e+09, -2.14748365e+09],\n",
      "...\n",
      "         [-3.52643897e+01, -3.52643897e+01, -3.52643897e+01, ...,\n",
      "           4.08376037e+01,  3.95490780e+01,  3.81433142e+01]],\n",
      "\n",
      "        [[-3.52643897e+01, -3.52643897e+01, -3.52643897e+01, ...,\n",
      "           4.08376037e+01,  3.95490780e+01,  3.81433142e+01],\n",
      "         [-3.52643897e+01, -3.52643897e+01, -3.52643897e+01, ...,\n",
      "           4.08376037e+01,  3.95490780e+01,  3.81433142e+01],\n",
      "         [-3.52643897e+01, -3.52643897e+01, -3.52643897e+01, ...,\n",
      "           4.08376037e+01,  3.95490780e+01,  3.81433142e+01],\n",
      "         [-3.52643897e+01, -3.52643897e+01, -3.52643897e+01, ...,\n",
      "           4.08376037e+01,  3.95490780e+01,  3.81433142e+01]],\n",
      "\n",
      "        [[-3.52643897e+01, -3.52643897e+01, -3.52643897e+01, ...,\n",
      "           4.08376037e+01,  3.95490780e+01,  3.81433142e+01],\n",
      "         [-3.52643897e+01, -3.52643897e+01, -3.52643897e+01, ...,\n",
      "           4.08376037e+01,  3.95490780e+01,  3.81433142e+01],\n",
      "         [-3.52643897e+01, -3.52643897e+01, -3.52643897e+01, ...,\n",
      "           4.08376037e+01,  3.95490780e+01,  3.81433142e+01],\n",
      "         [-3.52643897e+01, -3.52643897e+01, -3.52643897e+01, ...,\n",
      "           4.08376037e+01,  3.95490780e+01,  3.81433142e+01]]]])\n",
      "Coordinates:\n",
      "  * variable  (variable) object 'Mesh2' 'Mesh2_face_nodes' ... 'Mesh2_node_y'\n",
      "Dimensions without coordinates: nMesh2_face, nMaxMesh2_face_nodes, nMesh2_node\n",
      "\n",
      "Child Class Method Output:\n",
      "<xarray.DataArray (variable: 1, ncol: 5400)>\n",
      "array([[1.35131705, 1.33091472, 1.31013985, ..., 0.69088338, 0.66998883,\n",
      "        0.64946691]])\n",
      "Coordinates:\n",
      "  * variable  (variable) object 'var2'\n",
      "Dimensions without coordinates: ncol\n",
      "\n",
      "\n"
     ]
    }
   ],
   "source": [
    "compare_outputs(ds, uxds, 'to_array')"
   ]
  },
  {
   "cell_type": "code",
   "execution_count": 15,
   "metadata": {},
   "outputs": [
    {
     "name": "stdout",
     "output_type": "stream",
     "text": [
      "Parent Class Method Output:\n",
      "{}\n",
      "\n",
      "Child Class Method Output:\n",
      "{}\n",
      "\n",
      "\n"
     ]
    }
   ],
   "source": [
    "compare_outputs(ds, uxds, '_attrs')"
   ]
  },
  {
   "cell_type": "code",
   "execution_count": 16,
   "metadata": {},
   "outputs": [
    {
     "name": "stdout",
     "output_type": "stream",
     "text": [
      "Parent Class Method Output:\n",
      "<generator object Dataset._attr_sources at 0x10e0cd230>\n",
      "\n",
      "Child Class Method Output:\n",
      "<generator object Dataset._attr_sources at 0x10e0cd380>\n",
      "\n",
      "\n"
     ]
    }
   ],
   "source": [
    "compare_outputs(ds, uxds, '_attr_sources')"
   ]
  },
  {
   "cell_type": "code",
   "execution_count": 17,
   "metadata": {},
   "outputs": [
    {
     "name": "stdout",
     "output_type": "stream",
     "text": [
      "Parent Class Method Output:\n",
      "{'nMesh2_face': 5400, 'nMaxMesh2_face_nodes': 4, 'nMesh2_node': 5402}\n",
      "\n",
      "Child Class Method Output:\n",
      "{'ncol': 5400}\n",
      "\n",
      "\n",
      "Parent Class Method Output:\n",
      "Frozen({'nMesh2_face': 5400, 'nMaxMesh2_face_nodes': 4, 'nMesh2_node': 5402})\n",
      "\n",
      "Child Class Method Output:\n",
      "Frozen({'ncol': 5400})\n",
      "\n",
      "\n"
     ]
    }
   ],
   "source": [
    "compare_outputs(ds, uxds, '_dims')\n",
    "compare_outputs(ds, uxds, 'dims')"
   ]
  },
  {
   "cell_type": "code",
   "execution_count": 18,
   "metadata": {},
   "outputs": [
    {
     "name": "stdout",
     "output_type": "stream",
     "text": [
      "Parent Class Method Output:\n",
      "{'unlimited_dims': set(), 'source': '/Users/anissaz/Desktop/Raijin/uxarray/test/meshfiles/ugrid/outCSne30/outCSne30.ug'}\n",
      "\n",
      "Child Class Method Output:\n",
      "None\n",
      "\n",
      "\n"
     ]
    }
   ],
   "source": [
    "compare_outputs(ds, uxds, '_encoding')"
   ]
  },
  {
   "cell_type": "code",
   "execution_count": 19,
   "metadata": {},
   "outputs": [
    {
     "name": "stdout",
     "output_type": "stream",
     "text": [
      "Parent Class Method Output:\n",
      "['Mesh2_node_x', 'nMesh2_face', 'Mesh2_face_nodes', 'nMesh2_node', 'nMaxMesh2_face_nodes', 'Mesh2_node_y', 'Mesh2']\n",
      "\n",
      "Child Class Method Output:\n",
      "['ncol', 'var2']\n",
      "\n",
      "\n"
     ]
    }
   ],
   "source": [
    "compare_outputs(ds, uxds, '_ipython_key_completions_')"
   ]
  },
  {
   "cell_type": "code",
   "execution_count": 20,
   "metadata": {},
   "outputs": [
    {
     "name": "stdout",
     "output_type": "stream",
     "text": [
      "Parent Class Method Output:\n",
      "<generator object Dataset._item_sources at 0x10e0cd700>\n",
      "\n",
      "Child Class Method Output:\n",
      "<generator object Dataset._item_sources at 0x10e0cd770>\n",
      "\n",
      "\n"
     ]
    }
   ],
   "source": [
    "compare_outputs(ds, uxds, '_item_sources')"
   ]
  },
  {
   "cell_type": "code",
   "execution_count": 21,
   "metadata": {},
   "outputs": [
    {
     "name": "stdout",
     "output_type": "stream",
     "text": [
      "Parent Class Method Output:\n",
      "<xarray.Dataset>\n",
      "Dimensions:           (nMesh2_face: 5400, nMaxMesh2_face_nodes: 4,\n",
      "                       nMesh2_node: 5402)\n",
      "Dimensions without coordinates: nMesh2_face, nMaxMesh2_face_nodes, nMesh2_node\n",
      "Data variables:\n",
      "    Mesh2             int32 -2147483647\n",
      "    Mesh2_face_nodes  (nMesh2_face, nMaxMesh2_face_nodes) float64 0.0 ... 298.0\n",
      "    Mesh2_node_x      (nMesh2_node) float64 315.0 45.0 135.0 ... 138.0 135.0\n",
      "    Mesh2_node_y      (nMesh2_node) float64 -35.26 -35.26 -35.26 ... 39.55 38.14\n",
      "\n",
      "Child Class Method Output:\n",
      "None\n",
      "Parent Class Method Output:\n",
      "<xarray.Dataset>\n",
      "Dimensions:           (nMesh2_face: 5400, nMaxMesh2_face_nodes: 4,\n",
      "                       nMesh2_node: 5402)\n",
      "Dimensions without coordinates: nMesh2_face, nMaxMesh2_face_nodes, nMesh2_node\n",
      "Data variables:\n",
      "    Mesh2             int32 -2147483647\n",
      "    Mesh2_face_nodes  (nMesh2_face, nMaxMesh2_face_nodes) float64 0.0 ... 298.0\n",
      "    Mesh2_node_x      (nMesh2_node) float64 315.0 45.0 135.0 ... 138.0 135.0\n",
      "    Mesh2_node_y      (nMesh2_node) float64 -35.26 -35.26 -35.26 ... 39.55 38.14\n",
      "\n",
      "Child Class Method Output:\n",
      "None\n"
     ]
    },
    {
     "name": "stderr",
     "output_type": "stream",
     "text": [
      "Traceback (most recent call last):\n",
      "  File \"/var/folders/s9/t24bbhy92td3s9sd0d79t5255788jd/T/ipykernel_82201/3945707164.py\", line 31, in compare_outputs\n",
      "    print(child_method(*args, **kwargs))\n",
      "  File \"/Users/anissaz/miniconda3/envs/uxsandbox/lib/python3.10/site-packages/xarray/core/dataset.py\", line 2116, in __repr__\n",
      "    return formatting.dataset_repr(self)\n",
      "  File \"/Users/anissaz/miniconda3/envs/uxsandbox/lib/python3.10/reprlib.py\", line 21, in wrapper\n",
      "    result = user_function(self)\n",
      "  File \"/Users/anissaz/miniconda3/envs/uxsandbox/lib/python3.10/site-packages/xarray/core/formatting.py\", line 673, in dataset_repr\n",
      "    summary.append(data_vars_repr(ds.data_vars, col_width=col_width, max_rows=max_rows))\n",
      "  File \"/Users/anissaz/miniconda3/envs/uxsandbox/lib/python3.10/site-packages/xarray/core/formatting.py\", line 377, in _mapping_repr\n",
      "    summary += [\n",
      "  File \"/Users/anissaz/miniconda3/envs/uxsandbox/lib/python3.10/site-packages/xarray/core/formatting.py\", line 377, in <listcomp>\n",
      "    summary += [\n",
      "  File \"/Users/anissaz/miniconda3/envs/uxsandbox/lib/python3.10/_collections_abc.py\", line 911, in __iter__\n",
      "    yield (key, self._mapping[key])\n",
      "  File \"/Users/anissaz/miniconda3/envs/uxsandbox/lib/python3.10/site-packages/xarray/core/dataset.py\", line 384, in __getitem__\n",
      "    return cast(\"DataArray\", self._dataset[key])\n",
      "  File \"/Users/anissaz/Desktop/Raijin/uxarray/uxarray/core/dataset.py\", line 61, in __getitem__\n",
      "    xarr = super().__getitem__(key)\n",
      "  File \"/Users/anissaz/miniconda3/envs/uxsandbox/lib/python3.10/site-packages/xarray/core/dataset.py\", line 1438, in __getitem__\n",
      "    return self._construct_dataarray(key)\n",
      "  File \"/Users/anissaz/Desktop/Raijin/uxarray/uxarray/core/dataset.py\", line 54, in _construct_dataarray\n",
      "    return UxDataArray(xarr, uxgrid=self.uxgrid)\n",
      "  File \"/Users/anissaz/miniconda3/envs/uxsandbox/lib/python3.10/site-packages/xarray/core/common.py\", line 276, in __getattr__\n",
      "    raise AttributeError(\n",
      "AttributeError: 'UxDataset' object has no attribute 'uxgrid'\n",
      "Traceback (most recent call last):\n",
      "  File \"/var/folders/s9/t24bbhy92td3s9sd0d79t5255788jd/T/ipykernel_82201/3945707164.py\", line 31, in compare_outputs\n",
      "    print(child_method(*args, **kwargs))\n",
      "  File \"/Users/anissaz/miniconda3/envs/uxsandbox/lib/python3.10/site-packages/xarray/core/dataset.py\", line 2116, in __repr__\n",
      "    return formatting.dataset_repr(self)\n",
      "  File \"/Users/anissaz/miniconda3/envs/uxsandbox/lib/python3.10/reprlib.py\", line 21, in wrapper\n",
      "    result = user_function(self)\n",
      "  File \"/Users/anissaz/miniconda3/envs/uxsandbox/lib/python3.10/site-packages/xarray/core/formatting.py\", line 673, in dataset_repr\n",
      "    summary.append(data_vars_repr(ds.data_vars, col_width=col_width, max_rows=max_rows))\n",
      "  File \"/Users/anissaz/miniconda3/envs/uxsandbox/lib/python3.10/site-packages/xarray/core/formatting.py\", line 377, in _mapping_repr\n",
      "    summary += [\n",
      "  File \"/Users/anissaz/miniconda3/envs/uxsandbox/lib/python3.10/site-packages/xarray/core/formatting.py\", line 377, in <listcomp>\n",
      "    summary += [\n",
      "  File \"/Users/anissaz/miniconda3/envs/uxsandbox/lib/python3.10/_collections_abc.py\", line 911, in __iter__\n",
      "    yield (key, self._mapping[key])\n",
      "  File \"/Users/anissaz/miniconda3/envs/uxsandbox/lib/python3.10/site-packages/xarray/core/dataset.py\", line 384, in __getitem__\n",
      "    return cast(\"DataArray\", self._dataset[key])\n",
      "  File \"/Users/anissaz/Desktop/Raijin/uxarray/uxarray/core/dataset.py\", line 61, in __getitem__\n",
      "    xarr = super().__getitem__(key)\n",
      "  File \"/Users/anissaz/miniconda3/envs/uxsandbox/lib/python3.10/site-packages/xarray/core/dataset.py\", line 1438, in __getitem__\n",
      "    return self._construct_dataarray(key)\n",
      "  File \"/Users/anissaz/Desktop/Raijin/uxarray/uxarray/core/dataset.py\", line 54, in _construct_dataarray\n",
      "    return UxDataArray(xarr, uxgrid=self.uxgrid)\n",
      "  File \"/Users/anissaz/miniconda3/envs/uxsandbox/lib/python3.10/site-packages/xarray/core/common.py\", line 276, in __getattr__\n",
      "    raise AttributeError(\n",
      "AttributeError: 'UxDataset' object has no attribute 'uxgrid'\n"
     ]
    }
   ],
   "source": [
    "compare_outputs(ds, uxds, '_rename')\n",
    "compare_outputs(ds, uxds, 'rename')"
   ]
  },
  {
   "cell_type": "code",
   "execution_count": 22,
   "metadata": {},
   "outputs": [
    {
     "name": "stdout",
     "output_type": "stream",
     "text": [
      "Parent Class Method Output:\n",
      "<xarray.Dataset>\n",
      "Dimensions:           (nMesh2_face: 5400, nMaxMesh2_face_nodes: 4,\n",
      "                       nMesh2_node: 5402)\n",
      "Dimensions without coordinates: nMesh2_face, nMaxMesh2_face_nodes, nMesh2_node\n",
      "Data variables:\n",
      "    Mesh2             int32 -2147483647\n",
      "    Mesh2_face_nodes  (nMesh2_face, nMaxMesh2_face_nodes) float64 0.0 ... 298.0\n",
      "    Mesh2_node_x      (nMesh2_node) float64 315.0 45.0 135.0 ... 138.0 135.0\n",
      "    Mesh2_node_y      (nMesh2_node) float64 -35.26 -35.26 -35.26 ... 39.55 38.14\n",
      "\n",
      "Child Class Method Output:\n",
      "None\n"
     ]
    },
    {
     "name": "stderr",
     "output_type": "stream",
     "text": [
      "Traceback (most recent call last):\n",
      "  File \"/var/folders/s9/t24bbhy92td3s9sd0d79t5255788jd/T/ipykernel_82201/3945707164.py\", line 31, in compare_outputs\n",
      "    print(child_method(*args, **kwargs))\n",
      "  File \"/Users/anissaz/miniconda3/envs/uxsandbox/lib/python3.10/site-packages/xarray/core/dataset.py\", line 2116, in __repr__\n",
      "    return formatting.dataset_repr(self)\n",
      "  File \"/Users/anissaz/miniconda3/envs/uxsandbox/lib/python3.10/reprlib.py\", line 21, in wrapper\n",
      "    result = user_function(self)\n",
      "  File \"/Users/anissaz/miniconda3/envs/uxsandbox/lib/python3.10/site-packages/xarray/core/formatting.py\", line 673, in dataset_repr\n",
      "    summary.append(data_vars_repr(ds.data_vars, col_width=col_width, max_rows=max_rows))\n",
      "  File \"/Users/anissaz/miniconda3/envs/uxsandbox/lib/python3.10/site-packages/xarray/core/formatting.py\", line 377, in _mapping_repr\n",
      "    summary += [\n",
      "  File \"/Users/anissaz/miniconda3/envs/uxsandbox/lib/python3.10/site-packages/xarray/core/formatting.py\", line 377, in <listcomp>\n",
      "    summary += [\n",
      "  File \"/Users/anissaz/miniconda3/envs/uxsandbox/lib/python3.10/_collections_abc.py\", line 911, in __iter__\n",
      "    yield (key, self._mapping[key])\n",
      "  File \"/Users/anissaz/miniconda3/envs/uxsandbox/lib/python3.10/site-packages/xarray/core/dataset.py\", line 384, in __getitem__\n",
      "    return cast(\"DataArray\", self._dataset[key])\n",
      "  File \"/Users/anissaz/Desktop/Raijin/uxarray/uxarray/core/dataset.py\", line 61, in __getitem__\n",
      "    xarr = super().__getitem__(key)\n",
      "  File \"/Users/anissaz/miniconda3/envs/uxsandbox/lib/python3.10/site-packages/xarray/core/dataset.py\", line 1438, in __getitem__\n",
      "    return self._construct_dataarray(key)\n",
      "  File \"/Users/anissaz/Desktop/Raijin/uxarray/uxarray/core/dataset.py\", line 54, in _construct_dataarray\n",
      "    return UxDataArray(xarr, uxgrid=self.uxgrid)\n",
      "  File \"/Users/anissaz/miniconda3/envs/uxsandbox/lib/python3.10/site-packages/xarray/core/common.py\", line 276, in __getattr__\n",
      "    raise AttributeError(\n",
      "AttributeError: 'UxDataset' object has no attribute 'uxgrid'\n"
     ]
    }
   ],
   "source": [
    "compare_outputs(ds, uxds, '_replace')"
   ]
  },
  {
   "cell_type": "code",
   "execution_count": 23,
   "metadata": {},
   "outputs": [
    {
     "name": "stdout",
     "output_type": "stream",
     "text": [
      "Parent Class Method Output:\n",
      "<div><svg style=\"position: absolute; width: 0; height: 0; overflow: hidden\">\n",
      "<defs>\n",
      "<symbol id=\"icon-database\" viewBox=\"0 0 32 32\">\n",
      "<path d=\"M16 0c-8.837 0-16 2.239-16 5v4c0 2.761 7.163 5 16 5s16-2.239 16-5v-4c0-2.761-7.163-5-16-5z\"></path>\n",
      "<path d=\"M16 17c-8.837 0-16-2.239-16-5v6c0 2.761 7.163 5 16 5s16-2.239 16-5v-6c0 2.761-7.163 5-16 5z\"></path>\n",
      "<path d=\"M16 26c-8.837 0-16-2.239-16-5v6c0 2.761 7.163 5 16 5s16-2.239 16-5v-6c0 2.761-7.163 5-16 5z\"></path>\n",
      "</symbol>\n",
      "<symbol id=\"icon-file-text2\" viewBox=\"0 0 32 32\">\n",
      "<path d=\"M28.681 7.159c-0.694-0.947-1.662-2.053-2.724-3.116s-2.169-2.030-3.116-2.724c-1.612-1.182-2.393-1.319-2.841-1.319h-15.5c-1.378 0-2.5 1.121-2.5 2.5v27c0 1.378 1.122 2.5 2.5 2.5h23c1.378 0 2.5-1.122 2.5-2.5v-19.5c0-0.448-0.137-1.23-1.319-2.841zM24.543 5.457c0.959 0.959 1.712 1.825 2.268 2.543h-4.811v-4.811c0.718 0.556 1.584 1.309 2.543 2.268zM28 29.5c0 0.271-0.229 0.5-0.5 0.5h-23c-0.271 0-0.5-0.229-0.5-0.5v-27c0-0.271 0.229-0.5 0.5-0.5 0 0 15.499-0 15.5 0v7c0 0.552 0.448 1 1 1h7v19.5z\"></path>\n",
      "<path d=\"M23 26h-14c-0.552 0-1-0.448-1-1s0.448-1 1-1h14c0.552 0 1 0.448 1 1s-0.448 1-1 1z\"></path>\n",
      "<path d=\"M23 22h-14c-0.552 0-1-0.448-1-1s0.448-1 1-1h14c0.552 0 1 0.448 1 1s-0.448 1-1 1z\"></path>\n",
      "<path d=\"M23 18h-14c-0.552 0-1-0.448-1-1s0.448-1 1-1h14c0.552 0 1 0.448 1 1s-0.448 1-1 1z\"></path>\n",
      "</symbol>\n",
      "</defs>\n",
      "</svg>\n",
      "<style>/* CSS stylesheet for displaying xarray objects in jupyterlab.\n",
      " *\n",
      " */\n",
      "\n",
      ":root {\n",
      "  --xr-font-color0: var(--jp-content-font-color0, rgba(0, 0, 0, 1));\n",
      "  --xr-font-color2: var(--jp-content-font-color2, rgba(0, 0, 0, 0.54));\n",
      "  --xr-font-color3: var(--jp-content-font-color3, rgba(0, 0, 0, 0.38));\n",
      "  --xr-border-color: var(--jp-border-color2, #e0e0e0);\n",
      "  --xr-disabled-color: var(--jp-layout-color3, #bdbdbd);\n",
      "  --xr-background-color: var(--jp-layout-color0, white);\n",
      "  --xr-background-color-row-even: var(--jp-layout-color1, white);\n",
      "  --xr-background-color-row-odd: var(--jp-layout-color2, #eeeeee);\n",
      "}\n",
      "\n",
      "html[theme=dark],\n",
      "body[data-theme=dark],\n",
      "body.vscode-dark {\n",
      "  --xr-font-color0: rgba(255, 255, 255, 1);\n",
      "  --xr-font-color2: rgba(255, 255, 255, 0.54);\n",
      "  --xr-font-color3: rgba(255, 255, 255, 0.38);\n",
      "  --xr-border-color: #1F1F1F;\n",
      "  --xr-disabled-color: #515151;\n",
      "  --xr-background-color: #111111;\n",
      "  --xr-background-color-row-even: #111111;\n",
      "  --xr-background-color-row-odd: #313131;\n",
      "}\n",
      "\n",
      ".xr-wrap {\n",
      "  display: block !important;\n",
      "  min-width: 300px;\n",
      "  max-width: 700px;\n",
      "}\n",
      "\n",
      ".xr-text-repr-fallback {\n",
      "  /* fallback to plain text repr when CSS is not injected (untrusted notebook) */\n",
      "  display: none;\n",
      "}\n",
      "\n",
      ".xr-header {\n",
      "  padding-top: 6px;\n",
      "  padding-bottom: 6px;\n",
      "  margin-bottom: 4px;\n",
      "  border-bottom: solid 1px var(--xr-border-color);\n",
      "}\n",
      "\n",
      ".xr-header > div,\n",
      ".xr-header > ul {\n",
      "  display: inline;\n",
      "  margin-top: 0;\n",
      "  margin-bottom: 0;\n",
      "}\n",
      "\n",
      ".xr-obj-type,\n",
      ".xr-array-name {\n",
      "  margin-left: 2px;\n",
      "  margin-right: 10px;\n",
      "}\n",
      "\n",
      ".xr-obj-type {\n",
      "  color: var(--xr-font-color2);\n",
      "}\n",
      "\n",
      ".xr-sections {\n",
      "  padding-left: 0 !important;\n",
      "  display: grid;\n",
      "  grid-template-columns: 150px auto auto 1fr 20px 20px;\n",
      "}\n",
      "\n",
      ".xr-section-item {\n",
      "  display: contents;\n",
      "}\n",
      "\n",
      ".xr-section-item input {\n",
      "  display: none;\n",
      "}\n",
      "\n",
      ".xr-section-item input + label {\n",
      "  color: var(--xr-disabled-color);\n",
      "}\n",
      "\n",
      ".xr-section-item input:enabled + label {\n",
      "  cursor: pointer;\n",
      "  color: var(--xr-font-color2);\n",
      "}\n",
      "\n",
      ".xr-section-item input:enabled + label:hover {\n",
      "  color: var(--xr-font-color0);\n",
      "}\n",
      "\n",
      ".xr-section-summary {\n",
      "  grid-column: 1;\n",
      "  color: var(--xr-font-color2);\n",
      "  font-weight: 500;\n",
      "}\n",
      "\n",
      ".xr-section-summary > span {\n",
      "  display: inline-block;\n",
      "  padding-left: 0.5em;\n",
      "}\n",
      "\n",
      ".xr-section-summary-in:disabled + label {\n",
      "  color: var(--xr-font-color2);\n",
      "}\n",
      "\n",
      ".xr-section-summary-in + label:before {\n",
      "  display: inline-block;\n",
      "  content: '►';\n",
      "  font-size: 11px;\n",
      "  width: 15px;\n",
      "  text-align: center;\n",
      "}\n",
      "\n",
      ".xr-section-summary-in:disabled + label:before {\n",
      "  color: var(--xr-disabled-color);\n",
      "}\n",
      "\n",
      ".xr-section-summary-in:checked + label:before {\n",
      "  content: '▼';\n",
      "}\n",
      "\n",
      ".xr-section-summary-in:checked + label > span {\n",
      "  display: none;\n",
      "}\n",
      "\n",
      ".xr-section-summary,\n",
      ".xr-section-inline-details {\n",
      "  padding-top: 4px;\n",
      "  padding-bottom: 4px;\n",
      "}\n",
      "\n",
      ".xr-section-inline-details {\n",
      "  grid-column: 2 / -1;\n",
      "}\n",
      "\n",
      ".xr-section-details {\n",
      "  display: none;\n",
      "  grid-column: 1 / -1;\n",
      "  margin-bottom: 5px;\n",
      "}\n",
      "\n",
      ".xr-section-summary-in:checked ~ .xr-section-details {\n",
      "  display: contents;\n",
      "}\n",
      "\n",
      ".xr-array-wrap {\n",
      "  grid-column: 1 / -1;\n",
      "  display: grid;\n",
      "  grid-template-columns: 20px auto;\n",
      "}\n",
      "\n",
      ".xr-array-wrap > label {\n",
      "  grid-column: 1;\n",
      "  vertical-align: top;\n",
      "}\n",
      "\n",
      ".xr-preview {\n",
      "  color: var(--xr-font-color3);\n",
      "}\n",
      "\n",
      ".xr-array-preview,\n",
      ".xr-array-data {\n",
      "  padding: 0 5px !important;\n",
      "  grid-column: 2;\n",
      "}\n",
      "\n",
      ".xr-array-data,\n",
      ".xr-array-in:checked ~ .xr-array-preview {\n",
      "  display: none;\n",
      "}\n",
      "\n",
      ".xr-array-in:checked ~ .xr-array-data,\n",
      ".xr-array-preview {\n",
      "  display: inline-block;\n",
      "}\n",
      "\n",
      ".xr-dim-list {\n",
      "  display: inline-block !important;\n",
      "  list-style: none;\n",
      "  padding: 0 !important;\n",
      "  margin: 0;\n",
      "}\n",
      "\n",
      ".xr-dim-list li {\n",
      "  display: inline-block;\n",
      "  padding: 0;\n",
      "  margin: 0;\n",
      "}\n",
      "\n",
      ".xr-dim-list:before {\n",
      "  content: '(';\n",
      "}\n",
      "\n",
      ".xr-dim-list:after {\n",
      "  content: ')';\n",
      "}\n",
      "\n",
      ".xr-dim-list li:not(:last-child):after {\n",
      "  content: ',';\n",
      "  padding-right: 5px;\n",
      "}\n",
      "\n",
      ".xr-has-index {\n",
      "  font-weight: bold;\n",
      "}\n",
      "\n",
      ".xr-var-list,\n",
      ".xr-var-item {\n",
      "  display: contents;\n",
      "}\n",
      "\n",
      ".xr-var-item > div,\n",
      ".xr-var-item label,\n",
      ".xr-var-item > .xr-var-name span {\n",
      "  background-color: var(--xr-background-color-row-even);\n",
      "  margin-bottom: 0;\n",
      "}\n",
      "\n",
      ".xr-var-item > .xr-var-name:hover span {\n",
      "  padding-right: 5px;\n",
      "}\n",
      "\n",
      ".xr-var-list > li:nth-child(odd) > div,\n",
      ".xr-var-list > li:nth-child(odd) > label,\n",
      ".xr-var-list > li:nth-child(odd) > .xr-var-name span {\n",
      "  background-color: var(--xr-background-color-row-odd);\n",
      "}\n",
      "\n",
      ".xr-var-name {\n",
      "  grid-column: 1;\n",
      "}\n",
      "\n",
      ".xr-var-dims {\n",
      "  grid-column: 2;\n",
      "}\n",
      "\n",
      ".xr-var-dtype {\n",
      "  grid-column: 3;\n",
      "  text-align: right;\n",
      "  color: var(--xr-font-color2);\n",
      "}\n",
      "\n",
      ".xr-var-preview {\n",
      "  grid-column: 4;\n",
      "}\n",
      "\n",
      ".xr-index-preview {\n",
      "  grid-column: 2 / 5;\n",
      "  color: var(--xr-font-color2);\n",
      "}\n",
      "\n",
      ".xr-var-name,\n",
      ".xr-var-dims,\n",
      ".xr-var-dtype,\n",
      ".xr-preview,\n",
      ".xr-attrs dt {\n",
      "  white-space: nowrap;\n",
      "  overflow: hidden;\n",
      "  text-overflow: ellipsis;\n",
      "  padding-right: 10px;\n",
      "}\n",
      "\n",
      ".xr-var-name:hover,\n",
      ".xr-var-dims:hover,\n",
      ".xr-var-dtype:hover,\n",
      ".xr-attrs dt:hover {\n",
      "  overflow: visible;\n",
      "  width: auto;\n",
      "  z-index: 1;\n",
      "}\n",
      "\n",
      ".xr-var-attrs,\n",
      ".xr-var-data,\n",
      ".xr-index-data {\n",
      "  display: none;\n",
      "  background-color: var(--xr-background-color) !important;\n",
      "  padding-bottom: 5px !important;\n",
      "}\n",
      "\n",
      ".xr-var-attrs-in:checked ~ .xr-var-attrs,\n",
      ".xr-var-data-in:checked ~ .xr-var-data,\n",
      ".xr-index-data-in:checked ~ .xr-index-data {\n",
      "  display: block;\n",
      "}\n",
      "\n",
      ".xr-var-data > table {\n",
      "  float: right;\n",
      "}\n",
      "\n",
      ".xr-var-name span,\n",
      ".xr-var-data,\n",
      ".xr-index-name div,\n",
      ".xr-index-data,\n",
      ".xr-attrs {\n",
      "  padding-left: 25px !important;\n",
      "}\n",
      "\n",
      ".xr-attrs,\n",
      ".xr-var-attrs,\n",
      ".xr-var-data,\n",
      ".xr-index-data {\n",
      "  grid-column: 1 / -1;\n",
      "}\n",
      "\n",
      "dl.xr-attrs {\n",
      "  padding: 0;\n",
      "  margin: 0;\n",
      "  display: grid;\n",
      "  grid-template-columns: 125px auto;\n",
      "}\n",
      "\n",
      ".xr-attrs dt,\n",
      ".xr-attrs dd {\n",
      "  padding: 0;\n",
      "  margin: 0;\n",
      "  float: left;\n",
      "  padding-right: 10px;\n",
      "  width: auto;\n",
      "}\n",
      "\n",
      ".xr-attrs dt {\n",
      "  font-weight: normal;\n",
      "  grid-column: 1;\n",
      "}\n",
      "\n",
      ".xr-attrs dt:hover span {\n",
      "  display: inline-block;\n",
      "  background: var(--xr-background-color);\n",
      "  padding-right: 10px;\n",
      "}\n",
      "\n",
      ".xr-attrs dd {\n",
      "  grid-column: 2;\n",
      "  white-space: pre-wrap;\n",
      "  word-break: break-all;\n",
      "}\n",
      "\n",
      ".xr-icon-database,\n",
      ".xr-icon-file-text2,\n",
      ".xr-no-icon {\n",
      "  display: inline-block;\n",
      "  vertical-align: middle;\n",
      "  width: 1em;\n",
      "  height: 1.5em !important;\n",
      "  stroke-width: 0;\n",
      "  stroke: currentColor;\n",
      "  fill: currentColor;\n",
      "}\n",
      "</style><pre class='xr-text-repr-fallback'>&lt;xarray.Dataset&gt;\n",
      "Dimensions:           (nMesh2_face: 5400, nMaxMesh2_face_nodes: 4,\n",
      "                       nMesh2_node: 5402)\n",
      "Dimensions without coordinates: nMesh2_face, nMaxMesh2_face_nodes, nMesh2_node\n",
      "Data variables:\n",
      "    Mesh2             int32 -2147483647\n",
      "    Mesh2_face_nodes  (nMesh2_face, nMaxMesh2_face_nodes) float64 0.0 ... 298.0\n",
      "    Mesh2_node_x      (nMesh2_node) float64 315.0 45.0 135.0 ... 138.0 135.0\n",
      "    Mesh2_node_y      (nMesh2_node) float64 -35.26 -35.26 -35.26 ... 39.55 38.14</pre><div class='xr-wrap' style='display:none'><div class='xr-header'><div class='xr-obj-type'>xarray.Dataset</div></div><ul class='xr-sections'><li class='xr-section-item'><input id='section-093b3151-91a0-4712-89d2-cb1d3915ef72' class='xr-section-summary-in' type='checkbox' disabled ><label for='section-093b3151-91a0-4712-89d2-cb1d3915ef72' class='xr-section-summary'  title='Expand/collapse section'>Dimensions:</label><div class='xr-section-inline-details'><ul class='xr-dim-list'><li><span>nMesh2_face</span>: 5400</li><li><span>nMaxMesh2_face_nodes</span>: 4</li><li><span>nMesh2_node</span>: 5402</li></ul></div><div class='xr-section-details'></div></li><li class='xr-section-item'><input id='section-446f3db8-230e-4af8-bbf1-9456007d3591' class='xr-section-summary-in' type='checkbox' disabled ><label for='section-446f3db8-230e-4af8-bbf1-9456007d3591' class='xr-section-summary'  title='Expand/collapse section'>Coordinates: <span>(0)</span></label><div class='xr-section-inline-details'></div><div class='xr-section-details'><ul class='xr-var-list'></ul></div></li><li class='xr-section-item'><input id='section-a7204cbc-8203-4785-bcf8-a73943993379' class='xr-section-summary-in' type='checkbox'  checked><label for='section-a7204cbc-8203-4785-bcf8-a73943993379' class='xr-section-summary' >Data variables: <span>(4)</span></label><div class='xr-section-inline-details'></div><div class='xr-section-details'><ul class='xr-var-list'><li class='xr-var-item'><div class='xr-var-name'><span>Mesh2</span></div><div class='xr-var-dims'>()</div><div class='xr-var-dtype'>int32</div><div class='xr-var-preview xr-preview'>-2147483647</div><input id='attrs-66de606f-4474-48b6-ae91-00b73285d98e' class='xr-var-attrs-in' type='checkbox' ><label for='attrs-66de606f-4474-48b6-ae91-00b73285d98e' title='Show/Hide attributes'><svg class='icon xr-icon-file-text2'><use xlink:href='#icon-file-text2'></use></svg></label><input id='data-fd9b2f74-a596-44fa-99cf-0c7552920f34' class='xr-var-data-in' type='checkbox'><label for='data-fd9b2f74-a596-44fa-99cf-0c7552920f34' title='Show/Hide data repr'><svg class='icon xr-icon-database'><use xlink:href='#icon-database'></use></svg></label><div class='xr-var-attrs'><dl class='xr-attrs'><dt><span>cf_role :</span></dt><dd>mesh_topology</dd><dt><span>long_name :</span></dt><dd>Topology data of 2D unstructured mesh</dd><dt><span>topology_dimension :</span></dt><dd>2</dd><dt><span>node_coordinates :</span></dt><dd>Mesh2_node_x Mesh2_node_y</dd><dt><span>node_dimension :</span></dt><dd>nMesh2_node</dd><dt><span>face_node_connectivity :</span></dt><dd>Mesh2_face_nodes</dd><dt><span>face_dimension :</span></dt><dd>nMesh2_face</dd></dl></div><div class='xr-var-data'><pre>array(-2147483647, dtype=int32)</pre></div></li><li class='xr-var-item'><div class='xr-var-name'><span>Mesh2_face_nodes</span></div><div class='xr-var-dims'>(nMesh2_face, nMaxMesh2_face_nodes)</div><div class='xr-var-dtype'>float64</div><div class='xr-var-preview xr-preview'>0.0 8.0 356.0 ... 297.0 6.0 298.0</div><input id='attrs-30b15303-262f-4a7e-962d-e170e0c3328b' class='xr-var-attrs-in' type='checkbox' ><label for='attrs-30b15303-262f-4a7e-962d-e170e0c3328b' title='Show/Hide attributes'><svg class='icon xr-icon-file-text2'><use xlink:href='#icon-file-text2'></use></svg></label><input id='data-7ee6c353-4ecc-438f-8d7c-2ff191abe056' class='xr-var-data-in' type='checkbox'><label for='data-7ee6c353-4ecc-438f-8d7c-2ff191abe056' title='Show/Hide data repr'><svg class='icon xr-icon-database'><use xlink:href='#icon-database'></use></svg></label><div class='xr-var-attrs'><dl class='xr-attrs'><dt><span>cf_role :</span></dt><dd>face_node_connectivity</dd><dt><span>start_index :</span></dt><dd>0</dd></dl></div><div class='xr-var-data'><pre>array([[   0.,    8.,  356.,  124.],\n",
      "       [   8.,    9.,  357.,  356.],\n",
      "       [   9.,   10.,  358.,  357.],\n",
      "       ...,\n",
      "       [5399., 5400.,  299.,  300.],\n",
      "       [5400., 5401.,  298.,  299.],\n",
      "       [5401.,  297.,    6.,  298.]])</pre></div></li><li class='xr-var-item'><div class='xr-var-name'><span>Mesh2_node_x</span></div><div class='xr-var-dims'>(nMesh2_node)</div><div class='xr-var-dtype'>float64</div><div class='xr-var-preview xr-preview'>315.0 45.0 135.0 ... 138.0 135.0</div><input id='attrs-a95af287-9353-4ff0-ba11-837a042a6195' class='xr-var-attrs-in' type='checkbox' ><label for='attrs-a95af287-9353-4ff0-ba11-837a042a6195' title='Show/Hide attributes'><svg class='icon xr-icon-file-text2'><use xlink:href='#icon-file-text2'></use></svg></label><input id='data-ae77b881-d1ec-47b3-a12f-3574dbfc2e42' class='xr-var-data-in' type='checkbox'><label for='data-ae77b881-d1ec-47b3-a12f-3574dbfc2e42' title='Show/Hide data repr'><svg class='icon xr-icon-database'><use xlink:href='#icon-database'></use></svg></label><div class='xr-var-attrs'><dl class='xr-attrs'><dt><span>standard_name :</span></dt><dd>longitude</dd><dt><span>long_name :</span></dt><dd>longitude of 2D mesh nodes</dd><dt><span>units :</span></dt><dd>degrees_east</dd></dl></div><div class='xr-var-data'><pre>array([315.      ,  45.      , 135.      , ..., 141.09969 , 138.033171,\n",
      "       135.      ])</pre></div></li><li class='xr-var-item'><div class='xr-var-name'><span>Mesh2_node_y</span></div><div class='xr-var-dims'>(nMesh2_node)</div><div class='xr-var-dtype'>float64</div><div class='xr-var-preview xr-preview'>-35.26 -35.26 ... 39.55 38.14</div><input id='attrs-aa13845a-3e46-45e1-9a1d-c6cae47fc75d' class='xr-var-attrs-in' type='checkbox' ><label for='attrs-aa13845a-3e46-45e1-9a1d-c6cae47fc75d' title='Show/Hide attributes'><svg class='icon xr-icon-file-text2'><use xlink:href='#icon-file-text2'></use></svg></label><input id='data-e92f33ba-f878-437f-82d3-6d1c83d514ba' class='xr-var-data-in' type='checkbox'><label for='data-e92f33ba-f878-437f-82d3-6d1c83d514ba' title='Show/Hide data repr'><svg class='icon xr-icon-database'><use xlink:href='#icon-database'></use></svg></label><div class='xr-var-attrs'><dl class='xr-attrs'><dt><span>standard_name :</span></dt><dd>latitude</dd><dt><span>long_name :</span></dt><dd>latitude of 2D mesh nodes</dd><dt><span>units :</span></dt><dd>degrees_north</dd></dl></div><div class='xr-var-data'><pre>array([-35.26439 , -35.26439 , -35.26439 , ...,  40.837604,  39.549078,\n",
      "        38.143314])</pre></div></li></ul></div></li><li class='xr-section-item'><input id='section-8e590632-f78f-417e-8394-5352a3a6d718' class='xr-section-summary-in' type='checkbox' disabled ><label for='section-8e590632-f78f-417e-8394-5352a3a6d718' class='xr-section-summary'  title='Expand/collapse section'>Indexes: <span>(0)</span></label><div class='xr-section-inline-details'></div><div class='xr-section-details'><ul class='xr-var-list'></ul></div></li><li class='xr-section-item'><input id='section-2b4bf659-a724-4a00-b048-39c336e328e7' class='xr-section-summary-in' type='checkbox' disabled ><label for='section-2b4bf659-a724-4a00-b048-39c336e328e7' class='xr-section-summary'  title='Expand/collapse section'>Attributes: <span>(0)</span></label><div class='xr-section-inline-details'></div><div class='xr-section-details'><dl class='xr-attrs'></dl></div></li></ul></div></div>\n",
      "\n",
      "Child Class Method Output:\n",
      "<div><svg style=\"position: absolute; width: 0; height: 0; overflow: hidden\">\n",
      "<defs>\n",
      "<symbol id=\"icon-database\" viewBox=\"0 0 32 32\">\n",
      "<path d=\"M16 0c-8.837 0-16 2.239-16 5v4c0 2.761 7.163 5 16 5s16-2.239 16-5v-4c0-2.761-7.163-5-16-5z\"></path>\n",
      "<path d=\"M16 17c-8.837 0-16-2.239-16-5v6c0 2.761 7.163 5 16 5s16-2.239 16-5v-6c0 2.761-7.163 5-16 5z\"></path>\n",
      "<path d=\"M16 26c-8.837 0-16-2.239-16-5v6c0 2.761 7.163 5 16 5s16-2.239 16-5v-6c0 2.761-7.163 5-16 5z\"></path>\n",
      "</symbol>\n",
      "<symbol id=\"icon-file-text2\" viewBox=\"0 0 32 32\">\n",
      "<path d=\"M28.681 7.159c-0.694-0.947-1.662-2.053-2.724-3.116s-2.169-2.030-3.116-2.724c-1.612-1.182-2.393-1.319-2.841-1.319h-15.5c-1.378 0-2.5 1.121-2.5 2.5v27c0 1.378 1.122 2.5 2.5 2.5h23c1.378 0 2.5-1.122 2.5-2.5v-19.5c0-0.448-0.137-1.23-1.319-2.841zM24.543 5.457c0.959 0.959 1.712 1.825 2.268 2.543h-4.811v-4.811c0.718 0.556 1.584 1.309 2.543 2.268zM28 29.5c0 0.271-0.229 0.5-0.5 0.5h-23c-0.271 0-0.5-0.229-0.5-0.5v-27c0-0.271 0.229-0.5 0.5-0.5 0 0 15.499-0 15.5 0v7c0 0.552 0.448 1 1 1h7v19.5z\"></path>\n",
      "<path d=\"M23 26h-14c-0.552 0-1-0.448-1-1s0.448-1 1-1h14c0.552 0 1 0.448 1 1s-0.448 1-1 1z\"></path>\n",
      "<path d=\"M23 22h-14c-0.552 0-1-0.448-1-1s0.448-1 1-1h14c0.552 0 1 0.448 1 1s-0.448 1-1 1z\"></path>\n",
      "<path d=\"M23 18h-14c-0.552 0-1-0.448-1-1s0.448-1 1-1h14c0.552 0 1 0.448 1 1s-0.448 1-1 1z\"></path>\n",
      "</symbol>\n",
      "</defs>\n",
      "</svg>\n",
      "<style>/* CSS stylesheet for displaying xarray objects in jupyterlab.\n",
      " *\n",
      " */\n",
      "\n",
      ":root {\n",
      "  --xr-font-color0: var(--jp-content-font-color0, rgba(0, 0, 0, 1));\n",
      "  --xr-font-color2: var(--jp-content-font-color2, rgba(0, 0, 0, 0.54));\n",
      "  --xr-font-color3: var(--jp-content-font-color3, rgba(0, 0, 0, 0.38));\n",
      "  --xr-border-color: var(--jp-border-color2, #e0e0e0);\n",
      "  --xr-disabled-color: var(--jp-layout-color3, #bdbdbd);\n",
      "  --xr-background-color: var(--jp-layout-color0, white);\n",
      "  --xr-background-color-row-even: var(--jp-layout-color1, white);\n",
      "  --xr-background-color-row-odd: var(--jp-layout-color2, #eeeeee);\n",
      "}\n",
      "\n",
      "html[theme=dark],\n",
      "body[data-theme=dark],\n",
      "body.vscode-dark {\n",
      "  --xr-font-color0: rgba(255, 255, 255, 1);\n",
      "  --xr-font-color2: rgba(255, 255, 255, 0.54);\n",
      "  --xr-font-color3: rgba(255, 255, 255, 0.38);\n",
      "  --xr-border-color: #1F1F1F;\n",
      "  --xr-disabled-color: #515151;\n",
      "  --xr-background-color: #111111;\n",
      "  --xr-background-color-row-even: #111111;\n",
      "  --xr-background-color-row-odd: #313131;\n",
      "}\n",
      "\n",
      ".xr-wrap {\n",
      "  display: block !important;\n",
      "  min-width: 300px;\n",
      "  max-width: 700px;\n",
      "}\n",
      "\n",
      ".xr-text-repr-fallback {\n",
      "  /* fallback to plain text repr when CSS is not injected (untrusted notebook) */\n",
      "  display: none;\n",
      "}\n",
      "\n",
      ".xr-header {\n",
      "  padding-top: 6px;\n",
      "  padding-bottom: 6px;\n",
      "  margin-bottom: 4px;\n",
      "  border-bottom: solid 1px var(--xr-border-color);\n",
      "}\n",
      "\n",
      ".xr-header > div,\n",
      ".xr-header > ul {\n",
      "  display: inline;\n",
      "  margin-top: 0;\n",
      "  margin-bottom: 0;\n",
      "}\n",
      "\n",
      ".xr-obj-type,\n",
      ".xr-array-name {\n",
      "  margin-left: 2px;\n",
      "  margin-right: 10px;\n",
      "}\n",
      "\n",
      ".xr-obj-type {\n",
      "  color: var(--xr-font-color2);\n",
      "}\n",
      "\n",
      ".xr-sections {\n",
      "  padding-left: 0 !important;\n",
      "  display: grid;\n",
      "  grid-template-columns: 150px auto auto 1fr 20px 20px;\n",
      "}\n",
      "\n",
      ".xr-section-item {\n",
      "  display: contents;\n",
      "}\n",
      "\n",
      ".xr-section-item input {\n",
      "  display: none;\n",
      "}\n",
      "\n",
      ".xr-section-item input + label {\n",
      "  color: var(--xr-disabled-color);\n",
      "}\n",
      "\n",
      ".xr-section-item input:enabled + label {\n",
      "  cursor: pointer;\n",
      "  color: var(--xr-font-color2);\n",
      "}\n",
      "\n",
      ".xr-section-item input:enabled + label:hover {\n",
      "  color: var(--xr-font-color0);\n",
      "}\n",
      "\n",
      ".xr-section-summary {\n",
      "  grid-column: 1;\n",
      "  color: var(--xr-font-color2);\n",
      "  font-weight: 500;\n",
      "}\n",
      "\n",
      ".xr-section-summary > span {\n",
      "  display: inline-block;\n",
      "  padding-left: 0.5em;\n",
      "}\n",
      "\n",
      ".xr-section-summary-in:disabled + label {\n",
      "  color: var(--xr-font-color2);\n",
      "}\n",
      "\n",
      ".xr-section-summary-in + label:before {\n",
      "  display: inline-block;\n",
      "  content: '►';\n",
      "  font-size: 11px;\n",
      "  width: 15px;\n",
      "  text-align: center;\n",
      "}\n",
      "\n",
      ".xr-section-summary-in:disabled + label:before {\n",
      "  color: var(--xr-disabled-color);\n",
      "}\n",
      "\n",
      ".xr-section-summary-in:checked + label:before {\n",
      "  content: '▼';\n",
      "}\n",
      "\n",
      ".xr-section-summary-in:checked + label > span {\n",
      "  display: none;\n",
      "}\n",
      "\n",
      ".xr-section-summary,\n",
      ".xr-section-inline-details {\n",
      "  padding-top: 4px;\n",
      "  padding-bottom: 4px;\n",
      "}\n",
      "\n",
      ".xr-section-inline-details {\n",
      "  grid-column: 2 / -1;\n",
      "}\n",
      "\n",
      ".xr-section-details {\n",
      "  display: none;\n",
      "  grid-column: 1 / -1;\n",
      "  margin-bottom: 5px;\n",
      "}\n",
      "\n",
      ".xr-section-summary-in:checked ~ .xr-section-details {\n",
      "  display: contents;\n",
      "}\n",
      "\n",
      ".xr-array-wrap {\n",
      "  grid-column: 1 / -1;\n",
      "  display: grid;\n",
      "  grid-template-columns: 20px auto;\n",
      "}\n",
      "\n",
      ".xr-array-wrap > label {\n",
      "  grid-column: 1;\n",
      "  vertical-align: top;\n",
      "}\n",
      "\n",
      ".xr-preview {\n",
      "  color: var(--xr-font-color3);\n",
      "}\n",
      "\n",
      ".xr-array-preview,\n",
      ".xr-array-data {\n",
      "  padding: 0 5px !important;\n",
      "  grid-column: 2;\n",
      "}\n",
      "\n",
      ".xr-array-data,\n",
      ".xr-array-in:checked ~ .xr-array-preview {\n",
      "  display: none;\n",
      "}\n",
      "\n",
      ".xr-array-in:checked ~ .xr-array-data,\n",
      ".xr-array-preview {\n",
      "  display: inline-block;\n",
      "}\n",
      "\n",
      ".xr-dim-list {\n",
      "  display: inline-block !important;\n",
      "  list-style: none;\n",
      "  padding: 0 !important;\n",
      "  margin: 0;\n",
      "}\n",
      "\n",
      ".xr-dim-list li {\n",
      "  display: inline-block;\n",
      "  padding: 0;\n",
      "  margin: 0;\n",
      "}\n",
      "\n",
      ".xr-dim-list:before {\n",
      "  content: '(';\n",
      "}\n",
      "\n",
      ".xr-dim-list:after {\n",
      "  content: ')';\n",
      "}\n",
      "\n",
      ".xr-dim-list li:not(:last-child):after {\n",
      "  content: ',';\n",
      "  padding-right: 5px;\n",
      "}\n",
      "\n",
      ".xr-has-index {\n",
      "  font-weight: bold;\n",
      "}\n",
      "\n",
      ".xr-var-list,\n",
      ".xr-var-item {\n",
      "  display: contents;\n",
      "}\n",
      "\n",
      ".xr-var-item > div,\n",
      ".xr-var-item label,\n",
      ".xr-var-item > .xr-var-name span {\n",
      "  background-color: var(--xr-background-color-row-even);\n",
      "  margin-bottom: 0;\n",
      "}\n",
      "\n",
      ".xr-var-item > .xr-var-name:hover span {\n",
      "  padding-right: 5px;\n",
      "}\n",
      "\n",
      ".xr-var-list > li:nth-child(odd) > div,\n",
      ".xr-var-list > li:nth-child(odd) > label,\n",
      ".xr-var-list > li:nth-child(odd) > .xr-var-name span {\n",
      "  background-color: var(--xr-background-color-row-odd);\n",
      "}\n",
      "\n",
      ".xr-var-name {\n",
      "  grid-column: 1;\n",
      "}\n",
      "\n",
      ".xr-var-dims {\n",
      "  grid-column: 2;\n",
      "}\n",
      "\n",
      ".xr-var-dtype {\n",
      "  grid-column: 3;\n",
      "  text-align: right;\n",
      "  color: var(--xr-font-color2);\n",
      "}\n",
      "\n",
      ".xr-var-preview {\n",
      "  grid-column: 4;\n",
      "}\n",
      "\n",
      ".xr-index-preview {\n",
      "  grid-column: 2 / 5;\n",
      "  color: var(--xr-font-color2);\n",
      "}\n",
      "\n",
      ".xr-var-name,\n",
      ".xr-var-dims,\n",
      ".xr-var-dtype,\n",
      ".xr-preview,\n",
      ".xr-attrs dt {\n",
      "  white-space: nowrap;\n",
      "  overflow: hidden;\n",
      "  text-overflow: ellipsis;\n",
      "  padding-right: 10px;\n",
      "}\n",
      "\n",
      ".xr-var-name:hover,\n",
      ".xr-var-dims:hover,\n",
      ".xr-var-dtype:hover,\n",
      ".xr-attrs dt:hover {\n",
      "  overflow: visible;\n",
      "  width: auto;\n",
      "  z-index: 1;\n",
      "}\n",
      "\n",
      ".xr-var-attrs,\n",
      ".xr-var-data,\n",
      ".xr-index-data {\n",
      "  display: none;\n",
      "  background-color: var(--xr-background-color) !important;\n",
      "  padding-bottom: 5px !important;\n",
      "}\n",
      "\n",
      ".xr-var-attrs-in:checked ~ .xr-var-attrs,\n",
      ".xr-var-data-in:checked ~ .xr-var-data,\n",
      ".xr-index-data-in:checked ~ .xr-index-data {\n",
      "  display: block;\n",
      "}\n",
      "\n",
      ".xr-var-data > table {\n",
      "  float: right;\n",
      "}\n",
      "\n",
      ".xr-var-name span,\n",
      ".xr-var-data,\n",
      ".xr-index-name div,\n",
      ".xr-index-data,\n",
      ".xr-attrs {\n",
      "  padding-left: 25px !important;\n",
      "}\n",
      "\n",
      ".xr-attrs,\n",
      ".xr-var-attrs,\n",
      ".xr-var-data,\n",
      ".xr-index-data {\n",
      "  grid-column: 1 / -1;\n",
      "}\n",
      "\n",
      "dl.xr-attrs {\n",
      "  padding: 0;\n",
      "  margin: 0;\n",
      "  display: grid;\n",
      "  grid-template-columns: 125px auto;\n",
      "}\n",
      "\n",
      ".xr-attrs dt,\n",
      ".xr-attrs dd {\n",
      "  padding: 0;\n",
      "  margin: 0;\n",
      "  float: left;\n",
      "  padding-right: 10px;\n",
      "  width: auto;\n",
      "}\n",
      "\n",
      ".xr-attrs dt {\n",
      "  font-weight: normal;\n",
      "  grid-column: 1;\n",
      "}\n",
      "\n",
      ".xr-attrs dt:hover span {\n",
      "  display: inline-block;\n",
      "  background: var(--xr-background-color);\n",
      "  padding-right: 10px;\n",
      "}\n",
      "\n",
      ".xr-attrs dd {\n",
      "  grid-column: 2;\n",
      "  white-space: pre-wrap;\n",
      "  word-break: break-all;\n",
      "}\n",
      "\n",
      ".xr-icon-database,\n",
      ".xr-icon-file-text2,\n",
      ".xr-no-icon {\n",
      "  display: inline-block;\n",
      "  vertical-align: middle;\n",
      "  width: 1em;\n",
      "  height: 1.5em !important;\n",
      "  stroke-width: 0;\n",
      "  stroke: currentColor;\n",
      "  fill: currentColor;\n",
      "}\n",
      "</style><pre class='xr-text-repr-fallback'>&lt;xarray.UxDataset&gt;\n",
      "Dimensions:  (ncol: 5400)\n",
      "Dimensions without coordinates: ncol\n",
      "Data variables:\n",
      "    var2     (ncol) float64 1.351 1.331 1.31 1.289 ... 0.7121 0.6909 0.67 0.6495</pre><div class='xr-wrap' style='display:none'><div class='xr-header'><div class='xr-obj-type'>xarray.UxDataset</div></div><ul class='xr-sections'><li class='xr-section-item'><input id='section-9b14198f-7932-4d94-be42-d01f3199f752' class='xr-section-summary-in' type='checkbox' disabled ><label for='section-9b14198f-7932-4d94-be42-d01f3199f752' class='xr-section-summary'  title='Expand/collapse section'>Dimensions:</label><div class='xr-section-inline-details'><ul class='xr-dim-list'><li><span>ncol</span>: 5400</li></ul></div><div class='xr-section-details'></div></li><li class='xr-section-item'><input id='section-bae6b5dc-46aa-490a-b027-80cc67e423d0' class='xr-section-summary-in' type='checkbox' disabled ><label for='section-bae6b5dc-46aa-490a-b027-80cc67e423d0' class='xr-section-summary'  title='Expand/collapse section'>Coordinates: <span>(0)</span></label><div class='xr-section-inline-details'></div><div class='xr-section-details'><ul class='xr-var-list'></ul></div></li><li class='xr-section-item'><input id='section-0aab4b9f-86c6-4fe9-a332-71372e4f299d' class='xr-section-summary-in' type='checkbox'  checked><label for='section-0aab4b9f-86c6-4fe9-a332-71372e4f299d' class='xr-section-summary' >Data variables: <span>(1)</span></label><div class='xr-section-inline-details'></div><div class='xr-section-details'><ul class='xr-var-list'><li class='xr-var-item'><div class='xr-var-name'><span>var2</span></div><div class='xr-var-dims'>(ncol)</div><div class='xr-var-dtype'>float64</div><div class='xr-var-preview xr-preview'>1.351 1.331 1.31 ... 0.67 0.6495</div><input id='attrs-0ee4d09d-5a22-48bb-9bfb-830f373b14d3' class='xr-var-attrs-in' type='checkbox' disabled><label for='attrs-0ee4d09d-5a22-48bb-9bfb-830f373b14d3' title='Show/Hide attributes'><svg class='icon xr-icon-file-text2'><use xlink:href='#icon-file-text2'></use></svg></label><input id='data-a826463b-0f38-40d6-93c2-18d8cfff3432' class='xr-var-data-in' type='checkbox'><label for='data-a826463b-0f38-40d6-93c2-18d8cfff3432' title='Show/Hide data repr'><svg class='icon xr-icon-database'><use xlink:href='#icon-database'></use></svg></label><div class='xr-var-attrs'><dl class='xr-attrs'></dl></div><div class='xr-var-data'><pre>array([1.35131705, 1.33091472, 1.31013985, ..., 0.69088338, 0.66998883,\n",
      "       0.64946691])</pre></div></li></ul></div></li><li class='xr-section-item'><input id='section-085cdbdc-b3f3-4b80-a7f6-02f22fd566dc' class='xr-section-summary-in' type='checkbox' disabled ><label for='section-085cdbdc-b3f3-4b80-a7f6-02f22fd566dc' class='xr-section-summary'  title='Expand/collapse section'>Indexes: <span>(0)</span></label><div class='xr-section-inline-details'></div><div class='xr-section-details'><ul class='xr-var-list'></ul></div></li><li class='xr-section-item'><input id='section-e29a9c20-acfa-4436-a01f-c48a35b022a6' class='xr-section-summary-in' type='checkbox' disabled ><label for='section-e29a9c20-acfa-4436-a01f-c48a35b022a6' class='xr-section-summary'  title='Expand/collapse section'>Attributes: <span>(0)</span></label><div class='xr-section-inline-details'></div><div class='xr-section-details'><dl class='xr-attrs'></dl></div></li></ul></div></div>\n",
      "\n",
      "\n"
     ]
    }
   ],
   "source": [
    "compare_outputs(ds, uxds, '_repr_html_')"
   ]
  },
  {
   "cell_type": "code",
   "execution_count": 24,
   "metadata": {},
   "outputs": [
    {
     "name": "stdout",
     "output_type": "stream",
     "text": [
      "Parent Class Method Output:\n",
      "                                                   Mesh2  Mesh2_face_nodes  \\\n",
      "nMesh2_face nMaxMesh2_face_nodes nMesh2_node                                 \n",
      "0           0                    0           -2147483647               0.0   \n",
      "                                 1           -2147483647               0.0   \n",
      "                                 2           -2147483647               0.0   \n",
      "                                 3           -2147483647               0.0   \n",
      "                                 4           -2147483647               0.0   \n",
      "...                                                  ...               ...   \n",
      "5399        3                    5397        -2147483647             298.0   \n",
      "                                 5398        -2147483647             298.0   \n",
      "                                 5399        -2147483647             298.0   \n",
      "                                 5400        -2147483647             298.0   \n",
      "                                 5401        -2147483647             298.0   \n",
      "\n",
      "                                              Mesh2_node_x  Mesh2_node_y  \n",
      "nMesh2_face nMaxMesh2_face_nodes nMesh2_node                              \n",
      "0           0                    0              315.000000    -35.264390  \n",
      "                                 1               45.000000    -35.264390  \n",
      "                                 2              135.000000    -35.264390  \n",
      "                                 3              225.000000    -35.264390  \n",
      "                                 4              315.000000     35.264390  \n",
      "...                                                    ...           ...  \n",
      "5399        3                    5397           147.331502     43.073679  \n",
      "                                 5398           144.199342     42.011583  \n",
      "                                 5399           141.099690     40.837604  \n",
      "                                 5400           138.033171     39.549078  \n",
      "                                 5401           135.000000     38.143314  \n",
      "\n",
      "[116683200 rows x 4 columns]\n",
      "\n",
      "Child Class Method Output:\n",
      "          var2\n",
      "ncol          \n",
      "0     1.351317\n",
      "1     1.330915\n",
      "2     1.310140\n",
      "3     1.289056\n",
      "4     1.267717\n",
      "...        ...\n",
      "5395  0.733539\n",
      "5396  0.712085\n",
      "5397  0.690883\n",
      "5398  0.669989\n",
      "5399  0.649467\n",
      "\n",
      "[5400 rows x 1 columns]\n",
      "\n",
      "\n",
      "Parent Class Method Output:\n",
      "None\n"
     ]
    },
    {
     "name": "stderr",
     "output_type": "stream",
     "text": [
      "Traceback (most recent call last):\n",
      "  File \"/var/folders/s9/t24bbhy92td3s9sd0d79t5255788jd/T/ipykernel_82201/3945707164.py\", line 18, in compare_outputs\n",
      "    print(parent_method(*args, **kwargs))\n",
      "TypeError: Dataset._to_dataframe() missing 1 required positional argument: 'ordered_dims'\n"
     ]
    }
   ],
   "source": [
    "compare_outputs(ds, uxds, 'to_dataframe')\n",
    "compare_outputs(ds, uxds, '_to_dataframe')"
   ]
  },
  {
   "cell_type": "code",
   "execution_count": 25,
   "metadata": {},
   "outputs": [],
   "source": [
    "# output is too long to print with this dataset\n",
    "# compare_outputs(ds, uxds, 'to_dict')"
   ]
  },
  {
   "cell_type": "code",
   "execution_count": 26,
   "metadata": {},
   "outputs": [
    {
     "name": "stdout",
     "output_type": "stream",
     "text": [
      "Parent Class Method Output:\n",
      "Frozen({'nMesh2_face': 5400, 'nMaxMesh2_face_nodes': 4, 'nMesh2_node': 5402})\n",
      "\n",
      "Child Class Method Output:\n",
      "Frozen({'ncol': 5400})\n",
      "\n",
      "\n"
     ]
    }
   ],
   "source": [
    "compare_outputs(ds, uxds, 'sizes')"
   ]
  },
  {
   "cell_type": "code",
   "execution_count": 27,
   "metadata": {},
   "outputs": [
    {
     "name": "stdout",
     "output_type": "stream",
     "text": [
      "Parent Class Method Output:\n",
      "Frozen({'Mesh2': dtype('int32'), 'Mesh2_face_nodes': dtype('float64'), 'Mesh2_node_x': dtype('float64'), 'Mesh2_node_y': dtype('float64')})\n",
      "\n",
      "Child Class Method Output:\n",
      "Frozen({'var2': dtype('float64')})\n",
      "\n",
      "\n"
     ]
    }
   ],
   "source": [
    "compare_outputs(ds, uxds, 'dtypes')"
   ]
  },
  {
   "cell_type": "code",
   "execution_count": 28,
   "metadata": {},
   "outputs": [
    {
     "name": "stdout",
     "output_type": "stream",
     "text": [
      "Parent Class Method Output:\n",
      "Data variables:\n",
      "    Mesh2             int32 -2147483647\n",
      "    Mesh2_face_nodes  (nMesh2_face, nMaxMesh2_face_nodes) float64 0.0 ... 298.0\n",
      "    Mesh2_node_x      (nMesh2_node) float64 315.0 45.0 135.0 ... 138.0 135.0\n",
      "    Mesh2_node_y      (nMesh2_node) float64 -35.26 -35.26 -35.26 ... 39.55 38.14\n",
      "\n",
      "Child Class Method Output:\n",
      "Data variables:\n",
      "    var2     (ncol) float64 1.351 1.331 1.31 1.289 ... 0.7121 0.6909 0.67 0.6495\n",
      "\n",
      "\n"
     ]
    }
   ],
   "source": [
    "compare_outputs(ds, uxds, 'data_vars')"
   ]
  },
  {
   "cell_type": "code",
   "execution_count": 29,
   "metadata": {},
   "outputs": [
    {
     "name": "stdout",
     "output_type": "stream",
     "text": [
      "Parent Class Method Output:\n",
      "Coordinates:\n",
      "    *empty*\n",
      "\n",
      "Child Class Method Output:\n",
      "Coordinates:\n",
      "    *empty*\n",
      "\n",
      "\n"
     ]
    }
   ],
   "source": [
    "compare_outputs(ds, uxds, 'coords')"
   ]
  },
  {
   "cell_type": "code",
   "execution_count": 30,
   "metadata": {},
   "outputs": [
    {
     "name": "stdout",
     "output_type": "stream",
     "text": [
      "Parent Class Method Output:\n",
      "{}\n",
      "\n",
      "Child Class Method Output:\n",
      "{}\n",
      "\n",
      "\n",
      "Parent Class Method Output:\n",
      "Indexes:\n",
      "    *empty*\n",
      "\n",
      "Child Class Method Output:\n",
      "Indexes:\n",
      "    *empty*\n",
      "\n",
      "\n"
     ]
    }
   ],
   "source": [
    "compare_outputs(ds, uxds, '_indexes')\n",
    "compare_outputs(ds, uxds, 'indexes')"
   ]
  },
  {
   "cell_type": "code",
   "execution_count": 31,
   "metadata": {},
   "outputs": [
    {
     "name": "stdout",
     "output_type": "stream",
     "text": [
      "Parent Class Method Output:\n",
      "Frozen({})\n",
      "\n",
      "Child Class Method Output:\n",
      "Frozen({})\n",
      "\n",
      "\n"
     ]
    }
   ],
   "source": [
    "compare_outputs(ds, uxds, 'chunks')"
   ]
  },
  {
   "cell_type": "code",
   "execution_count": 32,
   "metadata": {},
   "outputs": [
    {
     "name": "stdout",
     "output_type": "stream",
     "text": [
      "Parent Class Method Output:\n",
      "Frozen({})\n",
      "\n",
      "Child Class Method Output:\n",
      "Frozen({})\n",
      "\n",
      "\n"
     ]
    }
   ],
   "source": [
    "compare_outputs(ds, uxds, 'chunksizes')"
   ]
  },
  {
   "cell_type": "code",
   "execution_count": 33,
   "metadata": {},
   "outputs": [
    {
     "name": "stdout",
     "output_type": "stream",
     "text": [
      "Parent Class Method Output:\n",
      "259236\n",
      "\n",
      "Child Class Method Output:\n",
      "43200\n",
      "\n",
      "\n"
     ]
    }
   ],
   "source": [
    "compare_outputs(ds, uxds, 'nbytes')"
   ]
  },
  {
   "cell_type": "code",
   "execution_count": 34,
   "metadata": {},
   "outputs": [
    {
     "name": "stdout",
     "output_type": "stream",
     "text": [
      "Parent Class Method Output:\n",
      "{'var2': <xarray.Variable (ncol: 5400)>\n",
      "[5400 values with dtype=float64]}\n",
      "\n",
      "Child Class Method Output:\n",
      "{'var2': <xarray.Variable (ncol: 5400)>\n",
      "array([1.351317, 1.330915, 1.31014 , ..., 0.690883, 0.669989, 0.649467])}\n",
      "\n",
      "\n"
     ]
    }
   ],
   "source": [
    "compare_outputs(ds_var, uxds, '_variables')"
   ]
  },
  {
   "cell_type": "code",
   "execution_count": 35,
   "metadata": {},
   "outputs": [
    {
     "name": "stdout",
     "output_type": "stream",
     "text": [
      "Parent Class Method Output:\n",
      "<xarray.DataArray 'var2' (ncol: 5400)>\n",
      "[5400 values with dtype=float64]\n",
      "Dimensions without coordinates: ncol\n",
      "\n",
      "Child Class Method Output:\n",
      "<xarray.UxDataArray 'var2' (ncol: 5400)>\n",
      "array([1.35131705, 1.33091472, 1.31013985, ..., 0.69088338, 0.66998883,\n",
      "       0.64946691])\n",
      "Dimensions without coordinates: ncol\n",
      "\n",
      "\n"
     ]
    }
   ],
   "source": [
    "compare_outputs(ds_var, uxds, '_construct_dataarray', 'var2')"
   ]
  },
  {
   "cell_type": "code",
   "execution_count": 36,
   "metadata": {},
   "outputs": [
    {
     "name": "stdout",
     "output_type": "stream",
     "text": [
      "Parent Class Method Output:\n",
      "<xarray.DataArray 'var2' (ncol: 5400)>\n",
      "[5400 values with dtype=float64]\n",
      "Dimensions without coordinates: ncol\n",
      "\n",
      "Child Class Method Output:\n",
      "<xarray.UxDataArray 'var2' (ncol: 5400)>\n",
      "array([1.35131705, 1.33091472, 1.31013985, ..., 0.69088338, 0.66998883,\n",
      "       0.64946691])\n",
      "Dimensions without coordinates: ncol\n",
      "\n",
      "\n"
     ]
    }
   ],
   "source": [
    "# using ds_var to compare with uxds variable\n",
    "compare_outputs(ds_var, uxds, '__getitem__', ('var2'))"
   ]
  },
  {
   "cell_type": "code",
   "execution_count": 37,
   "metadata": {},
   "outputs": [
    {
     "name": "stdout",
     "output_type": "stream",
     "text": [
      "<xarray.Dataset>\n",
      "Dimensions:           (nMesh2_face: 5400, nMaxMesh2_face_nodes: 4,\n",
      "                       nMesh2_node: 5402, test: 30)\n",
      "Coordinates:\n",
      "  * test              (test) float64 0.3377 0.2952 0.8802 ... 0.9653 0.9457\n",
      "Dimensions without coordinates: nMesh2_face, nMaxMesh2_face_nodes, nMesh2_node\n",
      "Data variables:\n",
      "    Mesh2             int32 -2147483647\n",
      "    Mesh2_face_nodes  (nMesh2_face, nMaxMesh2_face_nodes) float64 0.0 ... 298.0\n",
      "    Mesh2_node_x      (nMesh2_node) float64 315.0 45.0 135.0 ... 138.0 135.0\n",
      "    Mesh2_node_y      (nMesh2_node) float64 -35.26 -35.26 -35.26 ... 39.55 38.14\n"
     ]
    },
    {
     "ename": "RuntimeError",
     "evalue": "uxarray.core.UxDataArray.__init__: uxgrid cannot be None. It needs to be an instance of the uxarray.core.Grid class",
     "output_type": "error",
     "traceback": [
      "\u001b[0;31m---------------------------------------------------------------------------\u001b[0m",
      "\u001b[0;31mRuntimeError\u001b[0m                              Traceback (most recent call last)",
      "Cell \u001b[0;32mIn[37], line 5\u001b[0m\n\u001b[1;32m      3\u001b[0m \u001b[39mprint\u001b[39m(ds)\n\u001b[1;32m      4\u001b[0m uxds\u001b[39m.\u001b[39m\u001b[39m__setitem__\u001b[39m(\u001b[39m'\u001b[39m\u001b[39mtest\u001b[39m\u001b[39m'\u001b[39m, np\u001b[39m.\u001b[39mrandom\u001b[39m.\u001b[39mrand(\u001b[39m30\u001b[39m))\n\u001b[0;32m----> 5\u001b[0m \u001b[39mprint\u001b[39;49m(uxds)\n",
      "File \u001b[0;32m~/miniconda3/envs/uxsandbox/lib/python3.10/site-packages/xarray/core/dataset.py:2116\u001b[0m, in \u001b[0;36mDataset.__repr__\u001b[0;34m(self)\u001b[0m\n\u001b[1;32m   2115\u001b[0m \u001b[39mdef\u001b[39;00m \u001b[39m__repr__\u001b[39m(\u001b[39mself\u001b[39m) \u001b[39m-\u001b[39m\u001b[39m>\u001b[39m \u001b[39mstr\u001b[39m:\n\u001b[0;32m-> 2116\u001b[0m     \u001b[39mreturn\u001b[39;00m formatting\u001b[39m.\u001b[39;49mdataset_repr(\u001b[39mself\u001b[39;49m)\n",
      "File \u001b[0;32m~/miniconda3/envs/uxsandbox/lib/python3.10/reprlib.py:21\u001b[0m, in \u001b[0;36mrecursive_repr.<locals>.decorating_function.<locals>.wrapper\u001b[0;34m(self)\u001b[0m\n\u001b[1;32m     19\u001b[0m repr_running\u001b[39m.\u001b[39madd(key)\n\u001b[1;32m     20\u001b[0m \u001b[39mtry\u001b[39;00m:\n\u001b[0;32m---> 21\u001b[0m     result \u001b[39m=\u001b[39m user_function(\u001b[39mself\u001b[39;49m)\n\u001b[1;32m     22\u001b[0m \u001b[39mfinally\u001b[39;00m:\n\u001b[1;32m     23\u001b[0m     repr_running\u001b[39m.\u001b[39mdiscard(key)\n",
      "File \u001b[0;32m~/miniconda3/envs/uxsandbox/lib/python3.10/site-packages/xarray/core/formatting.py:667\u001b[0m, in \u001b[0;36mdataset_repr\u001b[0;34m(ds)\u001b[0m\n\u001b[1;32m    664\u001b[0m summary\u001b[39m.\u001b[39mappend(\u001b[39mf\u001b[39m\u001b[39m\"\u001b[39m\u001b[39m{\u001b[39;00mdims_start\u001b[39m}\u001b[39;00m\u001b[39m(\u001b[39m\u001b[39m{\u001b[39;00mdims_values\u001b[39m}\u001b[39;00m\u001b[39m)\u001b[39m\u001b[39m\"\u001b[39m)\n\u001b[1;32m    666\u001b[0m \u001b[39mif\u001b[39;00m ds\u001b[39m.\u001b[39mcoords:\n\u001b[0;32m--> 667\u001b[0m     summary\u001b[39m.\u001b[39mappend(coords_repr(ds\u001b[39m.\u001b[39;49mcoords, col_width\u001b[39m=\u001b[39;49mcol_width, max_rows\u001b[39m=\u001b[39;49mmax_rows))\n\u001b[1;32m    669\u001b[0m unindexed_dims_str \u001b[39m=\u001b[39m unindexed_dims_repr(ds\u001b[39m.\u001b[39mdims, ds\u001b[39m.\u001b[39mcoords, max_rows\u001b[39m=\u001b[39mmax_rows)\n\u001b[1;32m    670\u001b[0m \u001b[39mif\u001b[39;00m unindexed_dims_str:\n",
      "File \u001b[0;32m~/miniconda3/envs/uxsandbox/lib/python3.10/site-packages/xarray/core/formatting.py:404\u001b[0m, in \u001b[0;36mcoords_repr\u001b[0;34m(coords, col_width, max_rows)\u001b[0m\n\u001b[1;32m    402\u001b[0m \u001b[39mif\u001b[39;00m col_width \u001b[39mis\u001b[39;00m \u001b[39mNone\u001b[39;00m:\n\u001b[1;32m    403\u001b[0m     col_width \u001b[39m=\u001b[39m _calculate_col_width(coords)\n\u001b[0;32m--> 404\u001b[0m \u001b[39mreturn\u001b[39;00m _mapping_repr(\n\u001b[1;32m    405\u001b[0m     coords,\n\u001b[1;32m    406\u001b[0m     title\u001b[39m=\u001b[39;49m\u001b[39m\"\u001b[39;49m\u001b[39mCoordinates\u001b[39;49m\u001b[39m\"\u001b[39;49m,\n\u001b[1;32m    407\u001b[0m     summarizer\u001b[39m=\u001b[39;49msummarize_variable,\n\u001b[1;32m    408\u001b[0m     expand_option_name\u001b[39m=\u001b[39;49m\u001b[39m\"\u001b[39;49m\u001b[39mdisplay_expand_coords\u001b[39;49m\u001b[39m\"\u001b[39;49m,\n\u001b[1;32m    409\u001b[0m     col_width\u001b[39m=\u001b[39;49mcol_width,\n\u001b[1;32m    410\u001b[0m     indexes\u001b[39m=\u001b[39;49mcoords\u001b[39m.\u001b[39;49mxindexes,\n\u001b[1;32m    411\u001b[0m     max_rows\u001b[39m=\u001b[39;49mmax_rows,\n\u001b[1;32m    412\u001b[0m )\n",
      "File \u001b[0;32m~/miniconda3/envs/uxsandbox/lib/python3.10/site-packages/xarray/core/formatting.py:377\u001b[0m, in \u001b[0;36m_mapping_repr\u001b[0;34m(mapping, title, summarizer, expand_option_name, col_width, max_rows, indexes)\u001b[0m\n\u001b[1;32m    372\u001b[0m             summary \u001b[39m+\u001b[39m\u001b[39m=\u001b[39m [\n\u001b[1;32m    373\u001b[0m                 summarizer(k, mapping[k], col_width, \u001b[39m*\u001b[39m\u001b[39m*\u001b[39msummarizer_kwargs[k])\n\u001b[1;32m    374\u001b[0m                 \u001b[39mfor\u001b[39;00m k \u001b[39min\u001b[39;00m keys[\u001b[39m-\u001b[39mlast_rows:]\n\u001b[1;32m    375\u001b[0m             ]\n\u001b[1;32m    376\u001b[0m     \u001b[39melse\u001b[39;00m:\n\u001b[0;32m--> 377\u001b[0m         summary \u001b[39m+\u001b[39m\u001b[39m=\u001b[39m [\n\u001b[1;32m    378\u001b[0m             summarizer(k, v, col_width, \u001b[39m*\u001b[39m\u001b[39m*\u001b[39msummarizer_kwargs[k])\n\u001b[1;32m    379\u001b[0m             \u001b[39mfor\u001b[39;00m k, v \u001b[39min\u001b[39;00m mapping\u001b[39m.\u001b[39mitems()\n\u001b[1;32m    380\u001b[0m         ]\n\u001b[1;32m    381\u001b[0m \u001b[39melse\u001b[39;00m:\n\u001b[1;32m    382\u001b[0m     summary \u001b[39m+\u001b[39m\u001b[39m=\u001b[39m [EMPTY_REPR]\n",
      "File \u001b[0;32m~/miniconda3/envs/uxsandbox/lib/python3.10/site-packages/xarray/core/formatting.py:377\u001b[0m, in \u001b[0;36m<listcomp>\u001b[0;34m(.0)\u001b[0m\n\u001b[1;32m    372\u001b[0m             summary \u001b[39m+\u001b[39m\u001b[39m=\u001b[39m [\n\u001b[1;32m    373\u001b[0m                 summarizer(k, mapping[k], col_width, \u001b[39m*\u001b[39m\u001b[39m*\u001b[39msummarizer_kwargs[k])\n\u001b[1;32m    374\u001b[0m                 \u001b[39mfor\u001b[39;00m k \u001b[39min\u001b[39;00m keys[\u001b[39m-\u001b[39mlast_rows:]\n\u001b[1;32m    375\u001b[0m             ]\n\u001b[1;32m    376\u001b[0m     \u001b[39melse\u001b[39;00m:\n\u001b[0;32m--> 377\u001b[0m         summary \u001b[39m+\u001b[39m\u001b[39m=\u001b[39m [\n\u001b[1;32m    378\u001b[0m             summarizer(k, v, col_width, \u001b[39m*\u001b[39m\u001b[39m*\u001b[39msummarizer_kwargs[k])\n\u001b[1;32m    379\u001b[0m             \u001b[39mfor\u001b[39;00m k, v \u001b[39min\u001b[39;00m mapping\u001b[39m.\u001b[39mitems()\n\u001b[1;32m    380\u001b[0m         ]\n\u001b[1;32m    381\u001b[0m \u001b[39melse\u001b[39;00m:\n\u001b[1;32m    382\u001b[0m     summary \u001b[39m+\u001b[39m\u001b[39m=\u001b[39m [EMPTY_REPR]\n",
      "File \u001b[0;32m~/miniconda3/envs/uxsandbox/lib/python3.10/_collections_abc.py:911\u001b[0m, in \u001b[0;36mItemsView.__iter__\u001b[0;34m(self)\u001b[0m\n\u001b[1;32m    909\u001b[0m \u001b[39mdef\u001b[39;00m \u001b[39m__iter__\u001b[39m(\u001b[39mself\u001b[39m):\n\u001b[1;32m    910\u001b[0m     \u001b[39mfor\u001b[39;00m key \u001b[39min\u001b[39;00m \u001b[39mself\u001b[39m\u001b[39m.\u001b[39m_mapping:\n\u001b[0;32m--> 911\u001b[0m         \u001b[39myield\u001b[39;00m (key, \u001b[39mself\u001b[39;49m\u001b[39m.\u001b[39;49m_mapping[key])\n",
      "File \u001b[0;32m~/miniconda3/envs/uxsandbox/lib/python3.10/site-packages/xarray/core/coordinates.py:290\u001b[0m, in \u001b[0;36mDatasetCoordinates.__getitem__\u001b[0;34m(self, key)\u001b[0m\n\u001b[1;32m    288\u001b[0m \u001b[39mif\u001b[39;00m key \u001b[39min\u001b[39;00m \u001b[39mself\u001b[39m\u001b[39m.\u001b[39m_data\u001b[39m.\u001b[39mdata_vars:\n\u001b[1;32m    289\u001b[0m     \u001b[39mraise\u001b[39;00m \u001b[39mKeyError\u001b[39;00m(key)\n\u001b[0;32m--> 290\u001b[0m \u001b[39mreturn\u001b[39;00m \u001b[39mself\u001b[39;49m\u001b[39m.\u001b[39;49m_data[key]\n",
      "File \u001b[0;32m~/Desktop/Raijin/uxarray/uxarray/core/dataset.py:64\u001b[0m, in \u001b[0;36mUxDataset.__getitem__\u001b[0;34m(self, key)\u001b[0m\n\u001b[1;32m     61\u001b[0m xarr \u001b[39m=\u001b[39m \u001b[39msuper\u001b[39m()\u001b[39m.\u001b[39m\u001b[39m__getitem__\u001b[39m(key)\n\u001b[1;32m     63\u001b[0m \u001b[39mif\u001b[39;00m \u001b[39misinstance\u001b[39m(xarr, xr\u001b[39m.\u001b[39mDataArray):\n\u001b[0;32m---> 64\u001b[0m     \u001b[39mreturn\u001b[39;00m UxDataArray(xarr, uxgrid\u001b[39m=\u001b[39;49m\u001b[39mself\u001b[39;49m\u001b[39m.\u001b[39;49muxgrid)\n\u001b[1;32m     65\u001b[0m \u001b[39melse\u001b[39;00m:\n\u001b[1;32m     66\u001b[0m     \u001b[39massert\u001b[39;00m \u001b[39misinstance\u001b[39m(xarr, ux\u001b[39m.\u001b[39mUxDataset)\n",
      "File \u001b[0;32m~/Desktop/Raijin/uxarray/uxarray/core/dataarray.py:14\u001b[0m, in \u001b[0;36mUxDataArray.__init__\u001b[0;34m(self, uxgrid, *args, **kwargs)\u001b[0m\n\u001b[1;32m     13\u001b[0m \u001b[39mdef\u001b[39;00m \u001b[39m__init__\u001b[39m(\u001b[39mself\u001b[39m, \u001b[39m*\u001b[39margs, uxgrid: Grid \u001b[39m=\u001b[39m \u001b[39mNone\u001b[39;00m, \u001b[39m*\u001b[39m\u001b[39m*\u001b[39mkwargs):\n\u001b[0;32m---> 14\u001b[0m     \u001b[39msuper\u001b[39;49m()\u001b[39m.\u001b[39;49m\u001b[39m__init__\u001b[39;49m(\u001b[39m*\u001b[39;49margs, \u001b[39m*\u001b[39;49m\u001b[39m*\u001b[39;49mkwargs)\n\u001b[1;32m     16\u001b[0m     \u001b[39mself\u001b[39m\u001b[39m.\u001b[39m_uxgrid \u001b[39m=\u001b[39m uxgrid\n\u001b[1;32m     18\u001b[0m     \u001b[39mif\u001b[39;00m uxgrid \u001b[39mis\u001b[39;00m \u001b[39mNone\u001b[39;00m \u001b[39mor\u001b[39;00m \u001b[39mnot\u001b[39;00m \u001b[39misinstance\u001b[39m(uxgrid, Grid):\n",
      "File \u001b[0;32m~/miniconda3/envs/uxsandbox/lib/python3.10/site-packages/xarray/core/dataarray.py:416\u001b[0m, in \u001b[0;36mDataArray.__init__\u001b[0;34m(self, data, coords, dims, name, attrs, indexes, fastpath)\u001b[0m\n\u001b[1;32m    414\u001b[0m data \u001b[39m=\u001b[39m _check_data_shape(data, coords, dims)\n\u001b[1;32m    415\u001b[0m data \u001b[39m=\u001b[39m as_compatible_data(data)\n\u001b[0;32m--> 416\u001b[0m coords, dims \u001b[39m=\u001b[39m _infer_coords_and_dims(data\u001b[39m.\u001b[39;49mshape, coords, dims)\n\u001b[1;32m    417\u001b[0m variable \u001b[39m=\u001b[39m Variable(dims, data, attrs, fastpath\u001b[39m=\u001b[39m\u001b[39mTrue\u001b[39;00m)\n\u001b[1;32m    418\u001b[0m indexes, coords \u001b[39m=\u001b[39m _create_indexes_from_coords(coords)\n",
      "File \u001b[0;32m~/miniconda3/envs/uxsandbox/lib/python3.10/site-packages/xarray/core/dataarray.py:143\u001b[0m, in \u001b[0;36m_infer_coords_and_dims\u001b[0;34m(shape, coords, dims)\u001b[0m\n\u001b[1;32m    140\u001b[0m new_coords: \u001b[39mdict\u001b[39m[Hashable, Variable] \u001b[39m=\u001b[39m {}\n\u001b[1;32m    142\u001b[0m \u001b[39mif\u001b[39;00m utils\u001b[39m.\u001b[39mis_dict_like(coords):\n\u001b[0;32m--> 143\u001b[0m     \u001b[39mfor\u001b[39;00m k, v \u001b[39min\u001b[39;00m coords\u001b[39m.\u001b[39mitems():\n\u001b[1;32m    144\u001b[0m         new_coords[k] \u001b[39m=\u001b[39m as_variable(v, name\u001b[39m=\u001b[39mk)\n\u001b[1;32m    145\u001b[0m \u001b[39melif\u001b[39;00m coords \u001b[39mis\u001b[39;00m \u001b[39mnot\u001b[39;00m \u001b[39mNone\u001b[39;00m:\n",
      "File \u001b[0;32m~/miniconda3/envs/uxsandbox/lib/python3.10/_collections_abc.py:911\u001b[0m, in \u001b[0;36mItemsView.__iter__\u001b[0;34m(self)\u001b[0m\n\u001b[1;32m    909\u001b[0m \u001b[39mdef\u001b[39;00m \u001b[39m__iter__\u001b[39m(\u001b[39mself\u001b[39m):\n\u001b[1;32m    910\u001b[0m     \u001b[39mfor\u001b[39;00m key \u001b[39min\u001b[39;00m \u001b[39mself\u001b[39m\u001b[39m.\u001b[39m_mapping:\n\u001b[0;32m--> 911\u001b[0m         \u001b[39myield\u001b[39;00m (key, \u001b[39mself\u001b[39;49m\u001b[39m.\u001b[39;49m_mapping[key])\n",
      "File \u001b[0;32m~/miniconda3/envs/uxsandbox/lib/python3.10/site-packages/xarray/core/coordinates.py:381\u001b[0m, in \u001b[0;36mDataArrayCoordinates.__getitem__\u001b[0;34m(self, key)\u001b[0m\n\u001b[1;32m    380\u001b[0m \u001b[39mdef\u001b[39;00m \u001b[39m__getitem__\u001b[39m(\u001b[39mself\u001b[39m, key: Hashable) \u001b[39m-\u001b[39m\u001b[39m>\u001b[39m T_DataArray:\n\u001b[0;32m--> 381\u001b[0m     \u001b[39mreturn\u001b[39;00m \u001b[39mself\u001b[39;49m\u001b[39m.\u001b[39;49m_data\u001b[39m.\u001b[39;49m_getitem_coord(key)\n",
      "File \u001b[0;32m~/miniconda3/envs/uxsandbox/lib/python3.10/site-packages/xarray/core/dataarray.py:809\u001b[0m, in \u001b[0;36mDataArray._getitem_coord\u001b[0;34m(self, key)\u001b[0m\n\u001b[1;32m    806\u001b[0m     dim_sizes \u001b[39m=\u001b[39m \u001b[39mdict\u001b[39m(\u001b[39mzip\u001b[39m(\u001b[39mself\u001b[39m\u001b[39m.\u001b[39mdims, \u001b[39mself\u001b[39m\u001b[39m.\u001b[39mshape))\n\u001b[1;32m    807\u001b[0m     _, key, var \u001b[39m=\u001b[39m _get_virtual_variable(\u001b[39mself\u001b[39m\u001b[39m.\u001b[39m_coords, key, dim_sizes)\n\u001b[0;32m--> 809\u001b[0m \u001b[39mreturn\u001b[39;00m \u001b[39mself\u001b[39;49m\u001b[39m.\u001b[39;49m_replace_maybe_drop_dims(var, name\u001b[39m=\u001b[39;49mkey)\n",
      "File \u001b[0;32m~/miniconda3/envs/uxsandbox/lib/python3.10/site-packages/xarray/core/dataarray.py:491\u001b[0m, in \u001b[0;36mDataArray._replace_maybe_drop_dims\u001b[0;34m(self, variable, name)\u001b[0m\n\u001b[1;32m    487\u001b[0m     coords \u001b[39m=\u001b[39m {\n\u001b[1;32m    488\u001b[0m         k: v \u001b[39mfor\u001b[39;00m k, v \u001b[39min\u001b[39;00m \u001b[39mself\u001b[39m\u001b[39m.\u001b[39m_coords\u001b[39m.\u001b[39mitems() \u001b[39mif\u001b[39;00m \u001b[39mset\u001b[39m(v\u001b[39m.\u001b[39mdims) \u001b[39m<\u001b[39m\u001b[39m=\u001b[39m allowed_dims\n\u001b[1;32m    489\u001b[0m     }\n\u001b[1;32m    490\u001b[0m     indexes \u001b[39m=\u001b[39m filter_indexes_from_coords(\u001b[39mself\u001b[39m\u001b[39m.\u001b[39m_indexes, \u001b[39mset\u001b[39m(coords))\n\u001b[0;32m--> 491\u001b[0m \u001b[39mreturn\u001b[39;00m \u001b[39mself\u001b[39;49m\u001b[39m.\u001b[39;49m_replace(variable, coords, name, indexes\u001b[39m=\u001b[39;49mindexes)\n",
      "File \u001b[0;32m~/miniconda3/envs/uxsandbox/lib/python3.10/site-packages/xarray/core/dataarray.py:466\u001b[0m, in \u001b[0;36mDataArray._replace\u001b[0;34m(self, variable, coords, name, indexes)\u001b[0m\n\u001b[1;32m    464\u001b[0m \u001b[39mif\u001b[39;00m name \u001b[39mis\u001b[39;00m _default:\n\u001b[1;32m    465\u001b[0m     name \u001b[39m=\u001b[39m \u001b[39mself\u001b[39m\u001b[39m.\u001b[39mname\n\u001b[0;32m--> 466\u001b[0m \u001b[39mreturn\u001b[39;00m \u001b[39mtype\u001b[39;49m(\u001b[39mself\u001b[39;49m)(variable, coords, name\u001b[39m=\u001b[39;49mname, indexes\u001b[39m=\u001b[39;49mindexes, fastpath\u001b[39m=\u001b[39;49m\u001b[39mTrue\u001b[39;49;00m)\n",
      "File \u001b[0;32m~/Desktop/Raijin/uxarray/uxarray/core/dataarray.py:19\u001b[0m, in \u001b[0;36mUxDataArray.__init__\u001b[0;34m(self, uxgrid, *args, **kwargs)\u001b[0m\n\u001b[1;32m     16\u001b[0m \u001b[39mself\u001b[39m\u001b[39m.\u001b[39m_uxgrid \u001b[39m=\u001b[39m uxgrid\n\u001b[1;32m     18\u001b[0m \u001b[39mif\u001b[39;00m uxgrid \u001b[39mis\u001b[39;00m \u001b[39mNone\u001b[39;00m \u001b[39mor\u001b[39;00m \u001b[39mnot\u001b[39;00m \u001b[39misinstance\u001b[39m(uxgrid, Grid):\n\u001b[0;32m---> 19\u001b[0m     \u001b[39mraise\u001b[39;00m \u001b[39mRuntimeError\u001b[39;00m(\n\u001b[1;32m     20\u001b[0m         \u001b[39m\"\u001b[39m\u001b[39muxarray.core.UxDataArray.__init__: uxgrid cannot be None. It needs to \u001b[39m\u001b[39m\"\u001b[39m\n\u001b[1;32m     21\u001b[0m         \u001b[39m\"\u001b[39m\u001b[39mbe an instance of the uxarray.core.Grid class\u001b[39m\u001b[39m\"\u001b[39m)\n\u001b[1;32m     22\u001b[0m \u001b[39melse\u001b[39;00m:\n\u001b[1;32m     23\u001b[0m     \u001b[39mself\u001b[39m\u001b[39m.\u001b[39muxgrid \u001b[39m=\u001b[39m uxgrid\n",
      "\u001b[0;31mRuntimeError\u001b[0m: uxarray.core.UxDataArray.__init__: uxgrid cannot be None. It needs to be an instance of the uxarray.core.Grid class"
     ]
    }
   ],
   "source": [
    "#compare_outputs(ds, uxds, '__setitem__', 'test', np.random.rand(30))\n",
    "ds.__setitem__('test', np.random.rand(30))\n",
    "print(ds)\n",
    "uxds.__setitem__('test', np.random.rand(30))\n",
    "print(uxds)"
   ]
  },
  {
   "cell_type": "code",
   "execution_count": 38,
   "metadata": {},
   "outputs": [
    {
     "name": "stdout",
     "output_type": "stream",
     "text": [
      "\n",
      "<xarray.Dataset>\n",
      "Dimensions:           (nMesh2_face: 5400, nMaxMesh2_face_nodes: 4,\n",
      "                       nMesh2_node: 5402)\n",
      "Dimensions without coordinates: nMesh2_face, nMaxMesh2_face_nodes, nMesh2_node\n",
      "Data variables:\n",
      "    Mesh2             int32 -2147483647\n",
      "    Mesh2_face_nodes  (nMesh2_face, nMaxMesh2_face_nodes) float64 0.0 ... 298.0\n",
      "    Mesh2_node_x      (nMesh2_node) float64 315.0 45.0 135.0 ... 138.0 135.0\n",
      "    Mesh2_node_y      (nMesh2_node) float64 -35.26 -35.26 -35.26 ... 39.55 38.14\n",
      "\n",
      "<xarray.UxDataset>\n",
      "Dimensions:  (ncol: 5400)\n",
      "Dimensions without coordinates: ncol\n",
      "Data variables:\n",
      "    var2     (ncol) float64 1.351 1.331 1.31 1.289 ... 0.7121 0.6909 0.67 0.6495\n"
     ]
    }
   ],
   "source": [
    "#compare_outputs(ds, uxds, '__delitem__', 'test')\n",
    "# interestingly, this does not error out for uxarray, suggesting that, despite the error message from the __setitem__ method, the variable is actually being added to the dataset to be deleted here\n",
    "print()\n",
    "ds.__delitem__('test')\n",
    "print(ds)\n",
    "print()\n",
    "uxds.__delitem__('test')\n",
    "print(uxds)"
   ]
  },
  {
   "cell_type": "code",
   "execution_count": 39,
   "metadata": {},
   "outputs": [],
   "source": [
    "#Skipping in case this is messing up later calls\n",
    "# uxds_new = uxds.merge(ds)\n",
    "\n",
    "# interestingly, this fails when we try to print it, not when we try to merge it\n",
    "#uxds_new"
   ]
  },
  {
   "cell_type": "code",
   "execution_count": 40,
   "metadata": {},
   "outputs": [
    {
     "name": "stdout",
     "output_type": "stream",
     "text": [
      "Parent Class Method Output:\n",
      "<xarray.DataArray 'var2' (ncol: 5400)>\n",
      "[5400 values with dtype=float64]\n",
      "Dimensions without coordinates: ncol\n",
      "\n",
      "Child Class Method Output:\n",
      "<xarray.UxDataArray 'var2' (ncol: 5400)>\n",
      "array([1.35131705, 1.33091472, 1.31013985, ..., 0.69088338, 0.66998883,\n",
      "       0.64946691])\n",
      "Dimensions without coordinates: ncol\n",
      "\n",
      "\n"
     ]
    }
   ],
   "source": [
    "# use ds_var to compare with uxds variable\n",
    "compare_outputs(ds_var, uxds, 'get', 'var2')"
   ]
  },
  {
   "cell_type": "code",
   "execution_count": 41,
   "metadata": {},
   "outputs": [
    {
     "name": "stdout",
     "output_type": "stream",
     "text": [
      "Parent Class Method Output:\n",
      "KeysView(<xarray.Dataset>\n",
      "Dimensions:           (nMesh2_face: 5400, nMaxMesh2_face_nodes: 4,\n",
      "                       nMesh2_node: 5402)\n",
      "Dimensions without coordinates: nMesh2_face, nMaxMesh2_face_nodes, nMesh2_node\n",
      "Data variables:\n",
      "    Mesh2             int32 -2147483647\n",
      "    Mesh2_face_nodes  (nMesh2_face, nMaxMesh2_face_nodes) float64 0.0 ... 298.0\n",
      "    Mesh2_node_x      (nMesh2_node) float64 315.0 45.0 135.0 ... 138.0 135.0\n",
      "    Mesh2_node_y      (nMesh2_node) float64 -35.26 -35.26 -35.26 ... 39.55 38.14)\n",
      "\n",
      "Child Class Method Output:\n",
      "KeysView(<xarray.UxDataset>\n",
      "Dimensions:  (ncol: 5400)\n",
      "Dimensions without coordinates: ncol\n",
      "Data variables:\n",
      "    var2     (ncol) float64 1.351 1.331 1.31 1.289 ... 0.7121 0.6909 0.67 0.6495)\n",
      "\n",
      "\n"
     ]
    }
   ],
   "source": [
    "compare_outputs(ds, uxds, 'keys')"
   ]
  },
  {
   "cell_type": "code",
   "execution_count": 42,
   "metadata": {},
   "outputs": [
    {
     "name": "stdout",
     "output_type": "stream",
     "text": [
      "Parent Class Method Output:\n",
      "ValuesView(<xarray.Dataset>\n",
      "Dimensions:           (nMesh2_face: 5400, nMaxMesh2_face_nodes: 4,\n",
      "                       nMesh2_node: 5402)\n",
      "Dimensions without coordinates: nMesh2_face, nMaxMesh2_face_nodes, nMesh2_node\n",
      "Data variables:\n",
      "    Mesh2             int32 -2147483647\n",
      "    Mesh2_face_nodes  (nMesh2_face, nMaxMesh2_face_nodes) float64 0.0 ... 298.0\n",
      "    Mesh2_node_x      (nMesh2_node) float64 315.0 45.0 135.0 ... 138.0 135.0\n",
      "    Mesh2_node_y      (nMesh2_node) float64 -35.26 -35.26 -35.26 ... 39.55 38.14)\n",
      "\n",
      "Child Class Method Output:\n",
      "ValuesView(<xarray.UxDataset>\n",
      "Dimensions:  (ncol: 5400)\n",
      "Dimensions without coordinates: ncol\n",
      "Data variables:\n",
      "    var2     (ncol) float64 1.351 1.331 1.31 1.289 ... 0.7121 0.6909 0.67 0.6495)\n",
      "\n",
      "\n"
     ]
    }
   ],
   "source": [
    "compare_outputs(ds, uxds, 'values')"
   ]
  },
  {
   "cell_type": "code",
   "execution_count": 43,
   "metadata": {},
   "outputs": [],
   "source": [
    "#uxds_new = uxds._copy()\n",
    "#uxds_new"
   ]
  },
  {
   "cell_type": "code",
   "execution_count": 44,
   "metadata": {},
   "outputs": [
    {
     "name": "stdout",
     "output_type": "stream",
     "text": [
      "Parent Class Method Output:\n",
      "<xarray.Dataset>\n",
      "Dimensions:           (nMesh2_face: 5400, nMaxMesh2_face_nodes: 4,\n",
      "                       nMesh2_node: 5402)\n",
      "Dimensions without coordinates: nMesh2_face, nMaxMesh2_face_nodes, nMesh2_node\n",
      "Data variables:\n",
      "    Mesh2             int32 -2147483647\n",
      "    Mesh2_face_nodes  (nMesh2_face, nMaxMesh2_face_nodes) float64 0.0 ... 298.0\n",
      "    Mesh2_node_x      (nMesh2_node) float64 315.0 45.0 135.0 ... 138.0 135.0\n",
      "    Mesh2_node_y      (nMesh2_node) float64 -35.26 -35.26 -35.26 ... 39.55 38.14\n",
      "\n",
      "Child Class Method Output:\n",
      "None\n"
     ]
    },
    {
     "name": "stderr",
     "output_type": "stream",
     "text": [
      "Traceback (most recent call last):\n",
      "  File \"/var/folders/s9/t24bbhy92td3s9sd0d79t5255788jd/T/ipykernel_82201/3945707164.py\", line 31, in compare_outputs\n",
      "    print(child_method(*args, **kwargs))\n",
      "  File \"/Users/anissaz/miniconda3/envs/uxsandbox/lib/python3.10/site-packages/xarray/core/dataset.py\", line 2116, in __repr__\n",
      "    return formatting.dataset_repr(self)\n",
      "  File \"/Users/anissaz/miniconda3/envs/uxsandbox/lib/python3.10/reprlib.py\", line 21, in wrapper\n",
      "    result = user_function(self)\n",
      "  File \"/Users/anissaz/miniconda3/envs/uxsandbox/lib/python3.10/site-packages/xarray/core/formatting.py\", line 673, in dataset_repr\n",
      "    summary.append(data_vars_repr(ds.data_vars, col_width=col_width, max_rows=max_rows))\n",
      "  File \"/Users/anissaz/miniconda3/envs/uxsandbox/lib/python3.10/site-packages/xarray/core/formatting.py\", line 377, in _mapping_repr\n",
      "    summary += [\n",
      "  File \"/Users/anissaz/miniconda3/envs/uxsandbox/lib/python3.10/site-packages/xarray/core/formatting.py\", line 377, in <listcomp>\n",
      "    summary += [\n",
      "  File \"/Users/anissaz/miniconda3/envs/uxsandbox/lib/python3.10/_collections_abc.py\", line 911, in __iter__\n",
      "    yield (key, self._mapping[key])\n",
      "  File \"/Users/anissaz/miniconda3/envs/uxsandbox/lib/python3.10/site-packages/xarray/core/dataset.py\", line 384, in __getitem__\n",
      "    return cast(\"DataArray\", self._dataset[key])\n",
      "  File \"/Users/anissaz/Desktop/Raijin/uxarray/uxarray/core/dataset.py\", line 61, in __getitem__\n",
      "    xarr = super().__getitem__(key)\n",
      "  File \"/Users/anissaz/miniconda3/envs/uxsandbox/lib/python3.10/site-packages/xarray/core/dataset.py\", line 1438, in __getitem__\n",
      "    return self._construct_dataarray(key)\n",
      "  File \"/Users/anissaz/Desktop/Raijin/uxarray/uxarray/core/dataset.py\", line 54, in _construct_dataarray\n",
      "    return UxDataArray(xarr, uxgrid=self.uxgrid)\n",
      "  File \"/Users/anissaz/miniconda3/envs/uxsandbox/lib/python3.10/site-packages/xarray/core/common.py\", line 276, in __getattr__\n",
      "    raise AttributeError(\n",
      "AttributeError: 'UxDataset' object has no attribute 'uxgrid'\n"
     ]
    }
   ],
   "source": [
    "compare_outputs(ds, uxds, 'assign')"
   ]
  },
  {
   "cell_type": "code",
   "execution_count": 45,
   "metadata": {},
   "outputs": [
    {
     "name": "stdout",
     "output_type": "stream",
     "text": [
      "Parent Class Method Output:\n",
      "<xarray.Dataset>\n",
      "Dimensions:           (nMesh2_face: 5400, nMaxMesh2_face_nodes: 4,\n",
      "                       nMesh2_node: 5402)\n",
      "Dimensions without coordinates: nMesh2_face, nMaxMesh2_face_nodes, nMesh2_node\n",
      "Data variables:\n",
      "    Mesh2             int32 -2147483647\n",
      "    Mesh2_face_nodes  (nMesh2_face, nMaxMesh2_face_nodes) float64 0.0 ... 298.0\n",
      "    Mesh2_node_x      (nMesh2_node) float64 315.0 45.0 135.0 ... 138.0 135.0\n",
      "    Mesh2_node_y      (nMesh2_node) float64 -35.26 -35.26 -35.26 ... 39.55 38.14\n",
      "\n",
      "Child Class Method Output:\n",
      "None\n"
     ]
    },
    {
     "name": "stderr",
     "output_type": "stream",
     "text": [
      "Traceback (most recent call last):\n",
      "  File \"/var/folders/s9/t24bbhy92td3s9sd0d79t5255788jd/T/ipykernel_82201/3945707164.py\", line 31, in compare_outputs\n",
      "    print(child_method(*args, **kwargs))\n",
      "  File \"/Users/anissaz/miniconda3/envs/uxsandbox/lib/python3.10/site-packages/xarray/core/dataset.py\", line 2116, in __repr__\n",
      "    return formatting.dataset_repr(self)\n",
      "  File \"/Users/anissaz/miniconda3/envs/uxsandbox/lib/python3.10/reprlib.py\", line 21, in wrapper\n",
      "    result = user_function(self)\n",
      "  File \"/Users/anissaz/miniconda3/envs/uxsandbox/lib/python3.10/site-packages/xarray/core/formatting.py\", line 673, in dataset_repr\n",
      "    summary.append(data_vars_repr(ds.data_vars, col_width=col_width, max_rows=max_rows))\n",
      "  File \"/Users/anissaz/miniconda3/envs/uxsandbox/lib/python3.10/site-packages/xarray/core/formatting.py\", line 377, in _mapping_repr\n",
      "    summary += [\n",
      "  File \"/Users/anissaz/miniconda3/envs/uxsandbox/lib/python3.10/site-packages/xarray/core/formatting.py\", line 377, in <listcomp>\n",
      "    summary += [\n",
      "  File \"/Users/anissaz/miniconda3/envs/uxsandbox/lib/python3.10/_collections_abc.py\", line 911, in __iter__\n",
      "    yield (key, self._mapping[key])\n",
      "  File \"/Users/anissaz/miniconda3/envs/uxsandbox/lib/python3.10/site-packages/xarray/core/dataset.py\", line 384, in __getitem__\n",
      "    return cast(\"DataArray\", self._dataset[key])\n",
      "  File \"/Users/anissaz/Desktop/Raijin/uxarray/uxarray/core/dataset.py\", line 61, in __getitem__\n",
      "    xarr = super().__getitem__(key)\n",
      "  File \"/Users/anissaz/miniconda3/envs/uxsandbox/lib/python3.10/site-packages/xarray/core/dataset.py\", line 1438, in __getitem__\n",
      "    return self._construct_dataarray(key)\n",
      "  File \"/Users/anissaz/Desktop/Raijin/uxarray/uxarray/core/dataset.py\", line 54, in _construct_dataarray\n",
      "    return UxDataArray(xarr, uxgrid=self.uxgrid)\n",
      "  File \"/Users/anissaz/miniconda3/envs/uxsandbox/lib/python3.10/site-packages/xarray/core/common.py\", line 276, in __getattr__\n",
      "    raise AttributeError(\n",
      "AttributeError: 'UxDataset' object has no attribute 'uxgrid'\n"
     ]
    }
   ],
   "source": [
    "compare_outputs(ds, uxds, 'assign_coords')"
   ]
  },
  {
   "cell_type": "code",
   "execution_count": 46,
   "metadata": {},
   "outputs": [
    {
     "name": "stdout",
     "output_type": "stream",
     "text": [
      "Parent Class Method Output:\n",
      "<xarray.Dataset>\n",
      "Dimensions:           (nMesh2_face: 5400, nMaxMesh2_face_nodes: 4,\n",
      "                       nMesh2_node: 5402)\n",
      "Dimensions without coordinates: nMesh2_face, nMaxMesh2_face_nodes, nMesh2_node\n",
      "Data variables:\n",
      "    Mesh2             int32 -2147483647\n",
      "    Mesh2_face_nodes  (nMesh2_face, nMaxMesh2_face_nodes) float64 0.0 ... 298.0\n",
      "    Mesh2_node_x      (nMesh2_node) float64 315.0 45.0 135.0 ... 138.0 135.0\n",
      "    Mesh2_node_y      (nMesh2_node) float64 -35.26 -35.26 -35.26 ... 39.55 38.14\n",
      "\n",
      "Child Class Method Output:\n",
      "None\n"
     ]
    },
    {
     "name": "stderr",
     "output_type": "stream",
     "text": [
      "Traceback (most recent call last):\n",
      "  File \"/var/folders/s9/t24bbhy92td3s9sd0d79t5255788jd/T/ipykernel_82201/3945707164.py\", line 31, in compare_outputs\n",
      "    print(child_method(*args, **kwargs))\n",
      "  File \"/Users/anissaz/miniconda3/envs/uxsandbox/lib/python3.10/site-packages/xarray/core/dataset.py\", line 2116, in __repr__\n",
      "    return formatting.dataset_repr(self)\n",
      "  File \"/Users/anissaz/miniconda3/envs/uxsandbox/lib/python3.10/reprlib.py\", line 21, in wrapper\n",
      "    result = user_function(self)\n",
      "  File \"/Users/anissaz/miniconda3/envs/uxsandbox/lib/python3.10/site-packages/xarray/core/formatting.py\", line 673, in dataset_repr\n",
      "    summary.append(data_vars_repr(ds.data_vars, col_width=col_width, max_rows=max_rows))\n",
      "  File \"/Users/anissaz/miniconda3/envs/uxsandbox/lib/python3.10/site-packages/xarray/core/formatting.py\", line 377, in _mapping_repr\n",
      "    summary += [\n",
      "  File \"/Users/anissaz/miniconda3/envs/uxsandbox/lib/python3.10/site-packages/xarray/core/formatting.py\", line 377, in <listcomp>\n",
      "    summary += [\n",
      "  File \"/Users/anissaz/miniconda3/envs/uxsandbox/lib/python3.10/_collections_abc.py\", line 911, in __iter__\n",
      "    yield (key, self._mapping[key])\n",
      "  File \"/Users/anissaz/miniconda3/envs/uxsandbox/lib/python3.10/site-packages/xarray/core/dataset.py\", line 384, in __getitem__\n",
      "    return cast(\"DataArray\", self._dataset[key])\n",
      "  File \"/Users/anissaz/Desktop/Raijin/uxarray/uxarray/core/dataset.py\", line 61, in __getitem__\n",
      "    xarr = super().__getitem__(key)\n",
      "  File \"/Users/anissaz/miniconda3/envs/uxsandbox/lib/python3.10/site-packages/xarray/core/dataset.py\", line 1438, in __getitem__\n",
      "    return self._construct_dataarray(key)\n",
      "  File \"/Users/anissaz/Desktop/Raijin/uxarray/uxarray/core/dataset.py\", line 54, in _construct_dataarray\n",
      "    return UxDataArray(xarr, uxgrid=self.uxgrid)\n",
      "  File \"/Users/anissaz/miniconda3/envs/uxsandbox/lib/python3.10/site-packages/xarray/core/common.py\", line 276, in __getattr__\n",
      "    raise AttributeError(\n",
      "AttributeError: 'UxDataset' object has no attribute 'uxgrid'\n"
     ]
    }
   ],
   "source": [
    "compare_outputs(ds, uxds, 'assign_attrs')"
   ]
  },
  {
   "cell_type": "code",
   "execution_count": 47,
   "metadata": {},
   "outputs": [
    {
     "name": "stdout",
     "output_type": "stream",
     "text": [
      "Parent Class Method Output:\n",
      "<xarray.Dataset>\n",
      "Dimensions:   (ncol: 5400)\n",
      "Dimensions without coordinates: ncol\n",
      "Data variables:\n",
      "    var2_new  (ncol) float64 ...\n",
      "\n",
      "Child Class Method Output:\n",
      "None\n"
     ]
    },
    {
     "name": "stderr",
     "output_type": "stream",
     "text": [
      "Traceback (most recent call last):\n",
      "  File \"/var/folders/s9/t24bbhy92td3s9sd0d79t5255788jd/T/ipykernel_82201/3945707164.py\", line 31, in compare_outputs\n",
      "    print(child_method(*args, **kwargs))\n",
      "  File \"/Users/anissaz/miniconda3/envs/uxsandbox/lib/python3.10/site-packages/xarray/core/dataset.py\", line 2116, in __repr__\n",
      "    return formatting.dataset_repr(self)\n",
      "  File \"/Users/anissaz/miniconda3/envs/uxsandbox/lib/python3.10/reprlib.py\", line 21, in wrapper\n",
      "    result = user_function(self)\n",
      "  File \"/Users/anissaz/miniconda3/envs/uxsandbox/lib/python3.10/site-packages/xarray/core/formatting.py\", line 673, in dataset_repr\n",
      "    summary.append(data_vars_repr(ds.data_vars, col_width=col_width, max_rows=max_rows))\n",
      "  File \"/Users/anissaz/miniconda3/envs/uxsandbox/lib/python3.10/site-packages/xarray/core/formatting.py\", line 377, in _mapping_repr\n",
      "    summary += [\n",
      "  File \"/Users/anissaz/miniconda3/envs/uxsandbox/lib/python3.10/site-packages/xarray/core/formatting.py\", line 377, in <listcomp>\n",
      "    summary += [\n",
      "  File \"/Users/anissaz/miniconda3/envs/uxsandbox/lib/python3.10/_collections_abc.py\", line 911, in __iter__\n",
      "    yield (key, self._mapping[key])\n",
      "  File \"/Users/anissaz/miniconda3/envs/uxsandbox/lib/python3.10/site-packages/xarray/core/dataset.py\", line 384, in __getitem__\n",
      "    return cast(\"DataArray\", self._dataset[key])\n",
      "  File \"/Users/anissaz/Desktop/Raijin/uxarray/uxarray/core/dataset.py\", line 61, in __getitem__\n",
      "    xarr = super().__getitem__(key)\n",
      "  File \"/Users/anissaz/miniconda3/envs/uxsandbox/lib/python3.10/site-packages/xarray/core/dataset.py\", line 1438, in __getitem__\n",
      "    return self._construct_dataarray(key)\n",
      "  File \"/Users/anissaz/Desktop/Raijin/uxarray/uxarray/core/dataset.py\", line 54, in _construct_dataarray\n",
      "    return UxDataArray(xarr, uxgrid=self.uxgrid)\n",
      "  File \"/Users/anissaz/miniconda3/envs/uxsandbox/lib/python3.10/site-packages/xarray/core/common.py\", line 276, in __getattr__\n",
      "    raise AttributeError(\n",
      "AttributeError: 'UxDataset' object has no attribute 'uxgrid'\n"
     ]
    }
   ],
   "source": [
    "compare_outputs(ds_var, uxds, 'rename_vars', {'var2': 'var2_new'})"
   ]
  },
  {
   "cell_type": "code",
   "execution_count": 48,
   "metadata": {},
   "outputs": [
    {
     "name": "stdout",
     "output_type": "stream",
     "text": [
      "Parent Class Method Output:\n",
      "<xarray.Dataset>\n",
      "Dimensions:           (nMesh2_face: 5400, nMaxMesh2_face_nodes: 4,\n",
      "                       nMesh2_node: 5402)\n",
      "Dimensions without coordinates: nMesh2_face, nMaxMesh2_face_nodes, nMesh2_node\n",
      "Data variables:\n",
      "    Mesh2             int32 -2147483647\n",
      "    Mesh2_face_nodes  (nMesh2_face, nMaxMesh2_face_nodes) float64 0.0 ... 298.0\n",
      "    Mesh2_node_x      (nMesh2_node) float64 315.0 45.0 135.0 ... 138.0 135.0\n",
      "    Mesh2_node_y      (nMesh2_node) float64 -35.26 -35.26 -35.26 ... 39.55 38.14\n",
      "\n",
      "Child Class Method Output:\n",
      "None\n"
     ]
    },
    {
     "name": "stderr",
     "output_type": "stream",
     "text": [
      "Traceback (most recent call last):\n",
      "  File \"/var/folders/s9/t24bbhy92td3s9sd0d79t5255788jd/T/ipykernel_82201/3945707164.py\", line 31, in compare_outputs\n",
      "    print(child_method(*args, **kwargs))\n",
      "  File \"/Users/anissaz/miniconda3/envs/uxsandbox/lib/python3.10/site-packages/xarray/core/dataset.py\", line 2116, in __repr__\n",
      "    return formatting.dataset_repr(self)\n",
      "  File \"/Users/anissaz/miniconda3/envs/uxsandbox/lib/python3.10/reprlib.py\", line 21, in wrapper\n",
      "    result = user_function(self)\n",
      "  File \"/Users/anissaz/miniconda3/envs/uxsandbox/lib/python3.10/site-packages/xarray/core/formatting.py\", line 673, in dataset_repr\n",
      "    summary.append(data_vars_repr(ds.data_vars, col_width=col_width, max_rows=max_rows))\n",
      "  File \"/Users/anissaz/miniconda3/envs/uxsandbox/lib/python3.10/site-packages/xarray/core/formatting.py\", line 377, in _mapping_repr\n",
      "    summary += [\n",
      "  File \"/Users/anissaz/miniconda3/envs/uxsandbox/lib/python3.10/site-packages/xarray/core/formatting.py\", line 377, in <listcomp>\n",
      "    summary += [\n",
      "  File \"/Users/anissaz/miniconda3/envs/uxsandbox/lib/python3.10/_collections_abc.py\", line 911, in __iter__\n",
      "    yield (key, self._mapping[key])\n",
      "  File \"/Users/anissaz/miniconda3/envs/uxsandbox/lib/python3.10/site-packages/xarray/core/dataset.py\", line 384, in __getitem__\n",
      "    return cast(\"DataArray\", self._dataset[key])\n",
      "  File \"/Users/anissaz/Desktop/Raijin/uxarray/uxarray/core/dataset.py\", line 61, in __getitem__\n",
      "    xarr = super().__getitem__(key)\n",
      "  File \"/Users/anissaz/miniconda3/envs/uxsandbox/lib/python3.10/site-packages/xarray/core/dataset.py\", line 1438, in __getitem__\n",
      "    return self._construct_dataarray(key)\n",
      "  File \"/Users/anissaz/Desktop/Raijin/uxarray/uxarray/core/dataset.py\", line 54, in _construct_dataarray\n",
      "    return UxDataArray(xarr, uxgrid=self.uxgrid)\n",
      "  File \"/Users/anissaz/miniconda3/envs/uxsandbox/lib/python3.10/site-packages/xarray/core/common.py\", line 276, in __getattr__\n",
      "    raise AttributeError(\n",
      "AttributeError: 'UxDataset' object has no attribute 'uxgrid'\n"
     ]
    }
   ],
   "source": [
    "compare_outputs(ds, uxds, '_rename')"
   ]
  },
  {
   "cell_type": "code",
   "execution_count": 49,
   "metadata": {},
   "outputs": [
    {
     "name": "stdout",
     "output_type": "stream",
     "text": [
      "Parent Class Method Output:\n",
      "<xarray.Dataset>\n",
      "Dimensions:  ()\n",
      "Data variables:\n",
      "    *empty*\n",
      "\n",
      "Child Class Method Output:\n",
      "None\n"
     ]
    },
    {
     "name": "stderr",
     "output_type": "stream",
     "text": [
      "Traceback (most recent call last):\n",
      "  File \"/var/folders/s9/t24bbhy92td3s9sd0d79t5255788jd/T/ipykernel_82201/3945707164.py\", line 31, in compare_outputs\n",
      "    print(child_method(*args, **kwargs))\n",
      "  File \"/Users/anissaz/Desktop/Raijin/uxarray/uxarray/core/dataset.py\", line 33, in __init__\n",
      "    raise RuntimeError(\n",
      "RuntimeError: uxarray.core.UxDataset.__init__: uxgrid cannot be None. It needs to be of an instance of the uxarray.core.Grid class\n"
     ]
    }
   ],
   "source": [
    "compare_outputs(ds, uxds, '__class__')"
   ]
  },
  {
   "cell_type": "code",
   "execution_count": 53,
   "metadata": {},
   "outputs": [
    {
     "name": "stdout",
     "output_type": "stream",
     "text": [
      "Parent Class Method Output:\n",
      "True\n",
      "\n",
      "Child Class Method Output:\n",
      "False\n",
      "\n",
      "\n"
     ]
    }
   ],
   "source": [
    "compare_outputs(ds, uxds, '__contains__', 'Mesh2')"
   ]
  },
  {
   "cell_type": "code",
   "execution_count": 55,
   "metadata": {},
   "outputs": [
    {
     "name": "stdout",
     "output_type": "stream",
     "text": [
      "Parent Class Method Output:\n",
      "<xarray.Dataset>\n",
      "Dimensions:           (nMesh2_face: 5400, nMaxMesh2_face_nodes: 4,\n",
      "                       nMesh2_node: 5402)\n",
      "Dimensions without coordinates: nMesh2_face, nMaxMesh2_face_nodes, nMesh2_node\n",
      "Data variables:\n",
      "    Mesh2             int32 -2147483647\n",
      "    Mesh2_face_nodes  (nMesh2_face, nMaxMesh2_face_nodes) float64 0.0 ... 298.0\n",
      "    Mesh2_node_x      (nMesh2_node) float64 315.0 45.0 135.0 ... 138.0 135.0\n",
      "    Mesh2_node_y      (nMesh2_node) float64 -35.26 -35.26 -35.26 ... 39.55 38.14\n",
      "\n",
      "Child Class Method Output:\n",
      "None\n"
     ]
    },
    {
     "name": "stderr",
     "output_type": "stream",
     "text": [
      "Traceback (most recent call last):\n",
      "  File \"/var/folders/s9/t24bbhy92td3s9sd0d79t5255788jd/T/ipykernel_82201/3945707164.py\", line 31, in compare_outputs\n",
      "    print(child_method(*args, **kwargs))\n",
      "  File \"/Users/anissaz/miniconda3/envs/uxsandbox/lib/python3.10/site-packages/xarray/core/dataset.py\", line 2116, in __repr__\n",
      "    return formatting.dataset_repr(self)\n",
      "  File \"/Users/anissaz/miniconda3/envs/uxsandbox/lib/python3.10/reprlib.py\", line 21, in wrapper\n",
      "    result = user_function(self)\n",
      "  File \"/Users/anissaz/miniconda3/envs/uxsandbox/lib/python3.10/site-packages/xarray/core/formatting.py\", line 673, in dataset_repr\n",
      "    summary.append(data_vars_repr(ds.data_vars, col_width=col_width, max_rows=max_rows))\n",
      "  File \"/Users/anissaz/miniconda3/envs/uxsandbox/lib/python3.10/site-packages/xarray/core/formatting.py\", line 377, in _mapping_repr\n",
      "    summary += [\n",
      "  File \"/Users/anissaz/miniconda3/envs/uxsandbox/lib/python3.10/site-packages/xarray/core/formatting.py\", line 377, in <listcomp>\n",
      "    summary += [\n",
      "  File \"/Users/anissaz/miniconda3/envs/uxsandbox/lib/python3.10/_collections_abc.py\", line 911, in __iter__\n",
      "    yield (key, self._mapping[key])\n",
      "  File \"/Users/anissaz/miniconda3/envs/uxsandbox/lib/python3.10/site-packages/xarray/core/dataset.py\", line 384, in __getitem__\n",
      "    return cast(\"DataArray\", self._dataset[key])\n",
      "  File \"/Users/anissaz/Desktop/Raijin/uxarray/uxarray/core/dataset.py\", line 61, in __getitem__\n",
      "    xarr = super().__getitem__(key)\n",
      "  File \"/Users/anissaz/miniconda3/envs/uxsandbox/lib/python3.10/site-packages/xarray/core/dataset.py\", line 1438, in __getitem__\n",
      "    return self._construct_dataarray(key)\n",
      "  File \"/Users/anissaz/Desktop/Raijin/uxarray/uxarray/core/dataset.py\", line 54, in _construct_dataarray\n",
      "    return UxDataArray(xarr, uxgrid=self.uxgrid)\n",
      "  File \"/Users/anissaz/miniconda3/envs/uxsandbox/lib/python3.10/site-packages/xarray/core/common.py\", line 276, in __getattr__\n",
      "    raise AttributeError(\n",
      "AttributeError: 'UxDataset' object has no attribute 'uxgrid'\n"
     ]
    }
   ],
   "source": [
    "compare_outputs(ds, uxds, '__copy__')"
   ]
  },
  {
   "cell_type": "code",
   "execution_count": 56,
   "metadata": {},
   "outputs": [
    {
     "name": "stdout",
     "output_type": "stream",
     "text": [
      "Parent Class Method Output:\n",
      "<xarray.Dataset>\n",
      "Dimensions:           (nMesh2_face: 5400, nMaxMesh2_face_nodes: 4,\n",
      "                       nMesh2_node: 5402)\n",
      "Dimensions without coordinates: nMesh2_face, nMaxMesh2_face_nodes, nMesh2_node\n",
      "Data variables:\n",
      "    Mesh2             int32 2147483647\n",
      "    Mesh2_face_nodes  (nMesh2_face, nMaxMesh2_face_nodes) float64 0.0 ... 298.0\n",
      "    Mesh2_node_x      (nMesh2_node) float64 315.0 45.0 135.0 ... 138.0 135.0\n",
      "    Mesh2_node_y      (nMesh2_node) float64 35.26 35.26 35.26 ... 39.55 38.14\n",
      "\n",
      "Child Class Method Output:\n",
      "None\n"
     ]
    },
    {
     "name": "stderr",
     "output_type": "stream",
     "text": [
      "Traceback (most recent call last):\n",
      "  File \"/var/folders/s9/t24bbhy92td3s9sd0d79t5255788jd/T/ipykernel_82201/3945707164.py\", line 31, in compare_outputs\n",
      "    print(child_method(*args, **kwargs))\n",
      "  File \"/Users/anissaz/miniconda3/envs/uxsandbox/lib/python3.10/site-packages/xarray/core/dataset.py\", line 2116, in __repr__\n",
      "    return formatting.dataset_repr(self)\n",
      "  File \"/Users/anissaz/miniconda3/envs/uxsandbox/lib/python3.10/reprlib.py\", line 21, in wrapper\n",
      "    result = user_function(self)\n",
      "  File \"/Users/anissaz/miniconda3/envs/uxsandbox/lib/python3.10/site-packages/xarray/core/formatting.py\", line 673, in dataset_repr\n",
      "    summary.append(data_vars_repr(ds.data_vars, col_width=col_width, max_rows=max_rows))\n",
      "  File \"/Users/anissaz/miniconda3/envs/uxsandbox/lib/python3.10/site-packages/xarray/core/formatting.py\", line 377, in _mapping_repr\n",
      "    summary += [\n",
      "  File \"/Users/anissaz/miniconda3/envs/uxsandbox/lib/python3.10/site-packages/xarray/core/formatting.py\", line 377, in <listcomp>\n",
      "    summary += [\n",
      "  File \"/Users/anissaz/miniconda3/envs/uxsandbox/lib/python3.10/_collections_abc.py\", line 911, in __iter__\n",
      "    yield (key, self._mapping[key])\n",
      "  File \"/Users/anissaz/miniconda3/envs/uxsandbox/lib/python3.10/site-packages/xarray/core/dataset.py\", line 384, in __getitem__\n",
      "    return cast(\"DataArray\", self._dataset[key])\n",
      "  File \"/Users/anissaz/Desktop/Raijin/uxarray/uxarray/core/dataset.py\", line 61, in __getitem__\n",
      "    xarr = super().__getitem__(key)\n",
      "  File \"/Users/anissaz/miniconda3/envs/uxsandbox/lib/python3.10/site-packages/xarray/core/dataset.py\", line 1438, in __getitem__\n",
      "    return self._construct_dataarray(key)\n",
      "  File \"/Users/anissaz/Desktop/Raijin/uxarray/uxarray/core/dataset.py\", line 54, in _construct_dataarray\n",
      "    return UxDataArray(xarr, uxgrid=self.uxgrid)\n",
      "  File \"/Users/anissaz/miniconda3/envs/uxsandbox/lib/python3.10/site-packages/xarray/core/common.py\", line 276, in __getattr__\n",
      "    raise AttributeError(\n",
      "AttributeError: 'UxDataset' object has no attribute 'uxgrid'\n"
     ]
    }
   ],
   "source": [
    "compare_outputs(ds, uxds, '__abs__')"
   ]
  },
  {
   "cell_type": "code",
   "execution_count": 57,
   "metadata": {},
   "outputs": [
    {
     "name": "stdout",
     "output_type": "stream",
     "text": [
      "Parent Class Method Output:\n",
      "frozenset()\n",
      "\n",
      "Child Class Method Output:\n",
      "frozenset()\n",
      "\n",
      "\n"
     ]
    }
   ],
   "source": [
    "compare_outputs(ds, uxds, '__abstractmethods__')"
   ]
  },
  {
   "cell_type": "code",
   "execution_count": 60,
   "metadata": {},
   "outputs": [
    {
     "name": "stdout",
     "output_type": "stream",
     "text": [
      "Parent Class Method Output:\n",
      "True\n",
      "\n",
      "Child Class Method Output:\n",
      "True\n",
      "\n",
      "\n"
     ]
    }
   ],
   "source": [
    "compare_outputs(ds, uxds, '__bool__')"
   ]
  },
  {
   "cell_type": "code",
   "execution_count": 61,
   "metadata": {},
   "outputs": [
    {
     "name": "stdout",
     "output_type": "stream",
     "text": [
      "Parent Class Method Output:\n",
      "50\n",
      "\n",
      "Child Class Method Output:\n",
      "50\n",
      "\n",
      "\n"
     ]
    }
   ],
   "source": [
    "compare_outputs(ds, uxds, '__array_priority__')"
   ]
  },
  {
   "cell_type": "code",
   "execution_count": 65,
   "metadata": {},
   "outputs": [
    {
     "name": "stdout",
     "output_type": "stream",
     "text": [
      "Parent Class Method Output:\n",
      "A multi-dimensional, in memory, array database.\n",
      "\n",
      "    A dataset resembles an in-memory representation of a NetCDF file,\n",
      "    and consists of variables, coordinates and attributes which\n",
      "    together form a self describing dataset.\n",
      "\n",
      "    Dataset implements the mapping interface with keys given by variable\n",
      "    names and values given by DataArray objects for each variable name.\n",
      "\n",
      "    One dimensional variables with name equal to their dimension are\n",
      "    index coordinates used for label based indexing.\n",
      "\n",
      "    To load data from a file or file-like object, use the `open_dataset`\n",
      "    function.\n",
      "\n",
      "    Parameters\n",
      "    ----------\n",
      "    data_vars : dict-like, optional\n",
      "        A mapping from variable names to :py:class:`~xarray.DataArray`\n",
      "        objects, :py:class:`~xarray.Variable` objects or to tuples of\n",
      "        the form ``(dims, data[, attrs])`` which can be used as\n",
      "        arguments to create a new ``Variable``. Each dimension must\n",
      "        have the same length in all variables in which it appears.\n",
      "\n",
      "        The following notations are accepted:\n",
      "\n",
      "        - mapping {var name: DataArray}\n",
      "        - mapping {var name: Variable}\n",
      "        - mapping {var name: (dimension name, array-like)}\n",
      "        - mapping {var name: (tuple of dimension names, array-like)}\n",
      "        - mapping {dimension name: array-like}\n",
      "          (it will be automatically moved to coords, see below)\n",
      "\n",
      "        Each dimension must have the same length in all variables in\n",
      "        which it appears.\n",
      "    coords : dict-like, optional\n",
      "        Another mapping in similar form as the `data_vars` argument,\n",
      "        except the each item is saved on the dataset as a \"coordinate\".\n",
      "        These variables have an associated meaning: they describe\n",
      "        constant/fixed/independent quantities, unlike the\n",
      "        varying/measured/dependent quantities that belong in\n",
      "        `variables`. Coordinates values may be given by 1-dimensional\n",
      "        arrays or scalars, in which case `dims` do not need to be\n",
      "        supplied: 1D arrays will be assumed to give index values along\n",
      "        the dimension with the same name.\n",
      "\n",
      "        The following notations are accepted:\n",
      "\n",
      "        - mapping {coord name: DataArray}\n",
      "        - mapping {coord name: Variable}\n",
      "        - mapping {coord name: (dimension name, array-like)}\n",
      "        - mapping {coord name: (tuple of dimension names, array-like)}\n",
      "        - mapping {dimension name: array-like}\n",
      "          (the dimension name is implicitly set to be the same as the\n",
      "          coord name)\n",
      "\n",
      "        The last notation implies that the coord name is the same as\n",
      "        the dimension name.\n",
      "\n",
      "    attrs : dict-like, optional\n",
      "        Global attributes to save on this dataset.\n",
      "\n",
      "    Examples\n",
      "    --------\n",
      "    Create data:\n",
      "\n",
      "    >>> np.random.seed(0)\n",
      "    >>> temperature = 15 + 8 * np.random.randn(2, 2, 3)\n",
      "    >>> precipitation = 10 * np.random.rand(2, 2, 3)\n",
      "    >>> lon = [[-99.83, -99.32], [-99.79, -99.23]]\n",
      "    >>> lat = [[42.25, 42.21], [42.63, 42.59]]\n",
      "    >>> time = pd.date_range(\"2014-09-06\", periods=3)\n",
      "    >>> reference_time = pd.Timestamp(\"2014-09-05\")\n",
      "\n",
      "    Initialize a dataset with multiple dimensions:\n",
      "\n",
      "    >>> ds = xr.Dataset(\n",
      "    ...     data_vars=dict(\n",
      "    ...         temperature=([\"x\", \"y\", \"time\"], temperature),\n",
      "    ...         precipitation=([\"x\", \"y\", \"time\"], precipitation),\n",
      "    ...     ),\n",
      "    ...     coords=dict(\n",
      "    ...         lon=([\"x\", \"y\"], lon),\n",
      "    ...         lat=([\"x\", \"y\"], lat),\n",
      "    ...         time=time,\n",
      "    ...         reference_time=reference_time,\n",
      "    ...     ),\n",
      "    ...     attrs=dict(description=\"Weather related data.\"),\n",
      "    ... )\n",
      "    >>> ds\n",
      "    <xarray.Dataset>\n",
      "    Dimensions:         (x: 2, y: 2, time: 3)\n",
      "    Coordinates:\n",
      "        lon             (x, y) float64 -99.83 -99.32 -99.79 -99.23\n",
      "        lat             (x, y) float64 42.25 42.21 42.63 42.59\n",
      "      * time            (time) datetime64[ns] 2014-09-06 2014-09-07 2014-09-08\n",
      "        reference_time  datetime64[ns] 2014-09-05\n",
      "    Dimensions without coordinates: x, y\n",
      "    Data variables:\n",
      "        temperature     (x, y, time) float64 29.11 18.2 22.83 ... 18.28 16.15 26.63\n",
      "        precipitation   (x, y, time) float64 5.68 9.256 0.7104 ... 7.992 4.615 7.805\n",
      "    Attributes:\n",
      "        description:  Weather related data.\n",
      "\n",
      "    Find out where the coldest temperature was and what values the\n",
      "    other variables had:\n",
      "\n",
      "    >>> ds.isel(ds.temperature.argmin(...))\n",
      "    <xarray.Dataset>\n",
      "    Dimensions:         ()\n",
      "    Coordinates:\n",
      "        lon             float64 -99.32\n",
      "        lat             float64 42.21\n",
      "        time            datetime64[ns] 2014-09-08\n",
      "        reference_time  datetime64[ns] 2014-09-05\n",
      "    Data variables:\n",
      "        temperature     float64 7.182\n",
      "        precipitation   float64 8.326\n",
      "    Attributes:\n",
      "        description:  Weather related data.\n",
      "    \n",
      "\n",
      "Child Class Method Output:\n",
      "None\n",
      "\n",
      "\n"
     ]
    }
   ],
   "source": [
    "compare_outputs(ds, uxds, '__doc__')"
   ]
  },
  {
   "cell_type": "code",
   "execution_count": 68,
   "metadata": {},
   "outputs": [
    {
     "name": "stdout",
     "output_type": "stream",
     "text": [
      "Parent Class Method Output:\n",
      "<bound method Dataset.head of <xarray.Dataset>\n",
      "Dimensions:           (nMesh2_face: 5400, nMaxMesh2_face_nodes: 4,\n",
      "                       nMesh2_node: 5402)\n",
      "Dimensions without coordinates: nMesh2_face, nMaxMesh2_face_nodes, nMesh2_node\n",
      "Data variables:\n",
      "    Mesh2             int32 -2147483647\n",
      "    Mesh2_face_nodes  (nMesh2_face, nMaxMesh2_face_nodes) float64 0.0 ... 298.0\n",
      "    Mesh2_node_x      (nMesh2_node) float64 315.0 45.0 135.0 ... 138.0 135.0\n",
      "    Mesh2_node_y      (nMesh2_node) float64 -35.26 -35.26 -35.26 ... 39.55 38.14>\n",
      "\n",
      "Child Class Method Output:\n",
      "<bound method Dataset.head of <xarray.UxDataset>\n",
      "Dimensions:  (ncol: 5400)\n",
      "Dimensions without coordinates: ncol\n",
      "Data variables:\n",
      "    var2     (ncol) float64 1.351 1.331 1.31 1.289 ... 0.7121 0.6909 0.67 0.6495>\n",
      "\n",
      "\n"
     ]
    }
   ],
   "source": [
    "compare_outputs(ds, uxds, '__getattribute__', 'head')"
   ]
  },
  {
   "cell_type": "code",
   "execution_count": 71,
   "metadata": {},
   "outputs": [
    {
     "name": "stdout",
     "output_type": "stream",
     "text": [
      "Parent Class Method Output:\n",
      "<xarray.DataArray 'var2' (ncol: 5400)>\n",
      "[5400 values with dtype=float64]\n",
      "Dimensions without coordinates: ncol\n",
      "\n",
      "Child Class Method Output:\n",
      "<xarray.UxDataArray 'var2' (ncol: 5400)>\n",
      "array([1.35131705, 1.33091472, 1.31013985, ..., 0.69088338, 0.66998883,\n",
      "       0.64946691])\n",
      "Dimensions without coordinates: ncol\n",
      "\n",
      "\n"
     ]
    }
   ],
   "source": [
    "compare_outputs(ds_var, uxds, '__getattr__', 'var2')"
   ]
  },
  {
   "cell_type": "code",
   "execution_count": 82,
   "metadata": {},
   "outputs": [
    {
     "name": "stdout",
     "output_type": "stream",
     "text": [
      "Parent Class Method Output:\n",
      "<xarray.Dataset>\n",
      "Dimensions:  (ncol: 5400)\n",
      "Dimensions without coordinates: ncol\n",
      "Data variables:\n",
      "    var2     (ncol) float64 ...\n",
      "\n",
      "Child Class Method Output:\n",
      "<xarray.UxDataset>\n",
      "Dimensions:  (ncol: 5400)\n",
      "Dimensions without coordinates: ncol\n",
      "Data variables:\n",
      "    var2     (ncol) float64 1.351 1.331 1.31 1.289 ... 0.7121 0.6909 0.67 0.6495\n",
      "\n",
      "\n"
     ]
    }
   ],
   "source": [
    "compare_outputs(ds_var, uxds, '__format__', '')"
   ]
  },
  {
   "cell_type": "code",
   "execution_count": 87,
   "metadata": {},
   "outputs": [
    {
     "name": "stdout",
     "output_type": "stream",
     "text": [
      "Parent Class Method Output:\n",
      "<generator object DataVariables.__iter__.<locals>.<genexpr> at 0x10f8112a0>\n",
      "\n",
      "Child Class Method Output:\n",
      "<generator object DataVariables.__iter__.<locals>.<genexpr> at 0x10f8112a0>\n",
      "\n",
      "\n"
     ]
    }
   ],
   "source": [
    "compare_outputs(ds_var, uxds, '__iter__')"
   ]
  },
  {
   "cell_type": "code",
   "execution_count": 89,
   "metadata": {},
   "outputs": [
    {
     "name": "stdout",
     "output_type": "stream",
     "text": [
      "Parent Class Method Output:\n",
      "4\n",
      "\n",
      "Child Class Method Output:\n",
      "1\n",
      "\n",
      "\n"
     ]
    }
   ],
   "source": [
    "compare_outputs(ds, uxds, '__len__')"
   ]
  },
  {
   "cell_type": "code",
   "execution_count": 94,
   "metadata": {},
   "outputs": [
    {
     "name": "stdout",
     "output_type": "stream",
     "text": [
      "Parent Class Method Output:\n",
      "xarray.core.dataset\n",
      "\n",
      "Child Class Method Output:\n",
      "uxarray.core.dataset\n",
      "\n",
      "\n"
     ]
    }
   ],
   "source": [
    "compare_outputs(ds, uxds, '__module__')"
   ]
  },
  {
   "cell_type": "code",
   "execution_count": 93,
   "metadata": {},
   "outputs": [
    {
     "name": "stdout",
     "output_type": "stream",
     "text": [
      "Parent Class Method Output:\n",
      "<xarray.Dataset>\n",
      "Dimensions:           (nMesh2_face: 5400, nMaxMesh2_face_nodes: 4,\n",
      "                       nMesh2_node: 5402)\n",
      "Dimensions without coordinates: nMesh2_face, nMaxMesh2_face_nodes, nMesh2_node\n",
      "Data variables:\n",
      "    Mesh2             int32 2147483647\n",
      "    Mesh2_face_nodes  (nMesh2_face, nMaxMesh2_face_nodes) float64 -0.0 ... -2...\n",
      "    Mesh2_node_x      (nMesh2_node) float64 -315.0 -45.0 ... -138.0 -135.0\n",
      "    Mesh2_node_y      (nMesh2_node) float64 35.26 35.26 35.26 ... -39.55 -38.14\n",
      "\n",
      "Child Class Method Output:\n",
      "None\n"
     ]
    },
    {
     "name": "stderr",
     "output_type": "stream",
     "text": [
      "Traceback (most recent call last):\n",
      "  File \"/var/folders/s9/t24bbhy92td3s9sd0d79t5255788jd/T/ipykernel_82201/3945707164.py\", line 31, in compare_outputs\n",
      "    print(child_method(*args, **kwargs))\n",
      "  File \"/Users/anissaz/miniconda3/envs/uxsandbox/lib/python3.10/site-packages/xarray/core/dataset.py\", line 2116, in __repr__\n",
      "    return formatting.dataset_repr(self)\n",
      "  File \"/Users/anissaz/miniconda3/envs/uxsandbox/lib/python3.10/reprlib.py\", line 21, in wrapper\n",
      "    result = user_function(self)\n",
      "  File \"/Users/anissaz/miniconda3/envs/uxsandbox/lib/python3.10/site-packages/xarray/core/formatting.py\", line 673, in dataset_repr\n",
      "    summary.append(data_vars_repr(ds.data_vars, col_width=col_width, max_rows=max_rows))\n",
      "  File \"/Users/anissaz/miniconda3/envs/uxsandbox/lib/python3.10/site-packages/xarray/core/formatting.py\", line 377, in _mapping_repr\n",
      "    summary += [\n",
      "  File \"/Users/anissaz/miniconda3/envs/uxsandbox/lib/python3.10/site-packages/xarray/core/formatting.py\", line 377, in <listcomp>\n",
      "    summary += [\n",
      "  File \"/Users/anissaz/miniconda3/envs/uxsandbox/lib/python3.10/_collections_abc.py\", line 911, in __iter__\n",
      "    yield (key, self._mapping[key])\n",
      "  File \"/Users/anissaz/miniconda3/envs/uxsandbox/lib/python3.10/site-packages/xarray/core/dataset.py\", line 384, in __getitem__\n",
      "    return cast(\"DataArray\", self._dataset[key])\n",
      "  File \"/Users/anissaz/Desktop/Raijin/uxarray/uxarray/core/dataset.py\", line 61, in __getitem__\n",
      "    xarr = super().__getitem__(key)\n",
      "  File \"/Users/anissaz/miniconda3/envs/uxsandbox/lib/python3.10/site-packages/xarray/core/dataset.py\", line 1438, in __getitem__\n",
      "    return self._construct_dataarray(key)\n",
      "  File \"/Users/anissaz/Desktop/Raijin/uxarray/uxarray/core/dataset.py\", line 54, in _construct_dataarray\n",
      "    return UxDataArray(xarr, uxgrid=self.uxgrid)\n",
      "  File \"/Users/anissaz/miniconda3/envs/uxsandbox/lib/python3.10/site-packages/xarray/core/common.py\", line 276, in __getattr__\n",
      "    raise AttributeError(\n",
      "AttributeError: 'UxDataset' object has no attribute 'uxgrid'\n"
     ]
    }
   ],
   "source": [
    "compare_outputs(ds, uxds, '__neg__')"
   ]
  },
  {
   "cell_type": "code",
   "execution_count": 96,
   "metadata": {},
   "outputs": [
    {
     "name": "stdout",
     "output_type": "stream",
     "text": [
      "Parent Class Method Output:\n",
      "(<class 'xarray.core.common.DataWithCoords'>, <class 'xarray.core._aggregations.DatasetAggregations'>, <class 'xarray.core.arithmetic.DatasetArithmetic'>, collections.abc.Mapping[collections.abc.Hashable, 'DataArray'])\n",
      "\n",
      "Child Class Method Output:\n",
      "(<class 'xarray.core.common.DataWithCoords'>, <class 'xarray.core._aggregations.DatasetAggregations'>, <class 'xarray.core.arithmetic.DatasetArithmetic'>, collections.abc.Mapping[collections.abc.Hashable, 'DataArray'])\n",
      "\n",
      "\n"
     ]
    }
   ],
   "source": [
    "compare_outputs(ds, uxds, '__orig_bases__')"
   ]
  },
  {
   "cell_type": "code",
   "execution_count": 98,
   "metadata": {},
   "outputs": [
    {
     "name": "stdout",
     "output_type": "stream",
     "text": [
      "Parent Class Method Output:\n",
      "<xarray.Dataset>\n",
      "Dimensions:           (nMesh2_face: 5400, nMaxMesh2_face_nodes: 4,\n",
      "                       nMesh2_node: 5402)\n",
      "Dimensions without coordinates: nMesh2_face, nMaxMesh2_face_nodes, nMesh2_node\n",
      "Data variables:\n",
      "    Mesh2             int32 -2147483647\n",
      "    Mesh2_face_nodes  (nMesh2_face, nMaxMesh2_face_nodes) float64 0.0 ... 298.0\n",
      "    Mesh2_node_x      (nMesh2_node) float64 315.0 45.0 135.0 ... 138.0 135.0\n",
      "    Mesh2_node_y      (nMesh2_node) float64 -35.26 -35.26 -35.26 ... 39.55 38.14\n",
      "\n",
      "Child Class Method Output:\n",
      "None\n"
     ]
    },
    {
     "name": "stderr",
     "output_type": "stream",
     "text": [
      "Traceback (most recent call last):\n",
      "  File \"/var/folders/s9/t24bbhy92td3s9sd0d79t5255788jd/T/ipykernel_82201/3945707164.py\", line 31, in compare_outputs\n",
      "    print(child_method(*args, **kwargs))\n",
      "  File \"/Users/anissaz/miniconda3/envs/uxsandbox/lib/python3.10/site-packages/xarray/core/dataset.py\", line 2116, in __repr__\n",
      "    return formatting.dataset_repr(self)\n",
      "  File \"/Users/anissaz/miniconda3/envs/uxsandbox/lib/python3.10/reprlib.py\", line 21, in wrapper\n",
      "    result = user_function(self)\n",
      "  File \"/Users/anissaz/miniconda3/envs/uxsandbox/lib/python3.10/site-packages/xarray/core/formatting.py\", line 673, in dataset_repr\n",
      "    summary.append(data_vars_repr(ds.data_vars, col_width=col_width, max_rows=max_rows))\n",
      "  File \"/Users/anissaz/miniconda3/envs/uxsandbox/lib/python3.10/site-packages/xarray/core/formatting.py\", line 377, in _mapping_repr\n",
      "    summary += [\n",
      "  File \"/Users/anissaz/miniconda3/envs/uxsandbox/lib/python3.10/site-packages/xarray/core/formatting.py\", line 377, in <listcomp>\n",
      "    summary += [\n",
      "  File \"/Users/anissaz/miniconda3/envs/uxsandbox/lib/python3.10/_collections_abc.py\", line 911, in __iter__\n",
      "    yield (key, self._mapping[key])\n",
      "  File \"/Users/anissaz/miniconda3/envs/uxsandbox/lib/python3.10/site-packages/xarray/core/dataset.py\", line 384, in __getitem__\n",
      "    return cast(\"DataArray\", self._dataset[key])\n",
      "  File \"/Users/anissaz/Desktop/Raijin/uxarray/uxarray/core/dataset.py\", line 61, in __getitem__\n",
      "    xarr = super().__getitem__(key)\n",
      "  File \"/Users/anissaz/miniconda3/envs/uxsandbox/lib/python3.10/site-packages/xarray/core/dataset.py\", line 1438, in __getitem__\n",
      "    return self._construct_dataarray(key)\n",
      "  File \"/Users/anissaz/Desktop/Raijin/uxarray/uxarray/core/dataset.py\", line 54, in _construct_dataarray\n",
      "    return UxDataArray(xarr, uxgrid=self.uxgrid)\n",
      "  File \"/Users/anissaz/miniconda3/envs/uxsandbox/lib/python3.10/site-packages/xarray/core/common.py\", line 276, in __getattr__\n",
      "    raise AttributeError(\n",
      "AttributeError: 'UxDataset' object has no attribute 'uxgrid'\n"
     ]
    }
   ],
   "source": [
    "compare_outputs(ds, uxds, '__pos__')"
   ]
  },
  {
   "cell_type": "code",
   "execution_count": 100,
   "metadata": {},
   "outputs": [
    {
     "name": "stdout",
     "output_type": "stream",
     "text": [
      "Parent Class Method Output:\n",
      "<xarray.Dataset>\n",
      "Dimensions:           (nMesh2_face: 5400, nMaxMesh2_face_nodes: 4,\n",
      "                       nMesh2_node: 5402)\n",
      "Dimensions without coordinates: nMesh2_face, nMaxMesh2_face_nodes, nMesh2_node\n",
      "Data variables:\n",
      "    Mesh2             int32 1\n",
      "    Mesh2_face_nodes  (nMesh2_face, nMaxMesh2_face_nodes) float64 0.0 ... 8.8...\n",
      "    Mesh2_node_x      (nMesh2_node) float64 9.922e+04 2.025e+03 ... 1.822e+04\n",
      "    Mesh2_node_y      (nMesh2_node) float64 1.244e+03 1.244e+03 ... 1.455e+03\n",
      "\n",
      "Child Class Method Output:\n",
      "None\n"
     ]
    },
    {
     "name": "stderr",
     "output_type": "stream",
     "text": [
      "Traceback (most recent call last):\n",
      "  File \"/var/folders/s9/t24bbhy92td3s9sd0d79t5255788jd/T/ipykernel_82201/3945707164.py\", line 31, in compare_outputs\n",
      "    print(child_method(*args, **kwargs))\n",
      "  File \"/Users/anissaz/miniconda3/envs/uxsandbox/lib/python3.10/site-packages/xarray/core/dataset.py\", line 2116, in __repr__\n",
      "    return formatting.dataset_repr(self)\n",
      "  File \"/Users/anissaz/miniconda3/envs/uxsandbox/lib/python3.10/reprlib.py\", line 21, in wrapper\n",
      "    result = user_function(self)\n",
      "  File \"/Users/anissaz/miniconda3/envs/uxsandbox/lib/python3.10/site-packages/xarray/core/formatting.py\", line 673, in dataset_repr\n",
      "    summary.append(data_vars_repr(ds.data_vars, col_width=col_width, max_rows=max_rows))\n",
      "  File \"/Users/anissaz/miniconda3/envs/uxsandbox/lib/python3.10/site-packages/xarray/core/formatting.py\", line 377, in _mapping_repr\n",
      "    summary += [\n",
      "  File \"/Users/anissaz/miniconda3/envs/uxsandbox/lib/python3.10/site-packages/xarray/core/formatting.py\", line 377, in <listcomp>\n",
      "    summary += [\n",
      "  File \"/Users/anissaz/miniconda3/envs/uxsandbox/lib/python3.10/_collections_abc.py\", line 911, in __iter__\n",
      "    yield (key, self._mapping[key])\n",
      "  File \"/Users/anissaz/miniconda3/envs/uxsandbox/lib/python3.10/site-packages/xarray/core/dataset.py\", line 384, in __getitem__\n",
      "    return cast(\"DataArray\", self._dataset[key])\n",
      "  File \"/Users/anissaz/Desktop/Raijin/uxarray/uxarray/core/dataset.py\", line 61, in __getitem__\n",
      "    xarr = super().__getitem__(key)\n",
      "  File \"/Users/anissaz/miniconda3/envs/uxsandbox/lib/python3.10/site-packages/xarray/core/dataset.py\", line 1438, in __getitem__\n",
      "    return self._construct_dataarray(key)\n",
      "  File \"/Users/anissaz/Desktop/Raijin/uxarray/uxarray/core/dataset.py\", line 54, in _construct_dataarray\n",
      "    return UxDataArray(xarr, uxgrid=self.uxgrid)\n",
      "  File \"/Users/anissaz/miniconda3/envs/uxsandbox/lib/python3.10/site-packages/xarray/core/common.py\", line 276, in __getattr__\n",
      "    raise AttributeError(\n",
      "AttributeError: 'UxDataset' object has no attribute 'uxgrid'\n"
     ]
    }
   ],
   "source": [
    "compare_outputs(ds, uxds, '__pow__', 2)"
   ]
  },
  {
   "cell_type": "code",
   "execution_count": 101,
   "metadata": {},
   "outputs": [
    {
     "name": "stdout",
     "output_type": "stream",
     "text": [
      "Parent Class Method Output:\n",
      "<xarray.Dataset>\n",
      "Dimensions:           (nMesh2_face: 5400, nMaxMesh2_face_nodes: 4,\n",
      "                       nMesh2_node: 5402)\n",
      "Dimensions without coordinates: nMesh2_face, nMaxMesh2_face_nodes, nMesh2_node\n",
      "Data variables:\n",
      "    Mesh2             int64 -2147483645\n",
      "    Mesh2_face_nodes  (nMesh2_face, nMaxMesh2_face_nodes) float64 2.0 ... 300.0\n",
      "    Mesh2_node_x      (nMesh2_node) float64 317.0 47.0 137.0 ... 140.0 137.0\n",
      "    Mesh2_node_y      (nMesh2_node) float64 -33.26 -33.26 -33.26 ... 41.55 40.14\n",
      "\n",
      "Child Class Method Output:\n",
      "None\n"
     ]
    },
    {
     "name": "stderr",
     "output_type": "stream",
     "text": [
      "Traceback (most recent call last):\n",
      "  File \"/var/folders/s9/t24bbhy92td3s9sd0d79t5255788jd/T/ipykernel_82201/3945707164.py\", line 31, in compare_outputs\n",
      "    print(child_method(*args, **kwargs))\n",
      "  File \"/Users/anissaz/miniconda3/envs/uxsandbox/lib/python3.10/site-packages/xarray/core/dataset.py\", line 2116, in __repr__\n",
      "    return formatting.dataset_repr(self)\n",
      "  File \"/Users/anissaz/miniconda3/envs/uxsandbox/lib/python3.10/reprlib.py\", line 21, in wrapper\n",
      "    result = user_function(self)\n",
      "  File \"/Users/anissaz/miniconda3/envs/uxsandbox/lib/python3.10/site-packages/xarray/core/formatting.py\", line 673, in dataset_repr\n",
      "    summary.append(data_vars_repr(ds.data_vars, col_width=col_width, max_rows=max_rows))\n",
      "  File \"/Users/anissaz/miniconda3/envs/uxsandbox/lib/python3.10/site-packages/xarray/core/formatting.py\", line 377, in _mapping_repr\n",
      "    summary += [\n",
      "  File \"/Users/anissaz/miniconda3/envs/uxsandbox/lib/python3.10/site-packages/xarray/core/formatting.py\", line 377, in <listcomp>\n",
      "    summary += [\n",
      "  File \"/Users/anissaz/miniconda3/envs/uxsandbox/lib/python3.10/_collections_abc.py\", line 911, in __iter__\n",
      "    yield (key, self._mapping[key])\n",
      "  File \"/Users/anissaz/miniconda3/envs/uxsandbox/lib/python3.10/site-packages/xarray/core/dataset.py\", line 384, in __getitem__\n",
      "    return cast(\"DataArray\", self._dataset[key])\n",
      "  File \"/Users/anissaz/Desktop/Raijin/uxarray/uxarray/core/dataset.py\", line 61, in __getitem__\n",
      "    xarr = super().__getitem__(key)\n",
      "  File \"/Users/anissaz/miniconda3/envs/uxsandbox/lib/python3.10/site-packages/xarray/core/dataset.py\", line 1438, in __getitem__\n",
      "    return self._construct_dataarray(key)\n",
      "  File \"/Users/anissaz/Desktop/Raijin/uxarray/uxarray/core/dataset.py\", line 54, in _construct_dataarray\n",
      "    return UxDataArray(xarr, uxgrid=self.uxgrid)\n",
      "  File \"/Users/anissaz/miniconda3/envs/uxsandbox/lib/python3.10/site-packages/xarray/core/common.py\", line 276, in __getattr__\n",
      "    raise AttributeError(\n",
      "AttributeError: 'UxDataset' object has no attribute 'uxgrid'\n"
     ]
    }
   ],
   "source": [
    "compare_outputs(ds, uxds, '__add__', 2)"
   ]
  },
  {
   "cell_type": "code",
   "execution_count": 102,
   "metadata": {},
   "outputs": [
    {
     "name": "stdout",
     "output_type": "stream",
     "text": [
      "Parent Class Method Output:\n",
      "<xarray.Dataset>\n",
      "Dimensions:           (nMesh2_face: 5400, nMaxMesh2_face_nodes: 4,\n",
      "                       nMesh2_node: 5402)\n",
      "Dimensions without coordinates: nMesh2_face, nMaxMesh2_face_nodes, nMesh2_node\n",
      "Data variables:\n",
      "    Mesh2             int64 -4294967294\n",
      "    Mesh2_face_nodes  (nMesh2_face, nMaxMesh2_face_nodes) float64 0.0 ... 596.0\n",
      "    Mesh2_node_x      (nMesh2_node) float64 630.0 90.0 270.0 ... 276.1 270.0\n",
      "    Mesh2_node_y      (nMesh2_node) float64 -70.53 -70.53 -70.53 ... 79.1 76.29\n",
      "\n",
      "Child Class Method Output:\n",
      "None\n"
     ]
    },
    {
     "name": "stderr",
     "output_type": "stream",
     "text": [
      "Traceback (most recent call last):\n",
      "  File \"/var/folders/s9/t24bbhy92td3s9sd0d79t5255788jd/T/ipykernel_82201/3945707164.py\", line 31, in compare_outputs\n",
      "    print(child_method(*args, **kwargs))\n",
      "  File \"/Users/anissaz/miniconda3/envs/uxsandbox/lib/python3.10/site-packages/xarray/core/dataset.py\", line 2116, in __repr__\n",
      "    return formatting.dataset_repr(self)\n",
      "  File \"/Users/anissaz/miniconda3/envs/uxsandbox/lib/python3.10/reprlib.py\", line 21, in wrapper\n",
      "    result = user_function(self)\n",
      "  File \"/Users/anissaz/miniconda3/envs/uxsandbox/lib/python3.10/site-packages/xarray/core/formatting.py\", line 673, in dataset_repr\n",
      "    summary.append(data_vars_repr(ds.data_vars, col_width=col_width, max_rows=max_rows))\n",
      "  File \"/Users/anissaz/miniconda3/envs/uxsandbox/lib/python3.10/site-packages/xarray/core/formatting.py\", line 377, in _mapping_repr\n",
      "    summary += [\n",
      "  File \"/Users/anissaz/miniconda3/envs/uxsandbox/lib/python3.10/site-packages/xarray/core/formatting.py\", line 377, in <listcomp>\n",
      "    summary += [\n",
      "  File \"/Users/anissaz/miniconda3/envs/uxsandbox/lib/python3.10/_collections_abc.py\", line 911, in __iter__\n",
      "    yield (key, self._mapping[key])\n",
      "  File \"/Users/anissaz/miniconda3/envs/uxsandbox/lib/python3.10/site-packages/xarray/core/dataset.py\", line 384, in __getitem__\n",
      "    return cast(\"DataArray\", self._dataset[key])\n",
      "  File \"/Users/anissaz/Desktop/Raijin/uxarray/uxarray/core/dataset.py\", line 61, in __getitem__\n",
      "    xarr = super().__getitem__(key)\n",
      "  File \"/Users/anissaz/miniconda3/envs/uxsandbox/lib/python3.10/site-packages/xarray/core/dataset.py\", line 1438, in __getitem__\n",
      "    return self._construct_dataarray(key)\n",
      "  File \"/Users/anissaz/Desktop/Raijin/uxarray/uxarray/core/dataset.py\", line 54, in _construct_dataarray\n",
      "    return UxDataArray(xarr, uxgrid=self.uxgrid)\n",
      "  File \"/Users/anissaz/miniconda3/envs/uxsandbox/lib/python3.10/site-packages/xarray/core/common.py\", line 276, in __getattr__\n",
      "    raise AttributeError(\n",
      "AttributeError: 'UxDataset' object has no attribute 'uxgrid'\n"
     ]
    }
   ],
   "source": [
    "compare_outputs(ds, uxds, '__mul__', 2)"
   ]
  },
  {
   "cell_type": "code",
   "execution_count": 122,
   "metadata": {},
   "outputs": [
    {
     "name": "stdout",
     "output_type": "stream",
     "text": [
      "Parent Class Method Output:\n",
      "<xarray.Dataset>\n",
      "Dimensions:           (nMesh2_face: 5400, nMaxMesh2_face_nodes: 4,\n",
      "                       nMesh2_node: 5402)\n",
      "Dimensions without coordinates: nMesh2_face, nMaxMesh2_face_nodes, nMesh2_node\n",
      "Data variables:\n",
      "    Mesh2             int32 -2147483647\n",
      "    Mesh2_face_nodes  (nMesh2_face, nMaxMesh2_face_nodes) float64 0.0 ... 298.0\n",
      "    Mesh2_node_x      (nMesh2_node) float64 315.0 45.0 135.0 ... 138.0 135.0\n",
      "    Mesh2_node_y      (nMesh2_node) float64 -35.26 -35.26 -35.26 ... 39.55 38.14\n",
      "\n",
      "Child Class Method Output:\n",
      "<xarray.UxDataset>\n",
      "Dimensions:  (ncol: 5400)\n",
      "Dimensions without coordinates: ncol\n",
      "Data variables:\n",
      "    var2     (ncol) float64 1.351 1.331 1.31 1.289 ... 0.7121 0.6909 0.67 0.6495\n",
      "\n",
      "\n"
     ]
    }
   ],
   "source": [
    "compare_outputs(ds, uxds, '__str__')"
   ]
  },
  {
   "cell_type": "code",
   "execution_count": 121,
   "metadata": {},
   "outputs": [
    {
     "name": "stdout",
     "output_type": "stream",
     "text": [
      "Parent Class Method Output:\n",
      "<xarray.Dataset>\n",
      "Dimensions:           (nMesh2_face: 5400, nMaxMesh2_face_nodes: 4,\n",
      "                       nMesh2_node: 5402)\n",
      "Dimensions without coordinates: nMesh2_face, nMaxMesh2_face_nodes, nMesh2_node\n",
      "Data variables:\n",
      "    Mesh2             int64 -2147483649\n",
      "    Mesh2_face_nodes  (nMesh2_face, nMaxMesh2_face_nodes) float64 -2.0 ... 296.0\n",
      "    Mesh2_node_x      (nMesh2_node) float64 313.0 43.0 133.0 ... 136.0 133.0\n",
      "    Mesh2_node_y      (nMesh2_node) float64 -37.26 -37.26 -37.26 ... 37.55 36.14\n",
      "\n",
      "Child Class Method Output:\n",
      "None\n"
     ]
    },
    {
     "name": "stderr",
     "output_type": "stream",
     "text": [
      "Traceback (most recent call last):\n",
      "  File \"/var/folders/s9/t24bbhy92td3s9sd0d79t5255788jd/T/ipykernel_82201/3945707164.py\", line 31, in compare_outputs\n",
      "    print(child_method(*args, **kwargs))\n",
      "  File \"/Users/anissaz/miniconda3/envs/uxsandbox/lib/python3.10/site-packages/xarray/core/dataset.py\", line 2116, in __repr__\n",
      "    return formatting.dataset_repr(self)\n",
      "  File \"/Users/anissaz/miniconda3/envs/uxsandbox/lib/python3.10/reprlib.py\", line 21, in wrapper\n",
      "    result = user_function(self)\n",
      "  File \"/Users/anissaz/miniconda3/envs/uxsandbox/lib/python3.10/site-packages/xarray/core/formatting.py\", line 673, in dataset_repr\n",
      "    summary.append(data_vars_repr(ds.data_vars, col_width=col_width, max_rows=max_rows))\n",
      "  File \"/Users/anissaz/miniconda3/envs/uxsandbox/lib/python3.10/site-packages/xarray/core/formatting.py\", line 377, in _mapping_repr\n",
      "    summary += [\n",
      "  File \"/Users/anissaz/miniconda3/envs/uxsandbox/lib/python3.10/site-packages/xarray/core/formatting.py\", line 377, in <listcomp>\n",
      "    summary += [\n",
      "  File \"/Users/anissaz/miniconda3/envs/uxsandbox/lib/python3.10/_collections_abc.py\", line 911, in __iter__\n",
      "    yield (key, self._mapping[key])\n",
      "  File \"/Users/anissaz/miniconda3/envs/uxsandbox/lib/python3.10/site-packages/xarray/core/dataset.py\", line 384, in __getitem__\n",
      "    return cast(\"DataArray\", self._dataset[key])\n",
      "  File \"/Users/anissaz/Desktop/Raijin/uxarray/uxarray/core/dataset.py\", line 61, in __getitem__\n",
      "    xarr = super().__getitem__(key)\n",
      "  File \"/Users/anissaz/miniconda3/envs/uxsandbox/lib/python3.10/site-packages/xarray/core/dataset.py\", line 1438, in __getitem__\n",
      "    return self._construct_dataarray(key)\n",
      "  File \"/Users/anissaz/Desktop/Raijin/uxarray/uxarray/core/dataset.py\", line 54, in _construct_dataarray\n",
      "    return UxDataArray(xarr, uxgrid=self.uxgrid)\n",
      "  File \"/Users/anissaz/miniconda3/envs/uxsandbox/lib/python3.10/site-packages/xarray/core/common.py\", line 276, in __getattr__\n",
      "    raise AttributeError(\n",
      "AttributeError: 'UxDataset' object has no attribute 'uxgrid'\n"
     ]
    }
   ],
   "source": [
    "compare_outputs(ds, uxds, '__sub__', 2)"
   ]
  },
  {
   "cell_type": "code",
   "execution_count": 124,
   "metadata": {},
   "outputs": [
    {
     "name": "stdout",
     "output_type": "stream",
     "text": [
      "Parent Class Method Output:\n",
      "<xarray.Dataset>\n",
      "Dimensions:           (nMesh2_face: 5400, nMaxMesh2_face_nodes: 4,\n",
      "                       nMesh2_node: 5402)\n",
      "Dimensions without coordinates: nMesh2_face, nMaxMesh2_face_nodes, nMesh2_node\n",
      "Data variables:\n",
      "    Mesh2             float64 -1.074e+09\n",
      "    Mesh2_face_nodes  (nMesh2_face, nMaxMesh2_face_nodes) float64 0.0 ... 149.0\n",
      "    Mesh2_node_x      (nMesh2_node) float64 157.5 22.5 67.5 ... 70.55 69.02 67.5\n",
      "    Mesh2_node_y      (nMesh2_node) float64 -17.63 -17.63 -17.63 ... 19.77 19.07\n",
      "\n",
      "Child Class Method Output:\n",
      "None\n"
     ]
    },
    {
     "name": "stderr",
     "output_type": "stream",
     "text": [
      "Traceback (most recent call last):\n",
      "  File \"/var/folders/s9/t24bbhy92td3s9sd0d79t5255788jd/T/ipykernel_82201/3945707164.py\", line 31, in compare_outputs\n",
      "    print(child_method(*args, **kwargs))\n",
      "  File \"/Users/anissaz/miniconda3/envs/uxsandbox/lib/python3.10/site-packages/xarray/core/dataset.py\", line 2116, in __repr__\n",
      "    return formatting.dataset_repr(self)\n",
      "  File \"/Users/anissaz/miniconda3/envs/uxsandbox/lib/python3.10/reprlib.py\", line 21, in wrapper\n",
      "    result = user_function(self)\n",
      "  File \"/Users/anissaz/miniconda3/envs/uxsandbox/lib/python3.10/site-packages/xarray/core/formatting.py\", line 673, in dataset_repr\n",
      "    summary.append(data_vars_repr(ds.data_vars, col_width=col_width, max_rows=max_rows))\n",
      "  File \"/Users/anissaz/miniconda3/envs/uxsandbox/lib/python3.10/site-packages/xarray/core/formatting.py\", line 377, in _mapping_repr\n",
      "    summary += [\n",
      "  File \"/Users/anissaz/miniconda3/envs/uxsandbox/lib/python3.10/site-packages/xarray/core/formatting.py\", line 377, in <listcomp>\n",
      "    summary += [\n",
      "  File \"/Users/anissaz/miniconda3/envs/uxsandbox/lib/python3.10/_collections_abc.py\", line 911, in __iter__\n",
      "    yield (key, self._mapping[key])\n",
      "  File \"/Users/anissaz/miniconda3/envs/uxsandbox/lib/python3.10/site-packages/xarray/core/dataset.py\", line 384, in __getitem__\n",
      "    return cast(\"DataArray\", self._dataset[key])\n",
      "  File \"/Users/anissaz/Desktop/Raijin/uxarray/uxarray/core/dataset.py\", line 61, in __getitem__\n",
      "    xarr = super().__getitem__(key)\n",
      "  File \"/Users/anissaz/miniconda3/envs/uxsandbox/lib/python3.10/site-packages/xarray/core/dataset.py\", line 1438, in __getitem__\n",
      "    return self._construct_dataarray(key)\n",
      "  File \"/Users/anissaz/Desktop/Raijin/uxarray/uxarray/core/dataset.py\", line 54, in _construct_dataarray\n",
      "    return UxDataArray(xarr, uxgrid=self.uxgrid)\n",
      "  File \"/Users/anissaz/miniconda3/envs/uxsandbox/lib/python3.10/site-packages/xarray/core/common.py\", line 276, in __getattr__\n",
      "    raise AttributeError(\n",
      "AttributeError: 'UxDataset' object has no attribute 'uxgrid'\n"
     ]
    }
   ],
   "source": [
    "compare_outputs(ds, uxds, '__truediv__', 2)"
   ]
  },
  {
   "cell_type": "code",
   "execution_count": 125,
   "metadata": {},
   "outputs": [
    {
     "name": "stdout",
     "output_type": "stream",
     "text": [
      "Parent Class Method Output:\n",
      "None\n",
      "\n",
      "Child Class Method Output:\n",
      "None\n",
      "\n",
      "\n"
     ]
    }
   ],
   "source": [
    "compare_outputs(ds, uxds, '__weakref__')"
   ]
  },
  {
   "cell_type": "code",
   "execution_count": 126,
   "metadata": {},
   "outputs": [
    {
     "name": "stdout",
     "output_type": "stream",
     "text": [
      "Parent Class Method Output:\n",
      "<_abc._abc_data object at 0x107fc2c00>\n",
      "\n",
      "Child Class Method Output:\n",
      "<_abc._abc_data object at 0x108a9d180>\n",
      "\n",
      "\n"
     ]
    }
   ],
   "source": [
    "compare_outputs(ds, uxds, '_abc_impl')"
   ]
  },
  {
   "cell_type": "code",
   "execution_count": 128,
   "metadata": {},
   "outputs": [
    {
     "name": "stdout",
     "output_type": "stream",
     "text": [
      "Parent Class Method Output:\n",
      "<generator object Dataset._attr_sources at 0x10fa162d0>\n",
      "\n",
      "Child Class Method Output:\n",
      "<generator object Dataset._attr_sources at 0x10fa163b0>\n",
      "\n",
      "\n"
     ]
    }
   ],
   "source": [
    "compare_outputs(ds, uxds, '_attr_sources')"
   ]
  },
  {
   "cell_type": "code",
   "execution_count": 129,
   "metadata": {},
   "outputs": [
    {
     "name": "stdout",
     "output_type": "stream",
     "text": [
      "Parent Class Method Output:\n",
      "{}\n",
      "\n",
      "Child Class Method Output:\n",
      "{}\n",
      "\n",
      "\n"
     ]
    }
   ],
   "source": [
    "compare_outputs(ds, uxds, '_attrs')"
   ]
  },
  {
   "cell_type": "code",
   "execution_count": 138,
   "metadata": {},
   "outputs": [
    {
     "name": "stdout",
     "output_type": "stream",
     "text": [
      "Parent Class Method Output:\n",
      "set()\n",
      "\n",
      "Child Class Method Output:\n",
      "set()\n",
      "\n",
      "\n"
     ]
    }
   ],
   "source": [
    "compare_outputs(ds, uxds, '_coord_names')"
   ]
  },
  {
   "cell_type": "code",
   "execution_count": 139,
   "metadata": {},
   "outputs": [
    {
     "name": "stdout",
     "output_type": "stream",
     "text": [
      "Parent Class Method Output:\n",
      "<generator object Dataset._item_sources at 0x10fa15690>\n",
      "\n",
      "Child Class Method Output:\n",
      "<generator object Dataset._item_sources at 0x10fa157e0>\n",
      "\n",
      "\n"
     ]
    }
   ],
   "source": [
    "compare_outputs(ds, uxds, '_item_sources')"
   ]
  },
  {
   "cell_type": "code",
   "execution_count": 140,
   "metadata": {},
   "outputs": [
    {
     "name": "stdout",
     "output_type": "stream",
     "text": [
      "Parent Class Method Output:\n",
      "{'nMesh2_face': 5400, 'nMaxMesh2_face_nodes': 4, 'nMesh2_node': 5402}\n",
      "\n",
      "Child Class Method Output:\n",
      "{'ncol': 5400}\n",
      "\n",
      "\n"
     ]
    }
   ],
   "source": [
    "compare_outputs(ds, uxds, '_normalize_dim_order')"
   ]
  },
  {
   "cell_type": "code",
   "execution_count": 142,
   "metadata": {},
   "outputs": [
    {
     "name": "stdout",
     "output_type": "stream",
     "text": [
      "Parent Class Method Output:\n",
      "<xarray.Dataset>\n",
      "Dimensions:           (nMesh2_face: 5400, nMaxMesh2_face_nodes: 4,\n",
      "                       nMesh2_node: 5402)\n",
      "Dimensions without coordinates: nMesh2_face, nMaxMesh2_face_nodes, nMesh2_node\n",
      "Data variables:\n",
      "    Mesh2             int32 -2147483647\n",
      "    Mesh2_face_nodes  (nMesh2_face, nMaxMesh2_face_nodes) float64 0.0 ... 298.0\n",
      "    Mesh2_node_x      (nMesh2_node) float64 315.0 45.0 135.0 ... 138.0 135.0\n",
      "    Mesh2_node_y      (nMesh2_node) float64 -35.26 -35.26 -35.26 ... 39.55 38.14\n",
      "\n",
      "Child Class Method Output:\n",
      "None\n"
     ]
    },
    {
     "name": "stderr",
     "output_type": "stream",
     "text": [
      "Traceback (most recent call last):\n",
      "  File \"/var/folders/s9/t24bbhy92td3s9sd0d79t5255788jd/T/ipykernel_82201/3945707164.py\", line 31, in compare_outputs\n",
      "    print(child_method(*args, **kwargs))\n",
      "  File \"/Users/anissaz/miniconda3/envs/uxsandbox/lib/python3.10/site-packages/xarray/core/dataset.py\", line 2116, in __repr__\n",
      "    return formatting.dataset_repr(self)\n",
      "  File \"/Users/anissaz/miniconda3/envs/uxsandbox/lib/python3.10/reprlib.py\", line 21, in wrapper\n",
      "    result = user_function(self)\n",
      "  File \"/Users/anissaz/miniconda3/envs/uxsandbox/lib/python3.10/site-packages/xarray/core/formatting.py\", line 673, in dataset_repr\n",
      "    summary.append(data_vars_repr(ds.data_vars, col_width=col_width, max_rows=max_rows))\n",
      "  File \"/Users/anissaz/miniconda3/envs/uxsandbox/lib/python3.10/site-packages/xarray/core/formatting.py\", line 377, in _mapping_repr\n",
      "    summary += [\n",
      "  File \"/Users/anissaz/miniconda3/envs/uxsandbox/lib/python3.10/site-packages/xarray/core/formatting.py\", line 377, in <listcomp>\n",
      "    summary += [\n",
      "  File \"/Users/anissaz/miniconda3/envs/uxsandbox/lib/python3.10/_collections_abc.py\", line 911, in __iter__\n",
      "    yield (key, self._mapping[key])\n",
      "  File \"/Users/anissaz/miniconda3/envs/uxsandbox/lib/python3.10/site-packages/xarray/core/dataset.py\", line 384, in __getitem__\n",
      "    return cast(\"DataArray\", self._dataset[key])\n",
      "  File \"/Users/anissaz/Desktop/Raijin/uxarray/uxarray/core/dataset.py\", line 61, in __getitem__\n",
      "    xarr = super().__getitem__(key)\n",
      "  File \"/Users/anissaz/miniconda3/envs/uxsandbox/lib/python3.10/site-packages/xarray/core/dataset.py\", line 1438, in __getitem__\n",
      "    return self._construct_dataarray(key)\n",
      "  File \"/Users/anissaz/Desktop/Raijin/uxarray/uxarray/core/dataset.py\", line 54, in _construct_dataarray\n",
      "    return UxDataArray(xarr, uxgrid=self.uxgrid)\n",
      "  File \"/Users/anissaz/miniconda3/envs/uxsandbox/lib/python3.10/site-packages/xarray/core/common.py\", line 276, in __getattr__\n",
      "    raise AttributeError(\n",
      "AttributeError: 'UxDataset' object has no attribute 'uxgrid'\n"
     ]
    }
   ],
   "source": [
    "compare_outputs(ds, uxds, '_reindex')"
   ]
  },
  {
   "cell_type": "code",
   "execution_count": 143,
   "metadata": {},
   "outputs": [
    {
     "name": "stdout",
     "output_type": "stream",
     "text": [
      "Parent Class Method Output:\n",
      "<xarray.Dataset>\n",
      "Dimensions:           (nMesh2_face: 5400, nMaxMesh2_face_nodes: 4,\n",
      "                       nMesh2_node: 5402)\n",
      "Dimensions without coordinates: nMesh2_face, nMaxMesh2_face_nodes, nMesh2_node\n",
      "Data variables:\n",
      "    Mesh2             int32 -2147483647\n",
      "    Mesh2_face_nodes  (nMaxMesh2_face_nodes, nMesh2_face) float64 0.0 ... 298.0\n",
      "    Mesh2_node_x      (nMesh2_node) float64 315.0 45.0 135.0 ... 138.0 135.0\n",
      "    Mesh2_node_y      (nMesh2_node) float64 -35.26 -35.26 -35.26 ... 39.55 38.14\n",
      "\n",
      "Child Class Method Output:\n",
      "None\n"
     ]
    },
    {
     "name": "stderr",
     "output_type": "stream",
     "text": [
      "Traceback (most recent call last):\n",
      "  File \"/var/folders/s9/t24bbhy92td3s9sd0d79t5255788jd/T/ipykernel_82201/3945707164.py\", line 31, in compare_outputs\n",
      "    print(child_method(*args, **kwargs))\n",
      "  File \"/Users/anissaz/miniconda3/envs/uxsandbox/lib/python3.10/site-packages/xarray/core/dataset.py\", line 2116, in __repr__\n",
      "    return formatting.dataset_repr(self)\n",
      "  File \"/Users/anissaz/miniconda3/envs/uxsandbox/lib/python3.10/reprlib.py\", line 21, in wrapper\n",
      "    result = user_function(self)\n",
      "  File \"/Users/anissaz/miniconda3/envs/uxsandbox/lib/python3.10/site-packages/xarray/core/formatting.py\", line 673, in dataset_repr\n",
      "    summary.append(data_vars_repr(ds.data_vars, col_width=col_width, max_rows=max_rows))\n",
      "  File \"/Users/anissaz/miniconda3/envs/uxsandbox/lib/python3.10/site-packages/xarray/core/formatting.py\", line 377, in _mapping_repr\n",
      "    summary += [\n",
      "  File \"/Users/anissaz/miniconda3/envs/uxsandbox/lib/python3.10/site-packages/xarray/core/formatting.py\", line 377, in <listcomp>\n",
      "    summary += [\n",
      "  File \"/Users/anissaz/miniconda3/envs/uxsandbox/lib/python3.10/_collections_abc.py\", line 911, in __iter__\n",
      "    yield (key, self._mapping[key])\n",
      "  File \"/Users/anissaz/miniconda3/envs/uxsandbox/lib/python3.10/site-packages/xarray/core/dataset.py\", line 384, in __getitem__\n",
      "    return cast(\"DataArray\", self._dataset[key])\n",
      "  File \"/Users/anissaz/Desktop/Raijin/uxarray/uxarray/core/dataset.py\", line 61, in __getitem__\n",
      "    xarr = super().__getitem__(key)\n",
      "  File \"/Users/anissaz/miniconda3/envs/uxsandbox/lib/python3.10/site-packages/xarray/core/dataset.py\", line 1438, in __getitem__\n",
      "    return self._construct_dataarray(key)\n",
      "  File \"/Users/anissaz/Desktop/Raijin/uxarray/uxarray/core/dataset.py\", line 54, in _construct_dataarray\n",
      "    return UxDataArray(xarr, uxgrid=self.uxgrid)\n",
      "  File \"/Users/anissaz/miniconda3/envs/uxsandbox/lib/python3.10/site-packages/xarray/core/common.py\", line 276, in __getattr__\n",
      "    raise AttributeError(\n",
      "AttributeError: 'UxDataset' object has no attribute 'uxgrid'\n"
     ]
    }
   ],
   "source": [
    "compare_outputs(ds, uxds, 'transpose')"
   ]
  },
  {
   "cell_type": "code",
   "execution_count": 147,
   "metadata": {},
   "outputs": [
    {
     "name": "stdout",
     "output_type": "stream",
     "text": [
      "Parent Class Method Output:\n",
      "<xarray.Dataset>\n",
      "Dimensions:           ()\n",
      "Data variables:\n",
      "    Mesh2             bool True\n",
      "    Mesh2_face_nodes  bool False\n",
      "    Mesh2_node_x      bool False\n",
      "    Mesh2_node_y      bool False\n",
      "\n",
      "Child Class Method Output:\n",
      "None\n"
     ]
    },
    {
     "name": "stderr",
     "output_type": "stream",
     "text": [
      "Traceback (most recent call last):\n",
      "  File \"/var/folders/s9/t24bbhy92td3s9sd0d79t5255788jd/T/ipykernel_82201/3945707164.py\", line 31, in compare_outputs\n",
      "    print(child_method(*args, **kwargs))\n",
      "  File \"/Users/anissaz/miniconda3/envs/uxsandbox/lib/python3.10/site-packages/xarray/core/dataset.py\", line 2116, in __repr__\n",
      "    return formatting.dataset_repr(self)\n",
      "  File \"/Users/anissaz/miniconda3/envs/uxsandbox/lib/python3.10/reprlib.py\", line 21, in wrapper\n",
      "    result = user_function(self)\n",
      "  File \"/Users/anissaz/miniconda3/envs/uxsandbox/lib/python3.10/site-packages/xarray/core/formatting.py\", line 673, in dataset_repr\n",
      "    summary.append(data_vars_repr(ds.data_vars, col_width=col_width, max_rows=max_rows))\n",
      "  File \"/Users/anissaz/miniconda3/envs/uxsandbox/lib/python3.10/site-packages/xarray/core/formatting.py\", line 377, in _mapping_repr\n",
      "    summary += [\n",
      "  File \"/Users/anissaz/miniconda3/envs/uxsandbox/lib/python3.10/site-packages/xarray/core/formatting.py\", line 377, in <listcomp>\n",
      "    summary += [\n",
      "  File \"/Users/anissaz/miniconda3/envs/uxsandbox/lib/python3.10/_collections_abc.py\", line 911, in __iter__\n",
      "    yield (key, self._mapping[key])\n",
      "  File \"/Users/anissaz/miniconda3/envs/uxsandbox/lib/python3.10/site-packages/xarray/core/dataset.py\", line 384, in __getitem__\n",
      "    return cast(\"DataArray\", self._dataset[key])\n",
      "  File \"/Users/anissaz/Desktop/Raijin/uxarray/uxarray/core/dataset.py\", line 61, in __getitem__\n",
      "    xarr = super().__getitem__(key)\n",
      "  File \"/Users/anissaz/miniconda3/envs/uxsandbox/lib/python3.10/site-packages/xarray/core/dataset.py\", line 1438, in __getitem__\n",
      "    return self._construct_dataarray(key)\n",
      "  File \"/Users/anissaz/Desktop/Raijin/uxarray/uxarray/core/dataset.py\", line 54, in _construct_dataarray\n",
      "    return UxDataArray(xarr, uxgrid=self.uxgrid)\n",
      "  File \"/Users/anissaz/miniconda3/envs/uxsandbox/lib/python3.10/site-packages/xarray/core/common.py\", line 276, in __getattr__\n",
      "    raise AttributeError(\n",
      "AttributeError: 'UxDataset' object has no attribute 'uxgrid'\n"
     ]
    }
   ],
   "source": [
    "compare_outputs(ds, uxds, 'all')"
   ]
  },
  {
   "cell_type": "code",
   "execution_count": 148,
   "metadata": {},
   "outputs": [
    {
     "name": "stdout",
     "output_type": "stream",
     "text": [
      "Parent Class Method Output:\n",
      "<xarray.Dataset>\n",
      "Dimensions:           ()\n",
      "Data variables:\n",
      "    Mesh2             bool True\n",
      "    Mesh2_face_nodes  bool True\n",
      "    Mesh2_node_x      bool True\n",
      "    Mesh2_node_y      bool True\n",
      "\n",
      "Child Class Method Output:\n",
      "None\n"
     ]
    },
    {
     "name": "stderr",
     "output_type": "stream",
     "text": [
      "Traceback (most recent call last):\n",
      "  File \"/var/folders/s9/t24bbhy92td3s9sd0d79t5255788jd/T/ipykernel_82201/3945707164.py\", line 31, in compare_outputs\n",
      "    print(child_method(*args, **kwargs))\n",
      "  File \"/Users/anissaz/miniconda3/envs/uxsandbox/lib/python3.10/site-packages/xarray/core/dataset.py\", line 2116, in __repr__\n",
      "    return formatting.dataset_repr(self)\n",
      "  File \"/Users/anissaz/miniconda3/envs/uxsandbox/lib/python3.10/reprlib.py\", line 21, in wrapper\n",
      "    result = user_function(self)\n",
      "  File \"/Users/anissaz/miniconda3/envs/uxsandbox/lib/python3.10/site-packages/xarray/core/formatting.py\", line 673, in dataset_repr\n",
      "    summary.append(data_vars_repr(ds.data_vars, col_width=col_width, max_rows=max_rows))\n",
      "  File \"/Users/anissaz/miniconda3/envs/uxsandbox/lib/python3.10/site-packages/xarray/core/formatting.py\", line 377, in _mapping_repr\n",
      "    summary += [\n",
      "  File \"/Users/anissaz/miniconda3/envs/uxsandbox/lib/python3.10/site-packages/xarray/core/formatting.py\", line 377, in <listcomp>\n",
      "    summary += [\n",
      "  File \"/Users/anissaz/miniconda3/envs/uxsandbox/lib/python3.10/_collections_abc.py\", line 911, in __iter__\n",
      "    yield (key, self._mapping[key])\n",
      "  File \"/Users/anissaz/miniconda3/envs/uxsandbox/lib/python3.10/site-packages/xarray/core/dataset.py\", line 384, in __getitem__\n",
      "    return cast(\"DataArray\", self._dataset[key])\n",
      "  File \"/Users/anissaz/Desktop/Raijin/uxarray/uxarray/core/dataset.py\", line 61, in __getitem__\n",
      "    xarr = super().__getitem__(key)\n",
      "  File \"/Users/anissaz/miniconda3/envs/uxsandbox/lib/python3.10/site-packages/xarray/core/dataset.py\", line 1438, in __getitem__\n",
      "    return self._construct_dataarray(key)\n",
      "  File \"/Users/anissaz/Desktop/Raijin/uxarray/uxarray/core/dataset.py\", line 54, in _construct_dataarray\n",
      "    return UxDataArray(xarr, uxgrid=self.uxgrid)\n",
      "  File \"/Users/anissaz/miniconda3/envs/uxsandbox/lib/python3.10/site-packages/xarray/core/common.py\", line 276, in __getattr__\n",
      "    raise AttributeError(\n",
      "AttributeError: 'UxDataset' object has no attribute 'uxgrid'\n"
     ]
    }
   ],
   "source": [
    "compare_outputs(ds, uxds, 'any')"
   ]
  },
  {
   "cell_type": "code",
   "execution_count": 149,
   "metadata": {},
   "outputs": [
    {
     "name": "stdout",
     "output_type": "stream",
     "text": [
      "Parent Class Method Output:\n",
      "<xarray.Dataset>\n",
      "Dimensions:           ()\n",
      "Data variables:\n",
      "    Mesh2             int64 0\n",
      "    Mesh2_face_nodes  int64 21474\n",
      "    Mesh2_node_x      int64 4256\n",
      "    Mesh2_node_y      int64 4981\n",
      "\n",
      "Child Class Method Output:\n",
      "None\n"
     ]
    },
    {
     "name": "stderr",
     "output_type": "stream",
     "text": [
      "/var/folders/s9/t24bbhy92td3s9sd0d79t5255788jd/T/ipykernel_82201/3945707164.py:18: DeprecationWarning: Once the behaviour of DataArray.argmin() and Variable.argmin() without dim changes to return a dict of indices of each dimension, for consistency it will be an error to call Dataset.argmin() with no argument,since we don't return a dict of Datasets.\n",
      "  print(parent_method(*args, **kwargs))\n",
      "/var/folders/s9/t24bbhy92td3s9sd0d79t5255788jd/T/ipykernel_82201/3945707164.py:31: DeprecationWarning: Once the behaviour of DataArray.argmin() and Variable.argmin() without dim changes to return a dict of indices of each dimension, for consistency it will be an error to call Dataset.argmin() with no argument,since we don't return a dict of Datasets.\n",
      "  print(child_method(*args, **kwargs))\n",
      "Traceback (most recent call last):\n",
      "  File \"/var/folders/s9/t24bbhy92td3s9sd0d79t5255788jd/T/ipykernel_82201/3945707164.py\", line 31, in compare_outputs\n",
      "    print(child_method(*args, **kwargs))\n",
      "  File \"/Users/anissaz/miniconda3/envs/uxsandbox/lib/python3.10/site-packages/xarray/core/dataset.py\", line 2116, in __repr__\n",
      "    return formatting.dataset_repr(self)\n",
      "  File \"/Users/anissaz/miniconda3/envs/uxsandbox/lib/python3.10/reprlib.py\", line 21, in wrapper\n",
      "    result = user_function(self)\n",
      "  File \"/Users/anissaz/miniconda3/envs/uxsandbox/lib/python3.10/site-packages/xarray/core/formatting.py\", line 673, in dataset_repr\n",
      "    summary.append(data_vars_repr(ds.data_vars, col_width=col_width, max_rows=max_rows))\n",
      "  File \"/Users/anissaz/miniconda3/envs/uxsandbox/lib/python3.10/site-packages/xarray/core/formatting.py\", line 377, in _mapping_repr\n",
      "    summary += [\n",
      "  File \"/Users/anissaz/miniconda3/envs/uxsandbox/lib/python3.10/site-packages/xarray/core/formatting.py\", line 377, in <listcomp>\n",
      "    summary += [\n",
      "  File \"/Users/anissaz/miniconda3/envs/uxsandbox/lib/python3.10/_collections_abc.py\", line 911, in __iter__\n",
      "    yield (key, self._mapping[key])\n",
      "  File \"/Users/anissaz/miniconda3/envs/uxsandbox/lib/python3.10/site-packages/xarray/core/dataset.py\", line 384, in __getitem__\n",
      "    return cast(\"DataArray\", self._dataset[key])\n",
      "  File \"/Users/anissaz/Desktop/Raijin/uxarray/uxarray/core/dataset.py\", line 61, in __getitem__\n",
      "    xarr = super().__getitem__(key)\n",
      "  File \"/Users/anissaz/miniconda3/envs/uxsandbox/lib/python3.10/site-packages/xarray/core/dataset.py\", line 1438, in __getitem__\n",
      "    return self._construct_dataarray(key)\n",
      "  File \"/Users/anissaz/Desktop/Raijin/uxarray/uxarray/core/dataset.py\", line 54, in _construct_dataarray\n",
      "    return UxDataArray(xarr, uxgrid=self.uxgrid)\n",
      "  File \"/Users/anissaz/miniconda3/envs/uxsandbox/lib/python3.10/site-packages/xarray/core/common.py\", line 276, in __getattr__\n",
      "    raise AttributeError(\n",
      "AttributeError: 'UxDataset' object has no attribute 'uxgrid'\n"
     ]
    }
   ],
   "source": [
    "compare_outputs(ds, uxds, 'argmax')"
   ]
  },
  {
   "cell_type": "code",
   "execution_count": 150,
   "metadata": {},
   "outputs": [
    {
     "name": "stdout",
     "output_type": "stream",
     "text": [
      "Parent Class Method Output:\n",
      "<xarray.Dataset>\n",
      "Dimensions:           ()\n",
      "Data variables:\n",
      "    Mesh2             int64 0\n",
      "    Mesh2_face_nodes  int64 0\n",
      "    Mesh2_node_x      int64 22\n",
      "    Mesh2_node_y      int64 4140\n",
      "\n",
      "Child Class Method Output:\n",
      "None\n"
     ]
    },
    {
     "name": "stderr",
     "output_type": "stream",
     "text": [
      "/var/folders/s9/t24bbhy92td3s9sd0d79t5255788jd/T/ipykernel_82201/3945707164.py:18: DeprecationWarning: Once the behaviour of DataArray.argmin() and Variable.argmin() without dim changes to return a dict of indices of each dimension, for consistency it will be an error to call Dataset.argmin() with no argument,since we don't return a dict of Datasets.\n",
      "  print(parent_method(*args, **kwargs))\n",
      "/var/folders/s9/t24bbhy92td3s9sd0d79t5255788jd/T/ipykernel_82201/3945707164.py:31: DeprecationWarning: Once the behaviour of DataArray.argmin() and Variable.argmin() without dim changes to return a dict of indices of each dimension, for consistency it will be an error to call Dataset.argmin() with no argument,since we don't return a dict of Datasets.\n",
      "  print(child_method(*args, **kwargs))\n",
      "Traceback (most recent call last):\n",
      "  File \"/var/folders/s9/t24bbhy92td3s9sd0d79t5255788jd/T/ipykernel_82201/3945707164.py\", line 31, in compare_outputs\n",
      "    print(child_method(*args, **kwargs))\n",
      "  File \"/Users/anissaz/miniconda3/envs/uxsandbox/lib/python3.10/site-packages/xarray/core/dataset.py\", line 2116, in __repr__\n",
      "    return formatting.dataset_repr(self)\n",
      "  File \"/Users/anissaz/miniconda3/envs/uxsandbox/lib/python3.10/reprlib.py\", line 21, in wrapper\n",
      "    result = user_function(self)\n",
      "  File \"/Users/anissaz/miniconda3/envs/uxsandbox/lib/python3.10/site-packages/xarray/core/formatting.py\", line 673, in dataset_repr\n",
      "    summary.append(data_vars_repr(ds.data_vars, col_width=col_width, max_rows=max_rows))\n",
      "  File \"/Users/anissaz/miniconda3/envs/uxsandbox/lib/python3.10/site-packages/xarray/core/formatting.py\", line 377, in _mapping_repr\n",
      "    summary += [\n",
      "  File \"/Users/anissaz/miniconda3/envs/uxsandbox/lib/python3.10/site-packages/xarray/core/formatting.py\", line 377, in <listcomp>\n",
      "    summary += [\n",
      "  File \"/Users/anissaz/miniconda3/envs/uxsandbox/lib/python3.10/_collections_abc.py\", line 911, in __iter__\n",
      "    yield (key, self._mapping[key])\n",
      "  File \"/Users/anissaz/miniconda3/envs/uxsandbox/lib/python3.10/site-packages/xarray/core/dataset.py\", line 384, in __getitem__\n",
      "    return cast(\"DataArray\", self._dataset[key])\n",
      "  File \"/Users/anissaz/Desktop/Raijin/uxarray/uxarray/core/dataset.py\", line 61, in __getitem__\n",
      "    xarr = super().__getitem__(key)\n",
      "  File \"/Users/anissaz/miniconda3/envs/uxsandbox/lib/python3.10/site-packages/xarray/core/dataset.py\", line 1438, in __getitem__\n",
      "    return self._construct_dataarray(key)\n",
      "  File \"/Users/anissaz/Desktop/Raijin/uxarray/uxarray/core/dataset.py\", line 54, in _construct_dataarray\n",
      "    return UxDataArray(xarr, uxgrid=self.uxgrid)\n",
      "  File \"/Users/anissaz/miniconda3/envs/uxsandbox/lib/python3.10/site-packages/xarray/core/common.py\", line 276, in __getattr__\n",
      "    raise AttributeError(\n",
      "AttributeError: 'UxDataset' object has no attribute 'uxgrid'\n"
     ]
    }
   ],
   "source": [
    "compare_outputs(ds, uxds, 'argmin')"
   ]
  },
  {
   "cell_type": "code",
   "execution_count": 151,
   "metadata": {},
   "outputs": [
    {
     "name": "stdout",
     "output_type": "stream",
     "text": [
      "Parent Class Method Output:\n",
      "None\n"
     ]
    },
    {
     "name": "stderr",
     "output_type": "stream",
     "text": [
      "Traceback (most recent call last):\n",
      "  File \"/var/folders/s9/t24bbhy92td3s9sd0d79t5255788jd/T/ipykernel_82201/3945707164.py\", line 18, in compare_outputs\n",
      "    print(parent_method(*args, **kwargs))\n",
      "  File \"/Users/anissaz/miniconda3/envs/uxsandbox/lib/python3.10/site-packages/xarray/core/_typed_ops.py\", line 145, in argsort\n",
      "    return self._unary_op(ops.argsort, *args, **kwargs)\n",
      "  File \"/Users/anissaz/miniconda3/envs/uxsandbox/lib/python3.10/site-packages/xarray/core/dataset.py\", line 6583, in _unary_op\n",
      "    variables[k] = f(v, *args, **kwargs)\n",
      "  File \"/Users/anissaz/miniconda3/envs/uxsandbox/lib/python3.10/site-packages/xarray/core/ops.py\", line 212, in func\n",
      "    return _call_possibly_missing_method(self, name, args, kwargs)\n",
      "  File \"/Users/anissaz/miniconda3/envs/uxsandbox/lib/python3.10/site-packages/xarray/core/ops.py\", line 198, in _call_possibly_missing_method\n",
      "    return method(*args, **kwargs)\n",
      "  File \"/Users/anissaz/miniconda3/envs/uxsandbox/lib/python3.10/site-packages/xarray/core/_typed_ops.py\", line 525, in argsort\n",
      "    return self._unary_op(ops.argsort, *args, **kwargs)\n",
      "  File \"/Users/anissaz/miniconda3/envs/uxsandbox/lib/python3.10/site-packages/xarray/core/variable.py\", line 2638, in _unary_op\n",
      "    result = self.__array_wrap__(f(self.data, *args, **kwargs))\n",
      "  File \"/Users/anissaz/miniconda3/envs/uxsandbox/lib/python3.10/site-packages/xarray/core/variable.py\", line 2631, in __array_wrap__\n",
      "    return Variable(self.dims, obj)\n",
      "  File \"/Users/anissaz/miniconda3/envs/uxsandbox/lib/python3.10/site-packages/xarray/core/variable.py\", line 362, in __init__\n",
      "    self._dims = self._parse_dimensions(dims)\n",
      "  File \"/Users/anissaz/miniconda3/envs/uxsandbox/lib/python3.10/site-packages/xarray/core/variable.py\", line 659, in _parse_dimensions\n",
      "    raise ValueError(\n",
      "ValueError: dimensions () must have the same length as the number of data dimensions, ndim=1\n"
     ]
    }
   ],
   "source": [
    "compare_outputs(ds, uxds, 'argsort')"
   ]
  },
  {
   "cell_type": "code",
   "execution_count": 152,
   "metadata": {},
   "outputs": [
    {
     "name": "stdout",
     "output_type": "stream",
     "text": [
      "Parent Class Method Output:\n",
      "<xarray.Dataset>\n",
      "Dimensions:           (nMesh2_face: 5400, nMaxMesh2_face_nodes: 4,\n",
      "                       nMesh2_node: 5402)\n",
      "Dimensions without coordinates: nMesh2_face, nMaxMesh2_face_nodes, nMesh2_node\n",
      "Data variables:\n",
      "    Mesh2             int32 -2147483647\n",
      "    Mesh2_face_nodes  (nMesh2_face, nMaxMesh2_face_nodes) float64 0.0 ... 298.0\n",
      "    Mesh2_node_x      (nMesh2_node) float64 315.0 45.0 135.0 ... 138.0 135.0\n",
      "    Mesh2_node_y      (nMesh2_node) float64 -35.26 -35.26 -35.26 ... 39.55 38.14\n",
      "\n",
      "Child Class Method Output:\n",
      "None\n"
     ]
    },
    {
     "name": "stderr",
     "output_type": "stream",
     "text": [
      "Traceback (most recent call last):\n",
      "  File \"/var/folders/s9/t24bbhy92td3s9sd0d79t5255788jd/T/ipykernel_82201/3945707164.py\", line 31, in compare_outputs\n",
      "    print(child_method(*args, **kwargs))\n",
      "  File \"/Users/anissaz/miniconda3/envs/uxsandbox/lib/python3.10/site-packages/xarray/core/dataset.py\", line 2116, in __repr__\n",
      "    return formatting.dataset_repr(self)\n",
      "  File \"/Users/anissaz/miniconda3/envs/uxsandbox/lib/python3.10/reprlib.py\", line 21, in wrapper\n",
      "    result = user_function(self)\n",
      "  File \"/Users/anissaz/miniconda3/envs/uxsandbox/lib/python3.10/site-packages/xarray/core/formatting.py\", line 673, in dataset_repr\n",
      "    summary.append(data_vars_repr(ds.data_vars, col_width=col_width, max_rows=max_rows))\n",
      "  File \"/Users/anissaz/miniconda3/envs/uxsandbox/lib/python3.10/site-packages/xarray/core/formatting.py\", line 377, in _mapping_repr\n",
      "    summary += [\n",
      "  File \"/Users/anissaz/miniconda3/envs/uxsandbox/lib/python3.10/site-packages/xarray/core/formatting.py\", line 377, in <listcomp>\n",
      "    summary += [\n",
      "  File \"/Users/anissaz/miniconda3/envs/uxsandbox/lib/python3.10/_collections_abc.py\", line 911, in __iter__\n",
      "    yield (key, self._mapping[key])\n",
      "  File \"/Users/anissaz/miniconda3/envs/uxsandbox/lib/python3.10/site-packages/xarray/core/dataset.py\", line 384, in __getitem__\n",
      "    return cast(\"DataArray\", self._dataset[key])\n",
      "  File \"/Users/anissaz/Desktop/Raijin/uxarray/uxarray/core/dataset.py\", line 61, in __getitem__\n",
      "    xarr = super().__getitem__(key)\n",
      "  File \"/Users/anissaz/miniconda3/envs/uxsandbox/lib/python3.10/site-packages/xarray/core/dataset.py\", line 1438, in __getitem__\n",
      "    return self._construct_dataarray(key)\n",
      "  File \"/Users/anissaz/Desktop/Raijin/uxarray/uxarray/core/dataset.py\", line 54, in _construct_dataarray\n",
      "    return UxDataArray(xarr, uxgrid=self.uxgrid)\n",
      "  File \"/Users/anissaz/miniconda3/envs/uxsandbox/lib/python3.10/site-packages/xarray/core/common.py\", line 276, in __getattr__\n",
      "    raise AttributeError(\n",
      "AttributeError: 'UxDataset' object has no attribute 'uxgrid'\n"
     ]
    }
   ],
   "source": [
    "compare_outputs(ds, uxds, 'as_numpy')"
   ]
  },
  {
   "cell_type": "code",
   "execution_count": 153,
   "metadata": {},
   "outputs": [
    {
     "name": "stdout",
     "output_type": "stream",
     "text": [
      "Parent Class Method Output:\n",
      "{}\n",
      "\n",
      "Child Class Method Output:\n",
      "{}\n",
      "\n",
      "\n"
     ]
    }
   ],
   "source": [
    "compare_outputs(ds, uxds, 'attrs')"
   ]
  },
  {
   "cell_type": "code",
   "execution_count": 154,
   "metadata": {},
   "outputs": [
    {
     "name": "stdout",
     "output_type": "stream",
     "text": [
      "Parent Class Method Output:\n",
      "<xarray.Dataset>\n",
      "Dimensions:           ()\n",
      "Data variables:\n",
      "    Mesh2             int64 1\n",
      "    Mesh2_face_nodes  int64 21600\n",
      "    Mesh2_node_x      int64 5402\n",
      "    Mesh2_node_y      int64 5402\n",
      "\n",
      "Child Class Method Output:\n",
      "None\n"
     ]
    },
    {
     "name": "stderr",
     "output_type": "stream",
     "text": [
      "Traceback (most recent call last):\n",
      "  File \"/var/folders/s9/t24bbhy92td3s9sd0d79t5255788jd/T/ipykernel_82201/3945707164.py\", line 31, in compare_outputs\n",
      "    print(child_method(*args, **kwargs))\n",
      "  File \"/Users/anissaz/miniconda3/envs/uxsandbox/lib/python3.10/site-packages/xarray/core/dataset.py\", line 2116, in __repr__\n",
      "    return formatting.dataset_repr(self)\n",
      "  File \"/Users/anissaz/miniconda3/envs/uxsandbox/lib/python3.10/reprlib.py\", line 21, in wrapper\n",
      "    result = user_function(self)\n",
      "  File \"/Users/anissaz/miniconda3/envs/uxsandbox/lib/python3.10/site-packages/xarray/core/formatting.py\", line 673, in dataset_repr\n",
      "    summary.append(data_vars_repr(ds.data_vars, col_width=col_width, max_rows=max_rows))\n",
      "  File \"/Users/anissaz/miniconda3/envs/uxsandbox/lib/python3.10/site-packages/xarray/core/formatting.py\", line 377, in _mapping_repr\n",
      "    summary += [\n",
      "  File \"/Users/anissaz/miniconda3/envs/uxsandbox/lib/python3.10/site-packages/xarray/core/formatting.py\", line 377, in <listcomp>\n",
      "    summary += [\n",
      "  File \"/Users/anissaz/miniconda3/envs/uxsandbox/lib/python3.10/_collections_abc.py\", line 911, in __iter__\n",
      "    yield (key, self._mapping[key])\n",
      "  File \"/Users/anissaz/miniconda3/envs/uxsandbox/lib/python3.10/site-packages/xarray/core/dataset.py\", line 384, in __getitem__\n",
      "    return cast(\"DataArray\", self._dataset[key])\n",
      "  File \"/Users/anissaz/Desktop/Raijin/uxarray/uxarray/core/dataset.py\", line 61, in __getitem__\n",
      "    xarr = super().__getitem__(key)\n",
      "  File \"/Users/anissaz/miniconda3/envs/uxsandbox/lib/python3.10/site-packages/xarray/core/dataset.py\", line 1438, in __getitem__\n",
      "    return self._construct_dataarray(key)\n",
      "  File \"/Users/anissaz/Desktop/Raijin/uxarray/uxarray/core/dataset.py\", line 54, in _construct_dataarray\n",
      "    return UxDataArray(xarr, uxgrid=self.uxgrid)\n",
      "  File \"/Users/anissaz/miniconda3/envs/uxsandbox/lib/python3.10/site-packages/xarray/core/common.py\", line 276, in __getattr__\n",
      "    raise AttributeError(\n",
      "AttributeError: 'UxDataset' object has no attribute 'uxgrid'\n"
     ]
    }
   ],
   "source": [
    "compare_outputs(ds, uxds, 'count')"
   ]
  },
  {
   "cell_type": "code",
   "execution_count": 155,
   "metadata": {},
   "outputs": [
    {
     "name": "stdout",
     "output_type": "stream",
     "text": [
      "Parent Class Method Output:\n",
      "<xarray.Dataset>\n",
      "Dimensions:           (nMesh2_face: 5400, nMaxMesh2_face_nodes: 4,\n",
      "                       nMesh2_node: 5402)\n",
      "Dimensions without coordinates: nMesh2_face, nMaxMesh2_face_nodes, nMesh2_node\n",
      "Data variables:\n",
      "    Mesh2             int32 -2147483647\n",
      "    Mesh2_face_nodes  (nMesh2_face, nMaxMesh2_face_nodes) float64 0.0 ... nan\n",
      "    Mesh2_node_x      (nMesh2_node) float64 315.0 1.418e+04 ... 0.0 0.0\n",
      "    Mesh2_node_y      (nMesh2_node) float64 -35.26 1.244e+03 ... -0.0 -0.0\n",
      "\n",
      "Child Class Method Output:\n",
      "None\n"
     ]
    },
    {
     "name": "stderr",
     "output_type": "stream",
     "text": [
      "/Users/anissaz/miniconda3/envs/uxsandbox/lib/python3.10/site-packages/numpy/core/fromnumeric.py:57: RuntimeWarning: overflow encountered in accumulate\n",
      "  return bound(*args, **kwds)\n",
      "/Users/anissaz/miniconda3/envs/uxsandbox/lib/python3.10/site-packages/numpy/core/fromnumeric.py:57: RuntimeWarning: invalid value encountered in accumulate\n",
      "  return bound(*args, **kwds)\n",
      "/Users/anissaz/miniconda3/envs/uxsandbox/lib/python3.10/site-packages/numpy/core/fromnumeric.py:57: RuntimeWarning: invalid value encountered in accumulate\n",
      "  return bound(*args, **kwds)\n",
      "Traceback (most recent call last):\n",
      "  File \"/var/folders/s9/t24bbhy92td3s9sd0d79t5255788jd/T/ipykernel_82201/3945707164.py\", line 31, in compare_outputs\n",
      "    print(child_method(*args, **kwargs))\n",
      "  File \"/Users/anissaz/miniconda3/envs/uxsandbox/lib/python3.10/site-packages/xarray/core/dataset.py\", line 2116, in __repr__\n",
      "    return formatting.dataset_repr(self)\n",
      "  File \"/Users/anissaz/miniconda3/envs/uxsandbox/lib/python3.10/reprlib.py\", line 21, in wrapper\n",
      "    result = user_function(self)\n",
      "  File \"/Users/anissaz/miniconda3/envs/uxsandbox/lib/python3.10/site-packages/xarray/core/formatting.py\", line 673, in dataset_repr\n",
      "    summary.append(data_vars_repr(ds.data_vars, col_width=col_width, max_rows=max_rows))\n",
      "  File \"/Users/anissaz/miniconda3/envs/uxsandbox/lib/python3.10/site-packages/xarray/core/formatting.py\", line 377, in _mapping_repr\n",
      "    summary += [\n",
      "  File \"/Users/anissaz/miniconda3/envs/uxsandbox/lib/python3.10/site-packages/xarray/core/formatting.py\", line 377, in <listcomp>\n",
      "    summary += [\n",
      "  File \"/Users/anissaz/miniconda3/envs/uxsandbox/lib/python3.10/_collections_abc.py\", line 911, in __iter__\n",
      "    yield (key, self._mapping[key])\n",
      "  File \"/Users/anissaz/miniconda3/envs/uxsandbox/lib/python3.10/site-packages/xarray/core/dataset.py\", line 384, in __getitem__\n",
      "    return cast(\"DataArray\", self._dataset[key])\n",
      "  File \"/Users/anissaz/Desktop/Raijin/uxarray/uxarray/core/dataset.py\", line 61, in __getitem__\n",
      "    xarr = super().__getitem__(key)\n",
      "  File \"/Users/anissaz/miniconda3/envs/uxsandbox/lib/python3.10/site-packages/xarray/core/dataset.py\", line 1438, in __getitem__\n",
      "    return self._construct_dataarray(key)\n",
      "  File \"/Users/anissaz/Desktop/Raijin/uxarray/uxarray/core/dataset.py\", line 54, in _construct_dataarray\n",
      "    return UxDataArray(xarr, uxgrid=self.uxgrid)\n",
      "  File \"/Users/anissaz/miniconda3/envs/uxsandbox/lib/python3.10/site-packages/xarray/core/common.py\", line 276, in __getattr__\n",
      "    raise AttributeError(\n",
      "AttributeError: 'UxDataset' object has no attribute 'uxgrid'\n"
     ]
    }
   ],
   "source": [
    "compare_outputs(ds, uxds, 'cumprod')"
   ]
  },
  {
   "cell_type": "code",
   "execution_count": 157,
   "metadata": {},
   "outputs": [
    {
     "name": "stdout",
     "output_type": "stream",
     "text": [
      "Parent Class Method Output:\n",
      "<xarray.Dataset>\n",
      "Dimensions:           (nMesh2_face: 5400, nMaxMesh2_face_nodes: 4,\n",
      "                       nMesh2_node: 5402)\n",
      "Dimensions without coordinates: nMesh2_face, nMaxMesh2_face_nodes, nMesh2_node\n",
      "Data variables:\n",
      "    Mesh2             int32 -2147483647\n",
      "    Mesh2_face_nodes  (nMesh2_face, nMaxMesh2_face_nodes) float64 0.0 ... 5.8...\n",
      "    Mesh2_node_x      (nMesh2_node) float64 315.0 360.0 ... 9.62e+05 9.621e+05\n",
      "    Mesh2_node_y      (nMesh2_node) float64 -35.26 -70.53 ... -38.14 -5.77e-12\n",
      "\n",
      "Child Class Method Output:\n",
      "None\n"
     ]
    },
    {
     "name": "stderr",
     "output_type": "stream",
     "text": [
      "Traceback (most recent call last):\n",
      "  File \"/var/folders/s9/t24bbhy92td3s9sd0d79t5255788jd/T/ipykernel_82201/3945707164.py\", line 31, in compare_outputs\n",
      "    print(child_method(*args, **kwargs))\n",
      "  File \"/Users/anissaz/miniconda3/envs/uxsandbox/lib/python3.10/site-packages/xarray/core/dataset.py\", line 2116, in __repr__\n",
      "    return formatting.dataset_repr(self)\n",
      "  File \"/Users/anissaz/miniconda3/envs/uxsandbox/lib/python3.10/reprlib.py\", line 21, in wrapper\n",
      "    result = user_function(self)\n",
      "  File \"/Users/anissaz/miniconda3/envs/uxsandbox/lib/python3.10/site-packages/xarray/core/formatting.py\", line 673, in dataset_repr\n",
      "    summary.append(data_vars_repr(ds.data_vars, col_width=col_width, max_rows=max_rows))\n",
      "  File \"/Users/anissaz/miniconda3/envs/uxsandbox/lib/python3.10/site-packages/xarray/core/formatting.py\", line 377, in _mapping_repr\n",
      "    summary += [\n",
      "  File \"/Users/anissaz/miniconda3/envs/uxsandbox/lib/python3.10/site-packages/xarray/core/formatting.py\", line 377, in <listcomp>\n",
      "    summary += [\n",
      "  File \"/Users/anissaz/miniconda3/envs/uxsandbox/lib/python3.10/_collections_abc.py\", line 911, in __iter__\n",
      "    yield (key, self._mapping[key])\n",
      "  File \"/Users/anissaz/miniconda3/envs/uxsandbox/lib/python3.10/site-packages/xarray/core/dataset.py\", line 384, in __getitem__\n",
      "    return cast(\"DataArray\", self._dataset[key])\n",
      "  File \"/Users/anissaz/Desktop/Raijin/uxarray/uxarray/core/dataset.py\", line 61, in __getitem__\n",
      "    xarr = super().__getitem__(key)\n",
      "  File \"/Users/anissaz/miniconda3/envs/uxsandbox/lib/python3.10/site-packages/xarray/core/dataset.py\", line 1438, in __getitem__\n",
      "    return self._construct_dataarray(key)\n",
      "  File \"/Users/anissaz/Desktop/Raijin/uxarray/uxarray/core/dataset.py\", line 54, in _construct_dataarray\n",
      "    return UxDataArray(xarr, uxgrid=self.uxgrid)\n",
      "  File \"/Users/anissaz/miniconda3/envs/uxsandbox/lib/python3.10/site-packages/xarray/core/common.py\", line 276, in __getattr__\n",
      "    raise AttributeError(\n",
      "AttributeError: 'UxDataset' object has no attribute 'uxgrid'\n"
     ]
    }
   ],
   "source": [
    "compare_outputs(ds, uxds, 'cumsum')"
   ]
  },
  {
   "cell_type": "code",
   "execution_count": 158,
   "metadata": {},
   "outputs": [
    {
     "name": "stdout",
     "output_type": "stream",
     "text": [
      "Parent Class Method Output:\n",
      "{'unlimited_dims': set(), 'source': '/Users/anissaz/Desktop/Raijin/uxarray/test/meshfiles/ugrid/outCSne30/outCSne30.ug'}\n",
      "\n",
      "Child Class Method Output:\n",
      "{}\n",
      "\n",
      "\n"
     ]
    }
   ],
   "source": [
    "compare_outputs(ds, uxds, 'encoding')"
   ]
  },
  {
   "cell_type": "code",
   "execution_count": null,
   "metadata": {},
   "outputs": [],
   "source": []
  }
 ],
 "metadata": {
  "kernelspec": {
   "display_name": "Python 3 (ipykernel)",
   "language": "python",
   "name": "python3"
  },
  "language_info": {
   "codemirror_mode": {
    "name": "ipython",
    "version": 3
   },
   "file_extension": ".py",
   "mimetype": "text/x-python",
   "name": "python",
   "nbconvert_exporter": "python",
   "pygments_lexer": "ipython3",
   "version": "3.10.10"
  }
 },
 "nbformat": 4,
 "nbformat_minor": 4
}
