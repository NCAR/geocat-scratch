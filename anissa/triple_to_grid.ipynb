{
 "cells": [
  {
   "cell_type": "markdown",
   "metadata": {},
   "source": [
    "Looking into [geocat-f2py #235](https://github.com/NCAR/geocat-comp/issues/235#issuecomment-1215516532)\n",
    "\n",
    "User provided raw code:\n",
    "    \n",
    "```python\n",
    "    import geocat.comp\n",
    "    import numpy as np\n",
    "    import matplotlib.pyplot as plt\n",
    "\n",
    "    olat = np.linspace(-90, 90, 500)\n",
    "    olon = np.linspace(0, 360, 1500)\n",
    "    nlat = olat.size\n",
    "    nlon = olon.size\n",
    "\n",
    "    ilat = np.linspace(-90, 90, 100)\n",
    "    ilon = np.linspace(0, 360, 1000)\n",
    "\n",
    "    data = np.random.randint(1, 500, size=(100, 1000))\n",
    "\n",
    "    test =  out = geocat.comp.triple_to_grid(data, ilat, ilon, \n",
    "                                            olat, olon, \n",
    "                                            method=1, domain=1.0, \n",
    "                                            distmx=None, missing_value=-9990.9, \n",
    "                                            meta=False)\n",
    "    plt.imshow(test)\n",
    "```"
   ]
  },
  {
   "cell_type": "code",
   "execution_count": null,
   "metadata": {},
   "outputs": [],
   "source": []
  }
 ],
 "metadata": {
  "kernelspec": {
   "display_name": "Python 3.9.12 64-bit",
   "language": "python",
   "name": "python3"
  },
  "language_info": {
   "name": "python",
   "version": "3.9.12"
  },
  "orig_nbformat": 4,
  "vscode": {
   "interpreter": {
    "hash": "aee8b7b246df8f9039afb4144a1f6fd8d2ca17a180786b69acc140d282b71a49"
   }
  }
 },
 "nbformat": 4,
 "nbformat_minor": 2
}
