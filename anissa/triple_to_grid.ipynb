{
 "cells": [
  {
   "cell_type": "markdown",
   "metadata": {},
   "source": [
    "Looking into [geocat-f2py #235](https://github.com/NCAR/geocat-comp/issues/235#issuecomment-1215516532)\n",
    "\n",
    "User provided raw code:\n",
    "    \n",
    "```python\n",
    "    import geocat.comp\n",
    "    import numpy as np\n",
    "    import matplotlib.pyplot as plt\n",
    "\n",
    "    olat = np.linspace(-90, 90, 500)\n",
    "    olon = np.linspace(0, 360, 1500)\n",
    "    nlat = olat.size\n",
    "    nlon = olon.size\n",
    "\n",
    "    ilat = np.linspace(-90, 90, 100)\n",
    "    ilon = np.linspace(0, 360, 1000)\n",
    "\n",
    "    data = np.random.randint(1, 500, size=(100, 1000))\n",
    "\n",
    "    test =  out = geocat.comp.triple_to_grid(data, ilat, ilon, \n",
    "                                            olat, olon, \n",
    "                                            method=1, domain=1.0, \n",
    "                                            distmx=None, missing_value=-9990.9, \n",
    "                                            meta=False)\n",
    "    plt.imshow(test)\n",
    "```"
   ]
  },
  {
   "cell_type": "code",
   "execution_count": 35,
   "metadata": {},
   "outputs": [
    {
     "name": "stdout",
     "output_type": "stream",
     "text": [
      "[[  155.  -9990.9 -9990.9 ... -9990.9 -9990.9   444. ]]\n"
     ]
    },
    {
     "data": {
      "text/plain": [
       "<matplotlib.image.AxesImage at 0x7ff826da9f60>"
      ]
     },
     "execution_count": 35,
     "metadata": {},
     "output_type": "execute_result"
    },
    {
     "data": {
      "image/png": "[encoded data removed]",
      "text/plain": [
       "<Figure size 432x288 with 1 Axes>"
      ]
     },
     "metadata": {
      "needs_background": "light"
     },
     "output_type": "display_data"
    }
   ],
   "source": [
    "# original grid for data\n",
    "ilat = np.linspace(-90, 90, 100)\n",
    "ilon = np.linspace(0, 360, 1000)\n",
    "\n",
    "# meshgrid for input data\n",
    "lat, lon = np.meshgrid(ilat, ilon)\n",
    "\n",
    "# flatten meshgrid to 1D arrays of length n\n",
    "lat = lat.flatten()\n",
    "lon = lon.flatten()\n",
    "\n",
    "# intended new grid\n",
    "olat = np.linspace(-90, 90, 500) # [M]\n",
    "olon = np.linspace(0, 360, 1500) # [N]\n",
    "\n",
    "# data, note that data needs to be [n, K]. Here K=1. \n",
    "data = np.random.randint(1, 500, size=(1, lat.shape[0]))\n",
    "\n",
    "# place data on new rectilinear grid\n",
    "test =  out = geocat.comp.triple_to_grid(data, lat, lon, \n",
    "                                        olat, olon, \n",
    "                                        method=1, domain=1.0, \n",
    "                                        distmx=None, missing_value=-9990.9, \n",
    "                                        meta=False)\n",
    "\n",
    "# test is now [K x N x M], where K is 1, we can use np.squeeze to remove K dimension\n",
    "test = np.squeeze(test)\n",
    "\n",
    "# plotting test\n",
    "plt.imshow(test)"
   ]
  },
  {
   "cell_type": "code",
   "execution_count": null,
   "metadata": {},
   "outputs": [],
   "source": []
  }
 ],
 "metadata": {
  "kernelspec": {
   "display_name": "Python 3.10.4 ('test_f2py')",
   "language": "python",
   "name": "python3"
  },
  "language_info": {
   "codemirror_mode": {
    "name": "ipython",
    "version": 3
   },
   "file_extension": ".py",
   "mimetype": "text/x-python",
   "name": "python",
   "nbconvert_exporter": "python",
   "pygments_lexer": "ipython3",
   "version": "3.10.4"
  },
  "orig_nbformat": 4,
  "vscode": {
   "interpreter": {
    "hash": "3587f39f6625a3759594afa83f27ba7d0d48438c54143c4eaa6e4dd6b02195bb"
   }
  }
 },
 "nbformat": 4,
 "nbformat_minor": 2
}
